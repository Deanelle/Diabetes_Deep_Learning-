{
  "nbformat": 4,
  "nbformat_minor": 0,
  "metadata": {
    "colab": {
      "name": "Diabetes Blood Glucose Prediction Deep Learning Capstone.ipynb",
      "provenance": [],
      "collapsed_sections": [],
      "authorship_tag": "ABX9TyPQjuGYyrEycL79jnVshid4",
      "include_colab_link": true
    },
    "kernelspec": {
      "name": "python3",
      "display_name": "Python 3"
    },
    "language_info": {
      "name": "python"
    }
  },
  "cells": [
    {
      "cell_type": "markdown",
      "metadata": {
        "id": "view-in-github",
        "colab_type": "text"
      },
      "source": [
        "<a href=\"https://colab.research.google.com/github/Deanelle/Diabetes_Deep_Learning-/blob/main/Diabetes_Blood_Glucose_Prediction_Deep_Learning_Capstone.ipynb\" target=\"_parent\"><img src=\"https://colab.research.google.com/assets/colab-badge.svg\" alt=\"Open In Colab\"/></a>"
      ]
    },
    {
      "cell_type": "markdown",
      "metadata": {
        "id": "c-iKq5KL2AoM"
      },
      "source": [
        "First to start by loading all of the libraries I may need. "
      ]
    },
    {
      "cell_type": "code",
      "metadata": {
        "colab": {
          "base_uri": "https://localhost:8080/"
        },
        "id": "zQcCWz0Lnxwa",
        "outputId": "d9eda99b-8e16-40d9-b624-574fb795e4a8"
      },
      "source": [
        "import pandas as pd \n",
        "from pandas import read_csv\n",
        "import numpy as np \n",
        "from matplotlib import pyplot as plt \n",
        "import seaborn as sns \n",
        "import plotly.express as px \n",
        "from datetime import datetime \n",
        "from matplotlib.dates import date2num \n",
        "import scipy\n",
        "import scipy.stats\n",
        "import statsmodels.api as sm\n",
        "import sklearn as sk\n",
        "from sklearn_pandas import DataFrameMapper, cross_val_score\n",
        "from dateutil.parser import parse as date_parse\n",
        "import tensorflow as tf\n",
        "from pathlib import Path\n",
        "from keras.models import Sequential\n",
        "from keras.layers import Dense\n",
        "from keras.layers import LSTM\n",
        "from sklearn.preprocessing import MinMaxScaler\n",
        "from sklearn.metrics import mean_squared_error\n",
        "%matplotlib inline \n"
      ],
      "execution_count": null,
      "outputs": [
        {
          "output_type": "stream",
          "name": "stderr",
          "text": [
            "/usr/local/lib/python3.7/dist-packages/statsmodels/tools/_testing.py:19: FutureWarning:\n",
            "\n",
            "pandas.util.testing is deprecated. Use the functions in the public API at pandas.testing instead.\n",
            "\n"
          ]
        }
      ]
    },
    {
      "cell_type": "markdown",
      "metadata": {
        "id": "LG2i4Hbj14MJ"
      },
      "source": [
        "I loaded the dataset which is a csv file from my 90 days of blood glucose readings on my Continous Glucose Monitor, the Dexcom G6.  "
      ]
    },
    {
      "cell_type": "code",
      "metadata": {
        "id": "Z7LKe6mioQDI"
      },
      "source": [
        "df=read_csv('/content/CLARITY_Export_Thompson__Deanelle__2021-11-06_050048.csv',index_col=False)\n",
        "dataframe = df[['Glucose Value (mg/dL)']]"
      ],
      "execution_count": null,
      "outputs": []
    },
    {
      "cell_type": "code",
      "metadata": {
        "colab": {
          "base_uri": "https://localhost:8080/",
          "height": 306
        },
        "id": "nWcw6oaEpKu2",
        "outputId": "ef7b1e0e-4ea3-48b4-f2c7-638354b6f9ab"
      },
      "source": [
        "df.head()"
      ],
      "execution_count": null,
      "outputs": [
        {
          "output_type": "execute_result",
          "data": {
            "text/html": [
              "<div>\n",
              "<style scoped>\n",
              "    .dataframe tbody tr th:only-of-type {\n",
              "        vertical-align: middle;\n",
              "    }\n",
              "\n",
              "    .dataframe tbody tr th {\n",
              "        vertical-align: top;\n",
              "    }\n",
              "\n",
              "    .dataframe thead th {\n",
              "        text-align: right;\n",
              "    }\n",
              "</style>\n",
              "<table border=\"1\" class=\"dataframe\">\n",
              "  <thead>\n",
              "    <tr style=\"text-align: right;\">\n",
              "      <th></th>\n",
              "      <th>Index</th>\n",
              "      <th>Timestamp (YYYY-MM-DDThh:mm:ss)</th>\n",
              "      <th>Event Type</th>\n",
              "      <th>Event Subtype</th>\n",
              "      <th>Patient Info</th>\n",
              "      <th>Device Info</th>\n",
              "      <th>Source Device ID</th>\n",
              "      <th>Glucose Value (mg/dL)</th>\n",
              "      <th>Insulin Value (u)</th>\n",
              "      <th>Carb Value (grams)</th>\n",
              "      <th>Duration (hh:mm:ss)</th>\n",
              "      <th>Glucose Rate of Change (mg/dL/min)</th>\n",
              "      <th>Transmitter Time (Long Integer)</th>\n",
              "      <th>Transmitter ID</th>\n",
              "    </tr>\n",
              "  </thead>\n",
              "  <tbody>\n",
              "    <tr>\n",
              "      <th>0</th>\n",
              "      <td>1</td>\n",
              "      <td>NaN</td>\n",
              "      <td>FirstName</td>\n",
              "      <td>NaN</td>\n",
              "      <td>Deanelle</td>\n",
              "      <td>NaN</td>\n",
              "      <td>NaN</td>\n",
              "      <td>NaN</td>\n",
              "      <td>NaN</td>\n",
              "      <td>NaN</td>\n",
              "      <td>NaN</td>\n",
              "      <td>NaN</td>\n",
              "      <td>NaN</td>\n",
              "      <td>NaN</td>\n",
              "    </tr>\n",
              "    <tr>\n",
              "      <th>1</th>\n",
              "      <td>2</td>\n",
              "      <td>NaN</td>\n",
              "      <td>LastName</td>\n",
              "      <td>NaN</td>\n",
              "      <td>Thompson</td>\n",
              "      <td>NaN</td>\n",
              "      <td>NaN</td>\n",
              "      <td>NaN</td>\n",
              "      <td>NaN</td>\n",
              "      <td>NaN</td>\n",
              "      <td>NaN</td>\n",
              "      <td>NaN</td>\n",
              "      <td>NaN</td>\n",
              "      <td>NaN</td>\n",
              "    </tr>\n",
              "    <tr>\n",
              "      <th>2</th>\n",
              "      <td>3</td>\n",
              "      <td>NaN</td>\n",
              "      <td>Device</td>\n",
              "      <td>NaN</td>\n",
              "      <td>NaN</td>\n",
              "      <td>Dexcom G6 Mobile App</td>\n",
              "      <td>iPhone G6</td>\n",
              "      <td>NaN</td>\n",
              "      <td>NaN</td>\n",
              "      <td>NaN</td>\n",
              "      <td>NaN</td>\n",
              "      <td>NaN</td>\n",
              "      <td>NaN</td>\n",
              "      <td>NaN</td>\n",
              "    </tr>\n",
              "    <tr>\n",
              "      <th>3</th>\n",
              "      <td>4</td>\n",
              "      <td>NaN</td>\n",
              "      <td>Alert</td>\n",
              "      <td>Fall</td>\n",
              "      <td>NaN</td>\n",
              "      <td>NaN</td>\n",
              "      <td>iPhone G6</td>\n",
              "      <td>NaN</td>\n",
              "      <td>NaN</td>\n",
              "      <td>NaN</td>\n",
              "      <td>NaN</td>\n",
              "      <td>3.0</td>\n",
              "      <td>NaN</td>\n",
              "      <td>NaN</td>\n",
              "    </tr>\n",
              "    <tr>\n",
              "      <th>4</th>\n",
              "      <td>5</td>\n",
              "      <td>NaN</td>\n",
              "      <td>Alert</td>\n",
              "      <td>High</td>\n",
              "      <td>NaN</td>\n",
              "      <td>NaN</td>\n",
              "      <td>iPhone G6</td>\n",
              "      <td>190</td>\n",
              "      <td>NaN</td>\n",
              "      <td>NaN</td>\n",
              "      <td>NaN</td>\n",
              "      <td>NaN</td>\n",
              "      <td>NaN</td>\n",
              "      <td>NaN</td>\n",
              "    </tr>\n",
              "  </tbody>\n",
              "</table>\n",
              "</div>"
            ],
            "text/plain": [
              "   Index  ... Transmitter ID\n",
              "0      1  ...            NaN\n",
              "1      2  ...            NaN\n",
              "2      3  ...            NaN\n",
              "3      4  ...            NaN\n",
              "4      5  ...            NaN\n",
              "\n",
              "[5 rows x 14 columns]"
            ]
          },
          "metadata": {},
          "execution_count": 3
        }
      ]
    },
    {
      "cell_type": "code",
      "metadata": {
        "colab": {
          "base_uri": "https://localhost:8080/",
          "height": 323
        },
        "id": "6EOrxQd74rCK",
        "outputId": "23e55100-12c0-4808-c784-0c93afdafe21"
      },
      "source": [
        "df.tail()"
      ],
      "execution_count": null,
      "outputs": [
        {
          "output_type": "execute_result",
          "data": {
            "text/html": [
              "<div>\n",
              "<style scoped>\n",
              "    .dataframe tbody tr th:only-of-type {\n",
              "        vertical-align: middle;\n",
              "    }\n",
              "\n",
              "    .dataframe tbody tr th {\n",
              "        vertical-align: top;\n",
              "    }\n",
              "\n",
              "    .dataframe thead th {\n",
              "        text-align: right;\n",
              "    }\n",
              "</style>\n",
              "<table border=\"1\" class=\"dataframe\">\n",
              "  <thead>\n",
              "    <tr style=\"text-align: right;\">\n",
              "      <th></th>\n",
              "      <th>Index</th>\n",
              "      <th>Timestamp (YYYY-MM-DDThh:mm:ss)</th>\n",
              "      <th>Event Type</th>\n",
              "      <th>Event Subtype</th>\n",
              "      <th>Patient Info</th>\n",
              "      <th>Device Info</th>\n",
              "      <th>Source Device ID</th>\n",
              "      <th>Glucose Value (mg/dL)</th>\n",
              "      <th>Insulin Value (u)</th>\n",
              "      <th>Carb Value (grams)</th>\n",
              "      <th>Duration (hh:mm:ss)</th>\n",
              "      <th>Glucose Rate of Change (mg/dL/min)</th>\n",
              "      <th>Transmitter Time (Long Integer)</th>\n",
              "      <th>Transmitter ID</th>\n",
              "    </tr>\n",
              "  </thead>\n",
              "  <tbody>\n",
              "    <tr>\n",
              "      <th>11176</th>\n",
              "      <td>11177</td>\n",
              "      <td>2021-11-04T12:34:56</td>\n",
              "      <td>EGV</td>\n",
              "      <td>NaN</td>\n",
              "      <td>NaN</td>\n",
              "      <td>NaN</td>\n",
              "      <td>iPhone G6</td>\n",
              "      <td>98</td>\n",
              "      <td>NaN</td>\n",
              "      <td>NaN</td>\n",
              "      <td>NaN</td>\n",
              "      <td>NaN</td>\n",
              "      <td>8655674.0</td>\n",
              "      <td>8P78GM</td>\n",
              "    </tr>\n",
              "    <tr>\n",
              "      <th>11177</th>\n",
              "      <td>11178</td>\n",
              "      <td>2021-11-04T12:39:55</td>\n",
              "      <td>EGV</td>\n",
              "      <td>NaN</td>\n",
              "      <td>NaN</td>\n",
              "      <td>NaN</td>\n",
              "      <td>iPhone G6</td>\n",
              "      <td>102</td>\n",
              "      <td>NaN</td>\n",
              "      <td>NaN</td>\n",
              "      <td>NaN</td>\n",
              "      <td>NaN</td>\n",
              "      <td>8655974.0</td>\n",
              "      <td>8P78GM</td>\n",
              "    </tr>\n",
              "    <tr>\n",
              "      <th>11178</th>\n",
              "      <td>11179</td>\n",
              "      <td>2021-11-04T12:44:55</td>\n",
              "      <td>EGV</td>\n",
              "      <td>NaN</td>\n",
              "      <td>NaN</td>\n",
              "      <td>NaN</td>\n",
              "      <td>iPhone G6</td>\n",
              "      <td>102</td>\n",
              "      <td>NaN</td>\n",
              "      <td>NaN</td>\n",
              "      <td>NaN</td>\n",
              "      <td>NaN</td>\n",
              "      <td>8656274.0</td>\n",
              "      <td>8P78GM</td>\n",
              "    </tr>\n",
              "    <tr>\n",
              "      <th>11179</th>\n",
              "      <td>11180</td>\n",
              "      <td>2021-11-04T12:49:55</td>\n",
              "      <td>EGV</td>\n",
              "      <td>NaN</td>\n",
              "      <td>NaN</td>\n",
              "      <td>NaN</td>\n",
              "      <td>iPhone G6</td>\n",
              "      <td>100</td>\n",
              "      <td>NaN</td>\n",
              "      <td>NaN</td>\n",
              "      <td>NaN</td>\n",
              "      <td>NaN</td>\n",
              "      <td>8656574.0</td>\n",
              "      <td>8P78GM</td>\n",
              "    </tr>\n",
              "    <tr>\n",
              "      <th>11180</th>\n",
              "      <td>11181</td>\n",
              "      <td>2021-11-04T12:54:55</td>\n",
              "      <td>EGV</td>\n",
              "      <td>NaN</td>\n",
              "      <td>NaN</td>\n",
              "      <td>NaN</td>\n",
              "      <td>iPhone G6</td>\n",
              "      <td>99</td>\n",
              "      <td>NaN</td>\n",
              "      <td>NaN</td>\n",
              "      <td>NaN</td>\n",
              "      <td>NaN</td>\n",
              "      <td>8656874.0</td>\n",
              "      <td>8P78GM</td>\n",
              "    </tr>\n",
              "  </tbody>\n",
              "</table>\n",
              "</div>"
            ],
            "text/plain": [
              "       Index  ... Transmitter ID\n",
              "11176  11177  ...         8P78GM\n",
              "11177  11178  ...         8P78GM\n",
              "11178  11179  ...         8P78GM\n",
              "11179  11180  ...         8P78GM\n",
              "11180  11181  ...         8P78GM\n",
              "\n",
              "[5 rows x 14 columns]"
            ]
          },
          "metadata": {},
          "execution_count": 4
        }
      ]
    },
    {
      "cell_type": "markdown",
      "metadata": {
        "id": "oOgD-Qcg13iP"
      },
      "source": [
        "After checking the first and last few rows in the dataset, there are a lot of missing values here that we will need to clean. "
      ]
    },
    {
      "cell_type": "code",
      "metadata": {
        "colab": {
          "base_uri": "https://localhost:8080/",
          "height": 453
        },
        "id": "4ROwE3AwpStL",
        "outputId": "2124b783-9d6c-4c05-978b-bac549f63a0b"
      },
      "source": [
        "df.isnull()"
      ],
      "execution_count": null,
      "outputs": [
        {
          "output_type": "execute_result",
          "data": {
            "text/html": [
              "<div>\n",
              "<style scoped>\n",
              "    .dataframe tbody tr th:only-of-type {\n",
              "        vertical-align: middle;\n",
              "    }\n",
              "\n",
              "    .dataframe tbody tr th {\n",
              "        vertical-align: top;\n",
              "    }\n",
              "\n",
              "    .dataframe thead th {\n",
              "        text-align: right;\n",
              "    }\n",
              "</style>\n",
              "<table border=\"1\" class=\"dataframe\">\n",
              "  <thead>\n",
              "    <tr style=\"text-align: right;\">\n",
              "      <th></th>\n",
              "      <th>Index</th>\n",
              "      <th>Timestamp (YYYY-MM-DDThh:mm:ss)</th>\n",
              "      <th>Event Type</th>\n",
              "      <th>Event Subtype</th>\n",
              "      <th>Patient Info</th>\n",
              "      <th>Device Info</th>\n",
              "      <th>Source Device ID</th>\n",
              "      <th>Glucose Value (mg/dL)</th>\n",
              "      <th>Insulin Value (u)</th>\n",
              "      <th>Carb Value (grams)</th>\n",
              "      <th>Duration (hh:mm:ss)</th>\n",
              "      <th>Glucose Rate of Change (mg/dL/min)</th>\n",
              "      <th>Transmitter Time (Long Integer)</th>\n",
              "      <th>Transmitter ID</th>\n",
              "    </tr>\n",
              "  </thead>\n",
              "  <tbody>\n",
              "    <tr>\n",
              "      <th>0</th>\n",
              "      <td>False</td>\n",
              "      <td>True</td>\n",
              "      <td>False</td>\n",
              "      <td>True</td>\n",
              "      <td>False</td>\n",
              "      <td>True</td>\n",
              "      <td>True</td>\n",
              "      <td>True</td>\n",
              "      <td>True</td>\n",
              "      <td>True</td>\n",
              "      <td>True</td>\n",
              "      <td>True</td>\n",
              "      <td>True</td>\n",
              "      <td>True</td>\n",
              "    </tr>\n",
              "    <tr>\n",
              "      <th>1</th>\n",
              "      <td>False</td>\n",
              "      <td>True</td>\n",
              "      <td>False</td>\n",
              "      <td>True</td>\n",
              "      <td>False</td>\n",
              "      <td>True</td>\n",
              "      <td>True</td>\n",
              "      <td>True</td>\n",
              "      <td>True</td>\n",
              "      <td>True</td>\n",
              "      <td>True</td>\n",
              "      <td>True</td>\n",
              "      <td>True</td>\n",
              "      <td>True</td>\n",
              "    </tr>\n",
              "    <tr>\n",
              "      <th>2</th>\n",
              "      <td>False</td>\n",
              "      <td>True</td>\n",
              "      <td>False</td>\n",
              "      <td>True</td>\n",
              "      <td>True</td>\n",
              "      <td>False</td>\n",
              "      <td>False</td>\n",
              "      <td>True</td>\n",
              "      <td>True</td>\n",
              "      <td>True</td>\n",
              "      <td>True</td>\n",
              "      <td>True</td>\n",
              "      <td>True</td>\n",
              "      <td>True</td>\n",
              "    </tr>\n",
              "    <tr>\n",
              "      <th>3</th>\n",
              "      <td>False</td>\n",
              "      <td>True</td>\n",
              "      <td>False</td>\n",
              "      <td>False</td>\n",
              "      <td>True</td>\n",
              "      <td>True</td>\n",
              "      <td>False</td>\n",
              "      <td>True</td>\n",
              "      <td>True</td>\n",
              "      <td>True</td>\n",
              "      <td>True</td>\n",
              "      <td>False</td>\n",
              "      <td>True</td>\n",
              "      <td>True</td>\n",
              "    </tr>\n",
              "    <tr>\n",
              "      <th>4</th>\n",
              "      <td>False</td>\n",
              "      <td>True</td>\n",
              "      <td>False</td>\n",
              "      <td>False</td>\n",
              "      <td>True</td>\n",
              "      <td>True</td>\n",
              "      <td>False</td>\n",
              "      <td>False</td>\n",
              "      <td>True</td>\n",
              "      <td>True</td>\n",
              "      <td>True</td>\n",
              "      <td>True</td>\n",
              "      <td>True</td>\n",
              "      <td>True</td>\n",
              "    </tr>\n",
              "    <tr>\n",
              "      <th>...</th>\n",
              "      <td>...</td>\n",
              "      <td>...</td>\n",
              "      <td>...</td>\n",
              "      <td>...</td>\n",
              "      <td>...</td>\n",
              "      <td>...</td>\n",
              "      <td>...</td>\n",
              "      <td>...</td>\n",
              "      <td>...</td>\n",
              "      <td>...</td>\n",
              "      <td>...</td>\n",
              "      <td>...</td>\n",
              "      <td>...</td>\n",
              "      <td>...</td>\n",
              "    </tr>\n",
              "    <tr>\n",
              "      <th>11176</th>\n",
              "      <td>False</td>\n",
              "      <td>False</td>\n",
              "      <td>False</td>\n",
              "      <td>True</td>\n",
              "      <td>True</td>\n",
              "      <td>True</td>\n",
              "      <td>False</td>\n",
              "      <td>False</td>\n",
              "      <td>True</td>\n",
              "      <td>True</td>\n",
              "      <td>True</td>\n",
              "      <td>True</td>\n",
              "      <td>False</td>\n",
              "      <td>False</td>\n",
              "    </tr>\n",
              "    <tr>\n",
              "      <th>11177</th>\n",
              "      <td>False</td>\n",
              "      <td>False</td>\n",
              "      <td>False</td>\n",
              "      <td>True</td>\n",
              "      <td>True</td>\n",
              "      <td>True</td>\n",
              "      <td>False</td>\n",
              "      <td>False</td>\n",
              "      <td>True</td>\n",
              "      <td>True</td>\n",
              "      <td>True</td>\n",
              "      <td>True</td>\n",
              "      <td>False</td>\n",
              "      <td>False</td>\n",
              "    </tr>\n",
              "    <tr>\n",
              "      <th>11178</th>\n",
              "      <td>False</td>\n",
              "      <td>False</td>\n",
              "      <td>False</td>\n",
              "      <td>True</td>\n",
              "      <td>True</td>\n",
              "      <td>True</td>\n",
              "      <td>False</td>\n",
              "      <td>False</td>\n",
              "      <td>True</td>\n",
              "      <td>True</td>\n",
              "      <td>True</td>\n",
              "      <td>True</td>\n",
              "      <td>False</td>\n",
              "      <td>False</td>\n",
              "    </tr>\n",
              "    <tr>\n",
              "      <th>11179</th>\n",
              "      <td>False</td>\n",
              "      <td>False</td>\n",
              "      <td>False</td>\n",
              "      <td>True</td>\n",
              "      <td>True</td>\n",
              "      <td>True</td>\n",
              "      <td>False</td>\n",
              "      <td>False</td>\n",
              "      <td>True</td>\n",
              "      <td>True</td>\n",
              "      <td>True</td>\n",
              "      <td>True</td>\n",
              "      <td>False</td>\n",
              "      <td>False</td>\n",
              "    </tr>\n",
              "    <tr>\n",
              "      <th>11180</th>\n",
              "      <td>False</td>\n",
              "      <td>False</td>\n",
              "      <td>False</td>\n",
              "      <td>True</td>\n",
              "      <td>True</td>\n",
              "      <td>True</td>\n",
              "      <td>False</td>\n",
              "      <td>False</td>\n",
              "      <td>True</td>\n",
              "      <td>True</td>\n",
              "      <td>True</td>\n",
              "      <td>True</td>\n",
              "      <td>False</td>\n",
              "      <td>False</td>\n",
              "    </tr>\n",
              "  </tbody>\n",
              "</table>\n",
              "<p>11181 rows × 14 columns</p>\n",
              "</div>"
            ],
            "text/plain": [
              "       Index  ...  Transmitter ID\n",
              "0      False  ...            True\n",
              "1      False  ...            True\n",
              "2      False  ...            True\n",
              "3      False  ...            True\n",
              "4      False  ...            True\n",
              "...      ...  ...             ...\n",
              "11176  False  ...           False\n",
              "11177  False  ...           False\n",
              "11178  False  ...           False\n",
              "11179  False  ...           False\n",
              "11180  False  ...           False\n",
              "\n",
              "[11181 rows x 14 columns]"
            ]
          },
          "metadata": {},
          "execution_count": 5
        }
      ]
    },
    {
      "cell_type": "code",
      "metadata": {
        "colab": {
          "base_uri": "https://localhost:8080/"
        },
        "id": "3WqzPg4LpoiD",
        "outputId": "7c04a385-ae00-46e6-a85e-689017c931e6"
      },
      "source": [
        "df.isnull().sum()"
      ],
      "execution_count": null,
      "outputs": [
        {
          "output_type": "execute_result",
          "data": {
            "text/plain": [
              "Index                                     0\n",
              "Timestamp (YYYY-MM-DDThh:mm:ss)          10\n",
              "Event Type                                0\n",
              "Event Subtype                         11106\n",
              "Patient Info                          11179\n",
              "Device Info                           11180\n",
              "Source Device ID                          2\n",
              "Glucose Value (mg/dL)                     6\n",
              "Insulin Value (u)                     11181\n",
              "Carb Value (grams)                    11181\n",
              "Duration (hh:mm:ss)                   11180\n",
              "Glucose Rate of Change (mg/dL/min)    11179\n",
              "Transmitter Time (Long Integer)          10\n",
              "Transmitter ID                           10\n",
              "dtype: int64"
            ]
          },
          "metadata": {},
          "execution_count": 6
        }
      ]
    },
    {
      "cell_type": "markdown",
      "metadata": {
        "id": "41ez-QAFtbcK"
      },
      "source": [
        "The amount of null values in the data. "
      ]
    },
    {
      "cell_type": "markdown",
      "metadata": {
        "id": "6Bkbaozr2Syc"
      },
      "source": [
        "Because I am only interested in the timestamps and the Glucose value of the data I am going to drop all other columns. "
      ]
    },
    {
      "cell_type": "code",
      "metadata": {
        "id": "3ygmTNMiodpS"
      },
      "source": [
        "BG=df[['Timestamp (YYYY-MM-DDThh:mm:ss)','Glucose Value (mg/dL)']]\n",
        "BG=BG.drop([1,2,3,4,5,6,7,8,9,19,11,12])"
      ],
      "execution_count": null,
      "outputs": []
    },
    {
      "cell_type": "code",
      "metadata": {
        "id": "5ZQT6F1QsK26"
      },
      "source": [
        "BG.reset_index(drop=True,inplace=True)\n",
        "BG['Timestamp (YYYY-MM-DDThh:mm:ss)']=pd.to_datetime(BG['Timestamp (YYYY-MM-DDThh:mm:ss)'])"
      ],
      "execution_count": null,
      "outputs": []
    },
    {
      "cell_type": "code",
      "metadata": {
        "id": "FPUwDZv5slhw"
      },
      "source": [
        "BG=BG.rename(columns={'Timestamp (YYYY-MM-DDThh:mm:ss)':'Timestamp'})"
      ],
      "execution_count": null,
      "outputs": []
    },
    {
      "cell_type": "code",
      "metadata": {
        "colab": {
          "base_uri": "https://localhost:8080/",
          "height": 419
        },
        "id": "IDGZn9D31Wb9",
        "outputId": "4c894c01-3dc5-4f73-dded-5b81082b4799"
      },
      "source": [
        "BG"
      ],
      "execution_count": null,
      "outputs": [
        {
          "output_type": "execute_result",
          "data": {
            "text/html": [
              "<div>\n",
              "<style scoped>\n",
              "    .dataframe tbody tr th:only-of-type {\n",
              "        vertical-align: middle;\n",
              "    }\n",
              "\n",
              "    .dataframe tbody tr th {\n",
              "        vertical-align: top;\n",
              "    }\n",
              "\n",
              "    .dataframe thead th {\n",
              "        text-align: right;\n",
              "    }\n",
              "</style>\n",
              "<table border=\"1\" class=\"dataframe\">\n",
              "  <thead>\n",
              "    <tr style=\"text-align: right;\">\n",
              "      <th></th>\n",
              "      <th>Timestamp</th>\n",
              "      <th>Glucose Value (mg/dL)</th>\n",
              "    </tr>\n",
              "  </thead>\n",
              "  <tbody>\n",
              "    <tr>\n",
              "      <th>0</th>\n",
              "      <td>NaT</td>\n",
              "      <td>NaN</td>\n",
              "    </tr>\n",
              "    <tr>\n",
              "      <th>1</th>\n",
              "      <td>2021-09-19 13:15:51</td>\n",
              "      <td>173</td>\n",
              "    </tr>\n",
              "    <tr>\n",
              "      <th>2</th>\n",
              "      <td>2021-09-19 13:30:51</td>\n",
              "      <td>142</td>\n",
              "    </tr>\n",
              "    <tr>\n",
              "      <th>3</th>\n",
              "      <td>2021-09-19 13:35:50</td>\n",
              "      <td>129</td>\n",
              "    </tr>\n",
              "    <tr>\n",
              "      <th>4</th>\n",
              "      <td>2021-09-19 13:40:50</td>\n",
              "      <td>124</td>\n",
              "    </tr>\n",
              "    <tr>\n",
              "      <th>...</th>\n",
              "      <td>...</td>\n",
              "      <td>...</td>\n",
              "    </tr>\n",
              "    <tr>\n",
              "      <th>11164</th>\n",
              "      <td>2021-11-04 12:34:56</td>\n",
              "      <td>98</td>\n",
              "    </tr>\n",
              "    <tr>\n",
              "      <th>11165</th>\n",
              "      <td>2021-11-04 12:39:55</td>\n",
              "      <td>102</td>\n",
              "    </tr>\n",
              "    <tr>\n",
              "      <th>11166</th>\n",
              "      <td>2021-11-04 12:44:55</td>\n",
              "      <td>102</td>\n",
              "    </tr>\n",
              "    <tr>\n",
              "      <th>11167</th>\n",
              "      <td>2021-11-04 12:49:55</td>\n",
              "      <td>100</td>\n",
              "    </tr>\n",
              "    <tr>\n",
              "      <th>11168</th>\n",
              "      <td>2021-11-04 12:54:55</td>\n",
              "      <td>99</td>\n",
              "    </tr>\n",
              "  </tbody>\n",
              "</table>\n",
              "<p>11169 rows × 2 columns</p>\n",
              "</div>"
            ],
            "text/plain": [
              "                Timestamp Glucose Value (mg/dL)\n",
              "0                     NaT                   NaN\n",
              "1     2021-09-19 13:15:51                   173\n",
              "2     2021-09-19 13:30:51                   142\n",
              "3     2021-09-19 13:35:50                   129\n",
              "4     2021-09-19 13:40:50                   124\n",
              "...                   ...                   ...\n",
              "11164 2021-11-04 12:34:56                    98\n",
              "11165 2021-11-04 12:39:55                   102\n",
              "11166 2021-11-04 12:44:55                   102\n",
              "11167 2021-11-04 12:49:55                   100\n",
              "11168 2021-11-04 12:54:55                    99\n",
              "\n",
              "[11169 rows x 2 columns]"
            ]
          },
          "metadata": {},
          "execution_count": 10
        }
      ]
    },
    {
      "cell_type": "markdown",
      "metadata": {
        "id": "rf3k7Q-62lTs"
      },
      "source": [
        "There is a NAT value here that I will clean. "
      ]
    },
    {
      "cell_type": "code",
      "metadata": {
        "id": "a9_gaSb0dQY4"
      },
      "source": [
        "# dropping passed values\n",
        "BG.drop([0], inplace = True)"
      ],
      "execution_count": null,
      "outputs": []
    },
    {
      "cell_type": "markdown",
      "metadata": {
        "id": "7WnSC_rgvWl5"
      },
      "source": [
        "To get rid of the NAT value, I dropped row 0. "
      ]
    },
    {
      "cell_type": "code",
      "metadata": {
        "colab": {
          "base_uri": "https://localhost:8080/",
          "height": 419
        },
        "id": "3ygaqYL9dbhS",
        "outputId": "2766727f-45ae-452b-fe5c-1516abe6945d"
      },
      "source": [
        "BG"
      ],
      "execution_count": null,
      "outputs": [
        {
          "output_type": "execute_result",
          "data": {
            "text/html": [
              "<div>\n",
              "<style scoped>\n",
              "    .dataframe tbody tr th:only-of-type {\n",
              "        vertical-align: middle;\n",
              "    }\n",
              "\n",
              "    .dataframe tbody tr th {\n",
              "        vertical-align: top;\n",
              "    }\n",
              "\n",
              "    .dataframe thead th {\n",
              "        text-align: right;\n",
              "    }\n",
              "</style>\n",
              "<table border=\"1\" class=\"dataframe\">\n",
              "  <thead>\n",
              "    <tr style=\"text-align: right;\">\n",
              "      <th></th>\n",
              "      <th>Timestamp</th>\n",
              "      <th>Glucose Value (mg/dL)</th>\n",
              "    </tr>\n",
              "  </thead>\n",
              "  <tbody>\n",
              "    <tr>\n",
              "      <th>1</th>\n",
              "      <td>2021-09-19 13:15:51</td>\n",
              "      <td>173</td>\n",
              "    </tr>\n",
              "    <tr>\n",
              "      <th>2</th>\n",
              "      <td>2021-09-19 13:30:51</td>\n",
              "      <td>142</td>\n",
              "    </tr>\n",
              "    <tr>\n",
              "      <th>3</th>\n",
              "      <td>2021-09-19 13:35:50</td>\n",
              "      <td>129</td>\n",
              "    </tr>\n",
              "    <tr>\n",
              "      <th>4</th>\n",
              "      <td>2021-09-19 13:40:50</td>\n",
              "      <td>124</td>\n",
              "    </tr>\n",
              "    <tr>\n",
              "      <th>5</th>\n",
              "      <td>2021-09-19 13:45:50</td>\n",
              "      <td>122</td>\n",
              "    </tr>\n",
              "    <tr>\n",
              "      <th>...</th>\n",
              "      <td>...</td>\n",
              "      <td>...</td>\n",
              "    </tr>\n",
              "    <tr>\n",
              "      <th>11164</th>\n",
              "      <td>2021-11-04 12:34:56</td>\n",
              "      <td>98</td>\n",
              "    </tr>\n",
              "    <tr>\n",
              "      <th>11165</th>\n",
              "      <td>2021-11-04 12:39:55</td>\n",
              "      <td>102</td>\n",
              "    </tr>\n",
              "    <tr>\n",
              "      <th>11166</th>\n",
              "      <td>2021-11-04 12:44:55</td>\n",
              "      <td>102</td>\n",
              "    </tr>\n",
              "    <tr>\n",
              "      <th>11167</th>\n",
              "      <td>2021-11-04 12:49:55</td>\n",
              "      <td>100</td>\n",
              "    </tr>\n",
              "    <tr>\n",
              "      <th>11168</th>\n",
              "      <td>2021-11-04 12:54:55</td>\n",
              "      <td>99</td>\n",
              "    </tr>\n",
              "  </tbody>\n",
              "</table>\n",
              "<p>11168 rows × 2 columns</p>\n",
              "</div>"
            ],
            "text/plain": [
              "                Timestamp Glucose Value (mg/dL)\n",
              "1     2021-09-19 13:15:51                   173\n",
              "2     2021-09-19 13:30:51                   142\n",
              "3     2021-09-19 13:35:50                   129\n",
              "4     2021-09-19 13:40:50                   124\n",
              "5     2021-09-19 13:45:50                   122\n",
              "...                   ...                   ...\n",
              "11164 2021-11-04 12:34:56                    98\n",
              "11165 2021-11-04 12:39:55                   102\n",
              "11166 2021-11-04 12:44:55                   102\n",
              "11167 2021-11-04 12:49:55                   100\n",
              "11168 2021-11-04 12:54:55                    99\n",
              "\n",
              "[11168 rows x 2 columns]"
            ]
          },
          "metadata": {},
          "execution_count": 12
        }
      ]
    },
    {
      "cell_type": "code",
      "metadata": {
        "colab": {
          "base_uri": "https://localhost:8080/"
        },
        "id": "FmFRly3dtGnC",
        "outputId": "f687dabc-36dd-4cf6-c3b6-ef80c013bf1f"
      },
      "source": [
        "BG.isnull().sum()"
      ],
      "execution_count": null,
      "outputs": [
        {
          "output_type": "execute_result",
          "data": {
            "text/plain": [
              "Timestamp                0\n",
              "Glucose Value (mg/dL)    0\n",
              "dtype: int64"
            ]
          },
          "metadata": {},
          "execution_count": 13
        }
      ]
    },
    {
      "cell_type": "markdown",
      "metadata": {
        "id": "sLQCBpod2s3-"
      },
      "source": [
        "There are no missing values now. "
      ]
    },
    {
      "cell_type": "code",
      "metadata": {
        "colab": {
          "base_uri": "https://localhost:8080/",
          "height": 419
        },
        "id": "U1VA_-6Y43Bd",
        "outputId": "2ee02793-b17d-49f7-ea6c-b88a4203e8d4"
      },
      "source": [
        "BG[pd.notnull(BG['Timestamp'])]"
      ],
      "execution_count": null,
      "outputs": [
        {
          "output_type": "execute_result",
          "data": {
            "text/html": [
              "<div>\n",
              "<style scoped>\n",
              "    .dataframe tbody tr th:only-of-type {\n",
              "        vertical-align: middle;\n",
              "    }\n",
              "\n",
              "    .dataframe tbody tr th {\n",
              "        vertical-align: top;\n",
              "    }\n",
              "\n",
              "    .dataframe thead th {\n",
              "        text-align: right;\n",
              "    }\n",
              "</style>\n",
              "<table border=\"1\" class=\"dataframe\">\n",
              "  <thead>\n",
              "    <tr style=\"text-align: right;\">\n",
              "      <th></th>\n",
              "      <th>Timestamp</th>\n",
              "      <th>Glucose Value (mg/dL)</th>\n",
              "    </tr>\n",
              "  </thead>\n",
              "  <tbody>\n",
              "    <tr>\n",
              "      <th>1</th>\n",
              "      <td>2021-09-19 13:15:51</td>\n",
              "      <td>173</td>\n",
              "    </tr>\n",
              "    <tr>\n",
              "      <th>2</th>\n",
              "      <td>2021-09-19 13:30:51</td>\n",
              "      <td>142</td>\n",
              "    </tr>\n",
              "    <tr>\n",
              "      <th>3</th>\n",
              "      <td>2021-09-19 13:35:50</td>\n",
              "      <td>129</td>\n",
              "    </tr>\n",
              "    <tr>\n",
              "      <th>4</th>\n",
              "      <td>2021-09-19 13:40:50</td>\n",
              "      <td>124</td>\n",
              "    </tr>\n",
              "    <tr>\n",
              "      <th>5</th>\n",
              "      <td>2021-09-19 13:45:50</td>\n",
              "      <td>122</td>\n",
              "    </tr>\n",
              "    <tr>\n",
              "      <th>...</th>\n",
              "      <td>...</td>\n",
              "      <td>...</td>\n",
              "    </tr>\n",
              "    <tr>\n",
              "      <th>11164</th>\n",
              "      <td>2021-11-04 12:34:56</td>\n",
              "      <td>98</td>\n",
              "    </tr>\n",
              "    <tr>\n",
              "      <th>11165</th>\n",
              "      <td>2021-11-04 12:39:55</td>\n",
              "      <td>102</td>\n",
              "    </tr>\n",
              "    <tr>\n",
              "      <th>11166</th>\n",
              "      <td>2021-11-04 12:44:55</td>\n",
              "      <td>102</td>\n",
              "    </tr>\n",
              "    <tr>\n",
              "      <th>11167</th>\n",
              "      <td>2021-11-04 12:49:55</td>\n",
              "      <td>100</td>\n",
              "    </tr>\n",
              "    <tr>\n",
              "      <th>11168</th>\n",
              "      <td>2021-11-04 12:54:55</td>\n",
              "      <td>99</td>\n",
              "    </tr>\n",
              "  </tbody>\n",
              "</table>\n",
              "<p>11168 rows × 2 columns</p>\n",
              "</div>"
            ],
            "text/plain": [
              "                Timestamp Glucose Value (mg/dL)\n",
              "1     2021-09-19 13:15:51                   173\n",
              "2     2021-09-19 13:30:51                   142\n",
              "3     2021-09-19 13:35:50                   129\n",
              "4     2021-09-19 13:40:50                   124\n",
              "5     2021-09-19 13:45:50                   122\n",
              "...                   ...                   ...\n",
              "11164 2021-11-04 12:34:56                    98\n",
              "11165 2021-11-04 12:39:55                   102\n",
              "11166 2021-11-04 12:44:55                   102\n",
              "11167 2021-11-04 12:49:55                   100\n",
              "11168 2021-11-04 12:54:55                    99\n",
              "\n",
              "[11168 rows x 2 columns]"
            ]
          },
          "metadata": {},
          "execution_count": 14
        }
      ]
    },
    {
      "cell_type": "code",
      "metadata": {
        "colab": {
          "base_uri": "https://localhost:8080/",
          "height": 323
        },
        "id": "98MB0-EMtMjO",
        "outputId": "c7f023c9-259f-4aa9-94ec-4c9c2633ebb0"
      },
      "source": [
        "BG.describe()"
      ],
      "execution_count": null,
      "outputs": [
        {
          "output_type": "stream",
          "name": "stderr",
          "text": [
            "/usr/local/lib/python3.7/dist-packages/ipykernel_launcher.py:1: FutureWarning:\n",
            "\n",
            "Treating datetime data as categorical rather than numeric in `.describe` is deprecated and will be removed in a future version of pandas. Specify `datetime_is_numeric=True` to silence this warning and adopt the future behavior now.\n",
            "\n"
          ]
        },
        {
          "output_type": "execute_result",
          "data": {
            "text/html": [
              "<div>\n",
              "<style scoped>\n",
              "    .dataframe tbody tr th:only-of-type {\n",
              "        vertical-align: middle;\n",
              "    }\n",
              "\n",
              "    .dataframe tbody tr th {\n",
              "        vertical-align: top;\n",
              "    }\n",
              "\n",
              "    .dataframe thead th {\n",
              "        text-align: right;\n",
              "    }\n",
              "</style>\n",
              "<table border=\"1\" class=\"dataframe\">\n",
              "  <thead>\n",
              "    <tr style=\"text-align: right;\">\n",
              "      <th></th>\n",
              "      <th>Timestamp</th>\n",
              "      <th>Glucose Value (mg/dL)</th>\n",
              "    </tr>\n",
              "  </thead>\n",
              "  <tbody>\n",
              "    <tr>\n",
              "      <th>count</th>\n",
              "      <td>11168</td>\n",
              "      <td>11168</td>\n",
              "    </tr>\n",
              "    <tr>\n",
              "      <th>unique</th>\n",
              "      <td>11168</td>\n",
              "      <td>296</td>\n",
              "    </tr>\n",
              "    <tr>\n",
              "      <th>top</th>\n",
              "      <td>2021-09-28 08:45:40</td>\n",
              "      <td>131</td>\n",
              "    </tr>\n",
              "    <tr>\n",
              "      <th>freq</th>\n",
              "      <td>1</td>\n",
              "      <td>111</td>\n",
              "    </tr>\n",
              "    <tr>\n",
              "      <th>first</th>\n",
              "      <td>2021-09-19 13:15:51</td>\n",
              "      <td>NaN</td>\n",
              "    </tr>\n",
              "    <tr>\n",
              "      <th>last</th>\n",
              "      <td>2021-11-04 12:54:55</td>\n",
              "      <td>NaN</td>\n",
              "    </tr>\n",
              "  </tbody>\n",
              "</table>\n",
              "</div>"
            ],
            "text/plain": [
              "                  Timestamp Glucose Value (mg/dL)\n",
              "count                 11168                 11168\n",
              "unique                11168                   296\n",
              "top     2021-09-28 08:45:40                   131\n",
              "freq                      1                   111\n",
              "first   2021-09-19 13:15:51                   NaN\n",
              "last    2021-11-04 12:54:55                   NaN"
            ]
          },
          "metadata": {},
          "execution_count": 15
        }
      ]
    },
    {
      "cell_type": "markdown",
      "metadata": {
        "id": "fo3u71XEwWwy"
      },
      "source": [
        "I was checking for the desriptive statistics here but got this instead.This will be handled later. "
      ]
    },
    {
      "cell_type": "code",
      "metadata": {
        "colab": {
          "base_uri": "https://localhost:8080/"
        },
        "id": "qqtHWzwItlXQ",
        "outputId": "cdfd9897-5fe7-468a-f61e-55925d60d6e6"
      },
      "source": [
        "BG.info()"
      ],
      "execution_count": null,
      "outputs": [
        {
          "output_type": "stream",
          "name": "stdout",
          "text": [
            "<class 'pandas.core.frame.DataFrame'>\n",
            "Int64Index: 11168 entries, 1 to 11168\n",
            "Data columns (total 2 columns):\n",
            " #   Column                 Non-Null Count  Dtype         \n",
            "---  ------                 --------------  -----         \n",
            " 0   Timestamp              11168 non-null  datetime64[ns]\n",
            " 1   Glucose Value (mg/dL)  11168 non-null  object        \n",
            "dtypes: datetime64[ns](1), object(1)\n",
            "memory usage: 261.8+ KB\n"
          ]
        }
      ]
    },
    {
      "cell_type": "markdown",
      "metadata": {
        "id": "-YYJ0IjGkDxv"
      },
      "source": [
        "The Glucose Value here being an object type. We will revist this later. "
      ]
    },
    {
      "cell_type": "markdown",
      "metadata": {
        "id": "cJ5Q5kVS3XcX"
      },
      "source": [
        "There are 11168 observations in the data and two columns. "
      ]
    },
    {
      "cell_type": "code",
      "metadata": {
        "colab": {
          "base_uri": "https://localhost:8080/"
        },
        "id": "P09JwxDmgog8",
        "outputId": "471efe46-2788-48cf-9bc4-c8cbf4f97e01"
      },
      "source": [
        "BG['Glucose Value (mg/dL)']"
      ],
      "execution_count": null,
      "outputs": [
        {
          "output_type": "execute_result",
          "data": {
            "text/plain": [
              "1        173\n",
              "2        142\n",
              "3        129\n",
              "4        124\n",
              "5        122\n",
              "        ... \n",
              "11164     98\n",
              "11165    102\n",
              "11166    102\n",
              "11167    100\n",
              "11168     99\n",
              "Name: Glucose Value (mg/dL), Length: 11168, dtype: object"
            ]
          },
          "metadata": {},
          "execution_count": 17
        }
      ]
    },
    {
      "cell_type": "code",
      "metadata": {
        "colab": {
          "base_uri": "https://localhost:8080/"
        },
        "id": "8r6qryQDhHOi",
        "outputId": "4e81a41c-4a0e-4126-b9b2-9051e6c49f56"
      },
      "source": [
        "BG.loc[7603]"
      ],
      "execution_count": null,
      "outputs": [
        {
          "output_type": "execute_result",
          "data": {
            "text/plain": [
              "Timestamp                2021-10-17 04:55:19\n",
              "Glucose Value (mg/dL)                     78\n",
              "Name: 7603, dtype: object"
            ]
          },
          "metadata": {},
          "execution_count": 18
        }
      ]
    },
    {
      "cell_type": "markdown",
      "metadata": {
        "id": "v2-ob8qUwkVR"
      },
      "source": [
        "Just experimenting with the .loc function to check specific data points. "
      ]
    },
    {
      "cell_type": "code",
      "metadata": {
        "colab": {
          "base_uri": "https://localhost:8080/"
        },
        "id": "UeZ-9_38toV-",
        "outputId": "9ed7e18a-6116-472a-afdf-32cbf9b6edca"
      },
      "source": [
        "category_counts=BG['Glucose Value (mg/dL)'].value_counts()\n",
        "\n",
        "category_counts.head(10)"
      ],
      "execution_count": null,
      "outputs": [
        {
          "output_type": "execute_result",
          "data": {
            "text/plain": [
              "131    111\n",
              "133    111\n",
              "124    110\n",
              "123    110\n",
              "130    109\n",
              "132    108\n",
              "145    107\n",
              "129    105\n",
              "119    105\n",
              "125    104\n",
              "Name: Glucose Value (mg/dL), dtype: int64"
            ]
          },
          "metadata": {},
          "execution_count": 19
        }
      ]
    },
    {
      "cell_type": "code",
      "metadata": {
        "colab": {
          "base_uri": "https://localhost:8080/"
        },
        "id": "V9WGAORmt8UC",
        "outputId": "66805187-165a-4ef5-bbb8-ca2794950619"
      },
      "source": [
        "category_counts=BG['Timestamp'].value_counts()\n",
        "\n",
        "category_counts.head(10)"
      ],
      "execution_count": null,
      "outputs": [
        {
          "output_type": "execute_result",
          "data": {
            "text/plain": [
              "2021-09-28 08:45:40    1\n",
              "2021-10-30 11:35:03    1\n",
              "2021-09-19 20:35:50    1\n",
              "2021-09-24 15:25:44    1\n",
              "2021-10-30 07:45:01    1\n",
              "2021-09-23 13:45:47    1\n",
              "2021-10-04 01:25:33    1\n",
              "2021-09-20 10:00:49    1\n",
              "2021-10-27 17:30:06    1\n",
              "2021-10-13 15:45:22    1\n",
              "Name: Timestamp, dtype: int64"
            ]
          },
          "metadata": {},
          "execution_count": 20
        }
      ]
    },
    {
      "cell_type": "code",
      "metadata": {
        "colab": {
          "base_uri": "https://localhost:8080/",
          "height": 340
        },
        "id": "i8ZH16RvVUK7",
        "outputId": "ae89a0bf-1d71-4802-e584-1f5308cee223"
      },
      "source": [
        "dataframe['Glucose Value (mg/dL)'] = pd.to_numeric(dataframe['Glucose Value (mg/dL)'], errors='coerce')\n",
        "dataframe = dataframe[dataframe['Glucose Value (mg/dL)'].notna()]\n",
        "dataframe = dataframe[['Glucose Value (mg/dL)']]\n",
        "#dataframe = clean_dataset(dataframe)\n",
        "\n",
        "dataframe.head()"
      ],
      "execution_count": null,
      "outputs": [
        {
          "output_type": "stream",
          "name": "stderr",
          "text": [
            "/usr/local/lib/python3.7/dist-packages/ipykernel_launcher.py:1: SettingWithCopyWarning:\n",
            "\n",
            "\n",
            "A value is trying to be set on a copy of a slice from a DataFrame.\n",
            "Try using .loc[row_indexer,col_indexer] = value instead\n",
            "\n",
            "See the caveats in the documentation: https://pandas.pydata.org/pandas-docs/stable/user_guide/indexing.html#returning-a-view-versus-a-copy\n",
            "\n"
          ]
        },
        {
          "output_type": "execute_result",
          "data": {
            "text/html": [
              "<div>\n",
              "<style scoped>\n",
              "    .dataframe tbody tr th:only-of-type {\n",
              "        vertical-align: middle;\n",
              "    }\n",
              "\n",
              "    .dataframe tbody tr th {\n",
              "        vertical-align: top;\n",
              "    }\n",
              "\n",
              "    .dataframe thead th {\n",
              "        text-align: right;\n",
              "    }\n",
              "</style>\n",
              "<table border=\"1\" class=\"dataframe\">\n",
              "  <thead>\n",
              "    <tr style=\"text-align: right;\">\n",
              "      <th></th>\n",
              "      <th>Glucose Value (mg/dL)</th>\n",
              "    </tr>\n",
              "  </thead>\n",
              "  <tbody>\n",
              "    <tr>\n",
              "      <th>4</th>\n",
              "      <td>190.0</td>\n",
              "    </tr>\n",
              "    <tr>\n",
              "      <th>5</th>\n",
              "      <td>85.0</td>\n",
              "    </tr>\n",
              "    <tr>\n",
              "      <th>8</th>\n",
              "      <td>55.0</td>\n",
              "    </tr>\n",
              "    <tr>\n",
              "      <th>9</th>\n",
              "      <td>55.0</td>\n",
              "    </tr>\n",
              "    <tr>\n",
              "      <th>10</th>\n",
              "      <td>173.0</td>\n",
              "    </tr>\n",
              "  </tbody>\n",
              "</table>\n",
              "</div>"
            ],
            "text/plain": [
              "    Glucose Value (mg/dL)\n",
              "4                   190.0\n",
              "5                    85.0\n",
              "8                    55.0\n",
              "9                    55.0\n",
              "10                  173.0"
            ]
          },
          "metadata": {},
          "execution_count": 21
        }
      ]
    },
    {
      "cell_type": "markdown",
      "metadata": {
        "id": "H4qzldGlw8Ol"
      },
      "source": [
        "I used the pd.to_numeric function to convert the Glucose value into a numeric type which will make running my models later easier. "
      ]
    },
    {
      "cell_type": "markdown",
      "metadata": {
        "id": "3Ybbdg2ExcsY"
      },
      "source": [
        "**Data Exploration**"
      ]
    },
    {
      "cell_type": "code",
      "metadata": {
        "colab": {
          "base_uri": "https://localhost:8080/",
          "height": 298
        },
        "id": "i2Hm1YH5uC3w",
        "outputId": "514f0f9a-4af3-41a7-e3d0-dda304c6f3fd"
      },
      "source": [
        "plt.hist(BG['Glucose Value (mg/dL)'])\n",
        "plt.title('Glucose')"
      ],
      "execution_count": null,
      "outputs": [
        {
          "output_type": "execute_result",
          "data": {
            "text/plain": [
              "Text(0.5, 1.0, 'Glucose')"
            ]
          },
          "metadata": {},
          "execution_count": 22
        },
        {
          "output_type": "display_data",
          "data": {
            "image/png": "[encoded data removed]",
            "text/plain": [
              "<Figure size 432x288 with 1 Axes>"
            ]
          },
          "metadata": {
            "needs_background": "light"
          }
        }
      ]
    },
    {
      "cell_type": "code",
      "metadata": {
        "colab": {
          "base_uri": "https://localhost:8080/",
          "height": 298
        },
        "id": "RQV3PW0muTBc",
        "outputId": "715d7391-0444-4f79-b9ca-f78b64aa58b5"
      },
      "source": [
        "plt.hist(BG['Timestamp'])\n",
        "plt.title('Time')"
      ],
      "execution_count": null,
      "outputs": [
        {
          "output_type": "execute_result",
          "data": {
            "text/plain": [
              "Text(0.5, 1.0, 'Time')"
            ]
          },
          "metadata": {},
          "execution_count": 23
        },
        {
          "output_type": "display_data",
          "data": {
            "image/png": "[encoded data removed]",
            "text/plain": [
              "<Figure size 432x288 with 1 Axes>"
            ]
          },
          "metadata": {
            "needs_background": "light"
          }
        }
      ]
    },
    {
      "cell_type": "code",
      "metadata": {
        "colab": {
          "base_uri": "https://localhost:8080/",
          "height": 279
        },
        "id": "KMbyhRpxu6gJ",
        "outputId": "0c4436b4-badf-4af6-f74a-9e0a953e5ee9"
      },
      "source": [
        "ax = sns.histplot(BG['Glucose Value (mg/dL)'])"
      ],
      "execution_count": null,
      "outputs": [
        {
          "output_type": "display_data",
          "data": {
            "image/png": "[encoded data removed]",
            "text/plain": [
              "<Figure size 432x288 with 1 Axes>"
            ]
          },
          "metadata": {
            "needs_background": "light"
          }
        }
      ]
    },
    {
      "cell_type": "code",
      "metadata": {
        "colab": {
          "base_uri": "https://localhost:8080/",
          "height": 542
        },
        "id": "EdeWhQqErsfM",
        "outputId": "36450ea9-9a1a-4b1b-e947-e6dbb53ae43e"
      },
      "source": [
        "BG['Day'] = BG['Timestamp'].dt.day_name()\n",
        "\n",
        "fig = px.box(BG, x=\"Day\", y=\"Glucose Value (mg/dL)\",\n",
        "             points=\"all\", color='Day')\n",
        "fig.show()"
      ],
      "execution_count": null,
      "outputs": [
        {
          "output_type": "display_data",
          "data": {
            "text/html": [
              "<html>\n",
              "<head><meta charset=\"utf-8\" /></head>\n",
              "<body>\n",
              "    <div>\n",
              "            <script src=\"https://cdnjs.cloudflare.com/ajax/libs/mathjax/2.7.5/MathJax.js?config=TeX-AMS-MML_SVG\"></script><script type=\"text/javascript\">if (window.MathJax) {MathJax.Hub.Config({SVG: {font: \"STIX-Web\"}});}</script>\n",
              "                <script type=\"text/javascript\">window.PlotlyConfig = {MathJaxConfig: 'local'};</script>\n",
              "        <script src=\"https://cdn.plot.ly/plotly-latest.min.js\"></script>    \n",
              "            <div id=\"e46dbcb9-b5ca-4401-8088-3b4d579fa494\" class=\"plotly-graph-div\" style=\"height:525px; width:100%;\"></div>\n",
              "            <script type=\"text/javascript\">\n",
              "                \n",
              "                    window.PLOTLYENV=window.PLOTLYENV || {};\n",
              "                    \n",
              "                if (document.getElementById(\"e46dbcb9-b5ca-4401-8088-3b4d579fa494\")) {\n",
              "                    Plotly.newPlot(\n",
              "                        'e46dbcb9-b5ca-4401-8088-3b4d579fa494',\n",
              "                        [{\"alignmentgroup\": \"True\", \"boxpoints\": \"all\", \"hoverlabel\": {\"namelength\": 0}, \"hovertemplate\": \"Day=%{x}<br>Glucose Value (mg/dL)=%{y}\", \"legendgroup\": \"Day=Sunday\", \"marker\": {\"color\": \"#636efa\"}, \"name\": \"Day=Sunday\", \"notched\": false, \"offsetgroup\": \"Day=Sunday\", \"orientation\": \"v\", \"showlegend\": true, \"type\": \"box\", \"x\": [\"Sunday\", \"Sunday\", \"Sunday\", \"Sunday\", \"Sunday\", \"Sunday\", \"Sunday\", \"Sunday\", \"Sunday\", \"Sunday\", \"Sunday\", \"Sunday\", \"Sunday\", \"Sunday\", \"Sunday\", \"Sunday\", \"Sunday\", \"Sunday\", \"Sunday\", \"Sunday\", \"Sunday\", \"Sunday\", \"Sunday\", \"Sunday\", \"Sunday\", \"Sunday\", \"Sunday\", \"Sunday\", \"Sunday\", \"Sunday\", \"Sunday\", \"Sunday\", \"Sunday\", \"Sunday\", \"Sunday\", \"Sunday\", \"Sunday\", \"Sunday\", \"Sunday\", \"Sunday\", \"Sunday\", \"Sunday\", \"Sunday\", \"Sunday\", \"Sunday\", \"Sunday\", \"Sunday\", \"Sunday\", \"Sunday\", \"Sunday\", \"Sunday\", \"Sunday\", \"Sunday\", \"Sunday\", \"Sunday\", \"Sunday\", \"Sunday\", \"Sunday\", \"Sunday\", \"Sunday\", \"Sunday\", \"Sunday\", \"Sunday\", \"Sunday\", \"Sunday\", \"Sunday\", \"Sunday\", \"Sunday\", \"Sunday\", \"Sunday\", \"Sunday\", \"Sunday\", \"Sunday\", \"Sunday\", \"Sunday\", \"Sunday\", \"Sunday\", \"Sunday\", \"Sunday\", \"Sunday\", \"Sunday\", \"Sunday\", \"Sunday\", \"Sunday\", \"Sunday\", \"Sunday\", \"Sunday\", \"Sunday\", \"Sunday\", \"Sunday\", \"Sunday\", \"Sunday\", \"Sunday\", \"Sunday\", \"Sunday\", \"Sunday\", \"Sunday\", \"Sunday\", \"Sunday\", \"Sunday\", \"Sunday\", \"Sunday\", \"Sunday\", \"Sunday\", \"Sunday\", \"Sunday\", \"Sunday\", \"Sunday\", \"Sunday\", \"Sunday\", \"Sunday\", \"Sunday\", \"Sunday\", \"Sunday\", \"Sunday\", \"Sunday\", \"Sunday\", \"Sunday\", \"Sunday\", \"Sunday\", \"Sunday\", \"Sunday\", \"Sunday\", \"Sunday\", \"Sunday\", \"Sunday\", \"Sunday\", \"Sunday\", \"Sunday\", \"Sunday\", \"Sunday\", \"Sunday\", \"Sunday\", \"Sunday\", \"Sunday\", \"Sunday\", \"Sunday\", \"Sunday\", \"Sunday\", \"Sunday\", \"Sunday\", \"Sunday\", \"Sunday\", \"Sunday\", \"Sunday\", \"Sunday\", \"Sunday\", \"Sunday\", \"Sunday\", \"Sunday\", \"Sunday\", \"Sunday\", \"Sunday\", \"Sunday\", \"Sunday\", \"Sunday\", \"Sunday\", \"Sunday\", \"Sunday\", \"Sunday\", \"Sunday\", \"Sunday\", \"Sunday\", \"Sunday\", \"Sunday\", \"Sunday\", \"Sunday\", \"Sunday\", \"Sunday\", \"Sunday\", \"Sunday\", \"Sunday\", \"Sunday\", \"Sunday\", \"Sunday\", \"Sunday\", \"Sunday\", \"Sunday\", \"Sunday\", \"Sunday\", \"Sunday\", \"Sunday\", \"Sunday\", \"Sunday\", \"Sunday\", \"Sunday\", \"Sunday\", \"Sunday\", \"Sunday\", \"Sunday\", \"Sunday\", \"Sunday\", \"Sunday\", \"Sunday\", \"Sunday\", \"Sunday\", \"Sunday\", \"Sunday\", \"Sunday\", \"Sunday\", \"Sunday\", \"Sunday\", \"Sunday\", \"Sunday\", \"Sunday\", \"Sunday\", \"Sunday\", \"Sunday\", \"Sunday\", \"Sunday\", \"Sunday\", \"Sunday\", \"Sunday\", \"Sunday\", \"Sunday\", \"Sunday\", \"Sunday\", \"Sunday\", \"Sunday\", \"Sunday\", \"Sunday\", \"Sunday\", \"Sunday\", \"Sunday\", \"Sunday\", \"Sunday\", \"Sunday\", \"Sunday\", \"Sunday\", \"Sunday\", \"Sunday\", \"Sunday\", \"Sunday\", \"Sunday\", \"Sunday\", \"Sunday\", \"Sunday\", \"Sunday\", \"Sunday\", \"Sunday\", \"Sunday\", \"Sunday\", \"Sunday\", \"Sunday\", \"Sunday\", \"Sunday\", \"Sunday\", \"Sunday\", \"Sunday\", \"Sunday\", \"Sunday\", \"Sunday\", \"Sunday\", \"Sunday\", \"Sunday\", \"Sunday\", \"Sunday\", \"Sunday\", \"Sunday\", \"Sunday\", \"Sunday\", \"Sunday\", \"Sunday\", \"Sunday\", \"Sunday\", \"Sunday\", \"Sunday\", \"Sunday\", \"Sunday\", \"Sunday\", \"Sunday\", \"Sunday\", \"Sunday\", \"Sunday\", \"Sunday\", \"Sunday\", \"Sunday\", \"Sunday\", \"Sunday\", \"Sunday\", \"Sunday\", \"Sunday\", \"Sunday\", \"Sunday\", \"Sunday\", \"Sunday\", \"Sunday\", \"Sunday\", \"Sunday\", \"Sunday\", \"Sunday\", \"Sunday\", \"Sunday\", \"Sunday\", \"Sunday\", \"Sunday\", \"Sunday\", \"Sunday\", \"Sunday\", \"Sunday\", \"Sunday\", \"Sunday\", \"Sunday\", \"Sunday\", \"Sunday\", \"Sunday\", \"Sunday\", \"Sunday\", \"Sunday\", \"Sunday\", \"Sunday\", \"Sunday\", \"Sunday\", \"Sunday\", \"Sunday\", \"Sunday\", \"Sunday\", \"Sunday\", \"Sunday\", \"Sunday\", \"Sunday\", \"Sunday\", \"Sunday\", \"Sunday\", \"Sunday\", \"Sunday\", \"Sunday\", \"Sunday\", \"Sunday\", \"Sunday\", \"Sunday\", \"Sunday\", \"Sunday\", \"Sunday\", \"Sunday\", \"Sunday\", \"Sunday\", \"Sunday\", \"Sunday\", \"Sunday\", \"Sunday\", \"Sunday\", \"Sunday\", \"Sunday\", \"Sunday\", \"Sunday\", \"Sunday\", \"Sunday\", \"Sunday\", \"Sunday\", \"Sunday\", \"Sunday\", \"Sunday\", \"Sunday\", \"Sunday\", \"Sunday\", \"Sunday\", \"Sunday\", \"Sunday\", \"Sunday\", \"Sunday\", \"Sunday\", \"Sunday\", \"Sunday\", \"Sunday\", \"Sunday\", \"Sunday\", \"Sunday\", \"Sunday\", \"Sunday\", \"Sunday\", \"Sunday\", \"Sunday\", \"Sunday\", \"Sunday\", \"Sunday\", \"Sunday\", \"Sunday\", \"Sunday\", \"Sunday\", \"Sunday\", \"Sunday\", \"Sunday\", \"Sunday\", \"Sunday\", \"Sunday\", \"Sunday\", \"Sunday\", \"Sunday\", \"Sunday\", \"Sunday\", \"Sunday\", \"Sunday\", \"Sunday\", \"Sunday\", \"Sunday\", \"Sunday\", \"Sunday\", \"Sunday\", \"Sunday\", \"Sunday\", \"Sunday\", \"Sunday\", \"Sunday\", \"Sunday\", \"Sunday\", \"Sunday\", \"Sunday\", \"Sunday\", \"Sunday\", \"Sunday\", \"Sunday\", \"Sunday\", \"Sunday\", \"Sunday\", \"Sunday\", \"Sunday\", \"Sunday\", \"Sunday\", \"Sunday\", \"Sunday\", \"Sunday\", \"Sunday\", \"Sunday\", \"Sunday\", \"Sunday\", \"Sunday\", \"Sunday\", \"Sunday\", \"Sunday\", \"Sunday\", \"Sunday\", \"Sunday\", \"Sunday\", \"Sunday\", \"Sunday\", \"Sunday\", \"Sunday\", \"Sunday\", \"Sunday\", \"Sunday\", \"Sunday\", \"Sunday\", \"Sunday\", \"Sunday\", \"Sunday\", \"Sunday\", \"Sunday\", \"Sunday\", \"Sunday\", \"Sunday\", \"Sunday\", \"Sunday\", \"Sunday\", \"Sunday\", \"Sunday\", \"Sunday\", \"Sunday\", \"Sunday\", \"Sunday\", \"Sunday\", \"Sunday\", \"Sunday\", \"Sunday\", \"Sunday\", \"Sunday\", \"Sunday\", \"Sunday\", \"Sunday\", \"Sunday\", \"Sunday\", \"Sunday\", \"Sunday\", \"Sunday\", \"Sunday\", \"Sunday\", \"Sunday\", \"Sunday\", \"Sunday\", \"Sunday\", \"Sunday\", \"Sunday\", \"Sunday\", \"Sunday\", \"Sunday\", \"Sunday\", \"Sunday\", \"Sunday\", \"Sunday\", \"Sunday\", \"Sunday\", \"Sunday\", \"Sunday\", \"Sunday\", \"Sunday\", \"Sunday\", \"Sunday\", \"Sunday\", \"Sunday\", \"Sunday\", \"Sunday\", \"Sunday\", \"Sunday\", \"Sunday\", \"Sunday\", \"Sunday\", \"Sunday\", \"Sunday\", \"Sunday\", \"Sunday\", \"Sunday\", \"Sunday\", \"Sunday\", \"Sunday\", \"Sunday\", \"Sunday\", \"Sunday\", \"Sunday\", \"Sunday\", \"Sunday\", \"Sunday\", \"Sunday\", \"Sunday\", \"Sunday\", \"Sunday\", \"Sunday\", \"Sunday\", \"Sunday\", \"Sunday\", \"Sunday\", \"Sunday\", \"Sunday\", \"Sunday\", \"Sunday\", \"Sunday\", \"Sunday\", \"Sunday\", \"Sunday\", \"Sunday\", \"Sunday\", \"Sunday\", \"Sunday\", \"Sunday\", \"Sunday\", \"Sunday\", \"Sunday\", \"Sunday\", \"Sunday\", \"Sunday\", \"Sunday\", \"Sunday\", \"Sunday\", \"Sunday\", \"Sunday\", \"Sunday\", \"Sunday\", \"Sunday\", \"Sunday\", \"Sunday\", \"Sunday\", \"Sunday\", \"Sunday\", \"Sunday\", \"Sunday\", \"Sunday\", \"Sunday\", \"Sunday\", \"Sunday\", \"Sunday\", \"Sunday\", \"Sunday\", \"Sunday\", \"Sunday\", \"Sunday\", \"Sunday\", \"Sunday\", \"Sunday\", \"Sunday\", \"Sunday\", \"Sunday\", \"Sunday\", \"Sunday\", \"Sunday\", \"Sunday\", \"Sunday\", \"Sunday\", \"Sunday\", \"Sunday\", \"Sunday\", \"Sunday\", \"Sunday\", \"Sunday\", \"Sunday\", \"Sunday\", \"Sunday\", \"Sunday\", \"Sunday\", \"Sunday\", \"Sunday\", \"Sunday\", \"Sunday\", \"Sunday\", \"Sunday\", \"Sunday\", \"Sunday\", \"Sunday\", \"Sunday\", \"Sunday\", \"Sunday\", \"Sunday\", \"Sunday\", \"Sunday\", \"Sunday\", \"Sunday\", \"Sunday\", \"Sunday\", \"Sunday\", \"Sunday\", \"Sunday\", \"Sunday\", \"Sunday\", \"Sunday\", \"Sunday\", \"Sunday\", \"Sunday\", \"Sunday\", \"Sunday\", \"Sunday\", \"Sunday\", \"Sunday\", \"Sunday\", \"Sunday\", \"Sunday\", \"Sunday\", \"Sunday\", \"Sunday\", \"Sunday\", \"Sunday\", \"Sunday\", \"Sunday\", \"Sunday\", \"Sunday\", \"Sunday\", \"Sunday\", \"Sunday\", \"Sunday\", \"Sunday\", \"Sunday\", \"Sunday\", \"Sunday\", \"Sunday\", \"Sunday\", \"Sunday\", \"Sunday\", \"Sunday\", \"Sunday\", \"Sunday\", \"Sunday\", \"Sunday\", \"Sunday\", \"Sunday\", \"Sunday\", \"Sunday\", \"Sunday\", \"Sunday\", \"Sunday\", \"Sunday\", \"Sunday\", \"Sunday\", \"Sunday\", \"Sunday\", \"Sunday\", \"Sunday\", \"Sunday\", \"Sunday\", \"Sunday\", \"Sunday\", \"Sunday\", \"Sunday\", \"Sunday\", \"Sunday\", \"Sunday\", \"Sunday\", \"Sunday\", \"Sunday\", \"Sunday\", \"Sunday\", \"Sunday\", \"Sunday\", \"Sunday\", \"Sunday\", \"Sunday\", \"Sunday\", \"Sunday\", \"Sunday\", \"Sunday\", \"Sunday\", \"Sunday\", \"Sunday\", \"Sunday\", \"Sunday\", \"Sunday\", \"Sunday\", \"Sunday\", \"Sunday\", \"Sunday\", \"Sunday\", \"Sunday\", \"Sunday\", \"Sunday\", \"Sunday\", \"Sunday\", \"Sunday\", \"Sunday\", \"Sunday\", \"Sunday\", \"Sunday\", \"Sunday\", \"Sunday\", \"Sunday\", \"Sunday\", \"Sunday\", \"Sunday\", \"Sunday\", \"Sunday\", \"Sunday\", \"Sunday\", \"Sunday\", \"Sunday\", \"Sunday\", \"Sunday\", \"Sunday\", \"Sunday\", \"Sunday\", \"Sunday\", \"Sunday\", \"Sunday\", \"Sunday\", \"Sunday\", \"Sunday\", \"Sunday\", \"Sunday\", \"Sunday\", \"Sunday\", \"Sunday\", \"Sunday\", \"Sunday\", \"Sunday\", \"Sunday\", \"Sunday\", \"Sunday\", \"Sunday\", \"Sunday\", \"Sunday\", \"Sunday\", \"Sunday\", \"Sunday\", \"Sunday\", \"Sunday\", \"Sunday\", \"Sunday\", \"Sunday\", \"Sunday\", \"Sunday\", \"Sunday\", \"Sunday\", \"Sunday\", \"Sunday\", \"Sunday\", \"Sunday\", \"Sunday\", \"Sunday\", \"Sunday\", \"Sunday\", \"Sunday\", \"Sunday\", \"Sunday\", \"Sunday\", \"Sunday\", \"Sunday\", \"Sunday\", \"Sunday\", \"Sunday\", \"Sunday\", \"Sunday\", \"Sunday\", \"Sunday\", \"Sunday\", \"Sunday\", \"Sunday\", \"Sunday\", \"Sunday\", \"Sunday\", \"Sunday\", \"Sunday\", \"Sunday\", \"Sunday\", \"Sunday\", \"Sunday\", \"Sunday\", \"Sunday\", \"Sunday\", \"Sunday\", \"Sunday\", \"Sunday\", \"Sunday\", \"Sunday\", \"Sunday\", \"Sunday\", \"Sunday\", \"Sunday\", \"Sunday\", \"Sunday\", \"Sunday\", \"Sunday\", \"Sunday\", \"Sunday\", \"Sunday\", \"Sunday\", \"Sunday\", \"Sunday\", \"Sunday\", \"Sunday\", \"Sunday\", \"Sunday\", \"Sunday\", \"Sunday\", \"Sunday\", \"Sunday\", \"Sunday\", \"Sunday\", \"Sunday\", \"Sunday\", \"Sunday\", \"Sunday\", \"Sunday\", \"Sunday\", \"Sunday\", \"Sunday\", \"Sunday\", \"Sunday\", \"Sunday\", \"Sunday\", \"Sunday\", \"Sunday\", \"Sunday\", \"Sunday\", \"Sunday\", \"Sunday\", \"Sunday\", \"Sunday\", \"Sunday\", \"Sunday\", \"Sunday\", \"Sunday\", \"Sunday\", \"Sunday\", \"Sunday\", \"Sunday\", \"Sunday\", \"Sunday\", \"Sunday\", \"Sunday\", \"Sunday\", \"Sunday\", \"Sunday\", \"Sunday\", \"Sunday\", \"Sunday\", \"Sunday\", \"Sunday\", \"Sunday\", \"Sunday\", \"Sunday\", \"Sunday\", \"Sunday\", \"Sunday\", \"Sunday\", \"Sunday\", \"Sunday\", \"Sunday\", \"Sunday\", \"Sunday\", \"Sunday\", \"Sunday\", \"Sunday\", \"Sunday\", \"Sunday\", \"Sunday\", \"Sunday\", \"Sunday\", \"Sunday\", \"Sunday\", \"Sunday\", \"Sunday\", \"Sunday\", \"Sunday\", \"Sunday\", \"Sunday\", \"Sunday\", \"Sunday\", \"Sunday\", \"Sunday\", \"Sunday\", \"Sunday\", \"Sunday\", \"Sunday\", \"Sunday\", \"Sunday\", \"Sunday\", \"Sunday\", \"Sunday\", \"Sunday\", \"Sunday\", \"Sunday\", \"Sunday\", \"Sunday\", \"Sunday\", \"Sunday\", \"Sunday\", \"Sunday\", \"Sunday\", \"Sunday\", \"Sunday\", \"Sunday\", \"Sunday\", \"Sunday\", \"Sunday\", \"Sunday\", \"Sunday\", \"Sunday\", \"Sunday\", \"Sunday\", \"Sunday\", \"Sunday\", \"Sunday\", \"Sunday\", \"Sunday\", \"Sunday\", \"Sunday\", \"Sunday\", \"Sunday\", \"Sunday\", \"Sunday\", \"Sunday\", \"Sunday\", \"Sunday\", \"Sunday\", \"Sunday\", \"Sunday\", \"Sunday\", \"Sunday\", \"Sunday\", \"Sunday\", \"Sunday\", \"Sunday\", \"Sunday\", \"Sunday\", \"Sunday\", \"Sunday\", \"Sunday\", \"Sunday\", \"Sunday\", \"Sunday\", \"Sunday\", \"Sunday\", \"Sunday\", \"Sunday\", \"Sunday\", \"Sunday\", \"Sunday\", \"Sunday\", \"Sunday\", \"Sunday\", \"Sunday\", \"Sunday\", \"Sunday\", \"Sunday\", \"Sunday\", \"Sunday\", \"Sunday\", \"Sunday\", \"Sunday\", \"Sunday\", \"Sunday\", \"Sunday\", \"Sunday\", \"Sunday\", \"Sunday\", \"Sunday\", \"Sunday\", \"Sunday\", \"Sunday\", \"Sunday\", \"Sunday\", \"Sunday\", \"Sunday\", \"Sunday\", \"Sunday\", \"Sunday\", \"Sunday\", \"Sunday\", \"Sunday\", \"Sunday\", \"Sunday\", \"Sunday\", \"Sunday\", \"Sunday\", \"Sunday\", \"Sunday\", \"Sunday\", \"Sunday\", \"Sunday\", \"Sunday\", \"Sunday\", \"Sunday\", \"Sunday\", \"Sunday\", \"Sunday\", \"Sunday\", \"Sunday\", \"Sunday\", \"Sunday\", \"Sunday\", \"Sunday\", \"Sunday\", \"Sunday\", \"Sunday\", \"Sunday\", \"Sunday\", \"Sunday\", \"Sunday\", \"Sunday\", \"Sunday\", \"Sunday\", \"Sunday\", \"Sunday\", \"Sunday\", \"Sunday\", \"Sunday\", \"Sunday\", \"Sunday\", \"Sunday\", \"Sunday\", \"Sunday\", \"Sunday\", \"Sunday\", \"Sunday\", \"Sunday\", \"Sunday\", \"Sunday\", \"Sunday\", \"Sunday\", \"Sunday\", \"Sunday\", \"Sunday\", \"Sunday\", \"Sunday\", \"Sunday\", \"Sunday\", \"Sunday\", \"Sunday\", \"Sunday\", \"Sunday\", \"Sunday\", \"Sunday\", \"Sunday\", \"Sunday\", \"Sunday\", \"Sunday\", \"Sunday\", \"Sunday\", \"Sunday\", \"Sunday\", \"Sunday\", \"Sunday\", \"Sunday\", \"Sunday\", \"Sunday\", \"Sunday\", \"Sunday\", \"Sunday\", \"Sunday\", \"Sunday\", \"Sunday\", \"Sunday\", \"Sunday\", \"Sunday\", \"Sunday\", \"Sunday\", \"Sunday\", \"Sunday\", \"Sunday\", \"Sunday\", \"Sunday\", \"Sunday\", \"Sunday\", \"Sunday\", \"Sunday\", \"Sunday\", \"Sunday\", \"Sunday\", \"Sunday\", \"Sunday\", \"Sunday\", \"Sunday\", \"Sunday\", \"Sunday\", \"Sunday\", \"Sunday\", \"Sunday\", \"Sunday\", \"Sunday\", \"Sunday\", \"Sunday\", \"Sunday\", \"Sunday\", \"Sunday\", \"Sunday\", \"Sunday\", \"Sunday\", \"Sunday\", \"Sunday\", \"Sunday\", \"Sunday\", \"Sunday\", \"Sunday\", \"Sunday\", \"Sunday\", \"Sunday\", \"Sunday\", \"Sunday\", \"Sunday\", \"Sunday\", \"Sunday\", \"Sunday\", \"Sunday\", \"Sunday\", \"Sunday\", \"Sunday\", \"Sunday\", \"Sunday\", \"Sunday\", \"Sunday\", \"Sunday\", \"Sunday\", \"Sunday\", \"Sunday\", \"Sunday\", \"Sunday\", \"Sunday\", \"Sunday\", \"Sunday\", \"Sunday\", \"Sunday\", \"Sunday\", \"Sunday\", \"Sunday\", \"Sunday\", \"Sunday\", \"Sunday\", \"Sunday\", \"Sunday\", \"Sunday\", \"Sunday\", \"Sunday\", \"Sunday\", \"Sunday\", \"Sunday\", \"Sunday\", \"Sunday\", \"Sunday\", \"Sunday\", \"Sunday\", \"Sunday\", \"Sunday\", \"Sunday\", \"Sunday\", \"Sunday\", \"Sunday\", \"Sunday\", \"Sunday\", \"Sunday\", \"Sunday\", \"Sunday\", \"Sunday\", \"Sunday\", \"Sunday\", \"Sunday\", \"Sunday\", \"Sunday\", \"Sunday\", \"Sunday\", \"Sunday\", \"Sunday\", \"Sunday\", \"Sunday\", \"Sunday\", \"Sunday\", \"Sunday\", \"Sunday\", \"Sunday\", \"Sunday\", \"Sunday\", \"Sunday\", \"Sunday\", \"Sunday\", \"Sunday\", \"Sunday\", \"Sunday\", \"Sunday\", \"Sunday\", \"Sunday\", \"Sunday\", \"Sunday\", \"Sunday\", \"Sunday\", \"Sunday\", \"Sunday\", \"Sunday\", \"Sunday\", \"Sunday\", \"Sunday\", \"Sunday\", \"Sunday\", \"Sunday\", \"Sunday\", \"Sunday\", \"Sunday\", \"Sunday\", \"Sunday\", \"Sunday\", \"Sunday\", \"Sunday\", \"Sunday\", \"Sunday\", \"Sunday\", \"Sunday\", \"Sunday\", \"Sunday\", \"Sunday\", \"Sunday\", \"Sunday\", \"Sunday\", \"Sunday\", \"Sunday\", \"Sunday\", \"Sunday\", \"Sunday\", \"Sunday\", \"Sunday\", \"Sunday\", \"Sunday\", \"Sunday\", \"Sunday\", \"Sunday\", \"Sunday\", \"Sunday\", \"Sunday\", \"Sunday\", \"Sunday\", \"Sunday\", \"Sunday\", \"Sunday\", \"Sunday\", \"Sunday\", \"Sunday\", \"Sunday\", \"Sunday\", \"Sunday\", \"Sunday\", \"Sunday\", \"Sunday\", \"Sunday\", \"Sunday\", \"Sunday\", \"Sunday\", \"Sunday\", \"Sunday\", \"Sunday\", \"Sunday\", \"Sunday\", \"Sunday\", \"Sunday\", \"Sunday\", \"Sunday\", \"Sunday\", \"Sunday\", \"Sunday\", \"Sunday\", \"Sunday\", \"Sunday\", \"Sunday\", \"Sunday\", \"Sunday\", \"Sunday\", \"Sunday\", \"Sunday\", \"Sunday\", \"Sunday\", \"Sunday\", \"Sunday\", \"Sunday\", \"Sunday\", \"Sunday\", \"Sunday\", \"Sunday\", \"Sunday\", \"Sunday\", \"Sunday\", \"Sunday\", \"Sunday\", \"Sunday\", \"Sunday\", \"Sunday\", \"Sunday\", \"Sunday\", \"Sunday\", \"Sunday\", \"Sunday\", \"Sunday\", \"Sunday\", \"Sunday\", \"Sunday\", \"Sunday\", \"Sunday\", \"Sunday\", \"Sunday\", \"Sunday\", \"Sunday\", \"Sunday\", \"Sunday\", \"Sunday\", \"Sunday\", \"Sunday\", \"Sunday\", \"Sunday\", \"Sunday\", \"Sunday\", \"Sunday\", \"Sunday\", \"Sunday\", \"Sunday\", \"Sunday\", \"Sunday\", \"Sunday\", \"Sunday\", \"Sunday\", \"Sunday\", \"Sunday\", \"Sunday\", \"Sunday\", \"Sunday\", \"Sunday\", \"Sunday\", \"Sunday\", \"Sunday\", \"Sunday\", \"Sunday\", \"Sunday\", \"Sunday\", \"Sunday\", \"Sunday\", \"Sunday\", \"Sunday\", \"Sunday\", \"Sunday\", \"Sunday\", \"Sunday\", \"Sunday\", \"Sunday\", \"Sunday\", \"Sunday\", \"Sunday\", \"Sunday\", \"Sunday\", \"Sunday\", \"Sunday\", \"Sunday\", \"Sunday\", \"Sunday\", \"Sunday\", \"Sunday\", \"Sunday\", \"Sunday\", \"Sunday\", \"Sunday\", \"Sunday\", \"Sunday\", \"Sunday\", \"Sunday\", \"Sunday\", \"Sunday\", \"Sunday\", \"Sunday\", \"Sunday\", \"Sunday\", \"Sunday\", \"Sunday\", \"Sunday\", \"Sunday\", \"Sunday\", \"Sunday\", \"Sunday\", \"Sunday\", \"Sunday\", \"Sunday\", \"Sunday\", \"Sunday\", \"Sunday\", \"Sunday\", \"Sunday\", \"Sunday\", \"Sunday\", \"Sunday\", \"Sunday\", \"Sunday\", \"Sunday\", \"Sunday\", \"Sunday\", \"Sunday\", \"Sunday\", \"Sunday\", \"Sunday\", \"Sunday\", \"Sunday\", \"Sunday\", \"Sunday\", \"Sunday\", \"Sunday\", \"Sunday\", \"Sunday\", \"Sunday\", \"Sunday\", \"Sunday\", \"Sunday\", \"Sunday\", \"Sunday\", \"Sunday\", \"Sunday\", \"Sunday\", \"Sunday\", \"Sunday\", \"Sunday\", \"Sunday\", \"Sunday\", \"Sunday\", \"Sunday\", \"Sunday\", \"Sunday\", \"Sunday\", \"Sunday\", \"Sunday\", \"Sunday\", \"Sunday\", \"Sunday\", \"Sunday\", \"Sunday\", \"Sunday\", \"Sunday\", \"Sunday\", \"Sunday\", \"Sunday\", \"Sunday\", \"Sunday\", \"Sunday\", \"Sunday\", \"Sunday\", \"Sunday\", \"Sunday\", \"Sunday\", \"Sunday\", \"Sunday\", \"Sunday\", \"Sunday\", \"Sunday\", \"Sunday\", \"Sunday\", \"Sunday\", \"Sunday\", \"Sunday\", \"Sunday\", \"Sunday\", \"Sunday\", \"Sunday\", \"Sunday\", \"Sunday\", \"Sunday\", \"Sunday\", \"Sunday\", \"Sunday\", \"Sunday\", \"Sunday\", \"Sunday\", \"Sunday\", \"Sunday\", \"Sunday\", \"Sunday\", \"Sunday\", \"Sunday\", \"Sunday\", \"Sunday\", \"Sunday\", \"Sunday\", \"Sunday\", \"Sunday\", \"Sunday\", \"Sunday\", \"Sunday\", \"Sunday\", \"Sunday\", \"Sunday\", \"Sunday\", \"Sunday\", \"Sunday\", \"Sunday\", \"Sunday\", \"Sunday\", \"Sunday\", \"Sunday\", \"Sunday\", \"Sunday\", \"Sunday\", \"Sunday\", \"Sunday\", \"Sunday\", \"Sunday\", \"Sunday\", \"Sunday\", \"Sunday\", \"Sunday\", \"Sunday\", \"Sunday\", \"Sunday\", \"Sunday\", \"Sunday\", \"Sunday\", \"Sunday\", \"Sunday\", \"Sunday\", \"Sunday\", \"Sunday\", \"Sunday\", \"Sunday\", \"Sunday\", \"Sunday\", \"Sunday\", \"Sunday\", \"Sunday\", \"Sunday\", \"Sunday\", \"Sunday\", \"Sunday\", \"Sunday\", \"Sunday\", \"Sunday\", \"Sunday\", \"Sunday\", \"Sunday\", \"Sunday\", \"Sunday\", \"Sunday\", \"Sunday\"], \"x0\": \" \", \"xaxis\": \"x\", \"y\": [\"173\", \"142\", \"129\", \"124\", \"122\", \"110\", \"100\", \"103\", \"96\", \"103\", \"103\", \"96\", \"96\", \"103\", \"94\", \"97\", \"97\", \"78\", \"85\", \"104\", \"104\", \"95\", \"91\", \"87\", \"85\", \"84\", \"83\", \"84\", \"84\", \"95\", \"103\", \"115\", \"127\", \"114\", \"117\", \"96\", \"107\", \"85\", \"80\", \"82\", \"84\", \"88\", \"90\", \"102\", \"116\", \"124\", \"137\", \"149\", \"173\", \"194\", \"182\", \"189\", \"199\", \"209\", \"197\", \"173\", \"182\", \"190\", \"186\", \"191\", \"180\", \"175\", \"170\", \"151\", \"150\", \"157\", \"160\", \"144\", \"110\", \"100\", \"91\", \"83\", \"81\", \"81\", \"85\", \"90\", \"91\", \"90\", \"81\", \"62\", \"68\", \"73\", \"81\", \"85\", \"79\", \"73\", \"68\", \"69\", \"76\", \"79\", \"77\", \"81\", \"73\", \"74\", \"77\", \"75\", \"74\", \"65\", \"70\", \"76\", \"85\", \"96\", \"99\", \"104\", \"94\", \"97\", \"102\", \"104\", \"93\", \"92\", \"101\", \"112\", \"123\", \"130\", \"135\", \"136\", \"132\", \"131\", \"134\", \"139\", \"145\", \"149\", \"152\", \"155\", \"160\", \"180\", \"145\", \"148\", \"151\", \"153\", \"154\", \"153\", \"159\", \"159\", \"157\", \"159\", \"160\", \"161\", \"163\", \"160\", \"150\", \"143\", \"139\", \"133\", \"131\", \"130\", \"130\", \"130\", \"131\", \"127\", \"123\", \"123\", \"123\", \"124\", \"124\", \"124\", \"124\", \"124\", \"123\", \"123\", \"123\", \"123\", \"124\", \"125\", \"125\", \"125\", \"125\", \"126\", \"127\", \"128\", \"129\", \"129\", \"129\", \"128\", \"127\", \"127\", \"127\", \"126\", \"126\", \"125\", \"125\", \"127\", \"129\", \"119\", \"118\", \"118\", \"121\", \"123\", \"125\", \"127\", \"129\", \"130\", \"132\", \"141\", \"147\", \"145\", \"151\", \"154\", \"155\", \"154\", \"155\", \"158\", \"163\", \"167\", \"169\", \"172\", \"173\", \"175\", \"178\", \"181\", \"182\", \"185\", \"187\", \"189\", \"190\", \"192\", \"194\", \"197\", \"199\", \"202\", \"197\", \"198\", \"196\", \"194\", \"190\", \"186\", \"183\", \"180\", \"180\", \"178\", \"176\", \"175\", \"173\", \"172\", \"171\", \"168\", \"162\", \"162\", \"165\", \"165\", \"167\", \"165\", \"162\", \"160\", \"159\", \"161\", \"162\", \"168\", \"171\", \"161\", \"160\", \"164\", \"176\", \"185\", \"194\", \"180\", \"166\", \"158\", \"153\", \"153\", \"151\", \"152\", \"152\", \"151\", \"150\", \"145\", \"139\", \"135\", \"135\", \"139\", \"136\", \"131\", \"126\", \"126\", \"125\", \"125\", \"122\", \"123\", \"117\", \"118\", \"115\", \"114\", \"115\", \"115\", \"111\", \"109\", \"109\", \"106\", \"105\", \"103\", \"103\", \"102\", \"101\", \"103\", \"108\", \"121\", \"129\", \"138\", \"140\", \"137\", \"137\", \"136\", \"137\", \"136\", \"141\", \"143\", \"138\", \"134\", \"133\", \"135\", \"135\", \"134\", \"133\", \"128\", \"125\", \"122\", \"125\", \"133\", \"141\", \"155\", \"175\", \"190\", \"192\", \"191\", \"189\", \"186\", \"183\", \"180\", \"174\", \"166\", \"161\", \"159\", \"155\", \"150\", \"146\", \"141\", \"133\", \"124\", \"119\", \"116\", \"112\", \"108\", \"106\", \"103\", \"102\", \"103\", \"102\", \"99\", \"97\", \"115\", \"130\", \"134\", \"135\", \"139\", \"150\", \"161\", \"165\", \"166\", \"162\", \"155\", \"145\", \"137\", \"130\", \"125\", \"122\", \"112\", \"104\", \"92\", \"90\", \"86\", \"88\", \"89\", \"86\", \"91\", \"95\", \"94\", \"90\", \"83\", \"75\", \"71\", \"70\", \"71\", \"73\", \"80\", \"86\", \"91\", \"93\", \"97\", \"95\", \"97\", \"102\", \"108\", \"114\", \"121\", \"125\", \"128\", \"128\", \"132\", \"145\", \"154\", \"156\", \"161\", \"164\", \"177\", \"185\", \"188\", \"186\", \"179\", \"177\", \"173\", \"178\", \"173\", \"176\", \"176\", \"101\", \"102\", \"98\", \"101\", \"96\", \"99\", \"94\", \"91\", \"88\", \"92\", \"90\", \"98\", \"94\", \"97\", \"97\", \"101\", \"102\", \"106\", \"110\", \"116\", \"120\", \"125\", \"130\", \"135\", \"140\", \"144\", \"147\", \"151\", \"154\", \"153\", \"154\", \"155\", \"147\", \"141\", \"140\", \"139\", \"139\", \"140\", \"142\", \"143\", \"145\", \"146\", \"150\", \"153\", \"161\", \"164\", \"164\", \"164\", \"165\", \"165\", \"166\", \"166\", \"167\", \"161\", \"156\", \"153\", \"151\", \"152\", \"156\", \"181\", \"178\", \"170\", \"171\", \"165\", \"177\", \"181\", \"179\", \"179\", \"179\", \"174\", \"162\", \"160\", \"162\", \"158\", \"155\", \"152\", \"151\", \"151\", \"150\", \"150\", \"149\", \"149\", \"148\", \"155\", \"152\", \"150\", \"144\", \"145\", \"140\", \"135\", \"141\", \"128\", \"140\", \"140\", \"140\", \"153\", \"156\", \"157\", \"156\", \"155\", \"155\", \"155\", \"156\", \"156\", \"158\", \"157\", \"154\", \"150\", \"146\", \"146\", \"152\", \"154\", \"145\", \"140\", \"137\", \"137\", \"139\", \"143\", \"143\", \"142\", \"141\", \"134\", \"131\", \"131\", \"131\", \"128\", \"133\", \"131\", \"130\", \"126\", \"136\", \"137\", \"137\", \"139\", \"135\", \"133\", \"131\", \"128\", \"121\", \"126\", \"132\", \"141\", \"152\", \"170\", \"182\", \"187\", \"192\", \"192\", \"199\", \"208\", \"207\", \"206\", \"205\", \"206\", \"211\", \"215\", \"213\", \"209\", \"202\", \"195\", \"196\", \"193\", \"184\", \"175\", \"170\", \"166\", \"158\", \"151\", \"139\", \"132\", \"124\", \"116\", \"107\", \"100\", \"95\", \"90\", \"84\", \"82\", \"78\", \"72\", \"66\", \"64\", \"59\", \"61\", \"63\", \"68\", \"71\", \"75\", \"81\", \"83\", \"86\", \"89\", \"94\", \"99\", \"104\", \"109\", \"115\", \"115\", \"113\", \"115\", \"119\", \"124\", \"128\", \"132\", \"131\", \"130\", \"125\", \"120\", \"119\", \"123\", \"132\", \"139\", \"141\", \"142\", \"146\", \"158\", \"175\", \"190\", \"203\", \"207\", \"210\", \"214\", \"214\", \"214\", \"209\", \"206\", \"206\", \"199\", \"192\", \"186\", \"178\", \"168\", \"163\", \"156\", \"149\", \"142\", \"136\", \"128\", \"120\", \"115\", \"117\", \"118\", \"118\", \"121\", \"120\", \"113\", \"112\", \"108\", \"105\", \"100\", \"90\", \"75\", \"62\", \"69\", \"75\", \"77\", \"82\", \"88\", \"100\", \"109\", \"110\", \"103\", \"102\", \"96\", \"97\", \"104\", \"112\", \"121\", \"128\", \"135\", \"142\", \"143\", \"139\", \"144\", \"149\", \"146\", \"144\", \"138\", \"133\", \"138\", \"156\", \"167\", \"172\", \"173\", \"173\", \"175\", \"157\", \"152\", \"120\", \"121\", \"122\", \"119\", \"109\", \"110\", \"115\", \"123\", \"122\", \"123\", \"124\", \"110\", \"117\", \"125\", \"138\", \"134\", \"151\", \"157\", \"159\", \"162\", \"161\", \"163\", \"162\", \"155\", \"153\", \"151\", \"145\", \"139\", \"133\", \"119\", \"111\", \"106\", \"100\", \"105\", \"110\", \"94\", \"77\", \"83\", \"89\", \"96\", \"99\", \"99\", \"97\", \"94\", \"91\", \"89\", \"91\", \"94\", \"97\", \"100\", \"101\", \"101\", \"101\", \"102\", \"101\", \"99\", \"103\", \"109\", \"111\", \"109\", \"119\", \"115\", \"121\", \"142\", \"152\", \"156\", \"156\", \"156\", \"155\", \"155\", \"155\", \"154\", \"151\", \"149\", \"148\", \"150\", \"160\", \"167\", \"172\", \"172\", \"171\", \"151\", \"132\", \"127\", \"132\", \"147\", \"130\", \"144\", \"164\", \"171\", \"176\", \"168\", \"165\", \"165\", \"167\", \"169\", \"168\", \"175\", \"180\", \"181\", \"179\", \"180\", \"179\", \"158\", \"159\", \"163\", \"169\", \"170\", \"171\", \"168\", \"168\", \"167\", \"167\", \"171\", \"181\", \"178\", \"175\", \"170\", \"170\", \"182\", \"198\", \"207\", \"199\", \"203\", \"199\", \"189\", \"169\", \"166\", \"165\", \"165\", \"164\", \"161\", \"156\", \"150\", \"145\", \"139\", \"137\", \"128\", \"120\", \"111\", \"111\", \"105\", \"94\", \"87\", \"84\", \"86\", \"94\", \"99\", \"103\", \"102\", \"99\", \"98\", \"100\", \"104\", \"92\", \"84\", \"80\", \"74\", \"66\", \"62\", \"60\", \"59\", \"57\", \"56\", \"56\", \"56\", \"55\", \"54\", \"55\", \"56\", \"55\", \"55\", \"56\", \"62\", \"57\", \"50\", \"48\", \"66\", \"90\", \"102\", \"114\", \"121\", \"133\", \"143\", \"144\", \"149\", \"156\", \"166\", \"183\", \"195\", \"186\", \"169\", \"157\", \"148\", \"149\", \"154\", \"154\", \"158\", \"152\", \"157\", \"154\", \"162\", \"168\", \"155\", \"150\", \"147\", \"145\", \"129\", \"122\", \"123\", \"119\", \"115\", \"108\", \"100\", \"94\", \"87\", \"84\", \"85\", \"78\", \"73\", \"70\", \"69\", \"67\", \"64\", \"63\", \"61\", \"60\", \"57\", \"55\", \"56\", \"53\", \"56\", \"62\", \"74\", \"89\", \"109\", \"127\", \"133\", \"134\", \"153\", \"148\", \"137\", \"141\", \"135\", \"129\", \"119\", \"112\", \"129\", \"124\", \"120\", \"116\", \"117\", \"117\", \"116\", \"116\", \"119\", \"119\", \"116\", \"114\", \"115\", \"114\", \"129\", \"132\", \"125\", \"123\", \"123\", \"129\", \"114\", \"113\", \"115\", \"105\", \"106\", \"107\", \"105\", \"111\", \"118\", \"111\", \"121\", \"130\", \"136\", \"129\", \"126\", \"129\", \"127\", \"135\", \"149\", \"159\", \"168\", \"194\", \"188\", \"174\", \"169\", \"170\", \"154\", \"149\", \"145\", \"145\", \"124\", \"93\", \"92\", \"92\", \"99\", \"107\", \"109\", \"102\", \"111\", \"105\", \"105\", \"109\", \"109\", \"94\", \"107\", \"123\", \"111\", \"105\", \"106\", \"106\", \"105\", \"90\", \"86\", \"86\", \"68\", \"46\", \"Low\", \"Low\", \"Low\", \"Low\", \"Low\", \"Low\", \"Low\", \"Low\", \"Low\", \"Low\", \"Low\", \"53\", \"73\", \"85\", \"86\", \"80\", \"73\", \"60\", \"61\", \"63\", \"64\", \"66\", \"66\", \"68\", \"78\", \"89\", \"97\", \"91\", \"62\", \"Low\", \"Low\", \"106\", \"111\", \"113\", \"111\", \"117\", \"114\", \"113\", \"116\", \"118\", \"120\", \"122\", \"123\", \"124\", \"121\", \"121\", \"112\", \"111\", \"113\", \"114\", \"116\", \"118\", \"120\", \"121\", \"122\", \"124\", \"125\", \"126\", \"128\", \"136\", \"128\", \"128\", \"135\", \"137\", \"135\", \"129\", \"127\", \"127\", \"127\", \"127\", \"126\", \"125\", \"124\", \"130\", \"134\", \"135\", \"135\", \"131\", \"130\", \"121\", \"124\", \"122\", \"119\", \"116\", \"117\", \"116\", \"119\", \"125\", \"122\", \"114\", \"111\", \"118\", \"121\", \"122\", \"125\", \"111\", \"115\", \"141\", \"162\", \"179\", \"186\", \"184\", \"183\", \"174\", \"184\", \"192\", \"184\", \"184\", \"182\", \"182\", \"178\", \"175\", \"172\", \"168\", \"163\", \"160\", \"151\", \"147\", \"140\", \"138\", \"133\", \"134\", \"131\", \"128\", \"124\", \"114\", \"107\", \"108\", \"103\", \"98\", \"98\", \"97\", \"93\", \"93\", \"100\", \"95\", \"99\", \"106\", \"108\", \"109\", \"108\", \"110\", \"104\", \"108\", \"109\", \"115\", \"116\", \"119\", \"133\", \"132\", \"134\", \"131\", \"124\", \"119\", \"113\", \"109\", \"98\", \"103\", \"100\", \"96\", \"91\", \"88\", \"93\", \"100\", \"125\", \"134\", \"130\", \"144\", \"147\", \"148\", \"146\", \"149\", \"157\", \"168\", \"178\", \"186\", \"185\", \"193\", \"205\", \"197\", \"198\", \"200\", \"202\", \"203\", \"204\", \"195\", \"184\", \"177\", \"171\", \"167\", \"163\", \"170\", \"169\", \"164\", \"158\", \"153\", \"149\", \"150\", \"143\", \"130\", \"123\", \"119\", \"110\", \"101\", \"95\", \"88\", \"83\", \"80\", \"79\", \"79\", \"77\", \"76\", \"78\", \"74\", \"70\", \"69\", \"68\", \"72\", \"79\", \"84\", \"99\", \"107\", \"113\", \"105\", \"103\", \"100\", \"97\", \"100\", \"98\", \"108\", \"115\", \"123\", \"126\", \"133\", \"139\", \"149\", \"160\", \"167\", \"173\", \"185\", \"200\", \"219\", \"221\", \"219\", \"223\", \"230\", \"231\", \"228\", \"238\", \"98\", \"98\", \"92\", \"91\", \"92\", \"83\", \"89\", \"97\", \"100\", \"105\", \"105\", \"108\", \"109\", \"104\", \"110\", \"117\", \"126\", \"131\", \"142\", \"155\", \"165\", \"175\", \"183\", \"190\", \"198\", \"204\", \"210\", \"214\", \"216\", \"217\", \"218\", \"218\", \"218\", \"219\", \"220\", \"221\", \"222\", \"225\", \"228\", \"231\", \"233\", \"236\", \"239\", \"242\", \"243\", \"245\", \"248\", \"250\", \"251\", \"252\", \"246\", \"243\", \"247\", \"245\", \"242\", \"239\", \"235\", \"228\", \"227\", \"223\", \"220\", \"217\", \"213\", \"211\", \"209\", \"207\", \"205\", \"204\", \"202\", \"199\", \"197\", \"195\", \"192\", \"190\", \"188\", \"186\", \"185\", \"184\", \"183\", \"181\", \"178\", \"178\", \"179\", \"180\", \"180\", \"180\", \"180\", \"180\", \"168\", \"162\", \"161\", \"162\", \"168\", \"167\", \"166\", \"166\", \"165\", \"165\", \"168\", \"175\", \"174\", \"171\", \"167\", \"164\", \"161\", \"159\", \"157\", \"154\", \"152\", \"149\", \"147\", \"144\", \"141\", \"137\", \"134\", \"131\", \"128\", \"125\", \"115\", \"111\", \"102\", \"108\", \"107\", \"106\", \"104\", \"103\", \"101\", \"102\", \"103\", \"105\", \"104\", \"105\", \"108\", \"113\", \"117\", \"125\", \"135\", \"133\", \"130\", \"141\", \"131\", \"136\", \"142\", \"145\", \"140\", \"149\", \"158\", \"154\", \"157\", \"157\", \"162\", \"169\", \"165\", \"171\", \"170\", \"172\", \"171\", \"173\", \"171\", \"170\", \"171\", \"166\", \"165\", \"163\", \"161\", \"161\", \"156\", \"152\", \"149\", \"149\", \"150\", \"146\", \"152\", \"149\", \"140\", \"136\", \"144\", \"138\", \"139\", \"137\", \"133\", \"135\", \"133\", \"132\", \"134\", \"139\", \"142\", \"153\", \"161\", \"167\", \"168\", \"175\", \"174\", \"173\", \"172\", \"171\", \"165\", \"155\", \"147\", \"139\", \"134\", \"132\", \"124\", \"125\", \"121\", \"123\", \"127\", \"131\", \"132\", \"141\", \"143\", \"137\", \"134\", \"124\", \"119\", \"118\", \"112\", \"109\", \"107\", \"107\", \"105\", \"105\", \"107\", \"106\", \"110\", \"117\", \"128\", \"139\", \"149\", \"156\", \"159\", \"159\", \"163\", \"164\", \"165\", \"165\", \"166\", \"166\", \"161\", \"159\", \"157\", \"154\", \"151\", \"147\", \"141\", \"136\", \"136\", \"132\", \"125\", \"120\", \"118\", \"119\", \"123\", \"127\", \"128\", \"131\", \"133\", \"130\", \"127\", \"123\", \"122\", \"120\", \"118\", \"114\", \"106\", \"101\", \"100\", \"99\", \"100\", \"101\", \"102\", \"98\", \"98\", \"100\", \"102\", \"105\", \"104\", \"100\", \"100\", \"101\", \"90\", \"96\", \"102\", \"118\", \"134\", \"139\", \"145\", \"151\", \"156\"], \"y0\": \" \", \"yaxis\": \"y\"}, {\"alignmentgroup\": \"True\", \"boxpoints\": \"all\", \"hoverlabel\": {\"namelength\": 0}, \"hovertemplate\": \"Day=%{x}<br>Glucose Value (mg/dL)=%{y}\", \"legendgroup\": \"Day=Monday\", \"marker\": {\"color\": \"#EF553B\"}, \"name\": \"Day=Monday\", \"notched\": false, \"offsetgroup\": \"Day=Monday\", \"orientation\": \"v\", \"showlegend\": true, \"type\": \"box\", \"x\": [\"Monday\", \"Monday\", \"Monday\", \"Monday\", \"Monday\", \"Monday\", \"Monday\", \"Monday\", \"Monday\", \"Monday\", \"Monday\", \"Monday\", \"Monday\", \"Monday\", \"Monday\", \"Monday\", \"Monday\", \"Monday\", \"Monday\", \"Monday\", \"Monday\", \"Monday\", \"Monday\", \"Monday\", \"Monday\", \"Monday\", \"Monday\", \"Monday\", \"Monday\", \"Monday\", \"Monday\", \"Monday\", \"Monday\", \"Monday\", \"Monday\", \"Monday\", \"Monday\", \"Monday\", \"Monday\", \"Monday\", \"Monday\", \"Monday\", \"Monday\", \"Monday\", \"Monday\", \"Monday\", \"Monday\", \"Monday\", \"Monday\", \"Monday\", \"Monday\", \"Monday\", \"Monday\", \"Monday\", \"Monday\", \"Monday\", \"Monday\", \"Monday\", \"Monday\", \"Monday\", \"Monday\", \"Monday\", \"Monday\", \"Monday\", \"Monday\", \"Monday\", \"Monday\", \"Monday\", \"Monday\", \"Monday\", \"Monday\", \"Monday\", \"Monday\", \"Monday\", \"Monday\", \"Monday\", \"Monday\", \"Monday\", \"Monday\", \"Monday\", \"Monday\", \"Monday\", \"Monday\", \"Monday\", \"Monday\", \"Monday\", \"Monday\", \"Monday\", \"Monday\", \"Monday\", \"Monday\", \"Monday\", \"Monday\", \"Monday\", \"Monday\", \"Monday\", \"Monday\", \"Monday\", \"Monday\", \"Monday\", \"Monday\", \"Monday\", \"Monday\", \"Monday\", \"Monday\", \"Monday\", \"Monday\", \"Monday\", \"Monday\", \"Monday\", \"Monday\", \"Monday\", \"Monday\", \"Monday\", \"Monday\", \"Monday\", \"Monday\", \"Monday\", \"Monday\", \"Monday\", \"Monday\", \"Monday\", \"Monday\", \"Monday\", \"Monday\", \"Monday\", \"Monday\", \"Monday\", \"Monday\", \"Monday\", \"Monday\", \"Monday\", \"Monday\", \"Monday\", \"Monday\", \"Monday\", \"Monday\", \"Monday\", \"Monday\", \"Monday\", \"Monday\", \"Monday\", \"Monday\", \"Monday\", \"Monday\", \"Monday\", \"Monday\", \"Monday\", \"Monday\", \"Monday\", \"Monday\", \"Monday\", \"Monday\", \"Monday\", \"Monday\", \"Monday\", \"Monday\", \"Monday\", \"Monday\", \"Monday\", \"Monday\", \"Monday\", \"Monday\", \"Monday\", \"Monday\", \"Monday\", \"Monday\", \"Monday\", \"Monday\", \"Monday\", \"Monday\", \"Monday\", \"Monday\", \"Monday\", \"Monday\", \"Monday\", \"Monday\", \"Monday\", \"Monday\", \"Monday\", \"Monday\", \"Monday\", \"Monday\", \"Monday\", \"Monday\", \"Monday\", \"Monday\", \"Monday\", \"Monday\", \"Monday\", \"Monday\", \"Monday\", \"Monday\", \"Monday\", \"Monday\", \"Monday\", \"Monday\", \"Monday\", \"Monday\", \"Monday\", \"Monday\", \"Monday\", \"Monday\", \"Monday\", \"Monday\", \"Monday\", \"Monday\", \"Monday\", \"Monday\", \"Monday\", \"Monday\", \"Monday\", \"Monday\", \"Monday\", \"Monday\", \"Monday\", \"Monday\", \"Monday\", \"Monday\", \"Monday\", \"Monday\", \"Monday\", \"Monday\", \"Monday\", \"Monday\", \"Monday\", \"Monday\", \"Monday\", \"Monday\", \"Monday\", \"Monday\", \"Monday\", \"Monday\", \"Monday\", \"Monday\", \"Monday\", \"Monday\", \"Monday\", \"Monday\", \"Monday\", \"Monday\", \"Monday\", \"Monday\", \"Monday\", \"Monday\", \"Monday\", \"Monday\", \"Monday\", \"Monday\", \"Monday\", \"Monday\", \"Monday\", \"Monday\", \"Monday\", \"Monday\", \"Monday\", \"Monday\", \"Monday\", \"Monday\", \"Monday\", \"Monday\", \"Monday\", \"Monday\", \"Monday\", \"Monday\", \"Monday\", \"Monday\", \"Monday\", \"Monday\", \"Monday\", \"Monday\", \"Monday\", \"Monday\", \"Monday\", \"Monday\", \"Monday\", \"Monday\", \"Monday\", \"Monday\", \"Monday\", \"Monday\", \"Monday\", \"Monday\", \"Monday\", \"Monday\", \"Monday\", \"Monday\", \"Monday\", \"Monday\", \"Monday\", \"Monday\", \"Monday\", \"Monday\", \"Monday\", \"Monday\", \"Monday\", \"Monday\", \"Monday\", \"Monday\", \"Monday\", \"Monday\", \"Monday\", \"Monday\", \"Monday\", \"Monday\", \"Monday\", \"Monday\", \"Monday\", \"Monday\", \"Monday\", \"Monday\", \"Monday\", \"Monday\", \"Monday\", \"Monday\", \"Monday\", \"Monday\", \"Monday\", \"Monday\", \"Monday\", \"Monday\", \"Monday\", \"Monday\", \"Monday\", \"Monday\", \"Monday\", \"Monday\", \"Monday\", \"Monday\", \"Monday\", \"Monday\", \"Monday\", \"Monday\", \"Monday\", \"Monday\", \"Monday\", \"Monday\", \"Monday\", \"Monday\", \"Monday\", \"Monday\", \"Monday\", \"Monday\", \"Monday\", \"Monday\", \"Monday\", \"Monday\", \"Monday\", \"Monday\", \"Monday\", \"Monday\", \"Monday\", \"Monday\", \"Monday\", \"Monday\", \"Monday\", \"Monday\", \"Monday\", \"Monday\", \"Monday\", \"Monday\", \"Monday\", \"Monday\", \"Monday\", \"Monday\", \"Monday\", \"Monday\", \"Monday\", \"Monday\", \"Monday\", \"Monday\", \"Monday\", \"Monday\", \"Monday\", \"Monday\", \"Monday\", \"Monday\", \"Monday\", \"Monday\", \"Monday\", \"Monday\", \"Monday\", \"Monday\", \"Monday\", \"Monday\", \"Monday\", \"Monday\", \"Monday\", \"Monday\", \"Monday\", \"Monday\", \"Monday\", \"Monday\", \"Monday\", \"Monday\", \"Monday\", \"Monday\", \"Monday\", \"Monday\", \"Monday\", \"Monday\", \"Monday\", \"Monday\", \"Monday\", \"Monday\", \"Monday\", \"Monday\", \"Monday\", \"Monday\", \"Monday\", \"Monday\", \"Monday\", \"Monday\", \"Monday\", \"Monday\", \"Monday\", \"Monday\", \"Monday\", \"Monday\", \"Monday\", \"Monday\", \"Monday\", \"Monday\", \"Monday\", \"Monday\", \"Monday\", \"Monday\", \"Monday\", \"Monday\", \"Monday\", \"Monday\", \"Monday\", \"Monday\", \"Monday\", \"Monday\", \"Monday\", \"Monday\", \"Monday\", \"Monday\", \"Monday\", \"Monday\", \"Monday\", \"Monday\", \"Monday\", \"Monday\", \"Monday\", \"Monday\", \"Monday\", \"Monday\", \"Monday\", \"Monday\", \"Monday\", \"Monday\", \"Monday\", \"Monday\", \"Monday\", \"Monday\", \"Monday\", \"Monday\", \"Monday\", \"Monday\", \"Monday\", \"Monday\", \"Monday\", \"Monday\", \"Monday\", \"Monday\", \"Monday\", \"Monday\", \"Monday\", \"Monday\", \"Monday\", \"Monday\", \"Monday\", \"Monday\", \"Monday\", \"Monday\", \"Monday\", \"Monday\", \"Monday\", \"Monday\", \"Monday\", \"Monday\", \"Monday\", \"Monday\", \"Monday\", \"Monday\", \"Monday\", \"Monday\", \"Monday\", \"Monday\", \"Monday\", \"Monday\", \"Monday\", \"Monday\", \"Monday\", \"Monday\", \"Monday\", \"Monday\", \"Monday\", \"Monday\", \"Monday\", \"Monday\", \"Monday\", \"Monday\", \"Monday\", \"Monday\", \"Monday\", \"Monday\", \"Monday\", \"Monday\", \"Monday\", \"Monday\", \"Monday\", \"Monday\", \"Monday\", \"Monday\", \"Monday\", \"Monday\", \"Monday\", \"Monday\", \"Monday\", \"Monday\", \"Monday\", \"Monday\", \"Monday\", \"Monday\", \"Monday\", \"Monday\", \"Monday\", \"Monday\", \"Monday\", \"Monday\", \"Monday\", \"Monday\", \"Monday\", \"Monday\", \"Monday\", \"Monday\", \"Monday\", \"Monday\", \"Monday\", \"Monday\", \"Monday\", \"Monday\", \"Monday\", \"Monday\", \"Monday\", \"Monday\", \"Monday\", \"Monday\", \"Monday\", \"Monday\", \"Monday\", \"Monday\", \"Monday\", \"Monday\", \"Monday\", \"Monday\", \"Monday\", \"Monday\", \"Monday\", \"Monday\", \"Monday\", \"Monday\", \"Monday\", \"Monday\", \"Monday\", \"Monday\", \"Monday\", \"Monday\", \"Monday\", \"Monday\", \"Monday\", \"Monday\", \"Monday\", \"Monday\", \"Monday\", \"Monday\", \"Monday\", \"Monday\", \"Monday\", \"Monday\", \"Monday\", \"Monday\", \"Monday\", \"Monday\", \"Monday\", \"Monday\", \"Monday\", \"Monday\", \"Monday\", \"Monday\", \"Monday\", \"Monday\", \"Monday\", \"Monday\", \"Monday\", \"Monday\", \"Monday\", \"Monday\", \"Monday\", \"Monday\", \"Monday\", \"Monday\", \"Monday\", \"Monday\", \"Monday\", \"Monday\", \"Monday\", \"Monday\", \"Monday\", \"Monday\", \"Monday\", \"Monday\", \"Monday\", \"Monday\", \"Monday\", \"Monday\", \"Monday\", \"Monday\", \"Monday\", \"Monday\", \"Monday\", \"Monday\", \"Monday\", \"Monday\", \"Monday\", \"Monday\", \"Monday\", \"Monday\", \"Monday\", \"Monday\", \"Monday\", \"Monday\", \"Monday\", \"Monday\", \"Monday\", \"Monday\", \"Monday\", \"Monday\", \"Monday\", \"Monday\", \"Monday\", \"Monday\", \"Monday\", \"Monday\", \"Monday\", \"Monday\", \"Monday\", \"Monday\", \"Monday\", \"Monday\", \"Monday\", \"Monday\", \"Monday\", \"Monday\", \"Monday\", \"Monday\", \"Monday\", \"Monday\", \"Monday\", \"Monday\", \"Monday\", \"Monday\", \"Monday\", \"Monday\", \"Monday\", \"Monday\", \"Monday\", \"Monday\", \"Monday\", \"Monday\", \"Monday\", \"Monday\", \"Monday\", \"Monday\", \"Monday\", \"Monday\", \"Monday\", \"Monday\", \"Monday\", \"Monday\", \"Monday\", \"Monday\", \"Monday\", \"Monday\", \"Monday\", \"Monday\", \"Monday\", \"Monday\", \"Monday\", \"Monday\", \"Monday\", \"Monday\", \"Monday\", \"Monday\", \"Monday\", \"Monday\", \"Monday\", \"Monday\", \"Monday\", \"Monday\", \"Monday\", \"Monday\", \"Monday\", \"Monday\", \"Monday\", \"Monday\", \"Monday\", \"Monday\", \"Monday\", \"Monday\", \"Monday\", \"Monday\", \"Monday\", \"Monday\", \"Monday\", \"Monday\", \"Monday\", \"Monday\", \"Monday\", \"Monday\", \"Monday\", \"Monday\", \"Monday\", \"Monday\", \"Monday\", \"Monday\", \"Monday\", \"Monday\", \"Monday\", \"Monday\", \"Monday\", \"Monday\", \"Monday\", \"Monday\", \"Monday\", \"Monday\", \"Monday\", \"Monday\", \"Monday\", \"Monday\", \"Monday\", \"Monday\", \"Monday\", \"Monday\", \"Monday\", \"Monday\", \"Monday\", \"Monday\", \"Monday\", \"Monday\", \"Monday\", \"Monday\", \"Monday\", \"Monday\", \"Monday\", \"Monday\", \"Monday\", \"Monday\", \"Monday\", \"Monday\", \"Monday\", \"Monday\", \"Monday\", \"Monday\", \"Monday\", \"Monday\", \"Monday\", \"Monday\", \"Monday\", \"Monday\", \"Monday\", \"Monday\", \"Monday\", \"Monday\", \"Monday\", \"Monday\", \"Monday\", \"Monday\", \"Monday\", \"Monday\", \"Monday\", \"Monday\", \"Monday\", \"Monday\", \"Monday\", \"Monday\", \"Monday\", \"Monday\", \"Monday\", \"Monday\", \"Monday\", \"Monday\", \"Monday\", \"Monday\", \"Monday\", \"Monday\", \"Monday\", \"Monday\", \"Monday\", \"Monday\", \"Monday\", \"Monday\", \"Monday\", \"Monday\", \"Monday\", \"Monday\", \"Monday\", \"Monday\", \"Monday\", \"Monday\", \"Monday\", \"Monday\", \"Monday\", \"Monday\", \"Monday\", \"Monday\", \"Monday\", \"Monday\", \"Monday\", \"Monday\", \"Monday\", \"Monday\", \"Monday\", \"Monday\", \"Monday\", \"Monday\", \"Monday\", \"Monday\", \"Monday\", \"Monday\", \"Monday\", \"Monday\", \"Monday\", \"Monday\", \"Monday\", \"Monday\", \"Monday\", \"Monday\", \"Monday\", \"Monday\", \"Monday\", \"Monday\", \"Monday\", \"Monday\", \"Monday\", \"Monday\", \"Monday\", \"Monday\", \"Monday\", \"Monday\", \"Monday\", \"Monday\", \"Monday\", \"Monday\", \"Monday\", \"Monday\", \"Monday\", \"Monday\", \"Monday\", \"Monday\", \"Monday\", \"Monday\", \"Monday\", \"Monday\", \"Monday\", \"Monday\", \"Monday\", \"Monday\", \"Monday\", \"Monday\", \"Monday\", \"Monday\", \"Monday\", \"Monday\", \"Monday\", \"Monday\", \"Monday\", \"Monday\", \"Monday\", \"Monday\", \"Monday\", \"Monday\", \"Monday\", \"Monday\", \"Monday\", \"Monday\", \"Monday\", \"Monday\", \"Monday\", \"Monday\", \"Monday\", \"Monday\", \"Monday\", \"Monday\", \"Monday\", \"Monday\", \"Monday\", \"Monday\", \"Monday\", \"Monday\", \"Monday\", \"Monday\", \"Monday\", \"Monday\", \"Monday\", \"Monday\", \"Monday\", \"Monday\", \"Monday\", \"Monday\", \"Monday\", \"Monday\", \"Monday\", \"Monday\", \"Monday\", \"Monday\", \"Monday\", \"Monday\", \"Monday\", \"Monday\", \"Monday\", \"Monday\", \"Monday\", \"Monday\", \"Monday\", \"Monday\", \"Monday\", \"Monday\", \"Monday\", \"Monday\", \"Monday\", \"Monday\", \"Monday\", \"Monday\", \"Monday\", \"Monday\", \"Monday\", \"Monday\", \"Monday\", \"Monday\", \"Monday\", \"Monday\", \"Monday\", \"Monday\", \"Monday\", \"Monday\", \"Monday\", \"Monday\", \"Monday\", \"Monday\", \"Monday\", \"Monday\", \"Monday\", \"Monday\", \"Monday\", \"Monday\", \"Monday\", \"Monday\", \"Monday\", \"Monday\", \"Monday\", \"Monday\", \"Monday\", \"Monday\", \"Monday\", \"Monday\", \"Monday\", \"Monday\", \"Monday\", \"Monday\", \"Monday\", \"Monday\", \"Monday\", \"Monday\", \"Monday\", \"Monday\", \"Monday\", \"Monday\", \"Monday\", \"Monday\", \"Monday\", \"Monday\", \"Monday\", \"Monday\", \"Monday\", \"Monday\", \"Monday\", \"Monday\", \"Monday\", \"Monday\", \"Monday\", \"Monday\", \"Monday\", \"Monday\", \"Monday\", \"Monday\", \"Monday\", \"Monday\", \"Monday\", \"Monday\", \"Monday\", \"Monday\", \"Monday\", \"Monday\", \"Monday\", \"Monday\", \"Monday\", \"Monday\", \"Monday\", \"Monday\", \"Monday\", \"Monday\", \"Monday\", \"Monday\", \"Monday\", \"Monday\", \"Monday\", \"Monday\", \"Monday\", \"Monday\", \"Monday\", \"Monday\", \"Monday\", \"Monday\", \"Monday\", \"Monday\", \"Monday\", \"Monday\", \"Monday\", \"Monday\", \"Monday\", \"Monday\", \"Monday\", \"Monday\", \"Monday\", \"Monday\", \"Monday\", \"Monday\", \"Monday\", \"Monday\", \"Monday\", \"Monday\", \"Monday\", \"Monday\", \"Monday\", \"Monday\", \"Monday\", \"Monday\", \"Monday\", \"Monday\", \"Monday\", \"Monday\", \"Monday\", \"Monday\", \"Monday\", \"Monday\", \"Monday\", \"Monday\", \"Monday\", \"Monday\", \"Monday\", \"Monday\", \"Monday\", \"Monday\", \"Monday\", \"Monday\", \"Monday\", \"Monday\", \"Monday\", \"Monday\", \"Monday\", \"Monday\", \"Monday\", \"Monday\", \"Monday\", \"Monday\", \"Monday\", \"Monday\", \"Monday\", \"Monday\", \"Monday\", \"Monday\", \"Monday\", \"Monday\", \"Monday\", \"Monday\", \"Monday\", \"Monday\", \"Monday\", \"Monday\", \"Monday\", \"Monday\", \"Monday\", \"Monday\", \"Monday\", \"Monday\", \"Monday\", \"Monday\", \"Monday\", \"Monday\", \"Monday\", \"Monday\", \"Monday\", \"Monday\", \"Monday\", \"Monday\", \"Monday\", \"Monday\", \"Monday\", \"Monday\", \"Monday\", \"Monday\", \"Monday\", \"Monday\", \"Monday\", \"Monday\", \"Monday\", \"Monday\", \"Monday\", \"Monday\", \"Monday\", \"Monday\", \"Monday\", \"Monday\", \"Monday\", \"Monday\", \"Monday\", \"Monday\", \"Monday\", \"Monday\", \"Monday\", \"Monday\", \"Monday\", \"Monday\", \"Monday\", \"Monday\", \"Monday\", \"Monday\", \"Monday\", \"Monday\", \"Monday\", \"Monday\", \"Monday\", \"Monday\", \"Monday\", \"Monday\", \"Monday\", \"Monday\", \"Monday\", \"Monday\", \"Monday\", \"Monday\", \"Monday\", \"Monday\", \"Monday\", \"Monday\", \"Monday\", \"Monday\", \"Monday\", \"Monday\", \"Monday\", \"Monday\", \"Monday\", \"Monday\", \"Monday\", \"Monday\", \"Monday\", \"Monday\", \"Monday\", \"Monday\", \"Monday\", \"Monday\", \"Monday\", \"Monday\", \"Monday\", \"Monday\", \"Monday\", \"Monday\", \"Monday\", \"Monday\", \"Monday\", \"Monday\", \"Monday\", \"Monday\", \"Monday\", \"Monday\", \"Monday\", \"Monday\", \"Monday\", \"Monday\", \"Monday\", \"Monday\", \"Monday\", \"Monday\", \"Monday\", \"Monday\", \"Monday\", \"Monday\", \"Monday\", \"Monday\", \"Monday\", \"Monday\", \"Monday\", \"Monday\", \"Monday\", \"Monday\", \"Monday\", \"Monday\", \"Monday\", \"Monday\", \"Monday\", \"Monday\", \"Monday\", \"Monday\", \"Monday\", \"Monday\", \"Monday\", \"Monday\", \"Monday\", \"Monday\", \"Monday\", \"Monday\", \"Monday\", \"Monday\", \"Monday\", \"Monday\", \"Monday\", \"Monday\", \"Monday\", \"Monday\", \"Monday\", \"Monday\", \"Monday\", \"Monday\", \"Monday\", \"Monday\", \"Monday\", \"Monday\", \"Monday\", \"Monday\", \"Monday\", \"Monday\", \"Monday\", \"Monday\", \"Monday\", \"Monday\", \"Monday\", \"Monday\", \"Monday\", \"Monday\", \"Monday\", \"Monday\", \"Monday\", \"Monday\", \"Monday\", \"Monday\", \"Monday\", \"Monday\", \"Monday\", \"Monday\", \"Monday\", \"Monday\", \"Monday\", \"Monday\", \"Monday\", \"Monday\", \"Monday\", \"Monday\", \"Monday\", \"Monday\", \"Monday\", \"Monday\", \"Monday\", \"Monday\", \"Monday\", \"Monday\", \"Monday\", \"Monday\", \"Monday\", \"Monday\", \"Monday\", \"Monday\", \"Monday\", \"Monday\", \"Monday\", \"Monday\", \"Monday\", \"Monday\", \"Monday\", \"Monday\", \"Monday\", \"Monday\", \"Monday\", \"Monday\", \"Monday\", \"Monday\", \"Monday\", \"Monday\", \"Monday\", \"Monday\", \"Monday\", \"Monday\", \"Monday\", \"Monday\", \"Monday\", \"Monday\", \"Monday\", \"Monday\", \"Monday\", \"Monday\", \"Monday\", \"Monday\", \"Monday\", \"Monday\", \"Monday\", \"Monday\", \"Monday\", \"Monday\", \"Monday\", \"Monday\", \"Monday\", \"Monday\", \"Monday\", \"Monday\", \"Monday\", \"Monday\", \"Monday\", \"Monday\", \"Monday\", \"Monday\", \"Monday\", \"Monday\", \"Monday\", \"Monday\", \"Monday\", \"Monday\", \"Monday\", \"Monday\", \"Monday\", \"Monday\", \"Monday\", \"Monday\", \"Monday\", \"Monday\", \"Monday\", \"Monday\", \"Monday\", \"Monday\", \"Monday\", \"Monday\", \"Monday\", \"Monday\", \"Monday\", \"Monday\", \"Monday\", \"Monday\", \"Monday\", \"Monday\", \"Monday\", \"Monday\", \"Monday\", \"Monday\", \"Monday\", \"Monday\", \"Monday\", \"Monday\", \"Monday\", \"Monday\", \"Monday\", \"Monday\", \"Monday\", \"Monday\", \"Monday\", \"Monday\", \"Monday\", \"Monday\", \"Monday\", \"Monday\", \"Monday\", \"Monday\", \"Monday\", \"Monday\", \"Monday\", \"Monday\", \"Monday\", \"Monday\", \"Monday\", \"Monday\", \"Monday\", \"Monday\", \"Monday\", \"Monday\", \"Monday\", \"Monday\", \"Monday\", \"Monday\", \"Monday\", \"Monday\", \"Monday\", \"Monday\", \"Monday\", \"Monday\", \"Monday\", \"Monday\", \"Monday\", \"Monday\", \"Monday\", \"Monday\", \"Monday\", \"Monday\", \"Monday\", \"Monday\", \"Monday\", \"Monday\", \"Monday\", \"Monday\", \"Monday\", \"Monday\", \"Monday\", \"Monday\", \"Monday\", \"Monday\", \"Monday\", \"Monday\", \"Monday\", \"Monday\", \"Monday\", \"Monday\", \"Monday\", \"Monday\", \"Monday\", \"Monday\", \"Monday\", \"Monday\", \"Monday\", \"Monday\", \"Monday\", \"Monday\", \"Monday\", \"Monday\", \"Monday\", \"Monday\", \"Monday\", \"Monday\", \"Monday\", \"Monday\", \"Monday\", \"Monday\", \"Monday\", \"Monday\", \"Monday\", \"Monday\", \"Monday\", \"Monday\", \"Monday\", \"Monday\", \"Monday\", \"Monday\", \"Monday\", \"Monday\", \"Monday\", \"Monday\", \"Monday\", \"Monday\", \"Monday\", \"Monday\", \"Monday\", \"Monday\", \"Monday\", \"Monday\", \"Monday\", \"Monday\", \"Monday\", \"Monday\", \"Monday\", \"Monday\", \"Monday\", \"Monday\", \"Monday\", \"Monday\", \"Monday\", \"Monday\", \"Monday\", \"Monday\", \"Monday\", \"Monday\", \"Monday\", \"Monday\", \"Monday\", \"Monday\", \"Monday\", \"Monday\", \"Monday\", \"Monday\", \"Monday\", \"Monday\", \"Monday\", \"Monday\", \"Monday\", \"Monday\", \"Monday\", \"Monday\", \"Monday\", \"Monday\", \"Monday\", \"Monday\", \"Monday\", \"Monday\", \"Monday\", \"Monday\", \"Monday\", \"Monday\", \"Monday\", \"Monday\", \"Monday\", \"Monday\", \"Monday\", \"Monday\", \"Monday\", \"Monday\", \"Monday\", \"Monday\", \"Monday\", \"Monday\", \"Monday\", \"Monday\", \"Monday\", \"Monday\", \"Monday\", \"Monday\", \"Monday\", \"Monday\", \"Monday\", \"Monday\", \"Monday\", \"Monday\", \"Monday\", \"Monday\", \"Monday\", \"Monday\", \"Monday\", \"Monday\", \"Monday\", \"Monday\", \"Monday\", \"Monday\", \"Monday\", \"Monday\", \"Monday\", \"Monday\", \"Monday\", \"Monday\", \"Monday\", \"Monday\", \"Monday\", \"Monday\", \"Monday\", \"Monday\", \"Monday\", \"Monday\", \"Monday\", \"Monday\", \"Monday\", \"Monday\", \"Monday\", \"Monday\", \"Monday\", \"Monday\", \"Monday\", \"Monday\", \"Monday\", \"Monday\", \"Monday\", \"Monday\", \"Monday\", \"Monday\", \"Monday\", \"Monday\", \"Monday\", \"Monday\", \"Monday\", \"Monday\", \"Monday\", \"Monday\", \"Monday\", \"Monday\", \"Monday\", \"Monday\", \"Monday\", \"Monday\", \"Monday\", \"Monday\", \"Monday\", \"Monday\", \"Monday\", \"Monday\", \"Monday\", \"Monday\", \"Monday\", \"Monday\", \"Monday\", \"Monday\", \"Monday\", \"Monday\", \"Monday\", \"Monday\", \"Monday\", \"Monday\", \"Monday\", \"Monday\", \"Monday\", \"Monday\", \"Monday\", \"Monday\", \"Monday\", \"Monday\", \"Monday\", \"Monday\", \"Monday\", \"Monday\", \"Monday\", \"Monday\", \"Monday\", \"Monday\", \"Monday\", \"Monday\", \"Monday\", \"Monday\", \"Monday\", \"Monday\", \"Monday\", \"Monday\", \"Monday\", \"Monday\", \"Monday\", \"Monday\", \"Monday\", \"Monday\", \"Monday\", \"Monday\", \"Monday\", \"Monday\", \"Monday\", \"Monday\", \"Monday\", \"Monday\", \"Monday\", \"Monday\", \"Monday\", \"Monday\", \"Monday\", \"Monday\", \"Monday\", \"Monday\", \"Monday\", \"Monday\", \"Monday\", \"Monday\", \"Monday\", \"Monday\", \"Monday\", \"Monday\", \"Monday\", \"Monday\", \"Monday\", \"Monday\", \"Monday\", \"Monday\", \"Monday\", \"Monday\", \"Monday\", \"Monday\", \"Monday\", \"Monday\", \"Monday\", \"Monday\", \"Monday\", \"Monday\", \"Monday\", \"Monday\", \"Monday\", \"Monday\", \"Monday\", \"Monday\", \"Monday\", \"Monday\", \"Monday\", \"Monday\", \"Monday\", \"Monday\", \"Monday\", \"Monday\", \"Monday\", \"Monday\", \"Monday\", \"Monday\", \"Monday\", \"Monday\", \"Monday\", \"Monday\", \"Monday\", \"Monday\", \"Monday\", \"Monday\", \"Monday\", \"Monday\", \"Monday\", \"Monday\", \"Monday\", \"Monday\", \"Monday\", \"Monday\", \"Monday\", \"Monday\", \"Monday\", \"Monday\", \"Monday\", \"Monday\", \"Monday\", \"Monday\", \"Monday\", \"Monday\", \"Monday\", \"Monday\", \"Monday\", \"Monday\", \"Monday\", \"Monday\", \"Monday\", \"Monday\", \"Monday\", \"Monday\", \"Monday\", \"Monday\", \"Monday\", \"Monday\", \"Monday\", \"Monday\", \"Monday\", \"Monday\", \"Monday\", \"Monday\", \"Monday\", \"Monday\", \"Monday\", \"Monday\", \"Monday\", \"Monday\", \"Monday\", \"Monday\", \"Monday\", \"Monday\", \"Monday\", \"Monday\", \"Monday\", \"Monday\", \"Monday\", \"Monday\", \"Monday\", \"Monday\", \"Monday\", \"Monday\", \"Monday\", \"Monday\", \"Monday\", \"Monday\", \"Monday\", \"Monday\", \"Monday\", \"Monday\", \"Monday\", \"Monday\", \"Monday\", \"Monday\", \"Monday\", \"Monday\", \"Monday\", \"Monday\", \"Monday\", \"Monday\", \"Monday\", \"Monday\", \"Monday\", \"Monday\", \"Monday\", \"Monday\", \"Monday\", \"Monday\", \"Monday\", \"Monday\", \"Monday\", \"Monday\", \"Monday\", \"Monday\", \"Monday\", \"Monday\", \"Monday\", \"Monday\", \"Monday\", \"Monday\", \"Monday\", \"Monday\", \"Monday\", \"Monday\", \"Monday\", \"Monday\", \"Monday\", \"Monday\", \"Monday\", \"Monday\", \"Monday\", \"Monday\", \"Monday\", \"Monday\", \"Monday\", \"Monday\", \"Monday\", \"Monday\", \"Monday\"], \"x0\": \" \", \"xaxis\": \"x\", \"y\": [\"190\", \"193\", \"191\", \"186\", \"185\", \"186\", \"190\", \"195\", \"201\", \"200\", \"222\", \"225\", \"216\", \"207\", \"199\", \"208\", \"217\", \"221\", \"216\", \"211\", \"209\", \"207\", \"208\", \"211\", \"215\", \"219\", \"221\", \"223\", \"232\", \"239\", \"241\", \"240\", \"238\", \"228\", \"232\", \"235\", \"237\", \"238\", \"239\", \"240\", \"240\", \"242\", \"243\", \"244\", \"230\", \"229\", \"230\", \"229\", \"228\", \"228\", \"228\", \"229\", \"229\", \"229\", \"228\", \"228\", \"228\", \"229\", \"229\", \"229\", \"228\", \"227\", \"226\", \"225\", \"223\", \"221\", \"217\", \"215\", \"213\", \"211\", \"209\", \"207\", \"204\", \"201\", \"197\", \"196\", \"193\", \"187\", \"182\", \"179\", \"177\", \"175\", \"174\", \"176\", \"178\", \"176\", \"171\", \"166\", \"162\", \"160\", \"158\", \"145\", \"124\", \"123\", \"119\", \"121\", \"120\", \"119\", \"113\", \"110\", \"104\", \"99\", \"95\", \"91\", \"90\", \"91\", \"95\", \"100\", \"107\", \"110\", \"113\", \"116\", \"116\", \"114\", \"110\", \"110\", \"111\", \"109\", \"106\", \"105\", \"104\", \"103\", \"101\", \"100\", \"98\", \"99\", \"98\", \"97\", \"98\", \"98\", \"107\", \"113\", \"116\", \"120\", \"123\", \"136\", \"145\", \"152\", \"159\", \"162\", \"166\", \"172\", \"182\", \"189\", \"189\", \"191\", \"193\", \"192\", \"188\", \"185\", \"184\", \"183\", \"181\", \"178\", \"173\", \"169\", \"166\", \"162\", \"160\", \"157\", \"154\", \"147\", \"141\", \"137\", \"134\", \"130\", \"127\", \"127\", \"125\", \"121\", \"119\", \"117\", \"114\", \"109\", \"109\", \"107\", \"107\", \"108\", \"109\", \"95\", \"83\", \"82\", \"79\", \"82\", \"83\", \"84\", \"84\", \"83\", \"87\", \"98\", \"105\", \"113\", \"119\", \"114\", \"122\", \"132\", \"140\", \"152\", \"166\", \"170\", \"176\", \"186\", \"195\", \"197\", \"203\", \"209\", \"212\", \"217\", \"223\", \"208\", \"210\", \"216\", \"236\", \"258\", \"266\", \"260\", \"265\", \"260\", \"246\", \"229\", \"227\", \"223\", \"214\", \"206\", \"201\", \"192\", \"188\", \"179\", \"175\", \"170\", \"161\", \"146\", \"137\", \"133\", \"139\", \"139\", \"134\", \"127\", \"114\", \"116\", \"123\", \"142\", \"153\", \"155\", \"164\", \"173\", \"173\", \"158\", \"147\", \"140\", \"138\", \"132\", \"120\", \"112\", \"115\", \"110\", \"104\", \"100\", \"97\", \"90\", \"83\", \"84\", \"83\", \"78\", \"83\", \"82\", \"90\", \"90\", \"88\", \"83\", \"83\", \"82\", \"84\", \"92\", \"79\", \"80\", \"83\", \"95\", \"117\", \"127\", \"133\", \"143\", \"151\", \"157\", \"157\", \"155\", \"149\", \"143\", \"177\", \"172\", \"180\", \"190\", \"193\", \"191\", \"188\", \"183\", \"183\", \"184\", \"188\", \"194\", \"191\", \"187\", \"184\", \"180\", \"174\", \"170\", \"165\", \"167\", \"162\", \"158\", \"153\", \"148\", \"146\", \"146\", \"149\", \"152\", \"157\", \"161\", \"165\", \"170\", \"172\", \"173\", \"174\", \"173\", \"173\", \"173\", \"171\", \"169\", \"168\", \"166\", \"164\", \"164\", \"162\", \"160\", \"157\", \"156\", \"154\", \"153\", \"153\", \"154\", \"155\", \"155\", \"154\", \"153\", \"148\", \"149\", \"148\", \"149\", \"149\", \"149\", \"149\", \"149\", \"147\", \"147\", \"146\", \"148\", \"117\", \"129\", \"116\", \"118\", \"119\", \"125\", \"151\", \"156\", \"158\", \"157\", \"156\", \"154\", \"155\", \"157\", \"157\", \"155\", \"154\", \"151\", \"151\", \"156\", \"151\", \"150\", \"150\", \"149\", \"144\", \"138\", \"134\", \"131\", \"131\", \"132\", \"132\", \"131\", \"135\", \"131\", \"128\", \"127\", \"127\", \"127\", \"128\", \"130\", \"130\", \"133\", \"124\", \"125\", \"131\", \"135\", \"142\", \"148\", \"147\", \"149\", \"151\", \"150\", \"152\", \"151\", \"153\", \"154\", \"154\", \"155\", \"156\", \"157\", \"157\", \"156\", \"157\", \"159\", \"157\", \"161\", \"169\", \"170\", \"164\", \"161\", \"166\", \"145\", \"165\", \"172\", \"179\", \"187\", \"197\", \"208\", \"200\", \"195\", \"185\", \"183\", \"176\", \"183\", \"185\", \"182\", \"180\", \"174\", \"168\", \"165\", \"162\", \"156\", \"145\", \"131\", \"121\", \"109\", \"92\", \"86\", \"85\", \"69\", \"70\", \"76\", \"83\", \"86\", \"79\", \"74\", \"70\", \"69\", \"68\", \"66\", \"71\", \"75\", \"75\", \"74\", \"75\", \"76\", \"79\", \"77\", \"69\", \"65\", \"63\", \"65\", \"69\", \"74\", \"76\", \"81\", \"81\", \"84\", \"81\", \"81\", \"84\", \"85\", \"81\", \"76\", \"72\", \"70\", \"69\", \"74\", \"81\", \"88\", \"88\", \"85\", \"83\", \"78\", \"72\", \"66\", \"65\", \"68\", \"84\", \"97\", \"103\", \"104\", \"103\", \"103\", \"98\", \"94\", \"88\", \"87\", \"86\", \"83\", \"82\", \"84\", \"90\", \"94\", \"102\", \"114\", \"126\", \"141\", \"152\", \"156\", \"166\", \"174\", \"174\", \"183\", \"191\", \"192\", \"190\", \"189\", \"187\", \"185\", \"183\", \"180\", \"176\", \"174\", \"175\", \"178\", \"175\", \"172\", \"169\", \"163\", \"162\", \"160\", \"159\", \"150\", \"144\", \"140\", \"137\", \"135\", \"134\", \"135\", \"137\", \"138\", \"138\", \"138\", \"136\", \"134\", \"125\", \"119\", \"116\", \"113\", \"110\", \"109\", \"108\", \"100\", \"97\", \"94\", \"85\", \"77\", \"76\", \"71\", \"158\", \"168\", \"168\", \"164\", \"158\", \"154\", \"151\", \"149\", \"147\", \"146\", \"146\", \"149\", \"154\", \"146\", \"151\", \"158\", \"170\", \"180\", \"182\", \"188\", \"202\", \"197\", \"189\", \"183\", \"182\", \"179\", \"178\", \"186\", \"173\", \"233\", \"214\", \"217\", \"221\", \"221\", \"215\", \"219\", \"214\", \"195\", \"174\", \"156\", \"150\", \"154\", \"159\", \"167\", \"167\", \"175\", \"176\", \"176\", \"177\", \"188\", \"193\", \"207\", \"215\", \"212\", \"208\", \"206\", \"203\", \"202\", \"200\", \"224\", \"222\", \"223\", \"214\", \"184\", \"149\", \"139\", \"149\", \"155\", \"159\", \"167\", \"193\", \"178\", \"186\", \"192\", \"151\", \"112\", \"95\", \"109\", \"123\", \"135\", \"160\", \"176\", \"191\", \"196\", \"187\", \"184\", \"189\", \"187\", \"188\", \"188\", \"183\", \"181\", \"178\", \"176\", \"175\", \"177\", \"172\", \"164\", \"155\", \"158\", \"151\", \"147\", \"153\", \"158\", \"155\", \"150\", \"147\", \"146\", \"146\", \"147\", \"147\", \"149\", \"150\", \"152\", \"153\", \"165\", \"170\", \"173\", \"173\", \"165\", \"185\", \"197\", \"204\", \"208\", \"210\", \"212\", \"202\", \"199\", \"195\", \"193\", \"195\", \"189\", \"187\", \"202\", \"193\", \"188\", \"184\", \"180\", \"174\", \"162\", \"117\", \"153\", \"157\", \"157\", \"151\", \"142\", \"136\", \"135\", \"139\", \"134\", \"126\", \"121\", \"119\", \"114\", \"118\", \"117\", \"117\", \"118\", \"118\", \"119\", \"117\", \"116\", \"116\", \"113\", \"114\", \"117\", \"121\", \"129\", \"133\", \"144\", \"155\", \"165\", \"175\", \"186\", \"191\", \"195\", \"198\", \"201\", \"200\", \"203\", \"195\", \"192\", \"180\", \"169\", \"148\", \"144\", \"142\", \"140\", \"133\", \"124\", \"118\", \"110\", \"104\", \"95\", \"84\", \"74\", \"68\", \"68\", \"77\", \"89\", \"103\", \"114\", \"117\", \"117\", \"116\", \"121\", \"129\", \"126\", \"132\", \"136\", \"140\", \"142\", \"136\", \"126\", \"114\", \"105\", \"92\", \"84\", \"77\", \"73\", \"69\", \"66\", \"65\", \"69\", \"76\", \"85\", \"90\", \"88\", \"84\", \"84\", \"87\", \"93\", \"99\", \"106\", \"107\", \"107\", \"105\", \"103\", \"100\", \"93\", \"88\", \"96\", \"110\", \"116\", \"117\", \"117\", \"119\", \"123\", \"123\", \"122\", \"124\", \"131\", \"132\", \"131\", \"130\", \"128\", \"129\", \"129\", \"129\", \"131\", \"133\", \"129\", \"129\", \"135\", \"141\", \"144\", \"136\", \"128\", \"124\", \"129\", \"133\", \"131\", \"124\", \"114\", \"171\", \"166\", \"179\", \"185\", \"169\", \"166\", \"176\", \"161\", \"148\", \"145\", \"140\", \"151\", \"153\", \"143\", \"141\", \"149\", \"166\", \"176\", \"179\", \"179\", \"157\", \"135\", \"125\", \"122\", \"122\", \"122\", \"122\", \"122\", \"123\", \"124\", \"128\", \"132\", \"136\", \"139\", \"139\", \"140\", \"148\", \"150\", \"149\", \"145\", \"142\", \"140\", \"137\", \"134\", \"132\", \"132\", \"133\", \"132\", \"134\", \"135\", \"132\", \"123\", \"116\", \"113\", \"113\", \"114\", \"122\", \"128\", \"131\", \"133\", \"133\", \"131\", \"126\", \"125\", \"126\", \"123\", \"121\", \"119\", \"118\", \"121\", \"126\", \"127\", \"128\", \"128\", \"123\", \"119\", \"116\", \"114\", \"114\", \"114\", \"114\", \"114\", \"113\", \"117\", \"122\", \"122\", \"111\", \"115\", \"116\", \"115\", \"113\", \"109\", \"106\", \"103\", \"100\", \"98\", \"96\", \"94\", \"93\", \"97\", \"97\", \"97\", \"97\", \"97\", \"93\", \"93\", \"97\", \"99\", \"101\", \"101\", \"89\", \"93\", \"106\", \"112\", \"109\", \"109\", \"112\", \"113\", \"112\", \"111\", \"111\", \"112\", \"114\", \"113\", \"115\", \"120\", \"125\", \"133\", \"132\", \"133\", \"132\", \"129\", \"124\", \"125\", \"127\", \"128\", \"126\", \"127\", \"124\", \"129\", \"135\", \"147\", \"166\", \"176\", \"183\", \"184\", \"182\", \"187\", \"210\", \"238\", \"253\", \"264\", \"270\", \"280\", \"276\", \"277\", \"263\", \"261\", \"253\", \"257\", \"256\", \"242\", \"233\", \"214\", \"207\", \"206\", \"197\", \"187\", \"185\", \"186\", \"177\", \"169\", \"163\", \"161\", \"160\", \"151\", \"147\", \"141\", \"135\", \"124\", \"112\", \"100\", \"93\", \"84\", \"78\", \"72\", \"67\", \"64\", \"60\", \"69\", \"80\", \"92\", \"101\", \"109\", \"120\", \"122\", \"123\", \"122\", \"126\", \"132\", \"136\", \"143\", \"148\", \"157\", \"162\", \"169\", \"179\", \"179\", \"187\", \"189\", \"187\", \"177\", \"174\", \"178\", \"183\", \"180\", \"180\", \"166\", \"159\", \"155\", \"152\", \"146\", \"152\", \"150\", \"141\", \"133\", \"130\", \"125\", \"117\", \"114\", \"115\", \"111\", \"107\", \"102\", \"99\", \"95\", \"88\", \"82\", \"77\", \"71\", \"65\", \"63\", \"66\", \"74\", \"85\", \"99\", \"106\", \"117\", \"122\", \"124\", \"131\", \"138\", \"137\", \"150\", \"148\", \"153\", \"149\", \"137\", \"131\", \"118\", \"108\", \"103\", \"99\", \"94\", \"95\", \"93\", \"85\", \"82\", \"83\", \"79\", \"80\", \"77\", \"75\", \"74\", \"75\", \"79\", \"85\", \"89\", \"93\", \"99\", \"101\", \"101\", \"101\", \"99\", \"97\", \"93\", \"88\", \"85\", \"258\", \"265\", \"274\", \"269\", \"276\", \"277\", \"284\", \"284\", \"286\", \"280\", \"275\", \"265\", \"264\", \"255\", \"254\", \"255\", \"257\", \"266\", \"267\", \"265\", \"260\", \"253\", \"237\", \"221\", \"207\", \"182\", \"166\", \"152\", \"149\", \"145\", \"149\", \"150\", \"148\", \"141\", \"136\", \"130\", \"125\", \"119\", \"114\", \"107\", \"99\", \"95\", \"88\", \"82\", \"76\", \"70\", \"65\", \"60\", \"62\", \"59\", \"57\", \"51\", \"40\", \"Low\", \"Low\", \"46\", \"55\", \"55\", \"Low\", \"46\", \"60\", \"56\", \"70\", \"77\", \"100\", \"118\", \"120\", \"121\", \"124\", \"129\", \"135\", \"138\", \"137\", \"136\", \"134\", \"131\", \"130\", \"127\", \"122\", \"119\", \"117\", \"106\", \"116\", \"115\", \"116\", \"125\", \"119\", \"117\", \"115\", \"114\", \"113\", \"109\", \"105\", \"110\", \"108\", \"111\", \"110\", \"106\", \"104\", \"106\", \"108\", \"111\", \"111\", \"110\", \"112\", \"114\", \"117\", \"120\", \"123\", \"127\", \"129\", \"133\", \"140\", \"144\", \"151\", \"154\", \"157\", \"160\", \"165\", \"173\", \"180\", \"185\", \"187\", \"188\", \"188\", \"191\", \"205\", \"205\", \"193\", \"170\", \"172\", \"175\", \"181\", \"175\", \"170\", \"170\", \"173\", \"178\", \"177\", \"173\", \"167\", \"160\", \"162\", \"163\", \"166\", \"175\", \"168\", \"164\", \"165\", \"161\", \"171\", \"164\", \"166\", \"171\", \"184\", \"183\", \"179\", \"172\", \"175\", \"181\", \"198\", \"202\", \"195\", \"182\", \"179\", \"190\", \"187\", \"184\", \"179\", \"170\", \"156\", \"155\", \"154\", \"154\", \"152\", \"158\", \"156\", \"153\", \"149\", \"150\", \"149\", \"145\", \"144\", \"143\", \"140\", \"139\", \"139\", \"138\", \"139\", \"139\", \"140\", \"134\", \"136\", \"134\", \"132\", \"133\", \"139\", \"145\", \"146\", \"156\", \"166\", \"184\", \"191\", \"186\", \"184\", \"187\", \"184\", \"187\", \"188\", \"192\", \"196\", \"187\", \"182\", \"178\", \"179\", \"179\", \"171\", \"164\", \"165\", \"164\", \"163\", \"159\", \"157\", \"155\", \"152\", \"145\", \"142\", \"138\", \"134\", \"131\", \"128\", \"123\", \"112\", \"109\", \"105\", \"101\", \"91\", \"84\", \"82\", \"84\", \"92\", \"96\", \"104\", \"103\", \"98\", \"103\", \"106\", \"102\", \"107\", \"113\", \"118\", \"114\", \"114\", \"118\", \"116\", \"118\", \"124\", \"127\", \"137\", \"155\", \"169\", \"174\", \"164\", \"156\", \"153\", \"155\", \"156\", \"149\", \"153\", \"138\", \"118\", \"122\", \"110\", \"113\", \"104\", \"110\", \"108\", \"105\", \"97\", \"92\", \"89\", \"86\", \"82\", \"77\", \"73\", \"71\", \"67\", \"66\", \"114\", \"113\", \"111\", \"119\", \"118\", \"135\", \"143\", \"149\", \"154\", \"150\", \"149\", \"147\", \"151\", \"166\", \"143\", \"129\", \"126\", \"121\", \"118\", \"124\", \"104\", \"100\", \"104\", \"100\", \"92\", \"81\", \"49\", \"45\", \"53\", \"70\", \"90\", \"100\", \"106\", \"111\", \"118\", \"121\", \"122\", \"130\", \"136\", \"144\", \"152\", \"150\", \"153\", \"157\", \"154\", \"154\", \"155\", \"154\", \"148\", \"139\", \"129\", \"123\", \"119\", \"116\", \"106\", \"100\", \"93\", \"88\", \"87\", \"93\", \"97\", \"94\", \"93\", \"98\", \"100\", \"98\", \"90\", \"94\", \"96\", \"93\", \"86\", \"75\", \"67\", \"71\", \"64\", \"71\", \"85\", \"99\", \"105\", \"110\", \"114\", \"117\", \"116\", \"116\", \"115\", \"114\", \"120\", \"128\", \"142\", \"143\", \"151\", \"160\", \"163\", \"158\", \"153\", \"147\", \"137\", \"129\", \"129\", \"132\", \"126\", \"130\", \"138\", \"144\", \"151\", \"154\", \"156\", \"161\", \"152\", \"160\", \"163\", \"163\", \"162\", \"161\", \"171\", \"166\", \"164\", \"160\", \"159\", \"157\", \"156\", \"154\", \"150\", \"145\", \"143\", \"141\", \"141\", \"133\", \"130\", \"126\", \"122\", \"119\", \"115\", \"111\", \"113\", \"112\", \"108\", \"111\", \"112\", \"117\", \"122\", \"130\", \"136\", \"140\", \"142\", \"142\", \"141\", \"139\", \"139\", \"138\", \"138\", \"139\", \"142\", \"144\", \"146\", \"146\", \"147\", \"147\", \"147\", \"147\", \"146\", \"145\", \"144\", \"142\", \"142\", \"144\", \"145\", \"145\", \"144\", \"144\", \"144\", \"144\", \"144\", \"145\", \"145\", \"146\", \"145\", \"145\", \"144\", \"144\", \"145\", \"144\", \"143\", \"144\", \"145\", \"145\", \"144\", \"141\", \"141\", \"141\", \"141\", \"144\", \"145\", \"144\", \"142\", \"134\", \"131\", \"130\", \"136\", \"132\", \"131\", \"126\", \"124\", \"122\", \"121\", \"118\", \"117\", \"117\", \"117\", \"117\", \"116\", \"116\", \"115\", \"118\", \"117\", \"119\", \"116\", \"116\", \"112\", \"114\", \"118\", \"126\", \"132\", \"130\", \"129\", \"129\", \"130\", \"126\", \"122\", \"124\", \"124\", \"124\", \"125\", \"125\", \"125\", \"128\", \"131\", \"133\", \"138\", \"133\", \"120\", \"107\", \"113\", \"108\", \"113\", \"110\", \"114\", \"118\", \"127\", \"134\", \"135\", \"141\", \"148\", \"157\", \"161\", \"163\", \"160\", \"162\", \"173\", \"174\", \"171\", \"163\", \"160\", \"154\", \"142\", \"143\", \"134\", \"130\", \"123\", \"116\", \"109\", \"103\", \"99\", \"93\", \"92\", \"89\", \"89\", \"86\", \"85\", \"86\", \"89\", \"92\", \"89\", \"87\", \"87\", \"88\", \"87\", \"92\", \"87\", \"87\", \"87\", \"84\", \"84\", \"86\", \"84\", \"82\", \"86\", \"87\", \"91\", \"92\", \"102\", \"110\", \"116\", \"123\", \"127\", \"142\", \"159\", \"152\", \"154\", \"161\", \"164\", \"173\", \"174\", \"177\", \"177\", \"185\", \"195\", \"186\", \"176\", \"173\", \"170\", \"170\", \"168\", \"169\", \"167\", \"162\", \"158\", \"152\", \"148\", \"152\", \"143\", \"148\", \"149\", \"149\", \"146\", \"143\", \"142\", \"139\", \"141\", \"141\", \"140\", \"138\", \"136\", \"134\", \"136\", \"136\", \"136\", \"134\", \"136\", \"134\", \"134\", \"137\", \"136\", \"133\", \"135\", \"133\", \"133\", \"130\", \"130\", \"124\", \"120\", \"119\", \"118\", \"118\", \"121\", \"119\", \"114\", \"117\", \"115\", \"113\", \"108\", \"103\", \"100\", \"93\", \"84\", \"82\", \"83\", \"88\", \"95\", \"99\", \"101\", \"99\", \"93\", \"107\", \"105\", \"107\", \"109\", \"112\", \"122\", \"124\", \"118\", \"122\", \"121\", \"125\", \"129\", \"131\"], \"y0\": \" \", \"yaxis\": \"y\"}, {\"alignmentgroup\": \"True\", \"boxpoints\": \"all\", \"hoverlabel\": {\"namelength\": 0}, \"hovertemplate\": \"Day=%{x}<br>Glucose Value (mg/dL)=%{y}\", \"legendgroup\": \"Day=Tuesday\", \"marker\": {\"color\": \"#00cc96\"}, \"name\": \"Day=Tuesday\", \"notched\": false, \"offsetgroup\": \"Day=Tuesday\", \"orientation\": \"v\", \"showlegend\": true, \"type\": \"box\", \"x\": [\"Tuesday\", \"Tuesday\", \"Tuesday\", \"Tuesday\", \"Tuesday\", \"Tuesday\", \"Tuesday\", \"Tuesday\", \"Tuesday\", \"Tuesday\", \"Tuesday\", \"Tuesday\", \"Tuesday\", \"Tuesday\", \"Tuesday\", \"Tuesday\", \"Tuesday\", \"Tuesday\", \"Tuesday\", \"Tuesday\", \"Tuesday\", \"Tuesday\", \"Tuesday\", \"Tuesday\", \"Tuesday\", \"Tuesday\", \"Tuesday\", \"Tuesday\", \"Tuesday\", \"Tuesday\", \"Tuesday\", \"Tuesday\", \"Tuesday\", \"Tuesday\", \"Tuesday\", \"Tuesday\", \"Tuesday\", \"Tuesday\", \"Tuesday\", \"Tuesday\", \"Tuesday\", \"Tuesday\", \"Tuesday\", \"Tuesday\", \"Tuesday\", \"Tuesday\", \"Tuesday\", \"Tuesday\", \"Tuesday\", \"Tuesday\", \"Tuesday\", \"Tuesday\", \"Tuesday\", \"Tuesday\", \"Tuesday\", \"Tuesday\", \"Tuesday\", \"Tuesday\", \"Tuesday\", \"Tuesday\", \"Tuesday\", \"Tuesday\", \"Tuesday\", \"Tuesday\", \"Tuesday\", \"Tuesday\", \"Tuesday\", \"Tuesday\", \"Tuesday\", \"Tuesday\", \"Tuesday\", \"Tuesday\", \"Tuesday\", \"Tuesday\", \"Tuesday\", \"Tuesday\", \"Tuesday\", \"Tuesday\", \"Tuesday\", \"Tuesday\", \"Tuesday\", \"Tuesday\", \"Tuesday\", \"Tuesday\", \"Tuesday\", \"Tuesday\", \"Tuesday\", \"Tuesday\", \"Tuesday\", \"Tuesday\", \"Tuesday\", \"Tuesday\", \"Tuesday\", \"Tuesday\", \"Tuesday\", \"Tuesday\", \"Tuesday\", \"Tuesday\", \"Tuesday\", \"Tuesday\", \"Tuesday\", \"Tuesday\", \"Tuesday\", \"Tuesday\", \"Tuesday\", \"Tuesday\", \"Tuesday\", \"Tuesday\", \"Tuesday\", \"Tuesday\", \"Tuesday\", \"Tuesday\", \"Tuesday\", \"Tuesday\", \"Tuesday\", \"Tuesday\", \"Tuesday\", \"Tuesday\", \"Tuesday\", \"Tuesday\", \"Tuesday\", \"Tuesday\", \"Tuesday\", \"Tuesday\", \"Tuesday\", \"Tuesday\", \"Tuesday\", \"Tuesday\", \"Tuesday\", \"Tuesday\", \"Tuesday\", \"Tuesday\", \"Tuesday\", \"Tuesday\", \"Tuesday\", \"Tuesday\", \"Tuesday\", \"Tuesday\", \"Tuesday\", \"Tuesday\", \"Tuesday\", \"Tuesday\", \"Tuesday\", \"Tuesday\", \"Tuesday\", \"Tuesday\", \"Tuesday\", \"Tuesday\", \"Tuesday\", \"Tuesday\", \"Tuesday\", \"Tuesday\", \"Tuesday\", \"Tuesday\", \"Tuesday\", \"Tuesday\", \"Tuesday\", \"Tuesday\", \"Tuesday\", \"Tuesday\", \"Tuesday\", \"Tuesday\", \"Tuesday\", \"Tuesday\", \"Tuesday\", \"Tuesday\", \"Tuesday\", \"Tuesday\", \"Tuesday\", \"Tuesday\", \"Tuesday\", \"Tuesday\", \"Tuesday\", \"Tuesday\", \"Tuesday\", \"Tuesday\", \"Tuesday\", \"Tuesday\", \"Tuesday\", \"Tuesday\", \"Tuesday\", \"Tuesday\", \"Tuesday\", \"Tuesday\", \"Tuesday\", \"Tuesday\", \"Tuesday\", \"Tuesday\", \"Tuesday\", \"Tuesday\", \"Tuesday\", \"Tuesday\", \"Tuesday\", \"Tuesday\", \"Tuesday\", \"Tuesday\", \"Tuesday\", \"Tuesday\", \"Tuesday\", \"Tuesday\", \"Tuesday\", \"Tuesday\", \"Tuesday\", \"Tuesday\", \"Tuesday\", \"Tuesday\", \"Tuesday\", \"Tuesday\", \"Tuesday\", \"Tuesday\", \"Tuesday\", \"Tuesday\", \"Tuesday\", \"Tuesday\", \"Tuesday\", \"Tuesday\", \"Tuesday\", \"Tuesday\", \"Tuesday\", \"Tuesday\", \"Tuesday\", \"Tuesday\", \"Tuesday\", \"Tuesday\", \"Tuesday\", \"Tuesday\", \"Tuesday\", \"Tuesday\", \"Tuesday\", \"Tuesday\", \"Tuesday\", \"Tuesday\", \"Tuesday\", \"Tuesday\", \"Tuesday\", \"Tuesday\", \"Tuesday\", \"Tuesday\", \"Tuesday\", \"Tuesday\", \"Tuesday\", \"Tuesday\", \"Tuesday\", \"Tuesday\", \"Tuesday\", \"Tuesday\", \"Tuesday\", \"Tuesday\", \"Tuesday\", \"Tuesday\", \"Tuesday\", \"Tuesday\", \"Tuesday\", \"Tuesday\", \"Tuesday\", \"Tuesday\", \"Tuesday\", \"Tuesday\", \"Tuesday\", \"Tuesday\", \"Tuesday\", \"Tuesday\", \"Tuesday\", \"Tuesday\", \"Tuesday\", \"Tuesday\", \"Tuesday\", \"Tuesday\", \"Tuesday\", \"Tuesday\", \"Tuesday\", \"Tuesday\", \"Tuesday\", \"Tuesday\", \"Tuesday\", \"Tuesday\", \"Tuesday\", \"Tuesday\", \"Tuesday\", \"Tuesday\", \"Tuesday\", \"Tuesday\", \"Tuesday\", \"Tuesday\", \"Tuesday\", \"Tuesday\", \"Tuesday\", \"Tuesday\", \"Tuesday\", \"Tuesday\", \"Tuesday\", \"Tuesday\", \"Tuesday\", \"Tuesday\", \"Tuesday\", \"Tuesday\", \"Tuesday\", \"Tuesday\", \"Tuesday\", \"Tuesday\", \"Tuesday\", \"Tuesday\", \"Tuesday\", \"Tuesday\", \"Tuesday\", \"Tuesday\", \"Tuesday\", \"Tuesday\", \"Tuesday\", \"Tuesday\", \"Tuesday\", \"Tuesday\", \"Tuesday\", \"Tuesday\", \"Tuesday\", \"Tuesday\", \"Tuesday\", \"Tuesday\", \"Tuesday\", \"Tuesday\", \"Tuesday\", \"Tuesday\", \"Tuesday\", \"Tuesday\", \"Tuesday\", \"Tuesday\", \"Tuesday\", \"Tuesday\", \"Tuesday\", \"Tuesday\", \"Tuesday\", \"Tuesday\", \"Tuesday\", \"Tuesday\", \"Tuesday\", \"Tuesday\", \"Tuesday\", \"Tuesday\", \"Tuesday\", \"Tuesday\", \"Tuesday\", \"Tuesday\", \"Tuesday\", \"Tuesday\", \"Tuesday\", \"Tuesday\", \"Tuesday\", \"Tuesday\", \"Tuesday\", \"Tuesday\", \"Tuesday\", \"Tuesday\", \"Tuesday\", \"Tuesday\", \"Tuesday\", \"Tuesday\", \"Tuesday\", \"Tuesday\", \"Tuesday\", \"Tuesday\", \"Tuesday\", \"Tuesday\", \"Tuesday\", \"Tuesday\", \"Tuesday\", \"Tuesday\", \"Tuesday\", \"Tuesday\", \"Tuesday\", \"Tuesday\", \"Tuesday\", \"Tuesday\", \"Tuesday\", \"Tuesday\", \"Tuesday\", \"Tuesday\", \"Tuesday\", \"Tuesday\", \"Tuesday\", \"Tuesday\", \"Tuesday\", \"Tuesday\", \"Tuesday\", \"Tuesday\", \"Tuesday\", \"Tuesday\", \"Tuesday\", \"Tuesday\", \"Tuesday\", \"Tuesday\", \"Tuesday\", \"Tuesday\", \"Tuesday\", \"Tuesday\", \"Tuesday\", \"Tuesday\", \"Tuesday\", \"Tuesday\", \"Tuesday\", \"Tuesday\", \"Tuesday\", \"Tuesday\", \"Tuesday\", \"Tuesday\", \"Tuesday\", \"Tuesday\", \"Tuesday\", \"Tuesday\", \"Tuesday\", \"Tuesday\", \"Tuesday\", \"Tuesday\", \"Tuesday\", \"Tuesday\", \"Tuesday\", \"Tuesday\", \"Tuesday\", \"Tuesday\", \"Tuesday\", \"Tuesday\", \"Tuesday\", \"Tuesday\", \"Tuesday\", \"Tuesday\", \"Tuesday\", \"Tuesday\", \"Tuesday\", \"Tuesday\", \"Tuesday\", \"Tuesday\", \"Tuesday\", \"Tuesday\", \"Tuesday\", \"Tuesday\", \"Tuesday\", \"Tuesday\", \"Tuesday\", \"Tuesday\", \"Tuesday\", \"Tuesday\", \"Tuesday\", \"Tuesday\", \"Tuesday\", \"Tuesday\", \"Tuesday\", \"Tuesday\", \"Tuesday\", \"Tuesday\", \"Tuesday\", \"Tuesday\", \"Tuesday\", \"Tuesday\", \"Tuesday\", \"Tuesday\", \"Tuesday\", \"Tuesday\", \"Tuesday\", \"Tuesday\", \"Tuesday\", \"Tuesday\", \"Tuesday\", \"Tuesday\", \"Tuesday\", \"Tuesday\", \"Tuesday\", \"Tuesday\", \"Tuesday\", \"Tuesday\", \"Tuesday\", \"Tuesday\", \"Tuesday\", \"Tuesday\", \"Tuesday\", \"Tuesday\", \"Tuesday\", \"Tuesday\", \"Tuesday\", \"Tuesday\", \"Tuesday\", \"Tuesday\", \"Tuesday\", \"Tuesday\", \"Tuesday\", \"Tuesday\", \"Tuesday\", \"Tuesday\", \"Tuesday\", \"Tuesday\", \"Tuesday\", \"Tuesday\", \"Tuesday\", \"Tuesday\", \"Tuesday\", \"Tuesday\", \"Tuesday\", \"Tuesday\", \"Tuesday\", \"Tuesday\", \"Tuesday\", \"Tuesday\", \"Tuesday\", \"Tuesday\", \"Tuesday\", \"Tuesday\", \"Tuesday\", \"Tuesday\", \"Tuesday\", \"Tuesday\", \"Tuesday\", \"Tuesday\", \"Tuesday\", \"Tuesday\", \"Tuesday\", \"Tuesday\", \"Tuesday\", \"Tuesday\", \"Tuesday\", \"Tuesday\", \"Tuesday\", \"Tuesday\", \"Tuesday\", \"Tuesday\", \"Tuesday\", \"Tuesday\", \"Tuesday\", \"Tuesday\", \"Tuesday\", \"Tuesday\", \"Tuesday\", \"Tuesday\", \"Tuesday\", \"Tuesday\", \"Tuesday\", \"Tuesday\", \"Tuesday\", \"Tuesday\", \"Tuesday\", \"Tuesday\", \"Tuesday\", \"Tuesday\", \"Tuesday\", \"Tuesday\", \"Tuesday\", \"Tuesday\", \"Tuesday\", \"Tuesday\", \"Tuesday\", \"Tuesday\", \"Tuesday\", \"Tuesday\", \"Tuesday\", \"Tuesday\", \"Tuesday\", \"Tuesday\", \"Tuesday\", \"Tuesday\", \"Tuesday\", \"Tuesday\", \"Tuesday\", \"Tuesday\", \"Tuesday\", \"Tuesday\", \"Tuesday\", \"Tuesday\", \"Tuesday\", \"Tuesday\", \"Tuesday\", \"Tuesday\", \"Tuesday\", \"Tuesday\", \"Tuesday\", \"Tuesday\", \"Tuesday\", \"Tuesday\", \"Tuesday\", \"Tuesday\", \"Tuesday\", \"Tuesday\", \"Tuesday\", \"Tuesday\", \"Tuesday\", \"Tuesday\", \"Tuesday\", \"Tuesday\", \"Tuesday\", \"Tuesday\", \"Tuesday\", \"Tuesday\", \"Tuesday\", \"Tuesday\", \"Tuesday\", \"Tuesday\", \"Tuesday\", \"Tuesday\", \"Tuesday\", \"Tuesday\", \"Tuesday\", \"Tuesday\", \"Tuesday\", \"Tuesday\", \"Tuesday\", \"Tuesday\", \"Tuesday\", \"Tuesday\", \"Tuesday\", \"Tuesday\", \"Tuesday\", \"Tuesday\", \"Tuesday\", \"Tuesday\", \"Tuesday\", \"Tuesday\", \"Tuesday\", \"Tuesday\", \"Tuesday\", \"Tuesday\", \"Tuesday\", \"Tuesday\", \"Tuesday\", \"Tuesday\", \"Tuesday\", \"Tuesday\", \"Tuesday\", \"Tuesday\", \"Tuesday\", \"Tuesday\", \"Tuesday\", \"Tuesday\", \"Tuesday\", \"Tuesday\", \"Tuesday\", \"Tuesday\", \"Tuesday\", \"Tuesday\", \"Tuesday\", \"Tuesday\", \"Tuesday\", \"Tuesday\", \"Tuesday\", \"Tuesday\", \"Tuesday\", \"Tuesday\", \"Tuesday\", \"Tuesday\", \"Tuesday\", \"Tuesday\", \"Tuesday\", \"Tuesday\", \"Tuesday\", \"Tuesday\", \"Tuesday\", \"Tuesday\", \"Tuesday\", \"Tuesday\", \"Tuesday\", \"Tuesday\", \"Tuesday\", \"Tuesday\", \"Tuesday\", \"Tuesday\", \"Tuesday\", \"Tuesday\", \"Tuesday\", \"Tuesday\", \"Tuesday\", \"Tuesday\", \"Tuesday\", \"Tuesday\", \"Tuesday\", \"Tuesday\", \"Tuesday\", \"Tuesday\", \"Tuesday\", \"Tuesday\", \"Tuesday\", \"Tuesday\", \"Tuesday\", \"Tuesday\", \"Tuesday\", \"Tuesday\", \"Tuesday\", \"Tuesday\", \"Tuesday\", \"Tuesday\", \"Tuesday\", \"Tuesday\", \"Tuesday\", \"Tuesday\", \"Tuesday\", \"Tuesday\", \"Tuesday\", \"Tuesday\", \"Tuesday\", \"Tuesday\", \"Tuesday\", \"Tuesday\", \"Tuesday\", \"Tuesday\", \"Tuesday\", \"Tuesday\", \"Tuesday\", \"Tuesday\", \"Tuesday\", \"Tuesday\", \"Tuesday\", \"Tuesday\", \"Tuesday\", \"Tuesday\", \"Tuesday\", \"Tuesday\", \"Tuesday\", \"Tuesday\", \"Tuesday\", \"Tuesday\", \"Tuesday\", \"Tuesday\", \"Tuesday\", \"Tuesday\", \"Tuesday\", \"Tuesday\", \"Tuesday\", \"Tuesday\", \"Tuesday\", \"Tuesday\", \"Tuesday\", \"Tuesday\", \"Tuesday\", \"Tuesday\", \"Tuesday\", \"Tuesday\", \"Tuesday\", \"Tuesday\", \"Tuesday\", \"Tuesday\", \"Tuesday\", \"Tuesday\", \"Tuesday\", \"Tuesday\", \"Tuesday\", \"Tuesday\", \"Tuesday\", \"Tuesday\", \"Tuesday\", \"Tuesday\", \"Tuesday\", \"Tuesday\", \"Tuesday\", \"Tuesday\", \"Tuesday\", \"Tuesday\", \"Tuesday\", \"Tuesday\", \"Tuesday\", \"Tuesday\", \"Tuesday\", \"Tuesday\", \"Tuesday\", \"Tuesday\", \"Tuesday\", \"Tuesday\", \"Tuesday\", \"Tuesday\", \"Tuesday\", \"Tuesday\", \"Tuesday\", \"Tuesday\", \"Tuesday\", \"Tuesday\", \"Tuesday\", \"Tuesday\", \"Tuesday\", \"Tuesday\", \"Tuesday\", \"Tuesday\", \"Tuesday\", \"Tuesday\", \"Tuesday\", \"Tuesday\", \"Tuesday\", \"Tuesday\", \"Tuesday\", \"Tuesday\", \"Tuesday\", \"Tuesday\", \"Tuesday\", \"Tuesday\", \"Tuesday\", \"Tuesday\", \"Tuesday\", \"Tuesday\", \"Tuesday\", \"Tuesday\", \"Tuesday\", \"Tuesday\", \"Tuesday\", \"Tuesday\", \"Tuesday\", \"Tuesday\", \"Tuesday\", \"Tuesday\", \"Tuesday\", \"Tuesday\", \"Tuesday\", \"Tuesday\", \"Tuesday\", \"Tuesday\", \"Tuesday\", \"Tuesday\", \"Tuesday\", \"Tuesday\", \"Tuesday\", \"Tuesday\", \"Tuesday\", \"Tuesday\", \"Tuesday\", \"Tuesday\", \"Tuesday\", \"Tuesday\", \"Tuesday\", \"Tuesday\", \"Tuesday\", \"Tuesday\", \"Tuesday\", \"Tuesday\", \"Tuesday\", \"Tuesday\", \"Tuesday\", \"Tuesday\", \"Tuesday\", \"Tuesday\", \"Tuesday\", \"Tuesday\", \"Tuesday\", \"Tuesday\", \"Tuesday\", \"Tuesday\", \"Tuesday\", \"Tuesday\", \"Tuesday\", \"Tuesday\", \"Tuesday\", \"Tuesday\", \"Tuesday\", \"Tuesday\", \"Tuesday\", \"Tuesday\", \"Tuesday\", \"Tuesday\", \"Tuesday\", \"Tuesday\", \"Tuesday\", \"Tuesday\", \"Tuesday\", \"Tuesday\", \"Tuesday\", \"Tuesday\", \"Tuesday\", \"Tuesday\", \"Tuesday\", \"Tuesday\", \"Tuesday\", \"Tuesday\", \"Tuesday\", \"Tuesday\", \"Tuesday\", \"Tuesday\", \"Tuesday\", \"Tuesday\", \"Tuesday\", \"Tuesday\", \"Tuesday\", \"Tuesday\", \"Tuesday\", \"Tuesday\", \"Tuesday\", \"Tuesday\", \"Tuesday\", \"Tuesday\", \"Tuesday\", \"Tuesday\", \"Tuesday\", \"Tuesday\", \"Tuesday\", \"Tuesday\", \"Tuesday\", \"Tuesday\", \"Tuesday\", \"Tuesday\", \"Tuesday\", \"Tuesday\", \"Tuesday\", \"Tuesday\", \"Tuesday\", \"Tuesday\", \"Tuesday\", \"Tuesday\", \"Tuesday\", \"Tuesday\", \"Tuesday\", \"Tuesday\", \"Tuesday\", \"Tuesday\", \"Tuesday\", \"Tuesday\", \"Tuesday\", \"Tuesday\", \"Tuesday\", \"Tuesday\", \"Tuesday\", \"Tuesday\", \"Tuesday\", \"Tuesday\", \"Tuesday\", \"Tuesday\", \"Tuesday\", \"Tuesday\", \"Tuesday\", \"Tuesday\", \"Tuesday\", \"Tuesday\", \"Tuesday\", \"Tuesday\", \"Tuesday\", \"Tuesday\", \"Tuesday\", \"Tuesday\", \"Tuesday\", \"Tuesday\", \"Tuesday\", \"Tuesday\", \"Tuesday\", \"Tuesday\", \"Tuesday\", \"Tuesday\", \"Tuesday\", \"Tuesday\", \"Tuesday\", \"Tuesday\", \"Tuesday\", \"Tuesday\", \"Tuesday\", \"Tuesday\", \"Tuesday\", \"Tuesday\", \"Tuesday\", \"Tuesday\", \"Tuesday\", \"Tuesday\", \"Tuesday\", \"Tuesday\", \"Tuesday\", \"Tuesday\", \"Tuesday\", \"Tuesday\", \"Tuesday\", \"Tuesday\", \"Tuesday\", \"Tuesday\", \"Tuesday\", \"Tuesday\", \"Tuesday\", \"Tuesday\", \"Tuesday\", \"Tuesday\", \"Tuesday\", \"Tuesday\", \"Tuesday\", \"Tuesday\", \"Tuesday\", \"Tuesday\", \"Tuesday\", \"Tuesday\", \"Tuesday\", \"Tuesday\", \"Tuesday\", \"Tuesday\", \"Tuesday\", \"Tuesday\", \"Tuesday\", \"Tuesday\", \"Tuesday\", \"Tuesday\", \"Tuesday\", \"Tuesday\", \"Tuesday\", \"Tuesday\", \"Tuesday\", \"Tuesday\", \"Tuesday\", \"Tuesday\", \"Tuesday\", \"Tuesday\", \"Tuesday\", \"Tuesday\", \"Tuesday\", \"Tuesday\", \"Tuesday\", \"Tuesday\", \"Tuesday\", \"Tuesday\", \"Tuesday\", \"Tuesday\", \"Tuesday\", \"Tuesday\", \"Tuesday\", \"Tuesday\", \"Tuesday\", \"Tuesday\", \"Tuesday\", \"Tuesday\", \"Tuesday\", \"Tuesday\", \"Tuesday\", \"Tuesday\", \"Tuesday\", \"Tuesday\", \"Tuesday\", \"Tuesday\", \"Tuesday\", \"Tuesday\", \"Tuesday\", \"Tuesday\", \"Tuesday\", \"Tuesday\", \"Tuesday\", \"Tuesday\", \"Tuesday\", \"Tuesday\", \"Tuesday\", \"Tuesday\", \"Tuesday\", \"Tuesday\", \"Tuesday\", \"Tuesday\", \"Tuesday\", \"Tuesday\", \"Tuesday\", \"Tuesday\", \"Tuesday\", \"Tuesday\", \"Tuesday\", \"Tuesday\", \"Tuesday\", \"Tuesday\", \"Tuesday\", \"Tuesday\", \"Tuesday\", \"Tuesday\", \"Tuesday\", \"Tuesday\", \"Tuesday\", \"Tuesday\", \"Tuesday\", \"Tuesday\", \"Tuesday\", \"Tuesday\", \"Tuesday\", \"Tuesday\", \"Tuesday\", \"Tuesday\", \"Tuesday\", \"Tuesday\", \"Tuesday\", \"Tuesday\", \"Tuesday\", \"Tuesday\", \"Tuesday\", \"Tuesday\", \"Tuesday\", \"Tuesday\", \"Tuesday\", \"Tuesday\", \"Tuesday\", \"Tuesday\", \"Tuesday\", \"Tuesday\", \"Tuesday\", \"Tuesday\", \"Tuesday\", \"Tuesday\", \"Tuesday\", \"Tuesday\", \"Tuesday\", \"Tuesday\", \"Tuesday\", \"Tuesday\", \"Tuesday\", \"Tuesday\", \"Tuesday\", \"Tuesday\", \"Tuesday\", \"Tuesday\", \"Tuesday\", \"Tuesday\", \"Tuesday\", \"Tuesday\", \"Tuesday\", \"Tuesday\", \"Tuesday\", \"Tuesday\", \"Tuesday\", \"Tuesday\", \"Tuesday\", \"Tuesday\", \"Tuesday\", \"Tuesday\", \"Tuesday\", \"Tuesday\", \"Tuesday\", \"Tuesday\", \"Tuesday\", \"Tuesday\", \"Tuesday\", \"Tuesday\", \"Tuesday\", \"Tuesday\", \"Tuesday\", \"Tuesday\", \"Tuesday\", \"Tuesday\", \"Tuesday\", \"Tuesday\", \"Tuesday\", \"Tuesday\", \"Tuesday\", \"Tuesday\", \"Tuesday\", \"Tuesday\", \"Tuesday\", \"Tuesday\", \"Tuesday\", \"Tuesday\", \"Tuesday\", \"Tuesday\", \"Tuesday\", \"Tuesday\", \"Tuesday\", \"Tuesday\", \"Tuesday\", \"Tuesday\", \"Tuesday\", \"Tuesday\", \"Tuesday\", \"Tuesday\", \"Tuesday\", \"Tuesday\", \"Tuesday\", \"Tuesday\", \"Tuesday\", \"Tuesday\", \"Tuesday\", \"Tuesday\", \"Tuesday\", \"Tuesday\", \"Tuesday\", \"Tuesday\", \"Tuesday\", \"Tuesday\", \"Tuesday\", \"Tuesday\", \"Tuesday\", \"Tuesday\", \"Tuesday\", \"Tuesday\", \"Tuesday\", \"Tuesday\", \"Tuesday\", \"Tuesday\", \"Tuesday\", \"Tuesday\", \"Tuesday\", \"Tuesday\", \"Tuesday\", \"Tuesday\", \"Tuesday\", \"Tuesday\", \"Tuesday\", \"Tuesday\", \"Tuesday\", \"Tuesday\", \"Tuesday\", \"Tuesday\", \"Tuesday\", \"Tuesday\", \"Tuesday\", \"Tuesday\", \"Tuesday\", \"Tuesday\", \"Tuesday\", \"Tuesday\", \"Tuesday\", \"Tuesday\", \"Tuesday\", \"Tuesday\", \"Tuesday\", \"Tuesday\", \"Tuesday\", \"Tuesday\", \"Tuesday\", \"Tuesday\", \"Tuesday\", \"Tuesday\", \"Tuesday\", \"Tuesday\", \"Tuesday\", \"Tuesday\", \"Tuesday\", \"Tuesday\", \"Tuesday\", \"Tuesday\", \"Tuesday\", \"Tuesday\", \"Tuesday\", \"Tuesday\", \"Tuesday\", \"Tuesday\", \"Tuesday\", \"Tuesday\", \"Tuesday\", \"Tuesday\", \"Tuesday\", \"Tuesday\", \"Tuesday\", \"Tuesday\", \"Tuesday\", \"Tuesday\", \"Tuesday\", \"Tuesday\", \"Tuesday\", \"Tuesday\", \"Tuesday\", \"Tuesday\", \"Tuesday\", \"Tuesday\", \"Tuesday\", \"Tuesday\", \"Tuesday\", \"Tuesday\", \"Tuesday\", \"Tuesday\", \"Tuesday\", \"Tuesday\", \"Tuesday\", \"Tuesday\", \"Tuesday\", \"Tuesday\", \"Tuesday\", \"Tuesday\", \"Tuesday\", \"Tuesday\", \"Tuesday\", \"Tuesday\", \"Tuesday\", \"Tuesday\", \"Tuesday\", \"Tuesday\", \"Tuesday\", \"Tuesday\", \"Tuesday\", \"Tuesday\", \"Tuesday\", \"Tuesday\", \"Tuesday\", \"Tuesday\", \"Tuesday\", \"Tuesday\", \"Tuesday\", \"Tuesday\", \"Tuesday\", \"Tuesday\", \"Tuesday\", \"Tuesday\", \"Tuesday\", \"Tuesday\", \"Tuesday\", \"Tuesday\", \"Tuesday\", \"Tuesday\", \"Tuesday\", \"Tuesday\", \"Tuesday\", \"Tuesday\", \"Tuesday\", \"Tuesday\", \"Tuesday\", \"Tuesday\", \"Tuesday\", \"Tuesday\", \"Tuesday\", \"Tuesday\", \"Tuesday\", \"Tuesday\", \"Tuesday\", \"Tuesday\", \"Tuesday\", \"Tuesday\", \"Tuesday\", \"Tuesday\", \"Tuesday\", \"Tuesday\", \"Tuesday\", \"Tuesday\", \"Tuesday\", \"Tuesday\", \"Tuesday\", \"Tuesday\", \"Tuesday\", \"Tuesday\", \"Tuesday\", \"Tuesday\", \"Tuesday\", \"Tuesday\", \"Tuesday\", \"Tuesday\", \"Tuesday\", \"Tuesday\", \"Tuesday\", \"Tuesday\", \"Tuesday\", \"Tuesday\", \"Tuesday\", \"Tuesday\", \"Tuesday\", \"Tuesday\", \"Tuesday\", \"Tuesday\", \"Tuesday\", \"Tuesday\", \"Tuesday\", \"Tuesday\", \"Tuesday\", \"Tuesday\", \"Tuesday\", \"Tuesday\", \"Tuesday\", \"Tuesday\", \"Tuesday\", \"Tuesday\", \"Tuesday\", \"Tuesday\", \"Tuesday\", \"Tuesday\", \"Tuesday\", \"Tuesday\", \"Tuesday\", \"Tuesday\", \"Tuesday\", \"Tuesday\", \"Tuesday\", \"Tuesday\", \"Tuesday\", \"Tuesday\", \"Tuesday\", \"Tuesday\", \"Tuesday\", \"Tuesday\", \"Tuesday\", \"Tuesday\", \"Tuesday\", \"Tuesday\", \"Tuesday\", \"Tuesday\", \"Tuesday\", \"Tuesday\", \"Tuesday\", \"Tuesday\", \"Tuesday\", \"Tuesday\", \"Tuesday\", \"Tuesday\", \"Tuesday\", \"Tuesday\", \"Tuesday\", \"Tuesday\", \"Tuesday\", \"Tuesday\", \"Tuesday\", \"Tuesday\", \"Tuesday\", \"Tuesday\", \"Tuesday\", \"Tuesday\", \"Tuesday\", \"Tuesday\", \"Tuesday\", \"Tuesday\", \"Tuesday\", \"Tuesday\", \"Tuesday\", \"Tuesday\", \"Tuesday\", \"Tuesday\", \"Tuesday\", \"Tuesday\", \"Tuesday\", \"Tuesday\", \"Tuesday\", \"Tuesday\", \"Tuesday\", \"Tuesday\", \"Tuesday\", \"Tuesday\", \"Tuesday\", \"Tuesday\", \"Tuesday\", \"Tuesday\", \"Tuesday\", \"Tuesday\", \"Tuesday\", \"Tuesday\", \"Tuesday\", \"Tuesday\", \"Tuesday\", \"Tuesday\", \"Tuesday\", \"Tuesday\", \"Tuesday\", \"Tuesday\", \"Tuesday\", \"Tuesday\", \"Tuesday\", \"Tuesday\", \"Tuesday\", \"Tuesday\", \"Tuesday\", \"Tuesday\", \"Tuesday\", \"Tuesday\", \"Tuesday\", \"Tuesday\", \"Tuesday\", \"Tuesday\", \"Tuesday\", \"Tuesday\", \"Tuesday\", \"Tuesday\", \"Tuesday\", \"Tuesday\", \"Tuesday\", \"Tuesday\", \"Tuesday\", \"Tuesday\", \"Tuesday\", \"Tuesday\", \"Tuesday\", \"Tuesday\", \"Tuesday\", \"Tuesday\", \"Tuesday\", \"Tuesday\", \"Tuesday\", \"Tuesday\", \"Tuesday\", \"Tuesday\", \"Tuesday\", \"Tuesday\", \"Tuesday\", \"Tuesday\", \"Tuesday\", \"Tuesday\", \"Tuesday\", \"Tuesday\", \"Tuesday\", \"Tuesday\", \"Tuesday\", \"Tuesday\", \"Tuesday\", \"Tuesday\", \"Tuesday\", \"Tuesday\", \"Tuesday\", \"Tuesday\", \"Tuesday\", \"Tuesday\", \"Tuesday\", \"Tuesday\", \"Tuesday\", \"Tuesday\", \"Tuesday\", \"Tuesday\", \"Tuesday\", \"Tuesday\", \"Tuesday\", \"Tuesday\", \"Tuesday\", \"Tuesday\", \"Tuesday\", \"Tuesday\", \"Tuesday\", \"Tuesday\", \"Tuesday\", \"Tuesday\", \"Tuesday\", \"Tuesday\", \"Tuesday\", \"Tuesday\", \"Tuesday\", \"Tuesday\", \"Tuesday\", \"Tuesday\", \"Tuesday\", \"Tuesday\", \"Tuesday\", \"Tuesday\", \"Tuesday\", \"Tuesday\", \"Tuesday\", \"Tuesday\", \"Tuesday\", \"Tuesday\", \"Tuesday\", \"Tuesday\", \"Tuesday\", \"Tuesday\", \"Tuesday\", \"Tuesday\", \"Tuesday\", \"Tuesday\", \"Tuesday\", \"Tuesday\", \"Tuesday\", \"Tuesday\", \"Tuesday\", \"Tuesday\", \"Tuesday\", \"Tuesday\", \"Tuesday\", \"Tuesday\", \"Tuesday\", \"Tuesday\", \"Tuesday\", \"Tuesday\", \"Tuesday\", \"Tuesday\", \"Tuesday\", \"Tuesday\", \"Tuesday\", \"Tuesday\", \"Tuesday\", \"Tuesday\", \"Tuesday\", \"Tuesday\", \"Tuesday\", \"Tuesday\", \"Tuesday\", \"Tuesday\", \"Tuesday\", \"Tuesday\", \"Tuesday\", \"Tuesday\", \"Tuesday\", \"Tuesday\", \"Tuesday\", \"Tuesday\", \"Tuesday\", \"Tuesday\", \"Tuesday\", \"Tuesday\", \"Tuesday\", \"Tuesday\", \"Tuesday\", \"Tuesday\", \"Tuesday\", \"Tuesday\", \"Tuesday\", \"Tuesday\", \"Tuesday\", \"Tuesday\", \"Tuesday\", \"Tuesday\", \"Tuesday\", \"Tuesday\", \"Tuesday\", \"Tuesday\", \"Tuesday\", \"Tuesday\", \"Tuesday\", \"Tuesday\", \"Tuesday\", \"Tuesday\", \"Tuesday\", \"Tuesday\", \"Tuesday\", \"Tuesday\", \"Tuesday\", \"Tuesday\", \"Tuesday\", \"Tuesday\", \"Tuesday\", \"Tuesday\", \"Tuesday\", \"Tuesday\", \"Tuesday\", \"Tuesday\", \"Tuesday\", \"Tuesday\", \"Tuesday\", \"Tuesday\", \"Tuesday\", \"Tuesday\", \"Tuesday\", \"Tuesday\", \"Tuesday\", \"Tuesday\", \"Tuesday\", \"Tuesday\", \"Tuesday\", \"Tuesday\", \"Tuesday\", \"Tuesday\", \"Tuesday\", \"Tuesday\", \"Tuesday\", \"Tuesday\", \"Tuesday\", \"Tuesday\", \"Tuesday\", \"Tuesday\", \"Tuesday\", \"Tuesday\", \"Tuesday\", \"Tuesday\", \"Tuesday\", \"Tuesday\", \"Tuesday\", \"Tuesday\", \"Tuesday\", \"Tuesday\", \"Tuesday\", \"Tuesday\", \"Tuesday\", \"Tuesday\", \"Tuesday\", \"Tuesday\", \"Tuesday\", \"Tuesday\", \"Tuesday\", \"Tuesday\", \"Tuesday\", \"Tuesday\", \"Tuesday\", \"Tuesday\", \"Tuesday\", \"Tuesday\", \"Tuesday\", \"Tuesday\", \"Tuesday\", \"Tuesday\", \"Tuesday\", \"Tuesday\", \"Tuesday\", \"Tuesday\", \"Tuesday\", \"Tuesday\", \"Tuesday\", \"Tuesday\", \"Tuesday\", \"Tuesday\", \"Tuesday\", \"Tuesday\", \"Tuesday\", \"Tuesday\", \"Tuesday\", \"Tuesday\", \"Tuesday\", \"Tuesday\", \"Tuesday\", \"Tuesday\", \"Tuesday\", \"Tuesday\", \"Tuesday\", \"Tuesday\", \"Tuesday\", \"Tuesday\", \"Tuesday\", \"Tuesday\", \"Tuesday\", \"Tuesday\", \"Tuesday\", \"Tuesday\", \"Tuesday\", \"Tuesday\", \"Tuesday\", \"Tuesday\", \"Tuesday\", \"Tuesday\", \"Tuesday\", \"Tuesday\", \"Tuesday\", \"Tuesday\", \"Tuesday\", \"Tuesday\", \"Tuesday\", \"Tuesday\", \"Tuesday\", \"Tuesday\", \"Tuesday\", \"Tuesday\", \"Tuesday\", \"Tuesday\", \"Tuesday\", \"Tuesday\", \"Tuesday\", \"Tuesday\", \"Tuesday\", \"Tuesday\", \"Tuesday\", \"Tuesday\", \"Tuesday\", \"Tuesday\", \"Tuesday\", \"Tuesday\", \"Tuesday\", \"Tuesday\", \"Tuesday\", \"Tuesday\", \"Tuesday\", \"Tuesday\", \"Tuesday\", \"Tuesday\", \"Tuesday\", \"Tuesday\", \"Tuesday\", \"Tuesday\", \"Tuesday\", \"Tuesday\", \"Tuesday\", \"Tuesday\", \"Tuesday\", \"Tuesday\", \"Tuesday\", \"Tuesday\", \"Tuesday\", \"Tuesday\", \"Tuesday\", \"Tuesday\", \"Tuesday\", \"Tuesday\", \"Tuesday\", \"Tuesday\", \"Tuesday\", \"Tuesday\", \"Tuesday\", \"Tuesday\", \"Tuesday\", \"Tuesday\", \"Tuesday\", \"Tuesday\", \"Tuesday\", \"Tuesday\", \"Tuesday\", \"Tuesday\", \"Tuesday\", \"Tuesday\", \"Tuesday\", \"Tuesday\", \"Tuesday\", \"Tuesday\", \"Tuesday\", \"Tuesday\", \"Tuesday\", \"Tuesday\", \"Tuesday\", \"Tuesday\", \"Tuesday\", \"Tuesday\", \"Tuesday\", \"Tuesday\", \"Tuesday\", \"Tuesday\", \"Tuesday\", \"Tuesday\", \"Tuesday\", \"Tuesday\", \"Tuesday\", \"Tuesday\", \"Tuesday\", \"Tuesday\", \"Tuesday\", \"Tuesday\", \"Tuesday\", \"Tuesday\", \"Tuesday\", \"Tuesday\", \"Tuesday\", \"Tuesday\", \"Tuesday\", \"Tuesday\", \"Tuesday\", \"Tuesday\", \"Tuesday\", \"Tuesday\", \"Tuesday\", \"Tuesday\", \"Tuesday\", \"Tuesday\", \"Tuesday\", \"Tuesday\", \"Tuesday\", \"Tuesday\", \"Tuesday\", \"Tuesday\", \"Tuesday\", \"Tuesday\", \"Tuesday\", \"Tuesday\", \"Tuesday\", \"Tuesday\", \"Tuesday\", \"Tuesday\", \"Tuesday\", \"Tuesday\", \"Tuesday\", \"Tuesday\", \"Tuesday\", \"Tuesday\", \"Tuesday\", \"Tuesday\", \"Tuesday\", \"Tuesday\", \"Tuesday\", \"Tuesday\", \"Tuesday\", \"Tuesday\", \"Tuesday\", \"Tuesday\", \"Tuesday\", \"Tuesday\", \"Tuesday\", \"Tuesday\", \"Tuesday\", \"Tuesday\", \"Tuesday\", \"Tuesday\", \"Tuesday\", \"Tuesday\", \"Tuesday\", \"Tuesday\", \"Tuesday\", \"Tuesday\", \"Tuesday\", \"Tuesday\", \"Tuesday\", \"Tuesday\", \"Tuesday\", \"Tuesday\", \"Tuesday\", \"Tuesday\", \"Tuesday\", \"Tuesday\", \"Tuesday\", \"Tuesday\", \"Tuesday\", \"Tuesday\", \"Tuesday\", \"Tuesday\", \"Tuesday\", \"Tuesday\", \"Tuesday\", \"Tuesday\", \"Tuesday\", \"Tuesday\", \"Tuesday\", \"Tuesday\", \"Tuesday\", \"Tuesday\", \"Tuesday\", \"Tuesday\", \"Tuesday\", \"Tuesday\", \"Tuesday\", \"Tuesday\", \"Tuesday\", \"Tuesday\", \"Tuesday\", \"Tuesday\", \"Tuesday\", \"Tuesday\", \"Tuesday\", \"Tuesday\", \"Tuesday\", \"Tuesday\", \"Tuesday\", \"Tuesday\", \"Tuesday\", \"Tuesday\", \"Tuesday\", \"Tuesday\", \"Tuesday\", \"Tuesday\", \"Tuesday\", \"Tuesday\", \"Tuesday\", \"Tuesday\", \"Tuesday\", \"Tuesday\", \"Tuesday\", \"Tuesday\", \"Tuesday\", \"Tuesday\", \"Tuesday\", \"Tuesday\", \"Tuesday\", \"Tuesday\", \"Tuesday\", \"Tuesday\", \"Tuesday\", \"Tuesday\", \"Tuesday\", \"Tuesday\", \"Tuesday\", \"Tuesday\", \"Tuesday\", \"Tuesday\", \"Tuesday\", \"Tuesday\", \"Tuesday\", \"Tuesday\", \"Tuesday\", \"Tuesday\", \"Tuesday\", \"Tuesday\", \"Tuesday\", \"Tuesday\", \"Tuesday\"], \"x0\": \" \", \"xaxis\": \"x\", \"y\": [\"137\", \"129\", \"123\", \"116\", \"114\", \"109\", \"104\", \"102\", \"100\", \"99\", \"88\", \"86\", \"84\", \"85\", \"67\", \"66\", \"80\", \"98\", \"111\", \"123\", \"123\", \"124\", \"129\", \"136\", \"139\", \"139\", \"141\", \"124\", \"127\", \"141\", \"155\", \"168\", \"183\", \"189\", \"196\", \"204\", \"211\", \"219\", \"227\", \"233\", \"239\", \"244\", \"244\", \"233\", \"230\", \"234\", \"243\", \"251\", \"259\", \"265\", \"272\", \"280\", \"293\", \"293\", \"292\", \"294\", \"295\", \"296\", \"295\", \"293\", \"294\", \"288\", \"301\", \"300\", \"294\", \"285\", \"276\", \"269\", \"263\", \"258\", \"251\", \"245\", \"236\", \"234\", \"231\", \"227\", \"226\", \"225\", \"224\", \"223\", \"222\", \"220\", \"219\", \"217\", \"217\", \"216\", \"216\", \"215\", \"212\", \"211\", \"207\", \"208\", \"209\", \"209\", \"205\", \"203\", \"198\", \"191\", \"188\", \"181\", \"178\", \"178\", \"174\", \"174\", \"178\", \"177\", \"175\", \"171\", \"168\", \"167\", \"167\", \"167\", \"168\", \"173\", \"175\", \"177\", \"176\", \"173\", \"174\", \"177\", \"183\", \"197\", \"207\", \"203\", \"200\", \"196\", \"199\", \"203\", \"205\", \"207\", \"202\", \"190\", \"188\", \"195\", \"201\", \"203\", \"206\", \"202\", \"203\", \"202\", \"200\", \"198\", \"197\", \"196\", \"195\", \"195\", \"195\", \"194\", \"194\", \"194\", \"191\", \"186\", \"185\", \"186\", \"186\", \"187\", \"187\", \"187\", \"191\", \"189\", \"189\", \"185\", \"180\", \"176\", \"173\", \"168\", \"162\", \"162\", \"154\", \"142\", \"135\", \"137\", \"132\", \"122\", \"120\", \"123\", \"119\", \"117\", \"121\", \"118\", \"108\", \"102\", \"106\", \"114\", \"115\", \"114\", \"116\", \"118\", \"124\", \"127\", \"131\", \"134\", \"136\", \"137\", \"138\", \"138\", \"141\", \"138\", \"134\", \"129\", \"125\", \"123\", \"123\", \"123\", \"123\", \"121\", \"120\", \"120\", \"121\", \"123\", \"124\", \"124\", \"123\", \"122\", \"123\", \"125\", \"127\", \"128\", \"132\", \"132\", \"128\", \"122\", \"97\", \"105\", \"119\", \"122\", \"121\", \"125\", \"125\", \"126\", \"127\", \"128\", \"134\", \"140\", \"144\", \"148\", \"160\", \"177\", \"189\", \"192\", \"201\", \"210\", \"225\", \"239\", \"250\", \"255\", \"257\", \"259\", \"254\", \"251\", \"248\", \"244\", \"238\", \"234\", \"228\", \"223\", \"220\", \"215\", \"209\", \"208\", \"206\", \"201\", \"191\", \"180\", \"171\", \"166\", \"155\", \"141\", \"124\", \"109\", \"103\", \"98\", \"93\", \"91\", \"93\", \"97\", \"111\", \"122\", \"131\", \"130\", \"127\", \"122\", \"121\", \"130\", \"137\", \"139\", \"145\", \"152\", \"64\", \"65\", \"73\", \"80\", \"88\", \"94\", \"98\", \"101\", \"97\", \"93\", \"88\", \"84\", \"82\", \"80\", \"79\", \"77\", \"76\", \"75\", \"74\", \"61\", \"43\", \"Low\", \"Low\", \"Low\", \"Low\", \"Low\", \"Low\", \"Low\", \"Low\", \"Low\", \"Low\", \"Low\", \"49\", \"54\", \"55\", \"54\", \"53\", \"49\", \"58\", \"64\", \"73\", \"82\", \"88\", \"91\", \"91\", \"92\", \"92\", \"92\", \"95\", \"101\", \"108\", \"115\", \"119\", \"119\", \"119\", \"127\", \"133\", \"134\", \"135\", \"135\", \"135\", \"134\", \"134\", \"133\", \"133\", \"132\", \"131\", \"130\", \"129\", \"129\", \"130\", \"131\", \"131\", \"131\", \"130\", \"130\", \"130\", \"130\", \"130\", \"130\", \"131\", \"131\", \"131\", \"131\", \"133\", \"136\", \"137\", \"137\", \"133\", \"132\", \"132\", \"131\", \"134\", \"136\", \"120\", \"112\", \"122\", \"120\", \"124\", \"120\", \"112\", \"111\", \"124\", \"129\", \"131\", \"136\", \"145\", \"154\", \"162\", \"163\", \"164\", \"164\", \"159\", \"157\", \"154\", \"151\", \"144\", \"137\", \"130\", \"124\", \"124\", \"126\", \"129\", \"126\", \"126\", \"128\", \"125\", \"124\", \"126\", \"125\", \"121\", \"119\", \"116\", \"112\", \"110\", \"108\", \"104\", \"106\", \"105\", \"100\", \"96\", \"91\", \"89\", \"92\", \"103\", \"113\", \"122\", \"126\", \"126\", \"128\", \"133\", \"138\", \"137\", \"129\", \"118\", \"112\", \"106\", \"103\", \"99\", \"95\", \"90\", \"88\", \"89\", \"88\", \"87\", \"90\", \"92\", \"91\", \"95\", \"96\", \"97\", \"100\", \"102\", \"104\", \"107\", \"102\", \"102\", \"110\", \"120\", \"124\", \"136\", \"144\", \"142\", \"146\", \"148\", \"149\", \"151\", \"154\", \"153\", \"154\", \"153\", \"150\", \"151\", \"150\", \"133\", \"134\", \"140\", \"146\", \"153\", \"152\", \"153\", \"159\", \"161\", \"161\", \"162\", \"159\", \"157\", \"156\", \"157\", \"158\", \"157\", \"160\", \"165\", \"168\", \"168\", \"170\", \"166\", \"168\", \"168\", \"163\", \"159\", \"156\", \"154\", \"153\", \"152\", \"154\", \"152\", \"160\", \"167\", \"169\", \"170\", \"173\", \"178\", \"181\", \"176\", \"174\", \"168\", \"164\", \"161\", \"159\", \"152\", \"149\", \"148\", \"147\", \"144\", \"139\", \"135\", \"130\", \"127\", \"125\", \"121\", \"116\", \"116\", \"121\", \"128\", \"130\", \"133\", \"135\", \"132\", \"132\", \"131\", \"131\", \"129\", \"129\", \"128\", \"129\", \"129\", \"130\", \"130\", \"129\", \"127\", \"125\", \"124\", \"120\", \"117\", \"115\", \"113\", \"111\", \"110\", \"105\", \"101\", \"96\", \"93\", \"91\", \"91\", \"90\", \"92\", \"98\", \"104\", \"95\", \"87\", \"81\", \"77\", \"76\", \"72\", \"69\", \"67\", \"65\", \"65\", \"64\", \"63\", \"63\", \"56\", \"52\", \"66\", \"74\", \"86\", \"103\", \"116\", \"139\", \"150\", \"158\", \"164\", \"172\", \"177\", \"178\", \"171\", \"169\", \"169\", \"166\", \"170\", \"167\", \"167\", \"164\", \"158\", \"156\", \"153\", \"152\", \"150\", \"148\", \"146\", \"143\", \"140\", \"138\", \"137\", \"134\", \"129\", \"126\", \"124\", \"123\", \"120\", \"119\", \"116\", \"114\", \"112\", \"110\", \"108\", \"106\", \"105\", \"104\", \"102\", \"101\", \"100\", \"98\", \"97\", \"96\", \"94\", \"93\", \"91\", \"89\", \"87\", \"85\", \"85\", \"84\", \"84\", \"83\", \"82\", \"82\", \"82\", \"84\", \"80\", \"73\", \"72\", \"73\", \"73\", \"72\", \"70\", \"69\", \"69\", \"68\", \"60\", \"54\", \"74\", \"65\", \"74\", \"69\", \"72\", \"70\", \"71\", \"70\", \"69\", \"64\", \"63\", \"58\", \"57\", \"56\", \"57\", \"61\", \"69\", \"77\", \"87\", \"99\", \"107\", \"112\", \"112\", \"115\", \"121\", \"124\", \"123\", \"130\", \"135\", \"142\", \"146\", \"152\", \"163\", \"171\", \"179\", \"185\", \"188\", \"188\", \"189\", \"191\", \"191\", \"185\", \"180\", \"183\", \"185\", \"182\", \"176\", \"176\", \"156\", \"164\", \"171\", \"168\", \"158\", \"157\", \"150\", \"144\", \"142\", \"139\", \"130\", \"126\", \"122\", \"120\", \"113\", \"105\", \"107\", \"109\", \"109\", \"111\", \"110\", \"106\", \"99\", \"97\", \"93\", \"91\", \"90\", \"86\", \"87\", \"86\", \"85\", \"80\", \"83\", \"76\", \"83\", \"92\", \"101\", \"113\", \"120\", \"128\", \"136\", \"144\", \"142\", \"140\", \"138\", \"133\", \"127\", \"120\", \"111\", \"107\", \"101\", \"99\", \"103\", \"104\", \"108\", \"108\", \"112\", \"116\", \"121\", \"128\", \"134\", \"140\", \"141\", \"139\", \"136\", \"133\", \"130\", \"121\", \"113\", \"103\", \"95\", \"90\", \"86\", \"80\", \"77\", \"78\", \"87\", \"96\", \"102\", \"114\", \"121\", \"127\", \"138\", \"147\", \"156\", \"161\", \"166\", \"170\", \"164\", \"169\", \"155\", \"153\", \"159\", \"146\", \"141\", \"143\", \"133\", \"134\", \"138\", \"134\", \"133\", \"132\", \"123\", \"124\", \"119\", \"117\", \"107\", \"104\", \"96\", \"94\", \"101\", \"105\", \"117\", \"135\", \"147\", \"139\", \"157\", \"165\", \"152\", \"147\", \"172\", \"185\", \"192\", \"191\", \"178\", \"169\", \"160\", \"150\", \"151\", \"146\", \"130\", \"135\", \"128\", \"129\", \"119\", \"120\", \"124\", \"129\", \"133\", \"135\", \"136\", \"134\", \"133\", \"130\", \"127\", \"124\", \"86\", \"89\", \"94\", \"101\", \"110\", \"118\", \"129\", \"132\", \"139\", \"145\", \"147\", \"153\", \"158\", \"163\", \"167\", \"154\", \"158\", \"174\", \"163\", \"171\", \"176\", \"194\", \"195\", \"198\", \"211\", \"220\", \"213\", \"207\", \"203\", \"203\", \"204\", \"203\", \"202\", \"199\", \"196\", \"171\", \"141\", \"120\", \"132\", \"149\", \"166\", \"177\", \"182\", \"179\", \"179\", \"179\", \"165\", \"158\", \"155\", \"155\", \"157\", \"158\", \"160\", \"162\", \"163\", \"164\", \"176\", \"179\", \"177\", \"173\", \"173\", \"178\", \"180\", \"179\", \"178\", \"178\", \"178\", \"179\", \"175\", \"174\", \"176\", \"173\", \"173\", \"174\", \"175\", \"176\", \"176\", \"176\", \"176\", \"168\", \"172\", \"189\", \"176\", \"170\", \"169\", \"171\", \"173\", \"172\", \"172\", \"172\", \"169\", \"165\", \"164\", \"163\", \"165\", \"173\", \"174\", \"163\", \"160\", \"158\", \"157\", \"163\", \"164\", \"166\", \"165\", \"158\", \"168\", \"167\", \"165\", \"164\", \"164\", \"163\", \"163\", \"165\", \"162\", \"166\", \"165\", \"167\", \"173\", \"173\", \"176\", \"180\", \"177\", \"170\", \"167\", \"166\", \"167\", \"175\", \"170\", \"179\", \"187\", \"188\", \"183\", \"175\", \"167\", \"161\", \"162\", \"169\", \"165\", \"156\", \"156\", \"165\", \"160\", \"142\", \"134\", \"129\", \"124\", \"122\", \"118\", \"116\", \"117\", \"124\", \"117\", \"115\", \"126\", \"120\", \"117\", \"113\", \"108\", \"104\", \"109\", \"116\", \"131\", \"138\", \"142\", \"149\", \"157\", \"161\", \"151\", \"168\", \"156\", \"160\", \"145\", \"137\", \"133\", \"145\", \"148\", \"155\", \"166\", \"170\", \"163\", \"166\", \"175\", \"172\", \"164\", \"162\", \"166\", \"165\", \"159\", \"151\", \"146\", \"154\", \"150\", \"147\", \"145\", \"139\", \"138\", \"153\", \"157\", \"162\", \"159\", \"154\", \"142\", \"141\", \"141\", \"135\", \"131\", \"127\", \"123\", \"119\", \"116\", \"113\", \"117\", \"114\", \"102\", \"100\", \"103\", \"103\", \"95\", \"92\", \"95\", \"94\", \"102\", \"110\", \"111\", \"117\", \"115\", \"121\", \"125\", \"134\", \"126\", \"131\", \"131\", \"133\", \"129\", \"122\", \"124\", \"131\", \"125\", \"114\", \"112\", \"112\", \"108\", \"114\", \"122\", \"120\", \"119\", \"118\", \"122\", \"121\", \"121\", \"123\", \"127\", \"125\", \"129\", \"132\", \"129\", \"132\", \"141\", \"145\", \"146\", \"143\", \"141\", \"128\", \"126\", \"123\", \"122\", \"115\", \"119\", \"122\", \"119\", \"112\", \"106\", \"101\", \"94\", \"76\", \"70\", \"83\", \"91\", \"84\", \"86\", \"84\", \"94\", \"93\", \"95\", \"88\", \"94\", \"101\", \"79\", \"87\", \"76\", \"67\", \"60\", \"57\", \"62\", \"64\", \"55\", \"45\", \"46\", \"54\", \"63\", \"67\", \"66\", \"61\", \"64\", \"83\", \"95\", \"104\", \"108\", \"122\", \"140\", \"133\", \"130\", \"138\", \"157\", \"177\", \"172\", \"Low\", \"Low\", \"45\", \"53\", \"69\", \"76\", \"82\", \"87\", \"84\", \"83\", \"94\", \"110\", \"129\", \"139\", \"142\", \"141\", \"140\", \"141\", \"141\", \"142\", \"144\", \"146\", \"147\", \"149\", \"144\", \"132\", \"125\", \"122\", \"129\", \"152\", \"160\", \"164\", \"161\", \"159\", \"163\", \"170\", \"177\", \"179\", \"181\", \"182\", \"184\", \"185\", \"186\", \"187\", \"187\", \"188\", \"189\", \"189\", \"192\", \"191\", \"191\", \"191\", \"194\", \"197\", \"201\", \"202\", \"201\", \"196\", \"182\", \"180\", \"181\", \"183\", \"186\", \"186\", \"185\", \"191\", \"206\", \"208\", \"207\", \"207\", \"205\", \"213\", \"215\", \"197\", \"187\", \"192\", \"192\", \"183\", \"184\", \"175\", \"173\", \"166\", \"179\", \"182\", \"184\", \"180\", \"177\", \"168\", \"167\", \"164\", \"173\", \"183\", \"167\", \"173\", \"181\", \"182\", \"188\", \"194\", \"199\", \"181\", \"191\", \"185\", \"189\", \"182\", \"175\", \"179\", \"180\", \"174\", \"161\", \"149\", \"156\", \"163\", \"159\", \"159\", \"156\", \"155\", \"150\", \"136\", \"135\", \"130\", \"133\", \"140\", \"138\", \"133\", \"131\", \"128\", \"107\", \"117\", \"120\", \"123\", \"118\", \"96\", \"106\", \"111\", \"115\", \"126\", \"138\", \"136\", \"140\", \"146\", \"143\", \"148\", \"139\", \"141\", \"138\", \"143\", \"138\", \"132\", \"140\", \"148\", \"144\", \"133\", \"135\", \"131\", \"140\", \"142\", \"139\", \"133\", \"119\", \"132\", \"132\", \"127\", \"115\", \"120\", \"125\", \"125\", \"136\", \"147\", \"155\", \"147\", \"137\", \"129\", \"129\", \"129\", \"131\", \"129\", \"125\", \"116\", \"168\", \"172\", \"174\", \"172\", \"173\", \"178\", \"181\", \"183\", \"179\", \"170\", \"158\", \"155\", \"168\", \"168\", \"166\", \"162\", \"159\", \"157\", \"154\", \"151\", \"150\", \"150\", \"149\", \"145\", \"132\", \"123\", \"118\", \"116\", \"116\", \"115\", \"113\", \"111\", \"110\", \"111\", \"114\", \"111\", \"108\", \"109\", \"107\", \"106\", \"106\", \"109\", \"110\", \"105\", \"108\", \"112\", \"115\", \"118\", \"118\", \"118\", \"118\", \"118\", \"118\", \"119\", \"120\", \"119\", \"121\", \"124\", \"130\", \"136\", \"142\", \"147\", \"151\", \"154\", \"157\", \"160\", \"163\", \"164\", \"166\", \"166\", \"166\", \"168\", \"167\", \"166\", \"168\", \"171\", \"171\", \"172\", \"172\", \"172\", \"172\", \"172\", \"173\", \"174\", \"176\", \"178\", \"181\", \"180\", \"180\", \"182\", \"182\", \"183\", \"184\", \"183\", \"182\", \"182\", \"184\", \"186\", \"188\", \"189\", \"191\", \"190\", \"190\", \"190\", \"190\", \"191\", \"191\", \"191\", \"190\", \"190\", \"190\", \"191\", \"191\", \"191\", \"192\", \"191\", \"193\", \"190\", \"192\", \"187\", \"182\", \"179\", \"178\", \"177\", \"177\", \"179\", \"182\", \"188\", \"190\", \"192\", \"195\", \"200\", \"198\", \"196\", \"196\", \"196\", \"196\", \"194\", \"189\", \"189\", \"179\", \"171\", \"166\", \"161\", \"160\", \"158\", \"147\", \"137\", \"130\", \"127\", \"120\", \"117\", \"114\", \"114\", \"114\", \"114\", \"114\", \"119\", \"119\", \"123\", \"131\", \"141\", \"147\", \"155\", \"162\", \"162\", \"163\", \"167\", \"176\", \"181\", \"181\", \"175\", \"174\", \"177\", \"182\", \"186\", \"188\", \"190\", \"191\", \"192\", \"194\", \"195\", \"196\", \"197\", \"192\", \"185\", \"181\", \"168\", \"158\", \"154\", \"152\", \"152\", \"150\", \"147\", \"140\", \"130\", \"118\", \"115\", \"122\", \"137\", \"151\", \"162\", \"170\", \"177\", \"185\", \"190\", \"194\", \"186\", \"168\", \"157\", \"155\", \"153\", \"148\", \"140\", \"137\", \"127\", \"111\", \"101\", \"90\", \"70\", \"66\", \"62\", \"55\", \"52\", \"59\", \"67\", \"84\", \"97\", \"111\", \"124\", \"137\", \"138\", \"150\", \"152\", \"149\", \"153\", \"156\", \"159\", \"162\", \"162\", \"160\", \"158\", \"156\", \"147\", \"140\", \"131\", \"126\", \"118\", \"114\", \"122\", \"124\", \"123\", \"121\", \"122\", \"124\", \"126\", \"125\", \"125\", \"122\", \"117\", \"118\", \"122\", \"121\", \"118\", \"117\", \"120\", \"126\", \"133\", \"140\", \"145\", \"146\", \"147\", \"149\", \"147\", \"145\", \"144\", \"142\", \"140\", \"130\", \"126\", \"120\", \"114\", \"111\", \"107\", \"105\", \"112\", \"120\", \"131\", \"133\", \"134\", \"136\", \"139\", \"141\", \"144\", \"146\", \"149\", \"153\", \"156\", \"159\", \"161\", \"167\", \"152\", \"165\", \"167\", \"162\", \"169\", \"179\", \"183\", \"180\", \"186\", \"186\", \"189\", \"190\", \"188\", \"194\", \"194\", \"190\", \"191\", \"201\", \"202\", \"199\", \"197\", \"200\", \"204\", \"209\", \"210\", \"210\", \"212\", \"214\", \"216\", \"222\", \"221\", \"216\", \"213\", \"214\", \"216\", \"219\", \"221\", \"234\", \"238\", \"239\", \"237\", \"217\", \"212\", \"213\", \"218\", \"221\", \"238\", \"245\", \"231\", \"215\", \"228\", \"230\", \"232\", \"234\", \"234\", \"235\", \"237\", \"239\", \"241\", \"243\", \"243\", \"144\", \"149\", \"143\", \"247\", \"247\", \"247\", \"249\", \"251\", \"251\", \"249\", \"244\", \"244\", \"244\", \"243\", \"237\", \"234\", \"237\", \"241\", \"241\", \"241\", \"239\", \"238\", \"231\", \"229\", \"228\", \"231\", \"231\", \"227\", \"223\", \"222\", \"218\", \"211\", \"196\", \"190\", \"190\", \"190\", \"188\", \"190\", \"197\", \"194\", \"190\", \"189\", \"189\", \"191\", \"190\", \"191\", \"200\", \"201\", \"210\", \"214\", \"214\", \"206\", \"196\", \"194\", \"187\", \"187\", \"188\", \"188\", \"198\", \"195\", \"193\", \"184\", \"180\", \"183\", \"176\", \"182\", \"183\", \"179\", \"167\", \"159\", \"156\", \"150\", \"145\", \"141\", \"142\", \"143\", \"128\", \"116\", \"115\", \"105\", \"103\", \"107\", \"111\", \"112\", \"109\", \"108\", \"107\", \"106\", \"109\", \"123\", \"121\", \"138\", \"148\", \"168\", \"185\", \"188\", \"191\", \"203\", \"212\", \"220\", \"218\", \"223\", \"227\", \"231\", \"237\", \"240\", \"235\", \"246\", \"244\", \"248\", \"252\", \"249\", \"238\", \"256\", \"242\", \"234\", \"231\", \"224\", \"220\", \"220\", \"228\", \"218\", \"213\", \"185\", \"165\", \"155\", \"148\", \"143\", \"137\", \"139\", \"139\", \"127\", \"119\", \"111\", \"106\", \"102\", \"97\", \"92\", \"85\", \"82\", \"77\", \"73\", \"66\", \"62\", \"59\", \"58\", \"57\", \"57\", \"66\", \"86\", \"111\", \"117\", \"107\", \"101\", \"93\", \"93\", \"95\", \"99\", \"110\", \"117\", \"121\", \"126\", \"140\", \"150\", \"151\", \"155\", \"172\", \"179\", \"184\", \"192\", \"204\", \"194\", \"194\", \"198\", \"203\", \"213\", \"220\", \"221\", \"236\", \"236\", \"233\", \"230\", \"242\", \"235\", \"229\", \"231\", \"223\", \"215\", \"207\", \"201\", \"195\", \"192\", \"190\", \"184\", \"182\", \"179\", \"174\", \"171\", \"170\", \"166\", \"156\", \"150\", \"145\", \"145\"], \"y0\": \" \", \"yaxis\": \"y\"}, {\"alignmentgroup\": \"True\", \"boxpoints\": \"all\", \"hoverlabel\": {\"namelength\": 0}, \"hovertemplate\": \"Day=%{x}<br>Glucose Value (mg/dL)=%{y}\", \"legendgroup\": \"Day=Wednesday\", \"marker\": {\"color\": \"#ab63fa\"}, \"name\": \"Day=Wednesday\", \"notched\": false, \"offsetgroup\": \"Day=Wednesday\", \"orientation\": \"v\", \"showlegend\": true, \"type\": \"box\", \"x\": [\"Wednesday\", \"Wednesday\", \"Wednesday\", \"Wednesday\", \"Wednesday\", \"Wednesday\", \"Wednesday\", \"Wednesday\", \"Wednesday\", \"Wednesday\", \"Wednesday\", \"Wednesday\", \"Wednesday\", \"Wednesday\", \"Wednesday\", \"Wednesday\", \"Wednesday\", \"Wednesday\", \"Wednesday\", \"Wednesday\", \"Wednesday\", \"Wednesday\", \"Wednesday\", \"Wednesday\", \"Wednesday\", \"Wednesday\", \"Wednesday\", \"Wednesday\", \"Wednesday\", \"Wednesday\", \"Wednesday\", \"Wednesday\", \"Wednesday\", \"Wednesday\", \"Wednesday\", \"Wednesday\", \"Wednesday\", \"Wednesday\", \"Wednesday\", \"Wednesday\", \"Wednesday\", \"Wednesday\", \"Wednesday\", \"Wednesday\", \"Wednesday\", \"Wednesday\", \"Wednesday\", \"Wednesday\", \"Wednesday\", \"Wednesday\", \"Wednesday\", \"Wednesday\", \"Wednesday\", \"Wednesday\", \"Wednesday\", \"Wednesday\", \"Wednesday\", \"Wednesday\", \"Wednesday\", \"Wednesday\", \"Wednesday\", \"Wednesday\", \"Wednesday\", \"Wednesday\", \"Wednesday\", \"Wednesday\", \"Wednesday\", \"Wednesday\", \"Wednesday\", \"Wednesday\", \"Wednesday\", \"Wednesday\", \"Wednesday\", \"Wednesday\", \"Wednesday\", \"Wednesday\", \"Wednesday\", \"Wednesday\", \"Wednesday\", \"Wednesday\", \"Wednesday\", \"Wednesday\", \"Wednesday\", \"Wednesday\", \"Wednesday\", \"Wednesday\", \"Wednesday\", \"Wednesday\", \"Wednesday\", \"Wednesday\", \"Wednesday\", \"Wednesday\", \"Wednesday\", \"Wednesday\", \"Wednesday\", \"Wednesday\", \"Wednesday\", \"Wednesday\", \"Wednesday\", \"Wednesday\", \"Wednesday\", \"Wednesday\", \"Wednesday\", \"Wednesday\", \"Wednesday\", \"Wednesday\", \"Wednesday\", \"Wednesday\", \"Wednesday\", \"Wednesday\", \"Wednesday\", \"Wednesday\", \"Wednesday\", \"Wednesday\", \"Wednesday\", \"Wednesday\", \"Wednesday\", \"Wednesday\", \"Wednesday\", \"Wednesday\", \"Wednesday\", \"Wednesday\", \"Wednesday\", \"Wednesday\", \"Wednesday\", \"Wednesday\", \"Wednesday\", \"Wednesday\", \"Wednesday\", \"Wednesday\", \"Wednesday\", \"Wednesday\", \"Wednesday\", \"Wednesday\", \"Wednesday\", \"Wednesday\", \"Wednesday\", \"Wednesday\", \"Wednesday\", \"Wednesday\", \"Wednesday\", \"Wednesday\", \"Wednesday\", \"Wednesday\", \"Wednesday\", \"Wednesday\", \"Wednesday\", \"Wednesday\", \"Wednesday\", \"Wednesday\", \"Wednesday\", \"Wednesday\", \"Wednesday\", \"Wednesday\", \"Wednesday\", \"Wednesday\", \"Wednesday\", \"Wednesday\", \"Wednesday\", \"Wednesday\", \"Wednesday\", \"Wednesday\", \"Wednesday\", \"Wednesday\", \"Wednesday\", \"Wednesday\", \"Wednesday\", \"Wednesday\", \"Wednesday\", \"Wednesday\", \"Wednesday\", \"Wednesday\", \"Wednesday\", \"Wednesday\", \"Wednesday\", \"Wednesday\", \"Wednesday\", \"Wednesday\", \"Wednesday\", \"Wednesday\", \"Wednesday\", \"Wednesday\", \"Wednesday\", \"Wednesday\", \"Wednesday\", \"Wednesday\", \"Wednesday\", \"Wednesday\", \"Wednesday\", \"Wednesday\", \"Wednesday\", \"Wednesday\", \"Wednesday\", \"Wednesday\", \"Wednesday\", \"Wednesday\", \"Wednesday\", \"Wednesday\", \"Wednesday\", \"Wednesday\", \"Wednesday\", \"Wednesday\", \"Wednesday\", \"Wednesday\", \"Wednesday\", \"Wednesday\", \"Wednesday\", \"Wednesday\", \"Wednesday\", \"Wednesday\", \"Wednesday\", \"Wednesday\", \"Wednesday\", \"Wednesday\", \"Wednesday\", \"Wednesday\", \"Wednesday\", \"Wednesday\", \"Wednesday\", \"Wednesday\", \"Wednesday\", \"Wednesday\", \"Wednesday\", \"Wednesday\", \"Wednesday\", \"Wednesday\", \"Wednesday\", \"Wednesday\", \"Wednesday\", \"Wednesday\", \"Wednesday\", \"Wednesday\", \"Wednesday\", \"Wednesday\", \"Wednesday\", \"Wednesday\", \"Wednesday\", \"Wednesday\", \"Wednesday\", \"Wednesday\", \"Wednesday\", \"Wednesday\", \"Wednesday\", \"Wednesday\", \"Wednesday\", \"Wednesday\", \"Wednesday\", \"Wednesday\", \"Wednesday\", \"Wednesday\", \"Wednesday\", \"Wednesday\", \"Wednesday\", \"Wednesday\", \"Wednesday\", \"Wednesday\", \"Wednesday\", \"Wednesday\", \"Wednesday\", \"Wednesday\", \"Wednesday\", \"Wednesday\", \"Wednesday\", \"Wednesday\", \"Wednesday\", \"Wednesday\", \"Wednesday\", \"Wednesday\", \"Wednesday\", \"Wednesday\", \"Wednesday\", \"Wednesday\", \"Wednesday\", \"Wednesday\", \"Wednesday\", \"Wednesday\", \"Wednesday\", \"Wednesday\", \"Wednesday\", \"Wednesday\", \"Wednesday\", \"Wednesday\", \"Wednesday\", \"Wednesday\", \"Wednesday\", \"Wednesday\", \"Wednesday\", \"Wednesday\", \"Wednesday\", \"Wednesday\", \"Wednesday\", \"Wednesday\", \"Wednesday\", \"Wednesday\", \"Wednesday\", \"Wednesday\", \"Wednesday\", \"Wednesday\", \"Wednesday\", \"Wednesday\", \"Wednesday\", \"Wednesday\", \"Wednesday\", \"Wednesday\", \"Wednesday\", \"Wednesday\", \"Wednesday\", \"Wednesday\", \"Wednesday\", \"Wednesday\", \"Wednesday\", \"Wednesday\", \"Wednesday\", \"Wednesday\", \"Wednesday\", \"Wednesday\", \"Wednesday\", \"Wednesday\", \"Wednesday\", \"Wednesday\", \"Wednesday\", \"Wednesday\", \"Wednesday\", \"Wednesday\", \"Wednesday\", \"Wednesday\", \"Wednesday\", \"Wednesday\", \"Wednesday\", \"Wednesday\", \"Wednesday\", \"Wednesday\", \"Wednesday\", \"Wednesday\", \"Wednesday\", \"Wednesday\", \"Wednesday\", \"Wednesday\", \"Wednesday\", \"Wednesday\", \"Wednesday\", \"Wednesday\", \"Wednesday\", \"Wednesday\", \"Wednesday\", \"Wednesday\", \"Wednesday\", \"Wednesday\", \"Wednesday\", \"Wednesday\", \"Wednesday\", \"Wednesday\", \"Wednesday\", \"Wednesday\", \"Wednesday\", \"Wednesday\", \"Wednesday\", \"Wednesday\", \"Wednesday\", \"Wednesday\", \"Wednesday\", \"Wednesday\", \"Wednesday\", \"Wednesday\", \"Wednesday\", \"Wednesday\", \"Wednesday\", \"Wednesday\", \"Wednesday\", \"Wednesday\", \"Wednesday\", \"Wednesday\", \"Wednesday\", \"Wednesday\", \"Wednesday\", \"Wednesday\", \"Wednesday\", \"Wednesday\", \"Wednesday\", \"Wednesday\", \"Wednesday\", \"Wednesday\", \"Wednesday\", \"Wednesday\", \"Wednesday\", \"Wednesday\", \"Wednesday\", \"Wednesday\", \"Wednesday\", \"Wednesday\", \"Wednesday\", \"Wednesday\", \"Wednesday\", \"Wednesday\", \"Wednesday\", \"Wednesday\", \"Wednesday\", \"Wednesday\", \"Wednesday\", \"Wednesday\", \"Wednesday\", \"Wednesday\", \"Wednesday\", \"Wednesday\", \"Wednesday\", \"Wednesday\", \"Wednesday\", \"Wednesday\", \"Wednesday\", \"Wednesday\", \"Wednesday\", \"Wednesday\", \"Wednesday\", \"Wednesday\", \"Wednesday\", \"Wednesday\", \"Wednesday\", \"Wednesday\", \"Wednesday\", \"Wednesday\", \"Wednesday\", \"Wednesday\", \"Wednesday\", \"Wednesday\", \"Wednesday\", \"Wednesday\", \"Wednesday\", \"Wednesday\", \"Wednesday\", \"Wednesday\", \"Wednesday\", \"Wednesday\", \"Wednesday\", \"Wednesday\", \"Wednesday\", \"Wednesday\", \"Wednesday\", \"Wednesday\", \"Wednesday\", \"Wednesday\", \"Wednesday\", \"Wednesday\", \"Wednesday\", \"Wednesday\", \"Wednesday\", \"Wednesday\", \"Wednesday\", \"Wednesday\", \"Wednesday\", \"Wednesday\", \"Wednesday\", \"Wednesday\", \"Wednesday\", \"Wednesday\", \"Wednesday\", \"Wednesday\", \"Wednesday\", \"Wednesday\", \"Wednesday\", \"Wednesday\", \"Wednesday\", \"Wednesday\", \"Wednesday\", \"Wednesday\", \"Wednesday\", \"Wednesday\", \"Wednesday\", \"Wednesday\", \"Wednesday\", \"Wednesday\", \"Wednesday\", \"Wednesday\", \"Wednesday\", \"Wednesday\", \"Wednesday\", \"Wednesday\", \"Wednesday\", \"Wednesday\", \"Wednesday\", \"Wednesday\", \"Wednesday\", \"Wednesday\", \"Wednesday\", \"Wednesday\", \"Wednesday\", \"Wednesday\", \"Wednesday\", \"Wednesday\", \"Wednesday\", \"Wednesday\", \"Wednesday\", \"Wednesday\", \"Wednesday\", \"Wednesday\", \"Wednesday\", \"Wednesday\", \"Wednesday\", \"Wednesday\", \"Wednesday\", \"Wednesday\", \"Wednesday\", \"Wednesday\", \"Wednesday\", \"Wednesday\", \"Wednesday\", \"Wednesday\", \"Wednesday\", \"Wednesday\", \"Wednesday\", \"Wednesday\", \"Wednesday\", \"Wednesday\", \"Wednesday\", \"Wednesday\", \"Wednesday\", \"Wednesday\", \"Wednesday\", \"Wednesday\", \"Wednesday\", \"Wednesday\", \"Wednesday\", \"Wednesday\", \"Wednesday\", \"Wednesday\", \"Wednesday\", \"Wednesday\", \"Wednesday\", \"Wednesday\", \"Wednesday\", \"Wednesday\", \"Wednesday\", \"Wednesday\", \"Wednesday\", \"Wednesday\", \"Wednesday\", \"Wednesday\", \"Wednesday\", \"Wednesday\", \"Wednesday\", \"Wednesday\", \"Wednesday\", \"Wednesday\", \"Wednesday\", \"Wednesday\", \"Wednesday\", \"Wednesday\", \"Wednesday\", \"Wednesday\", \"Wednesday\", \"Wednesday\", \"Wednesday\", \"Wednesday\", \"Wednesday\", \"Wednesday\", \"Wednesday\", \"Wednesday\", \"Wednesday\", \"Wednesday\", \"Wednesday\", \"Wednesday\", \"Wednesday\", \"Wednesday\", \"Wednesday\", \"Wednesday\", \"Wednesday\", \"Wednesday\", \"Wednesday\", \"Wednesday\", \"Wednesday\", \"Wednesday\", \"Wednesday\", \"Wednesday\", \"Wednesday\", \"Wednesday\", \"Wednesday\", \"Wednesday\", \"Wednesday\", \"Wednesday\", \"Wednesday\", \"Wednesday\", \"Wednesday\", \"Wednesday\", \"Wednesday\", \"Wednesday\", \"Wednesday\", \"Wednesday\", \"Wednesday\", \"Wednesday\", \"Wednesday\", \"Wednesday\", \"Wednesday\", \"Wednesday\", \"Wednesday\", \"Wednesday\", \"Wednesday\", \"Wednesday\", \"Wednesday\", \"Wednesday\", \"Wednesday\", \"Wednesday\", \"Wednesday\", \"Wednesday\", \"Wednesday\", \"Wednesday\", \"Wednesday\", \"Wednesday\", \"Wednesday\", \"Wednesday\", \"Wednesday\", \"Wednesday\", \"Wednesday\", \"Wednesday\", \"Wednesday\", \"Wednesday\", \"Wednesday\", \"Wednesday\", \"Wednesday\", \"Wednesday\", \"Wednesday\", \"Wednesday\", \"Wednesday\", \"Wednesday\", \"Wednesday\", \"Wednesday\", \"Wednesday\", \"Wednesday\", \"Wednesday\", \"Wednesday\", \"Wednesday\", \"Wednesday\", \"Wednesday\", \"Wednesday\", \"Wednesday\", \"Wednesday\", \"Wednesday\", \"Wednesday\", \"Wednesday\", \"Wednesday\", \"Wednesday\", \"Wednesday\", \"Wednesday\", \"Wednesday\", \"Wednesday\", \"Wednesday\", \"Wednesday\", \"Wednesday\", \"Wednesday\", \"Wednesday\", \"Wednesday\", \"Wednesday\", \"Wednesday\", \"Wednesday\", \"Wednesday\", \"Wednesday\", \"Wednesday\", \"Wednesday\", \"Wednesday\", \"Wednesday\", \"Wednesday\", \"Wednesday\", \"Wednesday\", \"Wednesday\", \"Wednesday\", \"Wednesday\", \"Wednesday\", \"Wednesday\", \"Wednesday\", \"Wednesday\", \"Wednesday\", \"Wednesday\", \"Wednesday\", \"Wednesday\", \"Wednesday\", \"Wednesday\", \"Wednesday\", \"Wednesday\", \"Wednesday\", \"Wednesday\", \"Wednesday\", \"Wednesday\", \"Wednesday\", \"Wednesday\", \"Wednesday\", \"Wednesday\", \"Wednesday\", \"Wednesday\", \"Wednesday\", \"Wednesday\", \"Wednesday\", \"Wednesday\", \"Wednesday\", \"Wednesday\", \"Wednesday\", \"Wednesday\", \"Wednesday\", \"Wednesday\", \"Wednesday\", \"Wednesday\", \"Wednesday\", \"Wednesday\", \"Wednesday\", \"Wednesday\", \"Wednesday\", \"Wednesday\", \"Wednesday\", \"Wednesday\", \"Wednesday\", \"Wednesday\", \"Wednesday\", \"Wednesday\", \"Wednesday\", \"Wednesday\", \"Wednesday\", \"Wednesday\", \"Wednesday\", \"Wednesday\", \"Wednesday\", \"Wednesday\", \"Wednesday\", \"Wednesday\", \"Wednesday\", \"Wednesday\", \"Wednesday\", \"Wednesday\", \"Wednesday\", \"Wednesday\", \"Wednesday\", \"Wednesday\", \"Wednesday\", \"Wednesday\", \"Wednesday\", \"Wednesday\", \"Wednesday\", \"Wednesday\", \"Wednesday\", \"Wednesday\", \"Wednesday\", \"Wednesday\", \"Wednesday\", \"Wednesday\", \"Wednesday\", \"Wednesday\", \"Wednesday\", \"Wednesday\", \"Wednesday\", \"Wednesday\", \"Wednesday\", \"Wednesday\", \"Wednesday\", \"Wednesday\", \"Wednesday\", \"Wednesday\", \"Wednesday\", \"Wednesday\", \"Wednesday\", \"Wednesday\", \"Wednesday\", \"Wednesday\", \"Wednesday\", \"Wednesday\", \"Wednesday\", \"Wednesday\", \"Wednesday\", \"Wednesday\", \"Wednesday\", \"Wednesday\", \"Wednesday\", \"Wednesday\", \"Wednesday\", \"Wednesday\", \"Wednesday\", \"Wednesday\", \"Wednesday\", \"Wednesday\", \"Wednesday\", \"Wednesday\", \"Wednesday\", \"Wednesday\", \"Wednesday\", \"Wednesday\", \"Wednesday\", \"Wednesday\", \"Wednesday\", \"Wednesday\", \"Wednesday\", \"Wednesday\", \"Wednesday\", \"Wednesday\", \"Wednesday\", \"Wednesday\", \"Wednesday\", \"Wednesday\", \"Wednesday\", \"Wednesday\", \"Wednesday\", \"Wednesday\", \"Wednesday\", \"Wednesday\", \"Wednesday\", \"Wednesday\", \"Wednesday\", \"Wednesday\", \"Wednesday\", \"Wednesday\", \"Wednesday\", \"Wednesday\", \"Wednesday\", \"Wednesday\", \"Wednesday\", \"Wednesday\", \"Wednesday\", \"Wednesday\", \"Wednesday\", \"Wednesday\", \"Wednesday\", \"Wednesday\", \"Wednesday\", \"Wednesday\", \"Wednesday\", \"Wednesday\", \"Wednesday\", \"Wednesday\", \"Wednesday\", \"Wednesday\", \"Wednesday\", \"Wednesday\", \"Wednesday\", \"Wednesday\", \"Wednesday\", \"Wednesday\", \"Wednesday\", \"Wednesday\", \"Wednesday\", \"Wednesday\", \"Wednesday\", \"Wednesday\", \"Wednesday\", \"Wednesday\", \"Wednesday\", \"Wednesday\", \"Wednesday\", \"Wednesday\", \"Wednesday\", \"Wednesday\", \"Wednesday\", \"Wednesday\", \"Wednesday\", \"Wednesday\", \"Wednesday\", \"Wednesday\", \"Wednesday\", \"Wednesday\", \"Wednesday\", \"Wednesday\", \"Wednesday\", \"Wednesday\", \"Wednesday\", \"Wednesday\", \"Wednesday\", \"Wednesday\", \"Wednesday\", \"Wednesday\", \"Wednesday\", \"Wednesday\", \"Wednesday\", \"Wednesday\", \"Wednesday\", \"Wednesday\", \"Wednesday\", \"Wednesday\", \"Wednesday\", \"Wednesday\", \"Wednesday\", \"Wednesday\", \"Wednesday\", \"Wednesday\", \"Wednesday\", \"Wednesday\", \"Wednesday\", \"Wednesday\", \"Wednesday\", \"Wednesday\", \"Wednesday\", \"Wednesday\", \"Wednesday\", \"Wednesday\", \"Wednesday\", \"Wednesday\", \"Wednesday\", \"Wednesday\", \"Wednesday\", \"Wednesday\", \"Wednesday\", \"Wednesday\", \"Wednesday\", \"Wednesday\", \"Wednesday\", \"Wednesday\", \"Wednesday\", \"Wednesday\", \"Wednesday\", \"Wednesday\", \"Wednesday\", \"Wednesday\", \"Wednesday\", \"Wednesday\", \"Wednesday\", \"Wednesday\", \"Wednesday\", \"Wednesday\", \"Wednesday\", \"Wednesday\", \"Wednesday\", \"Wednesday\", \"Wednesday\", \"Wednesday\", \"Wednesday\", \"Wednesday\", \"Wednesday\", \"Wednesday\", \"Wednesday\", \"Wednesday\", \"Wednesday\", \"Wednesday\", \"Wednesday\", \"Wednesday\", \"Wednesday\", \"Wednesday\", \"Wednesday\", \"Wednesday\", \"Wednesday\", \"Wednesday\", \"Wednesday\", \"Wednesday\", \"Wednesday\", \"Wednesday\", \"Wednesday\", \"Wednesday\", \"Wednesday\", \"Wednesday\", \"Wednesday\", \"Wednesday\", \"Wednesday\", \"Wednesday\", \"Wednesday\", \"Wednesday\", \"Wednesday\", \"Wednesday\", \"Wednesday\", \"Wednesday\", \"Wednesday\", \"Wednesday\", \"Wednesday\", \"Wednesday\", \"Wednesday\", \"Wednesday\", \"Wednesday\", \"Wednesday\", \"Wednesday\", \"Wednesday\", \"Wednesday\", \"Wednesday\", \"Wednesday\", \"Wednesday\", \"Wednesday\", \"Wednesday\", \"Wednesday\", \"Wednesday\", \"Wednesday\", \"Wednesday\", \"Wednesday\", \"Wednesday\", \"Wednesday\", \"Wednesday\", \"Wednesday\", \"Wednesday\", \"Wednesday\", \"Wednesday\", \"Wednesday\", \"Wednesday\", \"Wednesday\", \"Wednesday\", \"Wednesday\", \"Wednesday\", \"Wednesday\", \"Wednesday\", \"Wednesday\", \"Wednesday\", \"Wednesday\", \"Wednesday\", \"Wednesday\", \"Wednesday\", \"Wednesday\", \"Wednesday\", \"Wednesday\", \"Wednesday\", \"Wednesday\", \"Wednesday\", \"Wednesday\", \"Wednesday\", \"Wednesday\", \"Wednesday\", \"Wednesday\", \"Wednesday\", \"Wednesday\", \"Wednesday\", \"Wednesday\", \"Wednesday\", \"Wednesday\", \"Wednesday\", \"Wednesday\", \"Wednesday\", \"Wednesday\", \"Wednesday\", \"Wednesday\", \"Wednesday\", \"Wednesday\", \"Wednesday\", \"Wednesday\", \"Wednesday\", \"Wednesday\", \"Wednesday\", \"Wednesday\", \"Wednesday\", \"Wednesday\", \"Wednesday\", \"Wednesday\", \"Wednesday\", \"Wednesday\", \"Wednesday\", \"Wednesday\", \"Wednesday\", \"Wednesday\", \"Wednesday\", \"Wednesday\", \"Wednesday\", \"Wednesday\", \"Wednesday\", \"Wednesday\", \"Wednesday\", \"Wednesday\", \"Wednesday\", \"Wednesday\", \"Wednesday\", \"Wednesday\", \"Wednesday\", \"Wednesday\", \"Wednesday\", \"Wednesday\", \"Wednesday\", \"Wednesday\", \"Wednesday\", \"Wednesday\", \"Wednesday\", \"Wednesday\", \"Wednesday\", \"Wednesday\", \"Wednesday\", \"Wednesday\", \"Wednesday\", \"Wednesday\", \"Wednesday\", \"Wednesday\", \"Wednesday\", \"Wednesday\", \"Wednesday\", \"Wednesday\", \"Wednesday\", \"Wednesday\", \"Wednesday\", \"Wednesday\", \"Wednesday\", \"Wednesday\", \"Wednesday\", \"Wednesday\", \"Wednesday\", \"Wednesday\", \"Wednesday\", \"Wednesday\", \"Wednesday\", \"Wednesday\", \"Wednesday\", \"Wednesday\", \"Wednesday\", \"Wednesday\", \"Wednesday\", \"Wednesday\", \"Wednesday\", \"Wednesday\", \"Wednesday\", \"Wednesday\", \"Wednesday\", \"Wednesday\", \"Wednesday\", \"Wednesday\", \"Wednesday\", \"Wednesday\", \"Wednesday\", \"Wednesday\", \"Wednesday\", \"Wednesday\", \"Wednesday\", \"Wednesday\", \"Wednesday\", \"Wednesday\", \"Wednesday\", \"Wednesday\", \"Wednesday\", \"Wednesday\", \"Wednesday\", \"Wednesday\", \"Wednesday\", \"Wednesday\", \"Wednesday\", \"Wednesday\", \"Wednesday\", \"Wednesday\", \"Wednesday\", \"Wednesday\", \"Wednesday\", \"Wednesday\", \"Wednesday\", \"Wednesday\", \"Wednesday\", \"Wednesday\", \"Wednesday\", \"Wednesday\", \"Wednesday\", \"Wednesday\", \"Wednesday\", \"Wednesday\", \"Wednesday\", \"Wednesday\", \"Wednesday\", \"Wednesday\", \"Wednesday\", \"Wednesday\", \"Wednesday\", \"Wednesday\", \"Wednesday\", \"Wednesday\", \"Wednesday\", \"Wednesday\", \"Wednesday\", \"Wednesday\", \"Wednesday\", \"Wednesday\", \"Wednesday\", \"Wednesday\", \"Wednesday\", \"Wednesday\", \"Wednesday\", \"Wednesday\", \"Wednesday\", \"Wednesday\", \"Wednesday\", \"Wednesday\", \"Wednesday\", \"Wednesday\", \"Wednesday\", \"Wednesday\", \"Wednesday\", \"Wednesday\", \"Wednesday\", \"Wednesday\", \"Wednesday\", \"Wednesday\", \"Wednesday\", \"Wednesday\", \"Wednesday\", \"Wednesday\", \"Wednesday\", \"Wednesday\", \"Wednesday\", \"Wednesday\", \"Wednesday\", \"Wednesday\", \"Wednesday\", \"Wednesday\", \"Wednesday\", \"Wednesday\", \"Wednesday\", \"Wednesday\", \"Wednesday\", \"Wednesday\", \"Wednesday\", \"Wednesday\", \"Wednesday\", \"Wednesday\", \"Wednesday\", \"Wednesday\", \"Wednesday\", \"Wednesday\", \"Wednesday\", \"Wednesday\", \"Wednesday\", \"Wednesday\", \"Wednesday\", \"Wednesday\", \"Wednesday\", \"Wednesday\", \"Wednesday\", \"Wednesday\", \"Wednesday\", \"Wednesday\", \"Wednesday\", \"Wednesday\", \"Wednesday\", \"Wednesday\", \"Wednesday\", \"Wednesday\", \"Wednesday\", \"Wednesday\", \"Wednesday\", \"Wednesday\", \"Wednesday\", \"Wednesday\", \"Wednesday\", \"Wednesday\", \"Wednesday\", \"Wednesday\", \"Wednesday\", \"Wednesday\", \"Wednesday\", \"Wednesday\", \"Wednesday\", \"Wednesday\", \"Wednesday\", \"Wednesday\", \"Wednesday\", \"Wednesday\", \"Wednesday\", \"Wednesday\", \"Wednesday\", \"Wednesday\", \"Wednesday\", \"Wednesday\", \"Wednesday\", \"Wednesday\", \"Wednesday\", \"Wednesday\", \"Wednesday\", \"Wednesday\", \"Wednesday\", \"Wednesday\", \"Wednesday\", \"Wednesday\", \"Wednesday\", \"Wednesday\", \"Wednesday\", \"Wednesday\", \"Wednesday\", \"Wednesday\", \"Wednesday\", \"Wednesday\", \"Wednesday\", \"Wednesday\", \"Wednesday\", \"Wednesday\", \"Wednesday\", \"Wednesday\", \"Wednesday\", \"Wednesday\", \"Wednesday\", \"Wednesday\", \"Wednesday\", \"Wednesday\", \"Wednesday\", \"Wednesday\", \"Wednesday\", \"Wednesday\", \"Wednesday\", \"Wednesday\", \"Wednesday\", \"Wednesday\", \"Wednesday\", \"Wednesday\", \"Wednesday\", \"Wednesday\", \"Wednesday\", \"Wednesday\", \"Wednesday\", \"Wednesday\", \"Wednesday\", \"Wednesday\", \"Wednesday\", \"Wednesday\", \"Wednesday\", \"Wednesday\", \"Wednesday\", \"Wednesday\", \"Wednesday\", \"Wednesday\", \"Wednesday\", \"Wednesday\", \"Wednesday\", \"Wednesday\", \"Wednesday\", \"Wednesday\", \"Wednesday\", \"Wednesday\", \"Wednesday\", \"Wednesday\", \"Wednesday\", \"Wednesday\", \"Wednesday\", \"Wednesday\", \"Wednesday\", \"Wednesday\", \"Wednesday\", \"Wednesday\", \"Wednesday\", \"Wednesday\", \"Wednesday\", \"Wednesday\", \"Wednesday\", \"Wednesday\", \"Wednesday\", \"Wednesday\", \"Wednesday\", \"Wednesday\", \"Wednesday\", \"Wednesday\", \"Wednesday\", \"Wednesday\", \"Wednesday\", \"Wednesday\", \"Wednesday\", \"Wednesday\", \"Wednesday\", \"Wednesday\", \"Wednesday\", \"Wednesday\", \"Wednesday\", \"Wednesday\", \"Wednesday\", \"Wednesday\", \"Wednesday\", \"Wednesday\", \"Wednesday\", \"Wednesday\", \"Wednesday\", \"Wednesday\", \"Wednesday\", \"Wednesday\", \"Wednesday\", \"Wednesday\", \"Wednesday\", \"Wednesday\", \"Wednesday\", \"Wednesday\", \"Wednesday\", \"Wednesday\", \"Wednesday\", \"Wednesday\", \"Wednesday\", \"Wednesday\", \"Wednesday\", \"Wednesday\", \"Wednesday\", \"Wednesday\", \"Wednesday\", \"Wednesday\", \"Wednesday\", \"Wednesday\", \"Wednesday\", \"Wednesday\", \"Wednesday\", \"Wednesday\", \"Wednesday\", \"Wednesday\", \"Wednesday\", \"Wednesday\", \"Wednesday\", \"Wednesday\", \"Wednesday\", \"Wednesday\", \"Wednesday\", \"Wednesday\", \"Wednesday\", \"Wednesday\", \"Wednesday\", \"Wednesday\", \"Wednesday\", \"Wednesday\", \"Wednesday\", \"Wednesday\", \"Wednesday\", \"Wednesday\", \"Wednesday\", \"Wednesday\", \"Wednesday\", \"Wednesday\", \"Wednesday\", \"Wednesday\", \"Wednesday\", \"Wednesday\", \"Wednesday\", \"Wednesday\", \"Wednesday\", \"Wednesday\", \"Wednesday\", \"Wednesday\", \"Wednesday\", \"Wednesday\", \"Wednesday\", \"Wednesday\", \"Wednesday\", \"Wednesday\", \"Wednesday\", \"Wednesday\", \"Wednesday\", \"Wednesday\", \"Wednesday\", \"Wednesday\", \"Wednesday\", \"Wednesday\", \"Wednesday\", \"Wednesday\", \"Wednesday\", \"Wednesday\", \"Wednesday\", \"Wednesday\", \"Wednesday\", \"Wednesday\", \"Wednesday\", \"Wednesday\", \"Wednesday\", \"Wednesday\", \"Wednesday\", \"Wednesday\", \"Wednesday\", \"Wednesday\", \"Wednesday\", \"Wednesday\", \"Wednesday\", \"Wednesday\", \"Wednesday\", \"Wednesday\", \"Wednesday\", \"Wednesday\", \"Wednesday\", \"Wednesday\", \"Wednesday\", \"Wednesday\", \"Wednesday\", \"Wednesday\", \"Wednesday\", \"Wednesday\", \"Wednesday\", \"Wednesday\", \"Wednesday\", \"Wednesday\", \"Wednesday\", \"Wednesday\", \"Wednesday\", \"Wednesday\", \"Wednesday\", \"Wednesday\", \"Wednesday\", \"Wednesday\", \"Wednesday\", \"Wednesday\", \"Wednesday\", \"Wednesday\", \"Wednesday\", \"Wednesday\", \"Wednesday\", \"Wednesday\", \"Wednesday\", \"Wednesday\", \"Wednesday\", \"Wednesday\", \"Wednesday\", \"Wednesday\", \"Wednesday\", \"Wednesday\", \"Wednesday\", \"Wednesday\", \"Wednesday\", \"Wednesday\", \"Wednesday\", \"Wednesday\", \"Wednesday\", \"Wednesday\", \"Wednesday\", \"Wednesday\", \"Wednesday\", \"Wednesday\", \"Wednesday\", \"Wednesday\", \"Wednesday\", \"Wednesday\", \"Wednesday\", \"Wednesday\", \"Wednesday\", \"Wednesday\", \"Wednesday\", \"Wednesday\", \"Wednesday\", \"Wednesday\", \"Wednesday\", \"Wednesday\", \"Wednesday\", \"Wednesday\", \"Wednesday\", \"Wednesday\", \"Wednesday\", \"Wednesday\", \"Wednesday\", \"Wednesday\", \"Wednesday\", \"Wednesday\", \"Wednesday\", \"Wednesday\", \"Wednesday\", \"Wednesday\", \"Wednesday\", \"Wednesday\", \"Wednesday\", \"Wednesday\", \"Wednesday\", \"Wednesday\", \"Wednesday\", \"Wednesday\", \"Wednesday\", \"Wednesday\", \"Wednesday\", \"Wednesday\", \"Wednesday\", \"Wednesday\", \"Wednesday\", \"Wednesday\", \"Wednesday\", \"Wednesday\", \"Wednesday\", \"Wednesday\", \"Wednesday\", \"Wednesday\", \"Wednesday\", \"Wednesday\", \"Wednesday\", \"Wednesday\", \"Wednesday\", \"Wednesday\", \"Wednesday\", \"Wednesday\", \"Wednesday\", \"Wednesday\", \"Wednesday\", \"Wednesday\", \"Wednesday\", \"Wednesday\", \"Wednesday\", \"Wednesday\", \"Wednesday\", \"Wednesday\", \"Wednesday\", \"Wednesday\", \"Wednesday\", \"Wednesday\", \"Wednesday\", \"Wednesday\", \"Wednesday\", \"Wednesday\", \"Wednesday\", \"Wednesday\", \"Wednesday\", \"Wednesday\", \"Wednesday\", \"Wednesday\", \"Wednesday\", \"Wednesday\", \"Wednesday\", \"Wednesday\", \"Wednesday\", \"Wednesday\", \"Wednesday\", \"Wednesday\", \"Wednesday\", \"Wednesday\", \"Wednesday\", \"Wednesday\", \"Wednesday\", \"Wednesday\", \"Wednesday\", \"Wednesday\", \"Wednesday\", \"Wednesday\", \"Wednesday\", \"Wednesday\", \"Wednesday\", \"Wednesday\", \"Wednesday\", \"Wednesday\", \"Wednesday\", \"Wednesday\", \"Wednesday\", \"Wednesday\", \"Wednesday\", \"Wednesday\", \"Wednesday\", \"Wednesday\", \"Wednesday\", \"Wednesday\", \"Wednesday\", \"Wednesday\", \"Wednesday\", \"Wednesday\", \"Wednesday\", \"Wednesday\", \"Wednesday\", \"Wednesday\", \"Wednesday\", \"Wednesday\", \"Wednesday\", \"Wednesday\", \"Wednesday\", \"Wednesday\", \"Wednesday\", \"Wednesday\", \"Wednesday\", \"Wednesday\", \"Wednesday\", \"Wednesday\", \"Wednesday\", \"Wednesday\", \"Wednesday\", \"Wednesday\", \"Wednesday\", \"Wednesday\", \"Wednesday\", \"Wednesday\", \"Wednesday\", \"Wednesday\", \"Wednesday\", \"Wednesday\", \"Wednesday\", \"Wednesday\", \"Wednesday\", \"Wednesday\", \"Wednesday\", \"Wednesday\", \"Wednesday\", \"Wednesday\", \"Wednesday\", \"Wednesday\", \"Wednesday\", \"Wednesday\", \"Wednesday\", \"Wednesday\", \"Wednesday\", \"Wednesday\", \"Wednesday\", \"Wednesday\", \"Wednesday\", \"Wednesday\", \"Wednesday\", \"Wednesday\", \"Wednesday\", \"Wednesday\", \"Wednesday\", \"Wednesday\", \"Wednesday\", \"Wednesday\", \"Wednesday\", \"Wednesday\", \"Wednesday\", \"Wednesday\", \"Wednesday\", \"Wednesday\", \"Wednesday\", \"Wednesday\", \"Wednesday\", \"Wednesday\", \"Wednesday\", \"Wednesday\", \"Wednesday\", \"Wednesday\", \"Wednesday\", \"Wednesday\", \"Wednesday\", \"Wednesday\", \"Wednesday\", \"Wednesday\", \"Wednesday\", \"Wednesday\", \"Wednesday\", \"Wednesday\", \"Wednesday\", \"Wednesday\", \"Wednesday\"], \"x0\": \" \", \"xaxis\": \"x\", \"y\": [\"164\", \"179\", \"185\", \"194\", \"203\", \"215\", \"223\", \"226\", \"223\", \"219\", \"217\", \"214\", \"209\", \"202\", \"196\", \"190\", \"182\", \"168\", \"162\", \"160\", \"158\", \"157\", \"155\", \"147\", \"140\", \"136\", \"133\", \"132\", \"131\", \"129\", \"128\", \"128\", \"127\", \"126\", \"127\", \"138\", \"145\", \"145\", \"143\", \"141\", \"140\", \"134\", \"124\", \"122\", \"122\", \"123\", \"122\", \"121\", \"120\", \"119\", \"118\", \"114\", \"112\", \"110\", \"110\", \"109\", \"108\", \"94\", \"79\", \"72\", \"71\", \"71\", \"71\", \"80\", \"96\", \"102\", \"99\", \"91\", \"87\", \"86\", \"87\", \"88\", \"91\", \"95\", \"98\", \"102\", \"105\", \"106\", \"105\", \"128\", \"145\", \"146\", \"143\", \"138\", \"136\", \"136\", \"133\", \"126\", \"131\", \"134\", \"135\", \"129\", \"121\", \"116\", \"125\", \"128\", \"130\", \"130\", \"131\", \"128\", \"125\", \"124\", \"123\", \"125\", \"127\", \"127\", \"127\", \"128\", \"125\", \"124\", \"124\", \"124\", \"130\", \"125\", \"112\", \"104\", \"104\", \"116\", \"132\", \"150\", \"163\", \"155\", \"150\", \"156\", \"165\", \"172\", \"177\", \"176\", \"173\", \"172\", \"165\", \"163\", \"163\", \"165\", \"181\", \"176\", \"164\", \"138\", \"115\", \"106\", \"109\", \"112\", \"116\", \"124\", \"118\", \"114\", \"115\", \"115\", \"115\", \"118\", \"124\", \"129\", \"136\", \"141\", \"146\", \"151\", \"156\", \"158\", \"158\", \"159\", \"161\", \"162\", \"161\", \"161\", \"162\", \"163\", \"166\", \"162\", \"156\", \"146\", \"146\", \"148\", \"145\", \"139\", \"137\", \"132\", \"128\", \"124\", \"121\", \"119\", \"113\", \"109\", \"103\", \"104\", \"95\", \"97\", \"93\", \"89\", \"88\", \"87\", \"88\", \"92\", \"110\", \"120\", \"120\", \"123\", \"130\", \"141\", \"162\", \"178\", \"190\", \"202\", \"204\", \"212\", \"225\", \"252\", \"275\", \"292\", \"303\", \"315\", \"318\", \"308\", \"318\", \"337\", \"346\", \"349\", \"346\", \"344\", \"337\", \"334\", \"332\", \"332\", \"330\", \"327\", \"318\", \"312\", \"304\", \"297\", \"288\", \"277\", \"266\", \"257\", \"246\", \"241\", \"235\", \"230\", \"228\", \"227\", \"229\", \"230\", \"235\", \"241\", \"240\", \"233\", \"224\", \"224\", \"216\", \"199\", \"198\", \"183\", \"169\", \"151\", \"139\", \"126\", \"116\", \"109\", \"107\", \"106\", \"109\", \"113\", \"116\", \"117\", \"118\", \"118\", \"118\", \"118\", \"113\", \"108\", \"107\", \"105\", \"96\", \"91\", \"86\", \"83\", \"83\", \"81\", \"80\", \"81\", \"87\", \"89\", \"94\", \"104\", \"114\", \"120\", \"123\", \"122\", \"117\", \"114\", \"103\", \"109\", \"111\", \"108\", \"106\", \"106\", \"105\", \"106\", \"103\", \"106\", \"109\", \"111\", \"112\", \"114\", \"117\", \"119\", \"118\", \"117\", \"113\", \"108\", \"106\", \"103\", \"102\", \"103\", \"103\", \"102\", \"101\", \"102\", \"99\", \"96\", \"95\", \"94\", \"94\", \"92\", \"91\", \"92\", \"93\", \"80\", \"96\", \"100\", \"102\", \"101\", \"98\", \"95\", \"93\", \"92\", \"91\", \"91\", \"91\", \"90\", \"90\", \"90\", \"89\", \"88\", \"87\", \"87\", \"89\", \"91\", \"93\", \"95\", \"96\", \"91\", \"91\", \"91\", \"93\", \"95\", \"97\", \"100\", \"96\", \"95\", \"96\", \"98\", \"101\", \"104\", \"100\", \"103\", \"107\", \"108\", \"110\", \"113\", \"124\", \"125\", \"129\", \"131\", \"133\", \"139\", \"141\", \"149\", \"151\", \"147\", \"146\", \"145\", \"149\", \"150\", \"149\", \"143\", \"146\", \"151\", \"156\", \"157\", \"157\", \"158\", \"163\", \"161\", \"159\", \"161\", \"159\", \"157\", \"153\", \"153\", \"158\", \"156\", \"160\", \"164\", \"169\", \"167\", \"166\", \"166\", \"160\", \"162\", \"165\", \"177\", \"185\", \"183\", \"177\", \"176\", \"175\", \"177\", \"175\", \"174\", \"176\", \"176\", \"174\", \"166\", \"161\", \"134\", \"122\", \"130\", \"108\", \"115\", \"133\", \"171\", \"184\", \"175\", \"159\", \"147\", \"130\", \"109\", \"100\", \"95\", \"99\", \"90\", \"83\", \"77\", \"72\", \"72\", \"80\", \"89\", \"64\", \"62\", \"72\", \"57\", \"42\", \"45\", \"40\", \"Low\", \"Low\", \"Low\", \"Low\", \"Low\", \"Low\", \"43\", \"46\", \"Low\", \"Low\", \"Low\", \"Low\", \"58\", \"44\", \"50\", \"65\", \"58\", \"44\", \"Low\", \"Low\", \"Low\", \"Low\", \"Low\", \"49\", \"55\", \"46\", \"Low\", \"Low\", \"66\", \"53\", \"55\", \"56\", \"52\", \"54\", \"79\", \"109\", \"121\", \"130\", \"132\", \"144\", \"157\", \"166\", \"170\", \"174\", \"170\", \"176\", \"189\", \"208\", \"230\", \"240\", \"250\", \"255\", \"265\", \"261\", \"245\", \"239\", \"258\", \"263\", \"274\", \"279\", \"276\", \"263\", \"249\", \"225\", \"202\", \"188\", \"190\", \"202\", \"204\", \"199\", \"194\", \"190\", \"185\", \"179\", \"174\", \"168\", \"163\", \"157\", \"153\", \"142\", \"128\", \"118\", \"110\", \"104\", \"100\", \"99\", \"96\", \"89\", \"82\", \"75\", \"70\", \"67\", \"65\", \"64\", \"64\", \"77\", \"103\", \"123\", \"126\", \"129\", \"134\", \"138\", \"141\", \"144\", \"148\", \"152\", \"155\", \"158\", \"160\", \"162\", \"163\", \"162\", \"126\", \"91\", \"117\", \"147\", \"168\", \"185\", \"193\", \"195\", \"183\", \"184\", \"182\", \"180\", \"177\", \"177\", \"174\", \"174\", \"186\", \"185\", \"182\", \"180\", \"179\", \"177\", \"176\", \"169\", \"168\", \"168\", \"168\", \"169\", \"162\", \"161\", \"163\", \"164\", \"166\", \"168\", \"170\", \"153\", \"156\", \"163\", \"170\", \"178\", \"181\", \"188\", \"188\", \"185\", \"183\", \"186\", \"187\", \"191\", \"181\", \"182\", \"168\", \"182\", \"182\", \"169\", \"177\", \"180\", \"179\", \"181\", \"190\", \"187\", \"186\", \"189\", \"192\", \"198\", \"199\", \"191\", \"194\", \"194\", \"188\", \"185\", \"187\", \"189\", \"192\", \"188\", \"188\", \"189\", \"191\", \"198\", \"196\", \"189\", \"184\", \"182\", \"180\", \"180\", \"187\", \"188\", \"189\", \"191\", \"191\", \"192\", \"192\", \"197\", \"193\", \"189\", \"190\", \"189\", \"191\", \"188\", \"182\", \"179\", \"174\", \"172\", \"169\", \"170\", \"163\", \"163\", \"171\", \"161\", \"163\", \"166\", \"179\", \"190\", \"199\", \"206\", \"209\", \"208\", \"198\", \"202\", \"202\", \"208\", \"212\", \"218\", \"218\", \"207\", \"224\", \"229\", \"230\", \"212\", \"237\", \"240\", \"239\", \"237\", \"220\", \"227\", \"223\", \"220\", \"212\", \"212\", \"210\", \"203\", \"195\", \"187\", \"182\", \"178\", \"175\", \"170\", \"165\", \"162\", \"162\", \"162\", \"161\", \"157\", \"155\", \"154\", \"152\", \"143\", \"153\", \"155\", \"144\", \"144\", \"148\", \"155\", \"163\", \"164\", \"161\", \"161\", \"162\", \"163\", \"165\", \"166\", \"142\", \"119\", \"151\", \"168\", \"178\", \"154\", \"126\", \"163\", \"169\", \"165\", \"181\", \"194\", \"200\", \"201\", \"196\", \"209\", \"212\", \"215\", \"212\", \"209\", \"206\", \"201\", \"195\", \"197\", \"192\", \"182\", \"164\", \"158\", \"145\", \"134\", \"121\", \"118\", \"109\", \"106\", \"107\", \"109\", \"115\", \"125\", \"128\", \"130\", \"126\", \"124\", \"120\", \"119\", \"120\", \"124\", \"127\", \"132\", \"136\", \"136\", \"128\", \"118\", \"119\", \"121\", \"125\", \"104\", \"120\", \"120\", \"123\", \"125\", \"130\", \"107\", \"60\", \"Low\", \"134\", \"143\", \"145\", \"153\", \"176\", \"192\", \"220\", \"237\", \"250\", \"248\", \"266\", \"270\", \"283\", \"288\", \"279\", \"288\", \"273\", \"265\", \"267\", \"254\", \"241\", \"251\", \"246\", \"248\", \"251\", \"251\", \"253\", \"251\", \"242\", \"103\", \"113\", \"115\", \"116\", \"110\", \"107\", \"122\", \"136\", \"139\", \"136\", \"136\", \"128\", \"145\", \"143\", \"144\", \"146\", \"148\", \"156\", \"163\", \"165\", \"184\", \"195\", \"207\", \"201\", \"199\", \"212\", \"219\", \"204\", \"183\", \"180\", \"180\", \"195\", \"180\", \"169\", \"164\", \"148\", \"150\", \"139\", \"134\", \"128\", \"122\", \"117\", \"113\", \"109\", \"105\", \"102\", \"99\", \"96\", \"94\", \"92\", \"90\", \"87\", \"85\", \"84\", \"82\", \"81\", \"80\", \"79\", \"78\", \"77\", \"76\", \"75\", \"74\", \"74\", \"73\", \"72\", \"74\", \"75\", \"77\", \"77\", \"76\", \"76\", \"75\", \"75\", \"75\", \"73\", \"69\", \"68\", \"67\", \"67\", \"67\", \"67\", \"67\", \"66\", \"66\", \"69\", \"68\", \"68\", \"73\", \"75\", \"72\", \"70\", \"70\", \"70\", \"71\", \"77\", \"76\", \"72\", \"76\", \"83\", \"91\", \"103\", \"112\", \"117\", \"122\", \"127\", \"136\", \"147\", \"156\", \"172\", \"164\", \"153\", \"162\", \"155\", \"165\", \"176\", \"175\", \"179\", \"175\", \"189\", \"187\", \"182\", \"161\", \"171\", \"169\", \"172\", \"185\", \"178\", \"175\", \"180\", \"187\", \"195\", \"202\", \"206\", \"200\", \"204\", \"207\", \"201\", \"189\", \"188\", \"193\", \"197\", \"187\", \"181\", \"183\", \"184\", \"196\", \"193\", \"189\", \"178\", \"169\", \"164\", \"165\", \"159\", \"148\", \"145\", \"151\", \"146\", \"139\", \"130\", \"124\", \"118\", \"118\", \"112\", \"109\", \"111\", \"113\", \"119\", \"120\", \"116\", \"111\", \"106\", \"107\", \"107\", \"118\", \"116\", \"117\", \"116\", \"114\", \"115\", \"114\", \"117\", \"119\", \"121\", \"122\", \"122\", \"123\", \"118\", \"127\", \"131\", \"126\", \"127\", \"127\", \"128\", \"128\", \"128\", \"124\", \"126\", \"131\", \"133\", \"136\", \"141\", \"146\", \"144\", \"140\", \"140\", \"142\", \"141\", \"137\", \"135\", \"133\", \"140\", \"143\", \"140\", \"140\", \"134\", \"133\", \"138\", \"145\", \"148\", \"150\", \"166\", \"163\", \"160\", \"159\", \"157\", \"158\", \"151\", \"146\", \"142\", \"146\", \"142\", \"142\", \"138\", \"134\", \"132\", \"134\", \"134\", \"133\", \"134\", \"132\", \"128\", \"125\", \"125\", \"128\", \"128\", \"127\", \"124\", \"120\", \"114\", \"107\", \"98\", \"93\", \"89\", \"85\", \"85\", \"86\", \"89\", \"94\", \"94\", \"99\", \"101\", \"109\", \"114\", \"115\", \"118\", \"123\", \"130\", \"151\", \"163\", \"170\", \"177\", \"181\", \"190\", \"169\", \"187\", \"191\", \"192\", \"173\", \"175\", \"181\", \"186\", \"196\", \"188\", \"173\", \"185\", \"207\", \"210\", \"135\", \"129\", \"119\", \"118\", \"118\", \"120\", \"121\", \"116\", \"112\", \"106\", \"95\", \"89\", \"84\", \"78\", \"79\", \"76\", \"72\", \"71\", \"64\", \"58\", \"54\", \"53\", \"52\", \"51\", \"49\", \"48\", \"47\", \"47\", \"49\", \"51\", \"53\", \"56\", \"58\", \"58\", \"58\", \"59\", \"62\", \"67\", \"72\", \"77\", \"83\", \"88\", \"112\", \"117\", \"118\", \"126\", \"107\", \"127\", \"142\", \"154\", \"159\", \"165\", \"174\", \"185\", \"195\", \"204\", \"212\", \"222\", \"231\", \"239\", \"246\", \"254\", \"253\", \"255\", \"258\", \"262\", \"266\", \"268\", \"270\", \"273\", \"273\", \"271\", \"268\", \"266\", \"264\", \"262\", \"260\", \"258\", \"258\", \"257\", \"255\", \"252\", \"247\", \"248\", \"251\", \"249\", \"245\", \"243\", \"239\", \"239\", \"239\", \"237\", \"231\", \"235\", \"237\", \"234\", \"231\", \"224\", \"216\", \"213\", \"217\", \"219\", \"220\", \"217\", \"214\", \"214\", \"213\", \"211\", \"210\", \"208\", \"207\", \"206\", \"198\", \"202\", \"204\", \"200\", \"197\", \"193\", \"189\", \"185\", \"181\", \"182\", \"181\", \"183\", \"187\", \"192\", \"201\", \"223\", \"225\", \"219\", \"209\", \"206\", \"195\", \"196\", \"182\", \"165\", \"155\", \"151\", \"154\", \"142\", \"135\", \"119\", \"112\", \"112\", \"125\", \"135\", \"132\", \"132\", \"132\", \"135\", \"145\", \"146\", \"139\", \"138\", \"138\", \"145\", \"152\", \"153\", \"150\", \"153\", \"153\", \"150\", \"155\", \"162\", \"168\", \"173\", \"173\", \"171\", \"171\", \"173\", \"187\", \"203\", \"196\", \"203\", \"210\", \"209\", \"209\", \"205\", \"198\", \"191\", \"187\", \"184\", \"184\", \"181\", \"178\", \"174\", \"172\", \"170\", \"166\", \"163\", \"163\", \"162\", \"159\", \"155\", \"158\", \"160\", \"155\", \"152\", \"151\", \"154\", \"155\", \"153\", \"152\", \"150\", \"148\", \"145\", \"141\", \"140\", \"141\", \"147\", \"153\", \"159\", \"163\", \"165\", \"168\", \"172\", \"174\", \"171\", \"176\", \"173\", \"177\", \"173\", \"169\", \"164\", \"158\", \"152\", \"149\", \"143\", \"138\", \"138\", \"141\", \"149\", \"159\", \"159\", \"153\", \"141\", \"133\", \"126\", \"120\", \"112\", \"105\", \"99\", \"95\", \"91\", \"87\", \"84\", \"80\", \"77\", \"77\", \"63\", \"53\", \"58\", \"63\", \"67\", \"67\", \"69\", \"67\", \"68\", \"70\", \"75\", \"79\", \"87\", \"90\", \"93\", \"101\", \"107\", \"124\", \"144\", \"162\", \"170\", \"170\", \"172\", \"179\", \"189\", \"189\", \"190\", \"214\", \"222\", \"222\", \"233\", \"232\", \"229\", \"224\", \"226\", \"231\", \"223\", \"208\", \"196\", \"141\", \"135\", \"129\", \"119\", \"108\", \"107\", \"106\", \"107\", \"107\", \"109\", \"112\", \"117\", \"126\", \"131\", \"124\", \"119\", \"118\", \"117\", \"124\", \"120\", \"112\", \"106\", \"101\", \"97\", \"91\", \"86\", \"82\", \"80\", \"77\", \"73\", \"70\", \"67\", \"65\", \"64\", \"63\", \"63\", \"63\", \"64\", \"66\", \"68\", \"71\", \"74\", \"77\", \"81\", \"84\", \"85\", \"84\", \"83\", \"83\", \"82\", \"83\", \"85\", \"85\", \"87\", \"88\", \"90\", \"90\", \"90\", \"89\", \"89\", \"88\", \"88\", \"89\", \"88\", \"89\", \"88\", \"88\", \"87\", \"87\", \"86\", \"87\", \"87\", \"81\", \"79\", \"79\", \"80\", \"81\", \"82\", \"84\", \"85\", \"82\", \"80\", \"80\", \"80\", \"88\", \"91\", \"90\", \"87\", \"89\", \"88\", \"88\", \"86\", \"85\", \"67\", \"58\", \"57\", \"71\", \"79\", \"84\", \"82\", \"77\", \"77\", \"76\", \"76\", \"75\", \"74\", \"80\", \"89\", \"103\", \"114\", \"124\", \"133\", \"134\", \"132\", \"132\", \"124\", \"124\", \"125\", \"121\", \"127\", \"125\", \"126\", \"129\", \"131\", \"132\", \"134\", \"134\", \"136\", \"137\", \"134\", \"136\", \"133\", \"134\", \"132\", \"131\", \"133\", \"137\", \"140\", \"143\", \"145\", \"148\", \"152\", \"153\", \"153\", \"152\", \"156\", \"158\", \"166\", \"163\", \"159\", \"159\", \"158\", \"166\", \"165\", \"170\", \"181\", \"175\", \"170\", \"166\", \"161\", \"165\", \"170\", \"168\", \"160\", \"153\", \"147\", \"147\", \"149\", \"153\", \"142\", \"142\", \"142\", \"146\", \"142\", \"138\", \"133\", \"132\", \"129\", \"126\", \"124\", \"124\", \"122\", \"121\", \"128\", \"140\", \"142\", \"148\", \"156\", \"166\", \"169\", \"165\", \"157\", \"152\", \"139\", \"123\", \"112\", \"105\", \"103\", \"102\", \"98\", \"98\", \"91\", \"78\", \"72\", \"69\", \"69\", \"71\", \"76\", \"75\", \"73\", \"71\", \"70\", \"73\", \"73\", \"72\", \"70\", \"68\", \"67\", \"65\", \"64\", \"75\", \"88\", \"97\", \"105\", \"115\", \"122\", \"129\", \"135\", \"144\", \"144\", \"149\", \"151\", \"154\", \"158\", \"163\", \"167\", \"170\", \"173\", \"176\", \"176\", \"169\", \"163\", \"155\", \"147\", \"142\", \"135\", \"129\", \"124\", \"120\", \"118\", \"117\", \"120\", \"127\", \"140\", \"152\", \"165\", \"177\", \"184\", \"192\", \"196\", \"200\", \"203\", \"203\", \"198\", \"197\", \"198\", \"194\", \"186\", \"176\", \"169\", \"156\", \"145\", \"138\", \"134\", \"136\", \"134\", \"134\", \"138\", \"139\", \"140\", \"142\", \"142\", \"133\", \"137\", \"131\", \"133\", \"133\", \"131\"], \"y0\": \" \", \"yaxis\": \"y\"}, {\"alignmentgroup\": \"True\", \"boxpoints\": \"all\", \"hoverlabel\": {\"namelength\": 0}, \"hovertemplate\": \"Day=%{x}<br>Glucose Value (mg/dL)=%{y}\", \"legendgroup\": \"Day=Thursday\", \"marker\": {\"color\": \"#FFA15A\"}, \"name\": \"Day=Thursday\", \"notched\": false, \"offsetgroup\": \"Day=Thursday\", \"orientation\": \"v\", \"showlegend\": true, \"type\": \"box\", \"x\": [\"Thursday\", \"Thursday\", \"Thursday\", \"Thursday\", \"Thursday\", \"Thursday\", \"Thursday\", \"Thursday\", \"Thursday\", \"Thursday\", \"Thursday\", \"Thursday\", \"Thursday\", \"Thursday\", \"Thursday\", \"Thursday\", \"Thursday\", \"Thursday\", \"Thursday\", \"Thursday\", \"Thursday\", \"Thursday\", \"Thursday\", \"Thursday\", \"Thursday\", \"Thursday\", \"Thursday\", \"Thursday\", \"Thursday\", \"Thursday\", \"Thursday\", \"Thursday\", \"Thursday\", \"Thursday\", \"Thursday\", \"Thursday\", \"Thursday\", \"Thursday\", \"Thursday\", \"Thursday\", \"Thursday\", \"Thursday\", \"Thursday\", \"Thursday\", \"Thursday\", \"Thursday\", \"Thursday\", \"Thursday\", \"Thursday\", \"Thursday\", \"Thursday\", \"Thursday\", \"Thursday\", \"Thursday\", \"Thursday\", \"Thursday\", \"Thursday\", \"Thursday\", \"Thursday\", \"Thursday\", \"Thursday\", \"Thursday\", \"Thursday\", \"Thursday\", \"Thursday\", \"Thursday\", \"Thursday\", \"Thursday\", \"Thursday\", \"Thursday\", \"Thursday\", \"Thursday\", \"Thursday\", \"Thursday\", \"Thursday\", \"Thursday\", \"Thursday\", \"Thursday\", \"Thursday\", \"Thursday\", \"Thursday\", \"Thursday\", \"Thursday\", \"Thursday\", \"Thursday\", \"Thursday\", \"Thursday\", \"Thursday\", \"Thursday\", \"Thursday\", \"Thursday\", \"Thursday\", \"Thursday\", \"Thursday\", \"Thursday\", \"Thursday\", \"Thursday\", \"Thursday\", \"Thursday\", \"Thursday\", \"Thursday\", \"Thursday\", \"Thursday\", \"Thursday\", \"Thursday\", \"Thursday\", \"Thursday\", \"Thursday\", \"Thursday\", \"Thursday\", \"Thursday\", \"Thursday\", \"Thursday\", \"Thursday\", \"Thursday\", \"Thursday\", \"Thursday\", \"Thursday\", \"Thursday\", \"Thursday\", \"Thursday\", \"Thursday\", \"Thursday\", \"Thursday\", \"Thursday\", \"Thursday\", \"Thursday\", \"Thursday\", \"Thursday\", \"Thursday\", \"Thursday\", \"Thursday\", \"Thursday\", \"Thursday\", \"Thursday\", \"Thursday\", \"Thursday\", \"Thursday\", \"Thursday\", \"Thursday\", \"Thursday\", \"Thursday\", \"Thursday\", \"Thursday\", \"Thursday\", \"Thursday\", \"Thursday\", \"Thursday\", \"Thursday\", \"Thursday\", \"Thursday\", \"Thursday\", \"Thursday\", \"Thursday\", \"Thursday\", \"Thursday\", \"Thursday\", \"Thursday\", \"Thursday\", \"Thursday\", \"Thursday\", \"Thursday\", \"Thursday\", \"Thursday\", \"Thursday\", \"Thursday\", \"Thursday\", \"Thursday\", \"Thursday\", \"Thursday\", \"Thursday\", \"Thursday\", \"Thursday\", \"Thursday\", \"Thursday\", \"Thursday\", \"Thursday\", \"Thursday\", \"Thursday\", \"Thursday\", \"Thursday\", \"Thursday\", \"Thursday\", \"Thursday\", \"Thursday\", \"Thursday\", \"Thursday\", \"Thursday\", \"Thursday\", \"Thursday\", \"Thursday\", \"Thursday\", \"Thursday\", \"Thursday\", \"Thursday\", \"Thursday\", \"Thursday\", \"Thursday\", \"Thursday\", \"Thursday\", \"Thursday\", \"Thursday\", \"Thursday\", \"Thursday\", \"Thursday\", \"Thursday\", \"Thursday\", \"Thursday\", \"Thursday\", \"Thursday\", \"Thursday\", \"Thursday\", \"Thursday\", \"Thursday\", \"Thursday\", \"Thursday\", \"Thursday\", \"Thursday\", \"Thursday\", \"Thursday\", \"Thursday\", \"Thursday\", \"Thursday\", \"Thursday\", \"Thursday\", \"Thursday\", \"Thursday\", \"Thursday\", \"Thursday\", \"Thursday\", \"Thursday\", \"Thursday\", \"Thursday\", \"Thursday\", \"Thursday\", \"Thursday\", \"Thursday\", \"Thursday\", \"Thursday\", \"Thursday\", \"Thursday\", \"Thursday\", \"Thursday\", \"Thursday\", \"Thursday\", \"Thursday\", \"Thursday\", \"Thursday\", \"Thursday\", \"Thursday\", \"Thursday\", \"Thursday\", \"Thursday\", \"Thursday\", \"Thursday\", \"Thursday\", \"Thursday\", \"Thursday\", \"Thursday\", \"Thursday\", \"Thursday\", \"Thursday\", \"Thursday\", \"Thursday\", \"Thursday\", \"Thursday\", \"Thursday\", \"Thursday\", \"Thursday\", \"Thursday\", \"Thursday\", \"Thursday\", \"Thursday\", \"Thursday\", \"Thursday\", \"Thursday\", \"Thursday\", \"Thursday\", \"Thursday\", \"Thursday\", \"Thursday\", \"Thursday\", \"Thursday\", \"Thursday\", \"Thursday\", \"Thursday\", \"Thursday\", \"Thursday\", \"Thursday\", \"Thursday\", \"Thursday\", \"Thursday\", \"Thursday\", \"Thursday\", \"Thursday\", \"Thursday\", \"Thursday\", \"Thursday\", \"Thursday\", \"Thursday\", \"Thursday\", \"Thursday\", \"Thursday\", \"Thursday\", \"Thursday\", \"Thursday\", \"Thursday\", \"Thursday\", \"Thursday\", \"Thursday\", \"Thursday\", \"Thursday\", \"Thursday\", \"Thursday\", \"Thursday\", \"Thursday\", \"Thursday\", \"Thursday\", \"Thursday\", \"Thursday\", \"Thursday\", \"Thursday\", \"Thursday\", \"Thursday\", \"Thursday\", \"Thursday\", \"Thursday\", \"Thursday\", \"Thursday\", \"Thursday\", \"Thursday\", \"Thursday\", \"Thursday\", \"Thursday\", \"Thursday\", \"Thursday\", \"Thursday\", \"Thursday\", \"Thursday\", \"Thursday\", \"Thursday\", \"Thursday\", \"Thursday\", \"Thursday\", \"Thursday\", \"Thursday\", \"Thursday\", \"Thursday\", \"Thursday\", \"Thursday\", \"Thursday\", \"Thursday\", \"Thursday\", \"Thursday\", \"Thursday\", \"Thursday\", \"Thursday\", \"Thursday\", \"Thursday\", \"Thursday\", \"Thursday\", \"Thursday\", \"Thursday\", \"Thursday\", \"Thursday\", \"Thursday\", \"Thursday\", \"Thursday\", \"Thursday\", \"Thursday\", \"Thursday\", \"Thursday\", \"Thursday\", \"Thursday\", \"Thursday\", \"Thursday\", \"Thursday\", \"Thursday\", \"Thursday\", \"Thursday\", \"Thursday\", \"Thursday\", \"Thursday\", \"Thursday\", \"Thursday\", \"Thursday\", \"Thursday\", \"Thursday\", \"Thursday\", \"Thursday\", \"Thursday\", \"Thursday\", \"Thursday\", \"Thursday\", \"Thursday\", \"Thursday\", \"Thursday\", \"Thursday\", \"Thursday\", \"Thursday\", \"Thursday\", \"Thursday\", \"Thursday\", \"Thursday\", \"Thursday\", \"Thursday\", \"Thursday\", \"Thursday\", \"Thursday\", \"Thursday\", \"Thursday\", \"Thursday\", \"Thursday\", \"Thursday\", \"Thursday\", \"Thursday\", \"Thursday\", \"Thursday\", \"Thursday\", \"Thursday\", \"Thursday\", \"Thursday\", \"Thursday\", \"Thursday\", \"Thursday\", \"Thursday\", \"Thursday\", \"Thursday\", \"Thursday\", \"Thursday\", \"Thursday\", \"Thursday\", \"Thursday\", \"Thursday\", \"Thursday\", \"Thursday\", \"Thursday\", \"Thursday\", \"Thursday\", \"Thursday\", \"Thursday\", \"Thursday\", \"Thursday\", \"Thursday\", \"Thursday\", \"Thursday\", \"Thursday\", \"Thursday\", \"Thursday\", \"Thursday\", \"Thursday\", \"Thursday\", \"Thursday\", \"Thursday\", \"Thursday\", \"Thursday\", \"Thursday\", \"Thursday\", \"Thursday\", \"Thursday\", \"Thursday\", \"Thursday\", \"Thursday\", \"Thursday\", \"Thursday\", \"Thursday\", \"Thursday\", \"Thursday\", \"Thursday\", \"Thursday\", \"Thursday\", \"Thursday\", \"Thursday\", \"Thursday\", \"Thursday\", \"Thursday\", \"Thursday\", \"Thursday\", \"Thursday\", \"Thursday\", \"Thursday\", \"Thursday\", \"Thursday\", \"Thursday\", \"Thursday\", \"Thursday\", \"Thursday\", \"Thursday\", \"Thursday\", \"Thursday\", \"Thursday\", \"Thursday\", \"Thursday\", \"Thursday\", \"Thursday\", \"Thursday\", \"Thursday\", \"Thursday\", \"Thursday\", \"Thursday\", \"Thursday\", \"Thursday\", \"Thursday\", \"Thursday\", \"Thursday\", \"Thursday\", \"Thursday\", \"Thursday\", \"Thursday\", \"Thursday\", \"Thursday\", \"Thursday\", \"Thursday\", \"Thursday\", \"Thursday\", \"Thursday\", \"Thursday\", \"Thursday\", \"Thursday\", \"Thursday\", \"Thursday\", \"Thursday\", \"Thursday\", \"Thursday\", \"Thursday\", \"Thursday\", \"Thursday\", \"Thursday\", \"Thursday\", \"Thursday\", \"Thursday\", \"Thursday\", \"Thursday\", \"Thursday\", \"Thursday\", \"Thursday\", \"Thursday\", \"Thursday\", \"Thursday\", \"Thursday\", \"Thursday\", \"Thursday\", \"Thursday\", \"Thursday\", \"Thursday\", \"Thursday\", \"Thursday\", \"Thursday\", \"Thursday\", \"Thursday\", \"Thursday\", \"Thursday\", \"Thursday\", \"Thursday\", \"Thursday\", \"Thursday\", \"Thursday\", \"Thursday\", \"Thursday\", \"Thursday\", \"Thursday\", \"Thursday\", \"Thursday\", \"Thursday\", \"Thursday\", \"Thursday\", \"Thursday\", \"Thursday\", \"Thursday\", \"Thursday\", \"Thursday\", \"Thursday\", \"Thursday\", \"Thursday\", \"Thursday\", \"Thursday\", \"Thursday\", \"Thursday\", \"Thursday\", \"Thursday\", \"Thursday\", \"Thursday\", \"Thursday\", \"Thursday\", \"Thursday\", \"Thursday\", \"Thursday\", \"Thursday\", \"Thursday\", \"Thursday\", \"Thursday\", \"Thursday\", \"Thursday\", \"Thursday\", \"Thursday\", \"Thursday\", \"Thursday\", \"Thursday\", \"Thursday\", \"Thursday\", \"Thursday\", \"Thursday\", \"Thursday\", \"Thursday\", \"Thursday\", \"Thursday\", \"Thursday\", \"Thursday\", \"Thursday\", \"Thursday\", \"Thursday\", \"Thursday\", \"Thursday\", \"Thursday\", \"Thursday\", \"Thursday\", \"Thursday\", \"Thursday\", \"Thursday\", \"Thursday\", \"Thursday\", \"Thursday\", \"Thursday\", \"Thursday\", \"Thursday\", \"Thursday\", \"Thursday\", \"Thursday\", \"Thursday\", \"Thursday\", \"Thursday\", \"Thursday\", \"Thursday\", \"Thursday\", \"Thursday\", \"Thursday\", \"Thursday\", \"Thursday\", \"Thursday\", \"Thursday\", \"Thursday\", \"Thursday\", \"Thursday\", \"Thursday\", \"Thursday\", \"Thursday\", \"Thursday\", \"Thursday\", \"Thursday\", \"Thursday\", \"Thursday\", \"Thursday\", \"Thursday\", \"Thursday\", \"Thursday\", \"Thursday\", \"Thursday\", \"Thursday\", \"Thursday\", \"Thursday\", \"Thursday\", \"Thursday\", \"Thursday\", \"Thursday\", \"Thursday\", \"Thursday\", \"Thursday\", \"Thursday\", \"Thursday\", \"Thursday\", \"Thursday\", \"Thursday\", \"Thursday\", \"Thursday\", \"Thursday\", \"Thursday\", \"Thursday\", \"Thursday\", \"Thursday\", \"Thursday\", \"Thursday\", \"Thursday\", \"Thursday\", \"Thursday\", \"Thursday\", \"Thursday\", \"Thursday\", \"Thursday\", \"Thursday\", \"Thursday\", \"Thursday\", \"Thursday\", \"Thursday\", \"Thursday\", \"Thursday\", \"Thursday\", \"Thursday\", \"Thursday\", \"Thursday\", \"Thursday\", \"Thursday\", \"Thursday\", \"Thursday\", \"Thursday\", \"Thursday\", \"Thursday\", \"Thursday\", \"Thursday\", \"Thursday\", \"Thursday\", \"Thursday\", \"Thursday\", \"Thursday\", \"Thursday\", \"Thursday\", \"Thursday\", \"Thursday\", \"Thursday\", \"Thursday\", \"Thursday\", \"Thursday\", \"Thursday\", \"Thursday\", \"Thursday\", \"Thursday\", \"Thursday\", \"Thursday\", \"Thursday\", \"Thursday\", \"Thursday\", \"Thursday\", \"Thursday\", \"Thursday\", \"Thursday\", \"Thursday\", \"Thursday\", \"Thursday\", \"Thursday\", \"Thursday\", \"Thursday\", \"Thursday\", \"Thursday\", \"Thursday\", \"Thursday\", \"Thursday\", \"Thursday\", \"Thursday\", \"Thursday\", \"Thursday\", \"Thursday\", \"Thursday\", \"Thursday\", \"Thursday\", \"Thursday\", \"Thursday\", \"Thursday\", \"Thursday\", \"Thursday\", \"Thursday\", \"Thursday\", \"Thursday\", \"Thursday\", \"Thursday\", \"Thursday\", \"Thursday\", \"Thursday\", \"Thursday\", \"Thursday\", \"Thursday\", \"Thursday\", \"Thursday\", \"Thursday\", \"Thursday\", \"Thursday\", \"Thursday\", \"Thursday\", \"Thursday\", \"Thursday\", \"Thursday\", \"Thursday\", \"Thursday\", \"Thursday\", \"Thursday\", \"Thursday\", \"Thursday\", \"Thursday\", \"Thursday\", \"Thursday\", \"Thursday\", \"Thursday\", \"Thursday\", \"Thursday\", \"Thursday\", \"Thursday\", \"Thursday\", \"Thursday\", \"Thursday\", \"Thursday\", \"Thursday\", \"Thursday\", \"Thursday\", \"Thursday\", \"Thursday\", \"Thursday\", \"Thursday\", \"Thursday\", \"Thursday\", \"Thursday\", \"Thursday\", \"Thursday\", \"Thursday\", \"Thursday\", \"Thursday\", \"Thursday\", \"Thursday\", \"Thursday\", \"Thursday\", \"Thursday\", \"Thursday\", \"Thursday\", \"Thursday\", \"Thursday\", \"Thursday\", \"Thursday\", \"Thursday\", \"Thursday\", \"Thursday\", \"Thursday\", \"Thursday\", \"Thursday\", \"Thursday\", \"Thursday\", \"Thursday\", \"Thursday\", \"Thursday\", \"Thursday\", \"Thursday\", \"Thursday\", \"Thursday\", \"Thursday\", \"Thursday\", \"Thursday\", \"Thursday\", \"Thursday\", \"Thursday\", \"Thursday\", \"Thursday\", \"Thursday\", \"Thursday\", \"Thursday\", \"Thursday\", \"Thursday\", \"Thursday\", \"Thursday\", \"Thursday\", \"Thursday\", \"Thursday\", \"Thursday\", \"Thursday\", \"Thursday\", \"Thursday\", \"Thursday\", \"Thursday\", \"Thursday\", \"Thursday\", \"Thursday\", \"Thursday\", \"Thursday\", \"Thursday\", \"Thursday\", \"Thursday\", \"Thursday\", \"Thursday\", \"Thursday\", \"Thursday\", \"Thursday\", \"Thursday\", \"Thursday\", \"Thursday\", \"Thursday\", \"Thursday\", \"Thursday\", \"Thursday\", \"Thursday\", \"Thursday\", \"Thursday\", \"Thursday\", \"Thursday\", \"Thursday\", \"Thursday\", \"Thursday\", \"Thursday\", \"Thursday\", \"Thursday\", \"Thursday\", \"Thursday\", \"Thursday\", \"Thursday\", \"Thursday\", \"Thursday\", \"Thursday\", \"Thursday\", \"Thursday\", \"Thursday\", \"Thursday\", \"Thursday\", \"Thursday\", \"Thursday\", \"Thursday\", \"Thursday\", \"Thursday\", \"Thursday\", \"Thursday\", \"Thursday\", \"Thursday\", \"Thursday\", \"Thursday\", \"Thursday\", \"Thursday\", \"Thursday\", \"Thursday\", \"Thursday\", \"Thursday\", \"Thursday\", \"Thursday\", \"Thursday\", \"Thursday\", \"Thursday\", \"Thursday\", \"Thursday\", \"Thursday\", \"Thursday\", \"Thursday\", \"Thursday\", \"Thursday\", \"Thursday\", \"Thursday\", \"Thursday\", \"Thursday\", \"Thursday\", \"Thursday\", \"Thursday\", \"Thursday\", \"Thursday\", \"Thursday\", \"Thursday\", \"Thursday\", \"Thursday\", \"Thursday\", \"Thursday\", \"Thursday\", \"Thursday\", \"Thursday\", \"Thursday\", \"Thursday\", \"Thursday\", \"Thursday\", \"Thursday\", \"Thursday\", \"Thursday\", \"Thursday\", \"Thursday\", \"Thursday\", \"Thursday\", \"Thursday\", \"Thursday\", \"Thursday\", \"Thursday\", \"Thursday\", \"Thursday\", \"Thursday\", \"Thursday\", \"Thursday\", \"Thursday\", \"Thursday\", \"Thursday\", \"Thursday\", \"Thursday\", \"Thursday\", \"Thursday\", \"Thursday\", \"Thursday\", \"Thursday\", \"Thursday\", \"Thursday\", \"Thursday\", \"Thursday\", \"Thursday\", \"Thursday\", \"Thursday\", \"Thursday\", \"Thursday\", \"Thursday\", \"Thursday\", \"Thursday\", \"Thursday\", \"Thursday\", \"Thursday\", \"Thursday\", \"Thursday\", \"Thursday\", \"Thursday\", \"Thursday\", \"Thursday\", \"Thursday\", \"Thursday\", \"Thursday\", \"Thursday\", \"Thursday\", \"Thursday\", \"Thursday\", \"Thursday\", \"Thursday\", \"Thursday\", \"Thursday\", \"Thursday\", \"Thursday\", \"Thursday\", \"Thursday\", \"Thursday\", \"Thursday\", \"Thursday\", \"Thursday\", \"Thursday\", \"Thursday\", \"Thursday\", \"Thursday\", \"Thursday\", \"Thursday\", \"Thursday\", \"Thursday\", \"Thursday\", \"Thursday\", \"Thursday\", \"Thursday\", \"Thursday\", \"Thursday\", \"Thursday\", \"Thursday\", \"Thursday\", \"Thursday\", \"Thursday\", \"Thursday\", \"Thursday\", \"Thursday\", \"Thursday\", \"Thursday\", \"Thursday\", \"Thursday\", \"Thursday\", \"Thursday\", \"Thursday\", \"Thursday\", \"Thursday\", \"Thursday\", \"Thursday\", \"Thursday\", \"Thursday\", \"Thursday\", \"Thursday\", \"Thursday\", \"Thursday\", \"Thursday\", \"Thursday\", \"Thursday\", \"Thursday\", \"Thursday\", \"Thursday\", \"Thursday\", \"Thursday\", \"Thursday\", \"Thursday\", \"Thursday\", \"Thursday\", \"Thursday\", \"Thursday\", \"Thursday\", \"Thursday\", \"Thursday\", \"Thursday\", \"Thursday\", \"Thursday\", \"Thursday\", \"Thursday\", \"Thursday\", \"Thursday\", \"Thursday\", \"Thursday\", \"Thursday\", \"Thursday\", \"Thursday\", \"Thursday\", \"Thursday\", \"Thursday\", \"Thursday\", \"Thursday\", \"Thursday\", \"Thursday\", \"Thursday\", \"Thursday\", \"Thursday\", \"Thursday\", \"Thursday\", \"Thursday\", \"Thursday\", \"Thursday\", \"Thursday\", \"Thursday\", \"Thursday\", \"Thursday\", \"Thursday\", \"Thursday\", \"Thursday\", \"Thursday\", \"Thursday\", \"Thursday\", \"Thursday\", \"Thursday\", \"Thursday\", \"Thursday\", \"Thursday\", \"Thursday\", \"Thursday\", \"Thursday\", \"Thursday\", \"Thursday\", \"Thursday\", \"Thursday\", \"Thursday\", \"Thursday\", \"Thursday\", \"Thursday\", \"Thursday\", \"Thursday\", \"Thursday\", \"Thursday\", \"Thursday\", \"Thursday\", \"Thursday\", \"Thursday\", \"Thursday\", \"Thursday\", \"Thursday\", \"Thursday\", \"Thursday\", \"Thursday\", \"Thursday\", \"Thursday\", \"Thursday\", \"Thursday\", \"Thursday\", \"Thursday\", \"Thursday\", \"Thursday\", \"Thursday\", \"Thursday\", \"Thursday\", \"Thursday\", \"Thursday\", \"Thursday\", \"Thursday\", \"Thursday\", \"Thursday\", \"Thursday\", \"Thursday\", \"Thursday\", \"Thursday\", \"Thursday\", \"Thursday\", \"Thursday\", \"Thursday\", \"Thursday\", \"Thursday\", \"Thursday\", \"Thursday\", \"Thursday\", \"Thursday\", \"Thursday\", \"Thursday\", \"Thursday\", \"Thursday\", \"Thursday\", \"Thursday\", \"Thursday\", \"Thursday\", \"Thursday\", \"Thursday\", \"Thursday\", \"Thursday\", \"Thursday\", \"Thursday\", \"Thursday\", \"Thursday\", \"Thursday\", \"Thursday\", \"Thursday\", \"Thursday\", \"Thursday\", \"Thursday\", \"Thursday\", \"Thursday\", \"Thursday\", \"Thursday\", \"Thursday\", \"Thursday\", \"Thursday\", \"Thursday\", \"Thursday\", \"Thursday\", \"Thursday\", \"Thursday\", \"Thursday\", \"Thursday\", \"Thursday\", \"Thursday\", \"Thursday\", \"Thursday\", \"Thursday\", \"Thursday\", \"Thursday\", \"Thursday\", \"Thursday\", \"Thursday\", \"Thursday\", \"Thursday\", \"Thursday\", \"Thursday\", \"Thursday\", \"Thursday\", \"Thursday\", \"Thursday\", \"Thursday\", \"Thursday\", \"Thursday\", \"Thursday\", \"Thursday\", \"Thursday\", \"Thursday\", \"Thursday\", \"Thursday\", \"Thursday\", \"Thursday\", \"Thursday\", \"Thursday\", \"Thursday\", \"Thursday\", \"Thursday\", \"Thursday\", \"Thursday\", \"Thursday\", \"Thursday\", \"Thursday\", \"Thursday\", \"Thursday\", \"Thursday\", \"Thursday\", \"Thursday\", \"Thursday\", \"Thursday\", \"Thursday\", \"Thursday\", \"Thursday\", \"Thursday\", \"Thursday\", \"Thursday\", \"Thursday\", \"Thursday\", \"Thursday\", \"Thursday\", \"Thursday\", \"Thursday\", \"Thursday\", \"Thursday\", \"Thursday\", \"Thursday\", \"Thursday\", \"Thursday\", \"Thursday\", \"Thursday\", \"Thursday\", \"Thursday\", \"Thursday\", \"Thursday\", \"Thursday\", \"Thursday\", \"Thursday\", \"Thursday\", \"Thursday\", \"Thursday\", \"Thursday\", \"Thursday\", \"Thursday\", \"Thursday\", \"Thursday\", \"Thursday\", \"Thursday\", \"Thursday\", \"Thursday\", \"Thursday\", \"Thursday\", \"Thursday\", \"Thursday\", \"Thursday\", \"Thursday\", \"Thursday\", \"Thursday\", \"Thursday\", \"Thursday\", \"Thursday\", \"Thursday\", \"Thursday\", \"Thursday\", \"Thursday\", \"Thursday\", \"Thursday\", \"Thursday\", \"Thursday\", \"Thursday\", \"Thursday\", \"Thursday\", \"Thursday\", \"Thursday\", \"Thursday\", \"Thursday\", \"Thursday\", \"Thursday\", \"Thursday\", \"Thursday\", \"Thursday\", \"Thursday\", \"Thursday\", \"Thursday\", \"Thursday\", \"Thursday\", \"Thursday\", \"Thursday\", \"Thursday\", \"Thursday\", \"Thursday\", \"Thursday\", \"Thursday\", \"Thursday\", \"Thursday\", \"Thursday\", \"Thursday\", \"Thursday\", \"Thursday\", \"Thursday\", \"Thursday\", \"Thursday\", \"Thursday\", \"Thursday\", \"Thursday\", \"Thursday\", \"Thursday\", \"Thursday\", \"Thursday\", \"Thursday\", \"Thursday\", \"Thursday\", \"Thursday\", \"Thursday\", \"Thursday\", \"Thursday\", \"Thursday\", \"Thursday\", \"Thursday\", \"Thursday\", \"Thursday\", \"Thursday\", \"Thursday\", \"Thursday\", \"Thursday\", \"Thursday\", \"Thursday\", \"Thursday\", \"Thursday\", \"Thursday\", \"Thursday\", \"Thursday\", \"Thursday\", \"Thursday\", \"Thursday\", \"Thursday\", \"Thursday\", \"Thursday\", \"Thursday\", \"Thursday\", \"Thursday\", \"Thursday\", \"Thursday\", \"Thursday\", \"Thursday\", \"Thursday\", \"Thursday\", \"Thursday\", \"Thursday\", \"Thursday\", \"Thursday\", \"Thursday\", \"Thursday\", \"Thursday\", \"Thursday\", \"Thursday\", \"Thursday\", \"Thursday\", \"Thursday\", \"Thursday\", \"Thursday\", \"Thursday\", \"Thursday\", \"Thursday\", \"Thursday\", \"Thursday\", \"Thursday\", \"Thursday\", \"Thursday\", \"Thursday\", \"Thursday\", \"Thursday\", \"Thursday\", \"Thursday\", \"Thursday\", \"Thursday\", \"Thursday\", \"Thursday\", \"Thursday\", \"Thursday\", \"Thursday\", \"Thursday\", \"Thursday\", \"Thursday\", \"Thursday\", \"Thursday\", \"Thursday\", \"Thursday\", \"Thursday\", \"Thursday\", \"Thursday\", \"Thursday\", \"Thursday\", \"Thursday\", \"Thursday\", \"Thursday\", \"Thursday\", \"Thursday\", \"Thursday\", \"Thursday\", \"Thursday\", \"Thursday\", \"Thursday\", \"Thursday\", \"Thursday\", \"Thursday\", \"Thursday\", \"Thursday\", \"Thursday\", \"Thursday\", \"Thursday\", \"Thursday\", \"Thursday\", \"Thursday\", \"Thursday\", \"Thursday\", \"Thursday\", \"Thursday\", \"Thursday\", \"Thursday\", \"Thursday\", \"Thursday\", \"Thursday\", \"Thursday\", \"Thursday\", \"Thursday\"], \"x0\": \" \", \"xaxis\": \"x\", \"y\": [\"117\", \"129\", \"133\", \"131\", \"129\", \"129\", \"133\", \"129\", \"131\", \"137\", \"140\", \"145\", \"144\", \"143\", \"146\", \"148\", \"145\", \"144\", \"145\", \"146\", \"143\", \"139\", \"132\", \"126\", \"124\", \"124\", \"127\", \"130\", \"131\", \"132\", \"132\", \"133\", \"132\", \"132\", \"132\", \"132\", \"133\", \"133\", \"133\", \"132\", \"131\", \"130\", \"130\", \"129\", \"126\", \"126\", \"127\", \"129\", \"131\", \"131\", \"132\", \"132\", \"132\", \"132\", \"133\", \"135\", \"136\", \"138\", \"139\", \"140\", \"141\", \"142\", \"142\", \"139\", \"140\", \"140\", \"142\", \"143\", \"143\", \"144\", \"145\", \"146\", \"147\", \"147\", \"148\", \"148\", \"148\", \"149\", \"149\", \"149\", \"149\", \"146\", \"147\", \"150\", \"151\", \"151\", \"150\", \"147\", \"148\", \"159\", \"161\", \"156\", \"154\", \"154\", \"149\", \"146\", \"147\", \"150\", \"154\", \"156\", \"161\", \"164\", \"170\", \"184\", \"188\", \"191\", \"193\", \"194\", \"199\", \"201\", \"204\", \"205\", \"205\", \"207\", \"209\", \"214\", \"218\", \"234\", \"238\", \"239\", \"241\", \"241\", \"247\", \"247\", \"241\", \"234\", \"230\", \"228\", \"223\", \"221\", \"220\", \"225\", \"219\", \"209\", \"205\", \"203\", \"203\", \"200\", \"195\", \"191\", \"186\", \"184\", \"180\", \"177\", \"173\", \"169\", \"169\", \"166\", \"164\", \"159\", \"155\", \"152\", \"149\", \"145\", \"143\", \"140\", \"136\", \"131\", \"134\", \"133\", \"137\", \"141\", \"146\", \"147\", \"150\", \"151\", \"152\", \"149\", \"142\", \"138\", \"130\", \"134\", \"126\", \"129\", \"130\", \"127\", \"123\", \"118\", \"114\", \"111\", \"112\", \"117\", \"109\", \"107\", \"102\", \"94\", \"89\", \"85\", \"80\", \"84\", \"92\", \"94\", \"95\", \"91\", \"88\", \"85\", \"86\", \"86\", \"89\", \"95\", \"100\", \"104\", \"107\", \"115\", \"127\", \"134\", \"141\", \"145\", \"149\", \"148\", \"158\", \"164\", \"165\", \"164\", \"170\", \"179\", \"191\", \"204\", \"205\", \"195\", \"191\", \"187\", \"183\", \"178\", \"176\", \"177\", \"175\", \"171\", \"158\", \"147\", \"143\", \"143\", \"130\", \"119\", \"116\", \"114\", \"115\", \"118\", \"117\", \"119\", \"119\", \"121\", \"115\", \"107\", \"98\", \"92\", \"91\", \"89\", \"83\", \"75\", \"73\", \"81\", \"80\", \"72\", \"68\", \"63\", \"60\", \"64\", \"65\", \"81\", \"92\", \"101\", \"105\", \"111\", \"116\", \"123\", \"128\", \"132\", \"137\", \"143\", \"151\", \"153\", \"158\", \"161\", \"161\", \"159\", \"158\", \"157\", \"157\", \"159\", \"161\", \"163\", \"165\", \"167\", \"169\", \"166\", \"153\", \"160\", \"130\", \"147\", \"152\", \"150\", \"129\", \"127\", \"123\", \"119\", \"101\", \"99\", \"94\", \"90\", \"86\", \"83\", \"82\", \"83\", \"83\", \"101\", \"110\", \"106\", \"104\", \"101\", \"103\", \"114\", \"121\", \"130\", \"135\", \"140\", \"143\", \"145\", \"148\", \"153\", \"159\", \"165\", \"170\", \"171\", \"178\", \"184\", \"187\", \"190\", \"193\", \"194\", \"199\", \"202\", \"208\", \"209\", \"210\", \"212\", \"215\", \"218\", \"222\", \"224\", \"226\", \"229\", \"231\", \"233\", \"235\", \"236\", \"236\", \"238\", \"238\", \"239\", \"233\", \"233\", \"232\", \"233\", \"235\", \"237\", \"236\", \"236\", \"236\", \"236\", \"236\", \"236\", \"238\", \"239\", \"239\", \"233\", \"222\", \"202\", \"199\", \"194\", \"193\", \"197\", \"199\", \"199\", \"202\", \"204\", \"199\", \"198\", \"192\", \"178\", \"172\", \"176\", \"174\", \"178\", \"174\", \"164\", \"165\", \"153\", \"142\", \"144\", \"140\", \"137\", \"136\", \"134\", \"128\", \"121\", \"116\", \"120\", \"118\", \"119\", \"115\", \"112\", \"107\", \"101\", \"99\", \"97\", \"99\", \"97\", \"94\", \"83\", \"77\", \"79\", \"80\", \"84\", \"86\", \"86\", \"86\", \"87\", \"88\", \"89\", \"93\", \"95\", \"89\", \"89\", \"103\", \"112\", \"114\", \"104\", \"100\", \"111\", \"122\", \"127\", \"129\", \"123\", \"118\", \"114\", \"111\", \"110\", \"113\", \"123\", \"130\", \"135\", \"138\", \"140\", \"142\", \"138\", \"134\", \"131\", \"131\", \"136\", \"142\", \"151\", \"144\", \"142\", \"138\", \"146\", \"145\", \"146\", \"143\", \"147\", \"146\", \"154\", \"161\", \"178\", \"195\", \"204\", \"217\", \"227\", \"238\", \"246\", \"250\", \"249\", \"243\", \"234\", \"225\", \"214\", \"207\", \"195\", \"189\", \"186\", \"171\", \"151\", \"140\", \"131\", \"126\", \"129\", \"129\", \"123\", \"122\", \"117\", \"109\", \"108\", \"106\", \"102\", \"97\", \"95\", \"96\", \"101\", \"107\", \"113\", \"123\", \"133\", \"137\", \"134\", \"148\", \"156\", \"159\", \"159\", \"156\", \"159\", \"166\", \"169\", \"166\", \"164\", \"168\", \"177\", \"179\", \"186\", \"194\", \"203\", \"209\", \"211\", \"219\", \"222\", \"221\", \"218\", \"208\", \"213\", \"218\", \"233\", \"243\", \"230\", \"235\", \"234\", \"250\", \"258\", \"243\", \"224\", \"228\", \"220\", \"233\", \"232\", \"245\", \"246\", \"248\", \"244\", \"240\", \"243\", \"239\", \"234\", \"230\", \"227\", \"227\", \"230\", \"231\", \"232\", \"231\", \"231\", \"228\", \"227\", \"222\", \"218\", \"214\", \"210\", \"209\", \"204\", \"200\", \"195\", \"190\", \"183\", \"178\", \"176\", \"171\", \"168\", \"163\", \"158\", \"236\", \"228\", \"219\", \"214\", \"177\", \"144\", \"136\", \"98\", \"62\", \"92\", \"125\", \"134\", \"132\", \"99\", \"138\", \"121\", \"121\", \"122\", \"122\", \"121\", \"119\", \"117\", \"110\", \"109\", \"113\", \"116\", \"114\", \"111\", \"108\", \"106\", \"105\", \"104\", \"102\", \"101\", \"99\", \"98\", \"97\", \"96\", \"93\", \"91\", \"90\", \"89\", \"88\", \"88\", \"87\", \"87\", \"87\", \"86\", \"86\", \"86\", \"87\", \"89\", \"89\", \"89\", \"85\", \"79\", \"79\", \"79\", \"80\", \"80\", \"80\", \"79\", \"79\", \"79\", \"79\", \"78\", \"71\", \"78\", \"76\", \"79\", \"79\", \"77\", \"77\", \"82\", \"83\", \"79\", \"237\", \"252\", \"256\", \"253\", \"248\", \"243\", \"236\", \"237\", \"235\", \"232\", \"229\", \"228\", \"224\", \"219\", \"217\", \"214\", \"210\", \"206\", \"204\", \"203\", \"204\", \"205\", \"205\", \"204\", \"203\", \"202\", \"200\", \"200\", \"198\", \"195\", \"192\", \"180\", \"188\", \"177\", \"181\", \"180\", \"177\", \"177\", \"176\", \"178\", \"182\", \"184\", \"183\", \"185\", \"186\", \"186\", \"185\", \"185\", \"185\", \"149\", \"173\", \"175\", \"179\", \"181\", \"172\", \"180\", \"173\", \"172\", \"180\", \"178\", \"157\", \"170\", \"175\", \"182\", \"196\", \"189\", \"191\", \"196\", \"181\", \"184\", \"184\", \"181\", \"181\", \"181\", \"164\", \"177\", \"179\", \"177\", \"167\", \"158\", \"153\", \"152\", \"154\", \"156\", \"158\", \"161\", \"152\", \"150\", \"131\", \"124\", \"128\", \"205\", \"201\", \"203\", \"205\", \"210\", \"212\", \"200\", \"193\", \"197\", \"196\", \"210\", \"206\", \"212\", \"218\", \"219\", \"220\", \"216\", \"226\", \"206\", \"190\", \"195\", \"200\", \"207\", \"201\", \"198\", \"188\", \"161\", \"171\", \"168\", \"170\", \"173\", \"170\", \"162\", \"149\", \"136\", \"125\", \"116\", \"109\", \"103\", \"97\", \"93\", \"91\", \"90\", \"92\", \"97\", \"105\", \"116\", \"122\", \"128\", \"131\", \"139\", \"140\", \"136\", \"124\", \"111\", \"108\", \"109\", \"111\", \"111\", \"110\", \"108\", \"106\", \"104\", \"103\", \"102\", \"102\", \"102\", \"109\", \"115\", \"115\", \"113\", \"111\", \"110\", \"109\", \"109\", \"109\", \"104\", \"94\", \"104\", \"107\", \"103\", \"92\", \"86\", \"85\", \"84\", \"92\", \"89\", \"87\", \"82\", \"81\", \"82\", \"83\", \"84\", \"86\", \"89\", \"91\", \"109\", \"128\", \"129\", \"121\", \"105\", \"98\", \"105\", \"102\", \"88\", \"81\", \"79\", \"84\", \"95\", \"96\", \"93\", \"84\", \"99\", \"104\", \"104\", \"103\", \"102\", \"104\", \"105\", \"105\", \"111\", \"115\", \"113\", \"126\", \"129\", \"146\", \"159\", \"164\", \"164\", \"163\", \"166\", \"173\", \"175\", \"180\", \"185\", \"189\", \"192\", \"190\", \"186\", \"180\", \"177\", \"178\", \"171\", \"162\", \"152\", \"150\", \"147\", \"140\", \"139\", \"133\", \"130\", \"126\", \"121\", \"118\", \"118\", \"115\", \"115\", \"110\", \"107\", \"101\", \"94\", \"90\", \"86\", \"84\", \"85\", \"84\", \"85\", \"86\", \"93\", \"103\", \"111\", \"121\", \"133\", \"142\", \"148\", \"151\", \"152\", \"162\", \"170\", \"180\", \"182\", \"181\", \"176\", \"166\", \"162\", \"161\", \"157\", \"154\", \"147\", \"143\", \"134\", \"129\", \"128\", \"127\", \"121\", \"123\", \"121\", \"121\", \"119\", \"117\", \"113\", \"112\", \"118\", \"121\", \"121\", \"124\", \"125\", \"130\", \"127\", \"128\", \"136\", \"148\", \"148\", \"160\", \"166\", \"166\", \"164\", \"162\", \"159\", \"157\", \"157\", \"159\", \"162\", \"162\", \"160\", \"158\", \"156\", \"143\", \"138\", \"136\", \"142\", \"145\", \"147\", \"145\", \"137\", \"134\", \"137\", \"137\", \"140\", \"143\", \"147\", \"148\", \"150\", \"153\", \"155\", \"160\", \"168\", \"172\", \"175\", \"184\", \"195\", \"202\", \"211\", \"217\", \"222\", \"224\", \"224\", \"227\", \"227\", \"224\", \"223\", \"222\", \"223\", \"228\", \"227\", \"226\", \"223\", \"219\", \"221\", \"216\", \"207\", \"198\", \"193\", \"188\", \"187\", \"190\", \"194\", \"196\", \"197\", \"194\", \"195\", \"198\", \"200\", \"199\", \"202\", \"205\", \"199\", \"191\", \"185\", \"172\", \"162\", \"156\", \"158\", \"147\", \"145\", \"149\", \"132\", \"131\", \"131\", \"128\", \"131\", \"154\", \"161\", \"153\", \"143\", \"133\", \"125\", \"125\", \"123\", \"118\", \"114\", \"108\", \"105\", \"103\", \"101\", \"98\", \"96\", \"94\", \"92\", \"90\", \"88\", \"86\", \"84\", \"83\", \"82\", \"80\", \"79\", \"78\", \"76\", \"66\", \"53\", \"45\", \"43\", \"44\", \"46\", \"48\", \"51\", \"53\", \"73\", \"88\", \"91\", \"89\", \"86\", \"84\", \"83\", \"83\", \"83\", \"84\", \"86\", \"89\", \"90\", \"91\", \"93\", \"95\", \"97\", \"97\", \"97\", \"97\", \"97\", \"99\", \"92\", \"96\", \"99\", \"97\", \"94\", \"93\", \"93\", \"94\", \"94\", \"95\", \"96\", \"97\", \"99\", \"102\", \"104\", \"105\", \"103\", \"101\", \"101\", \"102\", \"104\", \"106\", \"108\", \"107\", \"107\", \"108\", \"105\", \"106\", \"108\", \"106\", \"105\", \"102\", \"101\", \"102\", \"111\", \"110\", \"110\", \"107\", \"106\", \"105\", \"105\", \"110\", \"116\", \"128\", \"141\", \"145\", \"149\", \"150\", \"148\", \"146\", \"143\", \"148\", \"145\", \"150\", \"151\", \"156\", \"162\", \"158\", \"161\", \"156\", \"153\", \"153\", \"161\", \"168\", \"171\", \"176\", \"180\", \"183\", \"184\", \"179\", \"175\", \"164\", \"161\", \"163\", \"162\", \"158\", \"147\", \"144\", \"144\", \"141\", \"136\", \"134\", \"127\", \"127\", \"132\", \"135\", \"135\", \"133\", \"138\", \"141\", \"142\", \"144\", \"145\", \"149\", \"158\", \"165\", \"165\", \"160\", \"151\", \"144\", \"139\", \"136\", \"136\", \"137\", \"122\", \"117\", \"108\", \"101\", \"98\", \"94\", \"91\", \"87\", \"87\", \"89\", \"90\", \"90\", \"85\", \"83\", \"80\", \"77\", \"71\", \"65\", \"62\", \"59\", \"59\", \"65\", \"72\", \"74\", \"73\", \"69\", \"67\", \"67\", \"63\", \"64\", \"67\", \"70\", \"75\", \"72\", \"73\", \"84\", \"92\", \"109\", \"128\", \"132\", \"133\", \"131\", \"132\", \"135\", \"138\", \"141\", \"145\", \"149\", \"153\", \"147\", \"146\", \"151\", \"154\", \"154\", \"156\", \"167\", \"170\", \"176\", \"184\", \"190\", \"201\", \"202\", \"213\", \"219\", \"222\", \"227\", \"236\", \"242\", \"240\", \"238\", \"236\", \"235\", \"235\", \"236\", \"239\", \"237\", \"238\", \"239\", \"237\", \"235\", \"236\", \"234\", \"233\", \"228\", \"225\", \"222\", \"220\", \"218\", \"217\", \"219\", \"219\", \"216\", \"214\", \"215\", \"220\", \"222\", \"225\", \"228\", \"230\", \"231\", \"227\", \"222\", \"227\", \"219\", \"199\", \"197\", \"199\", \"198\", \"185\", \"167\", \"163\", \"165\", \"137\", \"137\", \"142\", \"145\", \"146\", \"147\", \"146\", \"145\", \"139\", \"136\", \"140\", \"142\", \"136\", \"138\", \"137\", \"139\", \"144\", \"141\", \"140\", \"139\", \"142\", \"148\", \"150\", \"150\", \"151\", \"152\", \"156\", \"158\", \"161\", \"163\", \"164\", \"163\", \"163\", \"163\", \"163\", \"164\", \"164\", \"166\", \"166\", \"165\", \"167\", \"170\", \"174\", \"175\", \"174\", \"174\", \"174\", \"174\", \"175\", \"176\", \"166\", \"163\", \"173\", \"179\", \"183\", \"186\", \"188\", \"193\", \"196\", \"194\", \"196\", \"199\", \"203\", \"206\", \"210\", \"214\", \"217\", \"220\", \"224\", \"228\", \"232\", \"239\", \"247\", \"252\", \"247\", \"237\", \"233\", \"233\", \"233\", \"233\", \"232\", \"231\", \"232\", \"231\", \"227\", \"227\", \"228\", \"220\", \"218\", \"215\", \"213\", \"216\", \"220\", \"224\", \"228\", \"229\", \"227\", \"224\", \"220\", \"218\", \"214\", \"217\", \"205\", \"193\", \"190\", \"187\", \"188\", \"190\", \"192\", \"193\", \"195\", \"198\", \"199\", \"199\", \"199\", \"201\", \"203\", \"205\", \"208\", \"209\", \"210\", \"210\", \"216\", \"227\", \"219\", \"214\", \"206\", \"208\", \"186\", \"192\", \"207\", \"182\", \"163\", \"142\", \"128\", \"125\", \"130\", \"127\", \"117\", \"118\", \"126\", \"105\", \"95\", \"89\", \"85\", \"84\", \"83\", \"85\", \"86\", \"93\", \"98\", \"102\", \"102\", \"100\", \"99\"], \"y0\": \" \", \"yaxis\": \"y\"}, {\"alignmentgroup\": \"True\", \"boxpoints\": \"all\", \"hoverlabel\": {\"namelength\": 0}, \"hovertemplate\": \"Day=%{x}<br>Glucose Value (mg/dL)=%{y}\", \"legendgroup\": \"Day=Friday\", \"marker\": {\"color\": \"#19d3f3\"}, \"name\": \"Day=Friday\", \"notched\": false, \"offsetgroup\": \"Day=Friday\", \"orientation\": \"v\", \"showlegend\": true, \"type\": \"box\", \"x\": [\"Friday\", \"Friday\", \"Friday\", \"Friday\", \"Friday\", \"Friday\", \"Friday\", \"Friday\", \"Friday\", \"Friday\", \"Friday\", \"Friday\", \"Friday\", \"Friday\", \"Friday\", \"Friday\", \"Friday\", \"Friday\", \"Friday\", \"Friday\", \"Friday\", \"Friday\", \"Friday\", \"Friday\", \"Friday\", \"Friday\", \"Friday\", \"Friday\", \"Friday\", \"Friday\", \"Friday\", \"Friday\", \"Friday\", \"Friday\", \"Friday\", \"Friday\", \"Friday\", \"Friday\", \"Friday\", \"Friday\", \"Friday\", \"Friday\", \"Friday\", \"Friday\", \"Friday\", \"Friday\", \"Friday\", \"Friday\", \"Friday\", \"Friday\", \"Friday\", \"Friday\", \"Friday\", \"Friday\", \"Friday\", \"Friday\", \"Friday\", \"Friday\", \"Friday\", \"Friday\", \"Friday\", \"Friday\", \"Friday\", \"Friday\", \"Friday\", \"Friday\", \"Friday\", \"Friday\", \"Friday\", \"Friday\", \"Friday\", \"Friday\", \"Friday\", \"Friday\", \"Friday\", \"Friday\", \"Friday\", \"Friday\", \"Friday\", \"Friday\", \"Friday\", \"Friday\", \"Friday\", \"Friday\", \"Friday\", \"Friday\", \"Friday\", \"Friday\", \"Friday\", \"Friday\", \"Friday\", \"Friday\", \"Friday\", \"Friday\", \"Friday\", \"Friday\", \"Friday\", \"Friday\", \"Friday\", \"Friday\", \"Friday\", \"Friday\", \"Friday\", \"Friday\", \"Friday\", \"Friday\", \"Friday\", \"Friday\", \"Friday\", \"Friday\", \"Friday\", \"Friday\", \"Friday\", \"Friday\", \"Friday\", \"Friday\", \"Friday\", \"Friday\", \"Friday\", \"Friday\", \"Friday\", \"Friday\", \"Friday\", \"Friday\", \"Friday\", \"Friday\", \"Friday\", \"Friday\", \"Friday\", \"Friday\", \"Friday\", \"Friday\", \"Friday\", \"Friday\", \"Friday\", \"Friday\", \"Friday\", \"Friday\", \"Friday\", \"Friday\", \"Friday\", \"Friday\", \"Friday\", \"Friday\", \"Friday\", \"Friday\", \"Friday\", \"Friday\", \"Friday\", \"Friday\", \"Friday\", \"Friday\", \"Friday\", \"Friday\", \"Friday\", \"Friday\", \"Friday\", \"Friday\", \"Friday\", \"Friday\", \"Friday\", \"Friday\", \"Friday\", \"Friday\", \"Friday\", \"Friday\", \"Friday\", \"Friday\", \"Friday\", \"Friday\", \"Friday\", \"Friday\", \"Friday\", \"Friday\", \"Friday\", \"Friday\", \"Friday\", \"Friday\", \"Friday\", \"Friday\", \"Friday\", \"Friday\", \"Friday\", \"Friday\", \"Friday\", \"Friday\", \"Friday\", \"Friday\", \"Friday\", \"Friday\", \"Friday\", \"Friday\", \"Friday\", \"Friday\", \"Friday\", \"Friday\", \"Friday\", \"Friday\", \"Friday\", \"Friday\", \"Friday\", \"Friday\", \"Friday\", \"Friday\", \"Friday\", \"Friday\", \"Friday\", \"Friday\", \"Friday\", \"Friday\", \"Friday\", \"Friday\", \"Friday\", \"Friday\", \"Friday\", \"Friday\", \"Friday\", \"Friday\", \"Friday\", \"Friday\", \"Friday\", \"Friday\", \"Friday\", \"Friday\", \"Friday\", \"Friday\", \"Friday\", \"Friday\", \"Friday\", \"Friday\", \"Friday\", \"Friday\", \"Friday\", \"Friday\", \"Friday\", \"Friday\", \"Friday\", \"Friday\", \"Friday\", \"Friday\", \"Friday\", \"Friday\", \"Friday\", \"Friday\", \"Friday\", \"Friday\", \"Friday\", \"Friday\", \"Friday\", \"Friday\", \"Friday\", \"Friday\", \"Friday\", \"Friday\", \"Friday\", \"Friday\", \"Friday\", \"Friday\", \"Friday\", \"Friday\", \"Friday\", \"Friday\", \"Friday\", \"Friday\", \"Friday\", \"Friday\", \"Friday\", \"Friday\", \"Friday\", \"Friday\", \"Friday\", \"Friday\", \"Friday\", \"Friday\", \"Friday\", \"Friday\", \"Friday\", \"Friday\", \"Friday\", \"Friday\", \"Friday\", \"Friday\", \"Friday\", \"Friday\", \"Friday\", \"Friday\", \"Friday\", \"Friday\", \"Friday\", \"Friday\", \"Friday\", \"Friday\", \"Friday\", \"Friday\", \"Friday\", \"Friday\", \"Friday\", \"Friday\", \"Friday\", \"Friday\", \"Friday\", \"Friday\", \"Friday\", \"Friday\", \"Friday\", \"Friday\", \"Friday\", \"Friday\", \"Friday\", \"Friday\", \"Friday\", \"Friday\", \"Friday\", \"Friday\", \"Friday\", \"Friday\", \"Friday\", \"Friday\", \"Friday\", \"Friday\", \"Friday\", \"Friday\", \"Friday\", \"Friday\", \"Friday\", \"Friday\", \"Friday\", \"Friday\", \"Friday\", \"Friday\", \"Friday\", \"Friday\", \"Friday\", \"Friday\", \"Friday\", \"Friday\", \"Friday\", \"Friday\", \"Friday\", \"Friday\", \"Friday\", \"Friday\", \"Friday\", \"Friday\", \"Friday\", \"Friday\", \"Friday\", \"Friday\", \"Friday\", \"Friday\", \"Friday\", \"Friday\", \"Friday\", \"Friday\", \"Friday\", \"Friday\", \"Friday\", \"Friday\", \"Friday\", \"Friday\", \"Friday\", \"Friday\", \"Friday\", \"Friday\", \"Friday\", \"Friday\", \"Friday\", \"Friday\", \"Friday\", \"Friday\", \"Friday\", \"Friday\", \"Friday\", \"Friday\", \"Friday\", \"Friday\", \"Friday\", \"Friday\", \"Friday\", \"Friday\", \"Friday\", \"Friday\", \"Friday\", \"Friday\", \"Friday\", \"Friday\", \"Friday\", \"Friday\", \"Friday\", \"Friday\", \"Friday\", \"Friday\", \"Friday\", \"Friday\", \"Friday\", \"Friday\", \"Friday\", \"Friday\", \"Friday\", \"Friday\", \"Friday\", \"Friday\", \"Friday\", \"Friday\", \"Friday\", \"Friday\", \"Friday\", \"Friday\", \"Friday\", \"Friday\", \"Friday\", \"Friday\", \"Friday\", \"Friday\", \"Friday\", \"Friday\", \"Friday\", \"Friday\", \"Friday\", \"Friday\", \"Friday\", \"Friday\", \"Friday\", \"Friday\", \"Friday\", \"Friday\", \"Friday\", \"Friday\", \"Friday\", \"Friday\", \"Friday\", \"Friday\", \"Friday\", \"Friday\", \"Friday\", \"Friday\", \"Friday\", \"Friday\", \"Friday\", \"Friday\", \"Friday\", \"Friday\", \"Friday\", \"Friday\", \"Friday\", \"Friday\", \"Friday\", \"Friday\", \"Friday\", \"Friday\", \"Friday\", \"Friday\", \"Friday\", \"Friday\", \"Friday\", \"Friday\", \"Friday\", \"Friday\", \"Friday\", \"Friday\", \"Friday\", \"Friday\", \"Friday\", \"Friday\", \"Friday\", \"Friday\", \"Friday\", \"Friday\", \"Friday\", \"Friday\", \"Friday\", \"Friday\", \"Friday\", \"Friday\", \"Friday\", \"Friday\", \"Friday\", \"Friday\", \"Friday\", \"Friday\", \"Friday\", \"Friday\", \"Friday\", \"Friday\", \"Friday\", \"Friday\", \"Friday\", \"Friday\", \"Friday\", \"Friday\", \"Friday\", \"Friday\", \"Friday\", \"Friday\", \"Friday\", \"Friday\", \"Friday\", \"Friday\", \"Friday\", \"Friday\", \"Friday\", \"Friday\", \"Friday\", \"Friday\", \"Friday\", \"Friday\", \"Friday\", \"Friday\", \"Friday\", \"Friday\", \"Friday\", \"Friday\", \"Friday\", \"Friday\", \"Friday\", \"Friday\", \"Friday\", \"Friday\", \"Friday\", \"Friday\", \"Friday\", \"Friday\", \"Friday\", \"Friday\", \"Friday\", \"Friday\", \"Friday\", \"Friday\", \"Friday\", \"Friday\", \"Friday\", \"Friday\", \"Friday\", \"Friday\", \"Friday\", \"Friday\", \"Friday\", \"Friday\", \"Friday\", \"Friday\", \"Friday\", \"Friday\", \"Friday\", \"Friday\", \"Friday\", \"Friday\", \"Friday\", \"Friday\", \"Friday\", \"Friday\", \"Friday\", \"Friday\", \"Friday\", \"Friday\", \"Friday\", \"Friday\", \"Friday\", \"Friday\", \"Friday\", \"Friday\", \"Friday\", \"Friday\", \"Friday\", \"Friday\", \"Friday\", \"Friday\", \"Friday\", \"Friday\", \"Friday\", \"Friday\", \"Friday\", \"Friday\", \"Friday\", \"Friday\", \"Friday\", \"Friday\", \"Friday\", \"Friday\", \"Friday\", \"Friday\", \"Friday\", \"Friday\", \"Friday\", \"Friday\", \"Friday\", \"Friday\", \"Friday\", \"Friday\", \"Friday\", \"Friday\", \"Friday\", \"Friday\", \"Friday\", \"Friday\", \"Friday\", \"Friday\", \"Friday\", \"Friday\", \"Friday\", \"Friday\", \"Friday\", \"Friday\", \"Friday\", \"Friday\", \"Friday\", \"Friday\", \"Friday\", \"Friday\", \"Friday\", \"Friday\", \"Friday\", \"Friday\", \"Friday\", \"Friday\", \"Friday\", \"Friday\", \"Friday\", \"Friday\", \"Friday\", \"Friday\", \"Friday\", \"Friday\", \"Friday\", \"Friday\", \"Friday\", \"Friday\", \"Friday\", \"Friday\", \"Friday\", \"Friday\", \"Friday\", \"Friday\", \"Friday\", \"Friday\", \"Friday\", \"Friday\", \"Friday\", \"Friday\", \"Friday\", \"Friday\", \"Friday\", \"Friday\", \"Friday\", \"Friday\", \"Friday\", \"Friday\", \"Friday\", \"Friday\", \"Friday\", \"Friday\", \"Friday\", \"Friday\", \"Friday\", \"Friday\", \"Friday\", \"Friday\", \"Friday\", \"Friday\", \"Friday\", \"Friday\", \"Friday\", \"Friday\", \"Friday\", \"Friday\", \"Friday\", \"Friday\", \"Friday\", \"Friday\", \"Friday\", \"Friday\", \"Friday\", \"Friday\", \"Friday\", \"Friday\", \"Friday\", \"Friday\", \"Friday\", \"Friday\", \"Friday\", \"Friday\", \"Friday\", \"Friday\", \"Friday\", \"Friday\", \"Friday\", \"Friday\", \"Friday\", \"Friday\", \"Friday\", \"Friday\", \"Friday\", \"Friday\", \"Friday\", \"Friday\", \"Friday\", \"Friday\", \"Friday\", \"Friday\", \"Friday\", \"Friday\", \"Friday\", \"Friday\", \"Friday\", \"Friday\", \"Friday\", \"Friday\", \"Friday\", \"Friday\", \"Friday\", \"Friday\", \"Friday\", \"Friday\", \"Friday\", \"Friday\", \"Friday\", \"Friday\", \"Friday\", \"Friday\", \"Friday\", \"Friday\", \"Friday\", \"Friday\", \"Friday\", \"Friday\", \"Friday\", \"Friday\", \"Friday\", \"Friday\", \"Friday\", \"Friday\", \"Friday\", \"Friday\", \"Friday\", \"Friday\", \"Friday\", \"Friday\", \"Friday\", \"Friday\", \"Friday\", \"Friday\", \"Friday\", \"Friday\", \"Friday\", \"Friday\", \"Friday\", \"Friday\", \"Friday\", \"Friday\", \"Friday\", \"Friday\", \"Friday\", \"Friday\", \"Friday\", \"Friday\", \"Friday\", \"Friday\", \"Friday\", \"Friday\", \"Friday\", \"Friday\", \"Friday\", \"Friday\", \"Friday\", \"Friday\", \"Friday\", \"Friday\", \"Friday\", \"Friday\", \"Friday\", \"Friday\", \"Friday\", \"Friday\", \"Friday\", \"Friday\", \"Friday\", \"Friday\", \"Friday\", \"Friday\", \"Friday\", \"Friday\", \"Friday\", \"Friday\", \"Friday\", \"Friday\", \"Friday\", \"Friday\", \"Friday\", \"Friday\", \"Friday\", \"Friday\", \"Friday\", \"Friday\", \"Friday\", \"Friday\", \"Friday\", \"Friday\", \"Friday\", \"Friday\", \"Friday\", \"Friday\", \"Friday\", \"Friday\", \"Friday\", \"Friday\", \"Friday\", \"Friday\", \"Friday\", \"Friday\", \"Friday\", \"Friday\", \"Friday\", \"Friday\", \"Friday\", \"Friday\", \"Friday\", \"Friday\", \"Friday\", \"Friday\", \"Friday\", \"Friday\", \"Friday\", \"Friday\", \"Friday\", \"Friday\", \"Friday\", \"Friday\", \"Friday\", \"Friday\", \"Friday\", \"Friday\", \"Friday\", \"Friday\", \"Friday\", \"Friday\", \"Friday\", \"Friday\", \"Friday\", \"Friday\", \"Friday\", \"Friday\", \"Friday\", \"Friday\", \"Friday\", \"Friday\", \"Friday\", \"Friday\", \"Friday\", \"Friday\", \"Friday\", \"Friday\", \"Friday\", \"Friday\", \"Friday\", \"Friday\", \"Friday\", \"Friday\", \"Friday\", \"Friday\", \"Friday\", \"Friday\", \"Friday\", \"Friday\", \"Friday\", \"Friday\", \"Friday\", \"Friday\", \"Friday\", \"Friday\", \"Friday\", \"Friday\", \"Friday\", \"Friday\", \"Friday\", \"Friday\", \"Friday\", \"Friday\", \"Friday\", \"Friday\", \"Friday\", \"Friday\", \"Friday\", \"Friday\", \"Friday\", \"Friday\", \"Friday\", \"Friday\", \"Friday\", \"Friday\", \"Friday\", \"Friday\", \"Friday\", \"Friday\", \"Friday\", \"Friday\", \"Friday\", \"Friday\", \"Friday\", \"Friday\", \"Friday\", \"Friday\", \"Friday\", \"Friday\", \"Friday\", \"Friday\", \"Friday\", \"Friday\", \"Friday\", \"Friday\", \"Friday\", \"Friday\", \"Friday\", \"Friday\", \"Friday\", \"Friday\", \"Friday\", \"Friday\", \"Friday\", \"Friday\", \"Friday\", \"Friday\", \"Friday\", \"Friday\", \"Friday\", \"Friday\", \"Friday\", \"Friday\", \"Friday\", \"Friday\", \"Friday\", \"Friday\", \"Friday\", \"Friday\", \"Friday\", \"Friday\", \"Friday\", \"Friday\", \"Friday\", \"Friday\", \"Friday\", \"Friday\", \"Friday\", \"Friday\", \"Friday\", \"Friday\", \"Friday\", \"Friday\", \"Friday\", \"Friday\", \"Friday\", \"Friday\", \"Friday\", \"Friday\", \"Friday\", \"Friday\", \"Friday\", \"Friday\", \"Friday\", \"Friday\", \"Friday\", \"Friday\", \"Friday\", \"Friday\", \"Friday\", \"Friday\", \"Friday\", \"Friday\", \"Friday\", \"Friday\", \"Friday\", \"Friday\", \"Friday\", \"Friday\", \"Friday\", \"Friday\", \"Friday\", \"Friday\", \"Friday\", \"Friday\", \"Friday\", \"Friday\", \"Friday\", \"Friday\", \"Friday\", \"Friday\", \"Friday\", \"Friday\", \"Friday\", \"Friday\", \"Friday\", \"Friday\", \"Friday\", \"Friday\", \"Friday\", \"Friday\", \"Friday\", \"Friday\", \"Friday\", \"Friday\", \"Friday\", \"Friday\", \"Friday\", \"Friday\", \"Friday\", \"Friday\", \"Friday\", \"Friday\", \"Friday\", \"Friday\", \"Friday\", \"Friday\", \"Friday\", \"Friday\", \"Friday\", \"Friday\", \"Friday\", \"Friday\", \"Friday\", \"Friday\", \"Friday\", \"Friday\", \"Friday\", \"Friday\", \"Friday\", \"Friday\", \"Friday\", \"Friday\", \"Friday\", \"Friday\", \"Friday\", \"Friday\", \"Friday\", \"Friday\", \"Friday\", \"Friday\", \"Friday\", \"Friday\", \"Friday\", \"Friday\", \"Friday\", \"Friday\", \"Friday\", \"Friday\", \"Friday\", \"Friday\", \"Friday\", \"Friday\", \"Friday\", \"Friday\", \"Friday\", \"Friday\", \"Friday\", \"Friday\", \"Friday\", \"Friday\", \"Friday\", \"Friday\", \"Friday\", \"Friday\", \"Friday\", \"Friday\", \"Friday\", \"Friday\", \"Friday\", \"Friday\", \"Friday\", \"Friday\", \"Friday\", \"Friday\", \"Friday\", \"Friday\", \"Friday\", \"Friday\", \"Friday\", \"Friday\", \"Friday\", \"Friday\", \"Friday\", \"Friday\", \"Friday\", \"Friday\", \"Friday\", \"Friday\", \"Friday\", \"Friday\", \"Friday\", \"Friday\", \"Friday\", \"Friday\", \"Friday\", \"Friday\", \"Friday\", \"Friday\", \"Friday\", \"Friday\", \"Friday\", \"Friday\", \"Friday\", \"Friday\", \"Friday\", \"Friday\", \"Friday\", \"Friday\", \"Friday\", \"Friday\", \"Friday\", \"Friday\", \"Friday\", \"Friday\", \"Friday\", \"Friday\", \"Friday\", \"Friday\", \"Friday\", \"Friday\", \"Friday\", \"Friday\", \"Friday\", \"Friday\", \"Friday\", \"Friday\", \"Friday\", \"Friday\", \"Friday\", \"Friday\", \"Friday\", \"Friday\", \"Friday\", \"Friday\", \"Friday\", \"Friday\", \"Friday\", \"Friday\", \"Friday\", \"Friday\", \"Friday\", \"Friday\", \"Friday\", \"Friday\", \"Friday\", \"Friday\", \"Friday\", \"Friday\", \"Friday\", \"Friday\", \"Friday\", \"Friday\", \"Friday\", \"Friday\", \"Friday\", \"Friday\", \"Friday\", \"Friday\", \"Friday\", \"Friday\", \"Friday\", \"Friday\", \"Friday\", \"Friday\", \"Friday\", \"Friday\", \"Friday\", \"Friday\", \"Friday\", \"Friday\", \"Friday\", \"Friday\", \"Friday\", \"Friday\", \"Friday\", \"Friday\", \"Friday\", \"Friday\", \"Friday\", \"Friday\", \"Friday\", \"Friday\", \"Friday\", \"Friday\", \"Friday\", \"Friday\", \"Friday\", \"Friday\", \"Friday\", \"Friday\", \"Friday\", \"Friday\", \"Friday\", \"Friday\", \"Friday\", \"Friday\", \"Friday\", \"Friday\", \"Friday\", \"Friday\", \"Friday\", \"Friday\", \"Friday\", \"Friday\", \"Friday\", \"Friday\", \"Friday\", \"Friday\", \"Friday\", \"Friday\", \"Friday\", \"Friday\", \"Friday\", \"Friday\", \"Friday\", \"Friday\", \"Friday\", \"Friday\", \"Friday\", \"Friday\", \"Friday\", \"Friday\", \"Friday\", \"Friday\", \"Friday\", \"Friday\", \"Friday\", \"Friday\", \"Friday\", \"Friday\", \"Friday\", \"Friday\", \"Friday\", \"Friday\", \"Friday\", \"Friday\", \"Friday\", \"Friday\", \"Friday\", \"Friday\", \"Friday\", \"Friday\", \"Friday\", \"Friday\", \"Friday\", \"Friday\", \"Friday\", \"Friday\", \"Friday\", \"Friday\", \"Friday\", \"Friday\", \"Friday\", \"Friday\", \"Friday\", \"Friday\", \"Friday\", \"Friday\", \"Friday\", \"Friday\", \"Friday\", \"Friday\", \"Friday\", \"Friday\", \"Friday\", \"Friday\", \"Friday\", \"Friday\", \"Friday\", \"Friday\", \"Friday\", \"Friday\", \"Friday\", \"Friday\", \"Friday\", \"Friday\", \"Friday\", \"Friday\", \"Friday\", \"Friday\", \"Friday\", \"Friday\", \"Friday\", \"Friday\", \"Friday\", \"Friday\", \"Friday\", \"Friday\", \"Friday\", \"Friday\", \"Friday\", \"Friday\", \"Friday\", \"Friday\", \"Friday\", \"Friday\", \"Friday\", \"Friday\", \"Friday\", \"Friday\", \"Friday\", \"Friday\", \"Friday\", \"Friday\", \"Friday\", \"Friday\", \"Friday\", \"Friday\", \"Friday\", \"Friday\", \"Friday\", \"Friday\", \"Friday\", \"Friday\", \"Friday\", \"Friday\", \"Friday\", \"Friday\", \"Friday\", \"Friday\", \"Friday\", \"Friday\", \"Friday\", \"Friday\", \"Friday\", \"Friday\", \"Friday\", \"Friday\", \"Friday\", \"Friday\", \"Friday\", \"Friday\", \"Friday\", \"Friday\", \"Friday\", \"Friday\", \"Friday\", \"Friday\", \"Friday\", \"Friday\", \"Friday\", \"Friday\", \"Friday\", \"Friday\", \"Friday\", \"Friday\", \"Friday\", \"Friday\", \"Friday\", \"Friday\", \"Friday\", \"Friday\", \"Friday\", \"Friday\", \"Friday\", \"Friday\", \"Friday\", \"Friday\", \"Friday\", \"Friday\", \"Friday\", \"Friday\", \"Friday\", \"Friday\", \"Friday\", \"Friday\", \"Friday\", \"Friday\", \"Friday\", \"Friday\", \"Friday\", \"Friday\", \"Friday\", \"Friday\", \"Friday\", \"Friday\"], \"x0\": \" \", \"xaxis\": \"x\", \"y\": [\"170\", \"179\", \"184\", \"189\", \"193\", \"196\", \"199\", \"204\", \"208\", \"212\", \"217\", \"220\", \"222\", \"223\", \"222\", \"223\", \"224\", \"225\", \"229\", \"232\", \"233\", \"234\", \"237\", \"242\", \"247\", \"252\", \"256\", \"252\", \"250\", \"247\", \"251\", \"262\", \"265\", \"267\", \"265\", \"263\", \"260\", \"256\", \"252\", \"247\", \"244\", \"240\", \"237\", \"235\", \"235\", \"235\", \"235\", \"235\", \"234\", \"233\", \"233\", \"231\", \"230\", \"228\", \"226\", \"224\", \"222\", \"221\", \"220\", \"221\", \"215\", \"203\", \"198\", \"198\", \"200\", \"207\", \"213\", \"217\", \"217\", \"216\", \"215\", \"220\", \"221\", \"219\", \"217\", \"216\", \"217\", \"219\", \"220\", \"221\", \"219\", \"220\", \"221\", \"221\", \"222\", \"209\", \"220\", \"222\", \"221\", \"218\", \"213\", \"197\", \"198\", \"199\", \"193\", \"188\", \"181\", \"174\", \"171\", \"167\", \"164\", \"163\", \"160\", \"159\", \"159\", \"159\", \"156\", \"157\", \"160\", \"161\", \"160\", \"158\", \"154\", \"151\", \"147\", \"145\", \"145\", \"147\", \"151\", \"157\", \"161\", \"167\", \"166\", \"169\", \"172\", \"175\", \"180\", \"181\", \"185\", \"187\", \"191\", \"194\", \"196\", \"199\", \"202\", \"207\", \"212\", \"214\", \"215\", \"220\", \"224\", \"230\", \"243\", \"240\", \"234\", \"227\", \"223\", \"220\", \"216\", \"216\", \"216\", \"217\", \"214\", \"214\", \"212\", \"215\", \"212\", \"210\", \"207\", \"207\", \"213\", \"210\", \"213\", \"215\", \"217\", \"211\", \"209\", \"209\", \"209\", \"204\", \"203\", \"205\", \"208\", \"209\", \"207\", \"204\", \"195\", \"188\", \"182\", \"177\", \"174\", \"169\", \"164\", \"163\", \"165\", \"166\", \"163\", \"159\", \"155\", \"150\", \"143\", \"141\", \"135\", \"126\", \"118\", \"111\", \"103\", \"100\", \"103\", \"105\", \"104\", \"100\", \"99\", \"97\", \"93\", \"91\", \"90\", \"88\", \"84\", \"84\", \"87\", \"91\", \"97\", \"99\", \"96\", \"87\", \"76\", \"67\", \"60\", \"56\", \"53\", \"62\", \"77\", \"90\", \"96\", \"96\", \"96\", \"96\", \"97\", \"99\", \"97\", \"93\", \"90\", \"89\", \"88\", \"89\", \"89\", \"101\", \"107\", \"105\", \"106\", \"98\", \"92\", \"87\", \"86\", \"83\", \"80\", \"90\", \"93\", \"94\", \"93\", \"88\", \"87\", \"86\", \"83\", \"91\", \"90\", \"90\", \"93\", \"93\", \"91\", \"89\", \"86\", \"81\", \"79\", \"81\", \"80\", \"75\", \"75\", \"73\", \"76\", \"83\", \"85\", \"87\", \"89\", \"87\", \"79\", \"82\", \"96\", \"101\", \"102\", \"109\", \"113\", \"127\", \"136\", \"142\", \"141\", \"143\", \"155\", \"151\", \"145\", \"143\", \"139\", \"136\", \"132\", \"129\", \"126\", \"122\", \"119\", \"117\", \"114\", \"111\", \"109\", \"107\", \"104\", \"105\", \"106\", \"107\", \"109\", \"113\", \"119\", \"125\", \"134\", \"139\", \"148\", \"154\", \"162\", \"170\", \"176\", \"172\", \"173\", \"178\", \"184\", \"191\", \"200\", \"212\", \"213\", \"216\", \"218\", \"207\", \"204\", \"220\", \"234\", \"245\", \"250\", \"252\", \"251\", \"249\", \"247\", \"244\", \"242\", \"239\", \"237\", \"234\", \"231\", \"228\", \"232\", \"231\", \"228\", \"225\", \"220\", \"215\", \"210\", \"206\", \"202\", \"199\", \"195\", \"192\", \"187\", \"184\", \"181\", \"172\", \"177\", \"184\", \"179\", \"158\", \"151\", \"148\", \"146\", \"144\", \"142\", \"139\", \"136\", \"134\", \"135\", \"132\", \"128\", \"122\", \"123\", \"119\", \"117\", \"110\", \"110\", \"103\", \"96\", \"89\", \"88\", \"87\", \"85\", \"84\", \"82\", \"81\", \"80\", \"81\", \"80\", \"81\", \"89\", \"94\", \"96\", \"104\", \"105\", \"107\", \"112\", \"122\", \"125\", \"123\", \"138\", \"146\", \"153\", \"158\", \"162\", \"163\", \"157\", \"143\", \"137\", \"140\", \"142\", \"146\", \"145\", \"153\", \"154\", \"154\", \"151\", \"151\", \"156\", \"157\", \"159\", \"164\", \"159\", \"162\", \"172\", \"168\", \"167\", \"165\", \"167\", \"170\", \"170\", \"168\", \"162\", \"160\", \"158\", \"168\", \"168\", \"170\", \"170\", \"156\", \"150\", \"157\", \"153\", \"154\", \"152\", \"148\", \"149\", \"148\", \"151\", \"156\", \"166\", \"163\", \"165\", \"160\", \"170\", \"168\", \"168\", \"168\", \"166\", \"154\", \"137\", \"152\", \"160\", \"157\", \"146\", \"139\", \"136\", \"144\", \"151\", \"154\", \"152\", \"161\", \"174\", \"180\", \"178\", \"173\", \"165\", \"151\", \"145\", \"129\", \"118\", \"116\", \"109\", \"104\", \"100\", \"99\", \"101\", \"102\", \"106\", \"111\", \"111\", \"113\", \"119\", \"125\", \"138\", \"146\", \"151\", \"151\", \"159\", \"161\", \"158\", \"147\", \"134\", \"121\", \"107\", \"93\", \"78\", \"68\", \"63\", \"64\", \"73\", \"80\", \"85\", \"85\", \"89\", \"91\", \"99\", \"108\", \"117\", \"119\", \"114\", \"107\", \"104\", \"102\", \"102\", \"100\", \"90\", \"76\", \"73\", \"78\", \"82\", \"92\", \"96\", \"100\", \"104\", \"104\", \"106\", \"108\", \"110\", \"113\", \"115\", \"117\", \"121\", \"119\", \"124\", \"122\", \"114\", \"125\", \"123\", \"123\", \"134\", \"143\", \"138\", \"135\", \"135\", \"137\", \"139\", \"142\", \"136\", \"131\", \"133\", \"140\", \"143\", \"145\", \"131\", \"146\", \"147\", \"160\", \"166\", \"178\", \"122\", \"136\", \"157\", \"147\", \"144\", \"142\", \"139\", \"140\", \"142\", \"153\", \"149\", \"152\", \"148\", \"148\", \"148\", \"148\", \"147\", \"150\", \"149\", \"132\", \"140\", \"139\", \"143\", \"144\", \"138\", \"136\", \"112\", \"98\", \"126\", \"136\", \"143\", \"142\", \"112\", \"102\", \"117\", \"132\", \"144\", \"145\", \"132\", \"127\", \"123\", \"119\", \"114\", \"110\", \"104\", \"99\", \"99\", \"103\", \"102\", \"98\", \"102\", \"107\", \"111\", \"125\", \"135\", \"140\", \"146\", \"161\", \"159\", \"152\", \"147\", \"168\", \"175\", \"181\", \"185\", \"180\", \"167\", \"177\", \"137\", \"145\", \"164\", \"139\", \"204\", \"202\", \"199\", \"194\", \"190\", \"192\", \"189\", \"195\", \"192\", \"191\", \"194\", \"198\", \"193\", \"195\", \"193\", \"202\", \"201\", \"192\", \"183\", \"183\", \"185\", \"182\", \"178\", \"167\", \"162\", \"162\", \"143\", \"135\", \"136\", \"151\", \"140\", \"126\", \"102\", \"75\", \"81\", \"114\", \"104\", \"109\", \"105\", \"102\", \"99\", \"106\", \"123\", \"150\", \"177\", \"146\", \"149\", \"162\", \"172\", \"179\", \"186\", \"176\", \"146\", \"105\", \"130\", \"146\", \"137\", \"134\", \"135\", \"102\", \"110\", \"119\", \"98\", \"107\", \"107\", \"109\", \"98\", \"90\", \"91\", \"89\", \"80\", \"104\", \"121\", \"101\", \"83\", \"158\", \"161\", \"156\", \"150\", \"151\", \"161\", \"169\", \"160\", \"161\", \"146\", \"109\", \"79\", \"84\", \"194\", \"185\", \"178\", \"181\", \"183\", \"183\", \"191\", \"188\", \"167\", \"170\", \"167\", \"166\", \"166\", \"169\", \"162\", \"158\", \"152\", \"143\", \"148\", \"140\", \"139\", \"134\", \"125\", \"142\", \"143\", \"149\", \"151\", \"150\", \"147\", \"143\", \"139\", \"134\", \"124\", \"95\", \"56\", \"Low\", \"Low\", \"101\", \"101\", \"100\", \"95\", \"93\", \"87\", \"86\", \"86\", \"59\", \"69\", \"74\", \"82\", \"90\", \"100\", \"105\", \"94\", \"60\", \"138\", \"137\", \"130\", \"128\", \"202\", \"191\", \"192\", \"185\", \"179\", \"175\", \"166\", \"161\", \"158\", \"149\", \"143\", \"138\", \"133\", \"123\", \"104\", \"88\", \"92\", \"89\", \"81\", \"73\", \"72\", \"76\", \"80\", \"84\", \"86\", \"82\", \"87\", \"97\", \"108\", \"118\", \"121\", \"117\", \"128\", \"130\", \"117\", \"123\", \"138\", \"145\", \"153\", \"148\", \"143\", \"141\", \"141\", \"141\", \"140\", \"139\", \"138\", \"138\", \"138\", \"137\", \"136\", \"131\", \"125\", \"123\", \"122\", \"123\", \"123\", \"123\", \"118\", \"112\", \"109\", \"107\", \"106\", \"106\", \"105\", \"105\", \"104\", \"103\", \"107\", \"113\", \"103\", \"100\", \"98\", \"97\", \"98\", \"97\", \"97\", \"96\", \"95\", \"95\", \"94\", \"93\", \"92\", \"94\", \"100\", \"93\", \"89\", \"87\", \"92\", \"97\", \"101\", \"98\", \"93\", \"89\", \"88\", \"89\", \"92\", \"97\", \"103\", \"112\", \"110\", \"106\", \"99\", \"98\", \"95\", \"95\", \"88\", \"84\", \"78\", \"77\", \"73\", \"76\", \"93\", \"108\", \"118\", \"135\", \"149\", \"149\", \"158\", \"167\", \"178\", \"189\", \"190\", \"187\", \"193\", \"202\", \"209\", \"223\", \"229\", \"231\", \"229\", \"229\", \"227\", \"227\", \"231\", \"224\", \"208\", \"205\", \"205\", \"208\", \"210\", \"212\", \"205\", \"202\", \"201\", \"200\", \"195\", \"193\", \"182\", \"174\", \"168\", \"168\", \"165\", \"167\", \"171\", \"176\", \"180\", \"177\", \"175\", \"168\", \"156\", \"138\", \"126\", \"115\", \"115\", \"116\", \"116\", \"121\", \"123\", \"125\", \"124\", \"122\", \"120\", \"115\", \"107\", \"99\", \"95\", \"94\", \"92\", \"92\", \"94\", \"93\", \"91\", \"86\", \"84\", \"86\", \"90\", \"88\", \"85\", \"80\", \"75\", \"70\", \"66\", \"65\", \"66\", \"62\", \"57\", \"57\", \"65\", \"75\", \"83\", \"86\", \"86\", \"91\", \"99\", \"110\", \"116\", \"126\", \"120\", \"122\", \"111\", \"107\", \"91\", \"86\", \"83\", \"69\", \"78\", \"95\", \"111\", \"120\", \"109\", \"110\", \"110\", \"113\", \"113\", \"114\", \"116\", \"121\", \"124\", \"124\", \"119\", \"115\", \"111\", \"105\", \"100\", \"94\", \"90\", \"91\", \"97\", \"101\", \"106\", \"113\", \"117\", \"120\", \"126\", \"130\", \"133\", \"133\", \"137\", \"130\", \"132\", \"135\", \"133\", \"133\", \"132\", \"127\", \"127\", \"126\", \"131\", \"125\", \"121\", \"119\", \"117\", \"123\", \"122\", \"122\", \"114\", \"128\", \"127\", \"127\", \"125\", \"121\", \"131\", \"130\", \"135\", \"137\", \"139\", \"142\", \"144\", \"146\", \"151\", \"153\", \"156\", \"161\", \"155\", \"143\", \"136\", \"135\", \"153\", \"159\", \"169\", \"177\", \"183\", \"184\", \"183\", \"186\", \"182\", \"188\", \"189\", \"188\", \"183\", \"171\", \"157\", \"153\", \"151\", \"151\", \"150\", \"148\", \"147\", \"145\", \"144\", \"143\", \"142\", \"140\", \"139\", \"137\", \"136\", \"135\", \"143\", \"148\", \"148\", \"146\", \"145\", \"144\", \"144\", \"144\", \"144\", \"143\", \"142\", \"137\", \"127\", \"124\", \"123\", \"123\", \"122\", \"126\", \"131\", \"131\", \"133\", \"132\", \"130\", \"128\", \"126\", \"124\", \"124\", \"123\", \"123\", \"123\", \"122\", \"121\", \"119\", \"117\", \"116\", \"116\", \"115\", \"115\", \"114\", \"114\", \"114\", \"113\", \"113\", \"112\", \"111\", \"109\", \"108\", \"109\", \"108\", \"108\", \"106\", \"105\", \"105\", \"106\", \"106\", \"103\", \"102\", \"100\", \"96\", \"94\", \"93\", \"94\", \"94\", \"93\", \"91\", \"95\", \"94\", \"92\", \"89\", \"90\", \"93\", \"94\", \"91\", \"89\", \"90\", \"89\", \"89\", \"91\", \"95\", \"102\", \"108\", \"114\", \"119\", \"123\", \"123\", \"119\", \"117\", \"119\", \"116\", \"117\", \"118\", \"123\", \"128\", \"129\", \"133\", \"141\", \"144\", \"143\", \"143\", \"142\", \"140\", \"140\", \"141\", \"142\", \"144\", \"147\", \"150\", \"150\", \"151\", \"153\", \"180\", \"168\", \"163\", \"157\", \"152\", \"154\", \"143\", \"126\", \"118\", \"109\", \"103\", \"89\", \"68\", \"61\", \"64\", \"73\", \"79\", \"87\", \"88\", \"89\", \"84\", \"85\", \"88\", \"86\", \"94\", \"112\", \"111\", \"112\", \"110\", \"105\", \"99\", \"100\", \"107\", \"123\", \"132\", \"133\", \"130\", \"137\", \"137\", \"134\", \"131\", \"131\", \"136\", \"140\", \"150\", \"156\", \"156\", \"157\", \"159\", \"159\", \"159\", \"159\", \"162\", \"164\", \"164\", \"164\", \"163\", \"163\", \"161\", \"163\", \"168\", \"165\", \"156\", \"153\", \"146\", \"137\", \"134\", \"136\", \"137\", \"136\", \"139\", \"142\", \"145\", \"148\", \"146\", \"140\", \"132\", \"130\", \"126\", \"122\", \"120\", \"111\", \"110\", \"105\", \"109\", \"108\", \"103\", \"105\", \"99\", \"98\", \"91\", \"84\", \"77\", \"74\", \"74\", \"79\", \"82\", \"88\", \"91\", \"86\", \"89\", \"83\", \"98\", \"108\", \"113\", \"124\", \"124\", \"132\", \"128\", \"131\", \"142\", \"150\", \"156\", \"158\", \"160\", \"171\", \"189\", \"204\", \"204\", \"203\", \"201\", \"213\", \"221\", \"221\", \"220\", \"217\", \"213\", \"226\", \"222\", \"203\", \"199\", \"191\", \"185\", \"186\", \"180\", \"177\", \"175\", \"172\", \"171\", \"176\", \"179\", \"178\", \"175\", \"172\", \"170\", \"172\", \"169\", \"167\"], \"y0\": \" \", \"yaxis\": \"y\"}, {\"alignmentgroup\": \"True\", \"boxpoints\": \"all\", \"hoverlabel\": {\"namelength\": 0}, \"hovertemplate\": \"Day=%{x}<br>Glucose Value (mg/dL)=%{y}\", \"legendgroup\": \"Day=Saturday\", \"marker\": {\"color\": \"#FF6692\"}, \"name\": \"Day=Saturday\", \"notched\": false, \"offsetgroup\": \"Day=Saturday\", \"orientation\": \"v\", \"showlegend\": true, \"type\": \"box\", \"x\": [\"Saturday\", \"Saturday\", \"Saturday\", \"Saturday\", \"Saturday\", \"Saturday\", \"Saturday\", \"Saturday\", \"Saturday\", \"Saturday\", \"Saturday\", \"Saturday\", \"Saturday\", \"Saturday\", \"Saturday\", \"Saturday\", \"Saturday\", \"Saturday\", \"Saturday\", \"Saturday\", \"Saturday\", \"Saturday\", \"Saturday\", \"Saturday\", \"Saturday\", \"Saturday\", \"Saturday\", \"Saturday\", \"Saturday\", \"Saturday\", \"Saturday\", \"Saturday\", \"Saturday\", \"Saturday\", \"Saturday\", \"Saturday\", \"Saturday\", \"Saturday\", \"Saturday\", \"Saturday\", \"Saturday\", \"Saturday\", \"Saturday\", \"Saturday\", \"Saturday\", \"Saturday\", \"Saturday\", \"Saturday\", \"Saturday\", \"Saturday\", \"Saturday\", \"Saturday\", \"Saturday\", \"Saturday\", \"Saturday\", \"Saturday\", \"Saturday\", \"Saturday\", \"Saturday\", \"Saturday\", \"Saturday\", \"Saturday\", \"Saturday\", \"Saturday\", \"Saturday\", \"Saturday\", \"Saturday\", \"Saturday\", \"Saturday\", \"Saturday\", \"Saturday\", \"Saturday\", \"Saturday\", \"Saturday\", \"Saturday\", \"Saturday\", \"Saturday\", \"Saturday\", \"Saturday\", \"Saturday\", \"Saturday\", \"Saturday\", \"Saturday\", \"Saturday\", \"Saturday\", \"Saturday\", \"Saturday\", \"Saturday\", \"Saturday\", \"Saturday\", \"Saturday\", \"Saturday\", \"Saturday\", \"Saturday\", \"Saturday\", \"Saturday\", \"Saturday\", \"Saturday\", \"Saturday\", \"Saturday\", \"Saturday\", \"Saturday\", \"Saturday\", \"Saturday\", \"Saturday\", \"Saturday\", \"Saturday\", \"Saturday\", \"Saturday\", \"Saturday\", \"Saturday\", \"Saturday\", \"Saturday\", \"Saturday\", \"Saturday\", \"Saturday\", \"Saturday\", \"Saturday\", \"Saturday\", \"Saturday\", \"Saturday\", \"Saturday\", \"Saturday\", \"Saturday\", \"Saturday\", \"Saturday\", \"Saturday\", \"Saturday\", \"Saturday\", \"Saturday\", \"Saturday\", \"Saturday\", \"Saturday\", \"Saturday\", \"Saturday\", \"Saturday\", \"Saturday\", \"Saturday\", \"Saturday\", \"Saturday\", \"Saturday\", \"Saturday\", \"Saturday\", \"Saturday\", \"Saturday\", \"Saturday\", \"Saturday\", \"Saturday\", \"Saturday\", \"Saturday\", \"Saturday\", \"Saturday\", \"Saturday\", \"Saturday\", \"Saturday\", \"Saturday\", \"Saturday\", \"Saturday\", \"Saturday\", \"Saturday\", \"Saturday\", \"Saturday\", \"Saturday\", \"Saturday\", \"Saturday\", \"Saturday\", \"Saturday\", \"Saturday\", \"Saturday\", \"Saturday\", \"Saturday\", \"Saturday\", \"Saturday\", \"Saturday\", \"Saturday\", \"Saturday\", \"Saturday\", \"Saturday\", \"Saturday\", \"Saturday\", \"Saturday\", \"Saturday\", \"Saturday\", \"Saturday\", \"Saturday\", \"Saturday\", \"Saturday\", \"Saturday\", \"Saturday\", \"Saturday\", \"Saturday\", \"Saturday\", \"Saturday\", \"Saturday\", \"Saturday\", \"Saturday\", \"Saturday\", \"Saturday\", \"Saturday\", \"Saturday\", \"Saturday\", \"Saturday\", \"Saturday\", \"Saturday\", \"Saturday\", \"Saturday\", \"Saturday\", \"Saturday\", \"Saturday\", \"Saturday\", \"Saturday\", \"Saturday\", \"Saturday\", \"Saturday\", \"Saturday\", \"Saturday\", \"Saturday\", \"Saturday\", \"Saturday\", \"Saturday\", \"Saturday\", \"Saturday\", \"Saturday\", \"Saturday\", \"Saturday\", \"Saturday\", \"Saturday\", \"Saturday\", \"Saturday\", \"Saturday\", \"Saturday\", \"Saturday\", \"Saturday\", \"Saturday\", \"Saturday\", \"Saturday\", \"Saturday\", \"Saturday\", \"Saturday\", \"Saturday\", \"Saturday\", \"Saturday\", \"Saturday\", \"Saturday\", \"Saturday\", \"Saturday\", \"Saturday\", \"Saturday\", \"Saturday\", \"Saturday\", \"Saturday\", \"Saturday\", \"Saturday\", \"Saturday\", \"Saturday\", \"Saturday\", \"Saturday\", \"Saturday\", \"Saturday\", \"Saturday\", \"Saturday\", \"Saturday\", \"Saturday\", \"Saturday\", \"Saturday\", \"Saturday\", \"Saturday\", \"Saturday\", \"Saturday\", \"Saturday\", \"Saturday\", \"Saturday\", \"Saturday\", \"Saturday\", \"Saturday\", \"Saturday\", \"Saturday\", \"Saturday\", \"Saturday\", \"Saturday\", \"Saturday\", \"Saturday\", \"Saturday\", \"Saturday\", \"Saturday\", \"Saturday\", \"Saturday\", \"Saturday\", \"Saturday\", \"Saturday\", \"Saturday\", \"Saturday\", \"Saturday\", \"Saturday\", \"Saturday\", \"Saturday\", \"Saturday\", \"Saturday\", \"Saturday\", \"Saturday\", \"Saturday\", \"Saturday\", \"Saturday\", \"Saturday\", \"Saturday\", \"Saturday\", \"Saturday\", \"Saturday\", \"Saturday\", \"Saturday\", \"Saturday\", \"Saturday\", \"Saturday\", \"Saturday\", \"Saturday\", \"Saturday\", \"Saturday\", \"Saturday\", \"Saturday\", \"Saturday\", \"Saturday\", \"Saturday\", \"Saturday\", \"Saturday\", \"Saturday\", \"Saturday\", \"Saturday\", \"Saturday\", \"Saturday\", \"Saturday\", \"Saturday\", \"Saturday\", \"Saturday\", \"Saturday\", \"Saturday\", \"Saturday\", \"Saturday\", \"Saturday\", \"Saturday\", \"Saturday\", \"Saturday\", \"Saturday\", \"Saturday\", \"Saturday\", \"Saturday\", \"Saturday\", \"Saturday\", \"Saturday\", \"Saturday\", \"Saturday\", \"Saturday\", \"Saturday\", \"Saturday\", \"Saturday\", \"Saturday\", \"Saturday\", \"Saturday\", \"Saturday\", \"Saturday\", \"Saturday\", \"Saturday\", \"Saturday\", \"Saturday\", \"Saturday\", \"Saturday\", \"Saturday\", \"Saturday\", \"Saturday\", \"Saturday\", \"Saturday\", \"Saturday\", \"Saturday\", \"Saturday\", \"Saturday\", \"Saturday\", \"Saturday\", \"Saturday\", \"Saturday\", \"Saturday\", \"Saturday\", \"Saturday\", \"Saturday\", \"Saturday\", \"Saturday\", \"Saturday\", \"Saturday\", \"Saturday\", \"Saturday\", \"Saturday\", \"Saturday\", \"Saturday\", \"Saturday\", \"Saturday\", \"Saturday\", \"Saturday\", \"Saturday\", \"Saturday\", \"Saturday\", \"Saturday\", \"Saturday\", \"Saturday\", \"Saturday\", \"Saturday\", \"Saturday\", \"Saturday\", \"Saturday\", \"Saturday\", \"Saturday\", \"Saturday\", \"Saturday\", \"Saturday\", \"Saturday\", \"Saturday\", \"Saturday\", \"Saturday\", \"Saturday\", \"Saturday\", \"Saturday\", \"Saturday\", \"Saturday\", \"Saturday\", \"Saturday\", \"Saturday\", \"Saturday\", \"Saturday\", \"Saturday\", \"Saturday\", \"Saturday\", \"Saturday\", \"Saturday\", \"Saturday\", \"Saturday\", \"Saturday\", \"Saturday\", \"Saturday\", \"Saturday\", \"Saturday\", \"Saturday\", \"Saturday\", \"Saturday\", \"Saturday\", \"Saturday\", \"Saturday\", \"Saturday\", \"Saturday\", \"Saturday\", \"Saturday\", \"Saturday\", \"Saturday\", \"Saturday\", \"Saturday\", \"Saturday\", \"Saturday\", \"Saturday\", \"Saturday\", \"Saturday\", \"Saturday\", \"Saturday\", \"Saturday\", \"Saturday\", \"Saturday\", \"Saturday\", \"Saturday\", \"Saturday\", \"Saturday\", \"Saturday\", \"Saturday\", \"Saturday\", \"Saturday\", \"Saturday\", \"Saturday\", \"Saturday\", \"Saturday\", \"Saturday\", \"Saturday\", \"Saturday\", \"Saturday\", \"Saturday\", \"Saturday\", \"Saturday\", \"Saturday\", \"Saturday\", \"Saturday\", \"Saturday\", \"Saturday\", \"Saturday\", \"Saturday\", \"Saturday\", \"Saturday\", \"Saturday\", \"Saturday\", \"Saturday\", \"Saturday\", \"Saturday\", \"Saturday\", \"Saturday\", \"Saturday\", \"Saturday\", \"Saturday\", \"Saturday\", \"Saturday\", \"Saturday\", \"Saturday\", \"Saturday\", \"Saturday\", \"Saturday\", \"Saturday\", \"Saturday\", \"Saturday\", \"Saturday\", \"Saturday\", \"Saturday\", \"Saturday\", \"Saturday\", \"Saturday\", \"Saturday\", \"Saturday\", \"Saturday\", \"Saturday\", \"Saturday\", \"Saturday\", \"Saturday\", \"Saturday\", \"Saturday\", \"Saturday\", \"Saturday\", \"Saturday\", \"Saturday\", \"Saturday\", \"Saturday\", \"Saturday\", \"Saturday\", \"Saturday\", \"Saturday\", \"Saturday\", \"Saturday\", \"Saturday\", \"Saturday\", \"Saturday\", \"Saturday\", \"Saturday\", \"Saturday\", \"Saturday\", \"Saturday\", \"Saturday\", \"Saturday\", \"Saturday\", \"Saturday\", \"Saturday\", \"Saturday\", \"Saturday\", \"Saturday\", \"Saturday\", \"Saturday\", \"Saturday\", \"Saturday\", \"Saturday\", \"Saturday\", \"Saturday\", \"Saturday\", \"Saturday\", \"Saturday\", \"Saturday\", \"Saturday\", \"Saturday\", \"Saturday\", \"Saturday\", \"Saturday\", \"Saturday\", \"Saturday\", \"Saturday\", \"Saturday\", \"Saturday\", \"Saturday\", \"Saturday\", \"Saturday\", \"Saturday\", \"Saturday\", \"Saturday\", \"Saturday\", \"Saturday\", \"Saturday\", \"Saturday\", \"Saturday\", \"Saturday\", \"Saturday\", \"Saturday\", \"Saturday\", \"Saturday\", \"Saturday\", \"Saturday\", \"Saturday\", \"Saturday\", \"Saturday\", \"Saturday\", \"Saturday\", \"Saturday\", \"Saturday\", \"Saturday\", \"Saturday\", \"Saturday\", \"Saturday\", \"Saturday\", \"Saturday\", \"Saturday\", \"Saturday\", \"Saturday\", \"Saturday\", \"Saturday\", \"Saturday\", \"Saturday\", \"Saturday\", \"Saturday\", \"Saturday\", \"Saturday\", \"Saturday\", \"Saturday\", \"Saturday\", \"Saturday\", \"Saturday\", \"Saturday\", \"Saturday\", \"Saturday\", \"Saturday\", \"Saturday\", \"Saturday\", \"Saturday\", \"Saturday\", \"Saturday\", \"Saturday\", \"Saturday\", \"Saturday\", \"Saturday\", \"Saturday\", \"Saturday\", \"Saturday\", \"Saturday\", \"Saturday\", \"Saturday\", \"Saturday\", \"Saturday\", \"Saturday\", \"Saturday\", \"Saturday\", \"Saturday\", \"Saturday\", \"Saturday\", \"Saturday\", \"Saturday\", \"Saturday\", \"Saturday\", \"Saturday\", \"Saturday\", \"Saturday\", \"Saturday\", \"Saturday\", \"Saturday\", \"Saturday\", \"Saturday\", \"Saturday\", \"Saturday\", \"Saturday\", \"Saturday\", \"Saturday\", \"Saturday\", \"Saturday\", \"Saturday\", \"Saturday\", \"Saturday\", \"Saturday\", \"Saturday\", \"Saturday\", \"Saturday\", \"Saturday\", \"Saturday\", \"Saturday\", \"Saturday\", \"Saturday\", \"Saturday\", \"Saturday\", \"Saturday\", \"Saturday\", \"Saturday\", \"Saturday\", \"Saturday\", \"Saturday\", \"Saturday\", \"Saturday\", \"Saturday\", \"Saturday\", \"Saturday\", \"Saturday\", \"Saturday\", \"Saturday\", \"Saturday\", \"Saturday\", \"Saturday\", \"Saturday\", \"Saturday\", \"Saturday\", \"Saturday\", \"Saturday\", \"Saturday\", \"Saturday\", \"Saturday\", \"Saturday\", \"Saturday\", \"Saturday\", \"Saturday\", \"Saturday\", \"Saturday\", \"Saturday\", \"Saturday\", \"Saturday\", \"Saturday\", \"Saturday\", \"Saturday\", \"Saturday\", \"Saturday\", \"Saturday\", \"Saturday\", \"Saturday\", \"Saturday\", \"Saturday\", \"Saturday\", \"Saturday\", \"Saturday\", \"Saturday\", \"Saturday\", \"Saturday\", \"Saturday\", \"Saturday\", \"Saturday\", \"Saturday\", \"Saturday\", \"Saturday\", \"Saturday\", \"Saturday\", \"Saturday\", \"Saturday\", \"Saturday\", \"Saturday\", \"Saturday\", \"Saturday\", \"Saturday\", \"Saturday\", \"Saturday\", \"Saturday\", \"Saturday\", \"Saturday\", \"Saturday\", \"Saturday\", \"Saturday\", \"Saturday\", \"Saturday\", \"Saturday\", \"Saturday\", \"Saturday\", \"Saturday\", \"Saturday\", \"Saturday\", \"Saturday\", \"Saturday\", \"Saturday\", \"Saturday\", \"Saturday\", \"Saturday\", \"Saturday\", \"Saturday\", \"Saturday\", \"Saturday\", \"Saturday\", \"Saturday\", \"Saturday\", \"Saturday\", \"Saturday\", \"Saturday\", \"Saturday\", \"Saturday\", \"Saturday\", \"Saturday\", \"Saturday\", \"Saturday\", \"Saturday\", \"Saturday\", \"Saturday\", \"Saturday\", \"Saturday\", \"Saturday\", \"Saturday\", \"Saturday\", \"Saturday\", \"Saturday\", \"Saturday\", \"Saturday\", \"Saturday\", \"Saturday\", \"Saturday\", \"Saturday\", \"Saturday\", \"Saturday\", \"Saturday\", \"Saturday\", \"Saturday\", \"Saturday\", \"Saturday\", \"Saturday\", \"Saturday\", \"Saturday\", \"Saturday\", \"Saturday\", \"Saturday\", \"Saturday\", \"Saturday\", \"Saturday\", \"Saturday\", \"Saturday\", \"Saturday\", \"Saturday\", \"Saturday\", \"Saturday\", \"Saturday\", \"Saturday\", \"Saturday\", \"Saturday\", \"Saturday\", \"Saturday\", \"Saturday\", \"Saturday\", \"Saturday\", \"Saturday\", \"Saturday\", \"Saturday\", \"Saturday\", \"Saturday\", \"Saturday\", \"Saturday\", \"Saturday\", \"Saturday\", \"Saturday\", \"Saturday\", \"Saturday\", \"Saturday\", \"Saturday\", \"Saturday\", \"Saturday\", \"Saturday\", \"Saturday\", \"Saturday\", \"Saturday\", \"Saturday\", \"Saturday\", \"Saturday\", \"Saturday\", \"Saturday\", \"Saturday\", \"Saturday\", \"Saturday\", \"Saturday\", \"Saturday\", \"Saturday\", \"Saturday\", \"Saturday\", \"Saturday\", \"Saturday\", \"Saturday\", \"Saturday\", \"Saturday\", \"Saturday\", \"Saturday\", \"Saturday\", \"Saturday\", \"Saturday\", \"Saturday\", \"Saturday\", \"Saturday\", \"Saturday\", \"Saturday\", \"Saturday\", \"Saturday\", \"Saturday\", \"Saturday\", \"Saturday\", \"Saturday\", \"Saturday\", \"Saturday\", \"Saturday\", \"Saturday\", \"Saturday\", \"Saturday\", \"Saturday\", \"Saturday\", \"Saturday\", \"Saturday\", \"Saturday\", \"Saturday\", \"Saturday\", \"Saturday\", \"Saturday\", \"Saturday\", \"Saturday\", \"Saturday\", \"Saturday\", \"Saturday\", \"Saturday\", \"Saturday\", \"Saturday\", \"Saturday\", \"Saturday\", \"Saturday\", \"Saturday\", \"Saturday\", \"Saturday\", \"Saturday\", \"Saturday\", \"Saturday\", \"Saturday\", \"Saturday\", \"Saturday\", \"Saturday\", \"Saturday\", \"Saturday\", \"Saturday\", \"Saturday\", \"Saturday\", \"Saturday\", \"Saturday\", \"Saturday\", \"Saturday\", \"Saturday\", \"Saturday\", \"Saturday\", \"Saturday\", \"Saturday\", \"Saturday\", \"Saturday\", \"Saturday\", \"Saturday\", \"Saturday\", \"Saturday\", \"Saturday\", \"Saturday\", \"Saturday\", \"Saturday\", \"Saturday\", \"Saturday\", \"Saturday\", \"Saturday\", \"Saturday\", \"Saturday\", \"Saturday\", \"Saturday\", \"Saturday\", \"Saturday\", \"Saturday\", \"Saturday\", \"Saturday\", \"Saturday\", \"Saturday\", \"Saturday\", \"Saturday\", \"Saturday\", \"Saturday\", \"Saturday\", \"Saturday\", \"Saturday\", \"Saturday\", \"Saturday\", \"Saturday\", \"Saturday\", \"Saturday\", \"Saturday\", \"Saturday\", \"Saturday\", \"Saturday\", \"Saturday\", \"Saturday\", \"Saturday\", \"Saturday\", \"Saturday\", \"Saturday\", \"Saturday\", \"Saturday\", \"Saturday\", \"Saturday\", \"Saturday\", \"Saturday\", \"Saturday\", \"Saturday\", \"Saturday\", \"Saturday\", \"Saturday\", \"Saturday\", \"Saturday\", \"Saturday\", \"Saturday\", \"Saturday\", \"Saturday\", \"Saturday\", \"Saturday\", \"Saturday\", \"Saturday\", \"Saturday\", \"Saturday\", \"Saturday\", \"Saturday\", \"Saturday\", \"Saturday\", \"Saturday\", \"Saturday\", \"Saturday\", \"Saturday\", \"Saturday\", \"Saturday\", \"Saturday\", \"Saturday\", \"Saturday\", \"Saturday\", \"Saturday\", \"Saturday\", \"Saturday\", \"Saturday\", \"Saturday\", \"Saturday\", \"Saturday\", \"Saturday\", \"Saturday\", \"Saturday\", \"Saturday\", \"Saturday\", \"Saturday\", \"Saturday\", \"Saturday\", \"Saturday\", \"Saturday\", \"Saturday\", \"Saturday\", \"Saturday\", \"Saturday\", \"Saturday\", \"Saturday\", \"Saturday\", \"Saturday\", \"Saturday\", \"Saturday\", \"Saturday\", \"Saturday\", \"Saturday\", \"Saturday\", \"Saturday\", \"Saturday\", \"Saturday\", \"Saturday\", \"Saturday\", \"Saturday\", \"Saturday\", \"Saturday\", \"Saturday\", \"Saturday\", \"Saturday\", \"Saturday\", \"Saturday\", \"Saturday\", \"Saturday\", \"Saturday\", \"Saturday\", \"Saturday\", \"Saturday\", \"Saturday\", \"Saturday\", \"Saturday\", \"Saturday\", \"Saturday\", \"Saturday\", \"Saturday\", \"Saturday\", \"Saturday\", \"Saturday\", \"Saturday\", \"Saturday\", \"Saturday\", \"Saturday\", \"Saturday\", \"Saturday\", \"Saturday\", \"Saturday\", \"Saturday\", \"Saturday\", \"Saturday\", \"Saturday\", \"Saturday\", \"Saturday\", \"Saturday\", \"Saturday\", \"Saturday\", \"Saturday\", \"Saturday\", \"Saturday\", \"Saturday\", \"Saturday\", \"Saturday\", \"Saturday\", \"Saturday\", \"Saturday\", \"Saturday\", \"Saturday\", \"Saturday\", \"Saturday\", \"Saturday\", \"Saturday\", \"Saturday\", \"Saturday\", \"Saturday\", \"Saturday\", \"Saturday\", \"Saturday\", \"Saturday\", \"Saturday\", \"Saturday\", \"Saturday\", \"Saturday\", \"Saturday\", \"Saturday\", \"Saturday\", \"Saturday\", \"Saturday\", \"Saturday\", \"Saturday\", \"Saturday\", \"Saturday\", \"Saturday\", \"Saturday\", \"Saturday\", \"Saturday\", \"Saturday\", \"Saturday\", \"Saturday\", \"Saturday\", \"Saturday\", \"Saturday\", \"Saturday\", \"Saturday\", \"Saturday\", \"Saturday\", \"Saturday\", \"Saturday\", \"Saturday\", \"Saturday\", \"Saturday\", \"Saturday\", \"Saturday\", \"Saturday\", \"Saturday\", \"Saturday\", \"Saturday\", \"Saturday\", \"Saturday\", \"Saturday\", \"Saturday\", \"Saturday\", \"Saturday\", \"Saturday\", \"Saturday\", \"Saturday\", \"Saturday\", \"Saturday\", \"Saturday\", \"Saturday\", \"Saturday\", \"Saturday\", \"Saturday\", \"Saturday\", \"Saturday\", \"Saturday\", \"Saturday\", \"Saturday\", \"Saturday\", \"Saturday\", \"Saturday\", \"Saturday\", \"Saturday\", \"Saturday\", \"Saturday\", \"Saturday\", \"Saturday\", \"Saturday\", \"Saturday\", \"Saturday\", \"Saturday\", \"Saturday\", \"Saturday\", \"Saturday\", \"Saturday\", \"Saturday\", \"Saturday\", \"Saturday\", \"Saturday\", \"Saturday\", \"Saturday\", \"Saturday\", \"Saturday\", \"Saturday\", \"Saturday\", \"Saturday\", \"Saturday\", \"Saturday\", \"Saturday\", \"Saturday\", \"Saturday\", \"Saturday\", \"Saturday\", \"Saturday\", \"Saturday\", \"Saturday\", \"Saturday\", \"Saturday\", \"Saturday\", \"Saturday\", \"Saturday\", \"Saturday\", \"Saturday\", \"Saturday\", \"Saturday\", \"Saturday\", \"Saturday\", \"Saturday\", \"Saturday\", \"Saturday\", \"Saturday\", \"Saturday\", \"Saturday\", \"Saturday\", \"Saturday\", \"Saturday\", \"Saturday\", \"Saturday\", \"Saturday\", \"Saturday\", \"Saturday\", \"Saturday\", \"Saturday\", \"Saturday\", \"Saturday\", \"Saturday\", \"Saturday\", \"Saturday\", \"Saturday\", \"Saturday\", \"Saturday\", \"Saturday\", \"Saturday\", \"Saturday\", \"Saturday\", \"Saturday\", \"Saturday\", \"Saturday\", \"Saturday\", \"Saturday\", \"Saturday\", \"Saturday\", \"Saturday\", \"Saturday\", \"Saturday\", \"Saturday\", \"Saturday\", \"Saturday\", \"Saturday\", \"Saturday\", \"Saturday\", \"Saturday\", \"Saturday\", \"Saturday\", \"Saturday\", \"Saturday\", \"Saturday\", \"Saturday\", \"Saturday\", \"Saturday\", \"Saturday\", \"Saturday\", \"Saturday\", \"Saturday\", \"Saturday\", \"Saturday\", \"Saturday\", \"Saturday\", \"Saturday\", \"Saturday\", \"Saturday\", \"Saturday\", \"Saturday\", \"Saturday\", \"Saturday\", \"Saturday\", \"Saturday\", \"Saturday\", \"Saturday\", \"Saturday\", \"Saturday\", \"Saturday\", \"Saturday\", \"Saturday\", \"Saturday\", \"Saturday\", \"Saturday\", \"Saturday\", \"Saturday\", \"Saturday\", \"Saturday\", \"Saturday\", \"Saturday\", \"Saturday\", \"Saturday\", \"Saturday\", \"Saturday\", \"Saturday\", \"Saturday\", \"Saturday\", \"Saturday\", \"Saturday\", \"Saturday\", \"Saturday\"], \"x0\": \" \", \"xaxis\": \"x\", \"y\": [\"150\", \"156\", \"159\", \"159\", \"159\", \"151\", \"145\", \"150\", \"151\", \"141\", \"141\", \"141\", \"138\", \"135\", \"131\", \"129\", \"129\", \"131\", \"132\", \"132\", \"131\", \"130\", \"130\", \"130\", \"131\", \"131\", \"118\", \"119\", \"125\", \"131\", \"135\", \"137\", \"138\", \"139\", \"140\", \"141\", \"142\", \"144\", \"141\", \"110\", \"121\", \"126\", \"134\", \"147\", \"147\", \"148\", \"149\", \"148\", \"148\", \"147\", \"148\", \"150\", \"153\", \"156\", \"159\", \"159\", \"143\", \"128\", \"117\", \"115\", \"118\", \"118\", \"129\", \"145\", \"168\", \"179\", \"181\", \"179\", \"170\", \"170\", \"170\", \"172\", \"178\", \"180\", \"176\", \"164\", \"161\", \"160\", \"178\", \"187\", \"191\", \"195\", \"192\", \"190\", \"192\", \"194\", \"196\", \"197\", \"193\", \"190\", \"190\", \"194\", \"200\", \"198\", \"197\", \"197\", \"195\", \"195\", \"195\", \"186\", \"187\", \"189\", \"189\", \"176\", \"160\", \"147\", \"143\", \"146\", \"143\", \"144\", \"149\", \"154\", \"158\", \"160\", \"161\", \"157\", \"156\", \"154\", \"153\", \"152\", \"148\", \"146\", \"143\", \"138\", \"132\", \"125\", \"121\", \"119\", \"116\", \"113\", \"111\", \"113\", \"112\", \"112\", \"112\", \"112\", \"108\", \"110\", \"125\", \"135\", \"135\", \"132\", \"128\", \"127\", \"126\", \"132\", \"134\", \"134\", \"130\", \"122\", \"120\", \"116\", \"111\", \"109\", \"107\", \"108\", \"116\", \"126\", \"133\", \"137\", \"141\", \"141\", \"145\", \"146\", \"142\", \"133\", \"137\", \"130\", \"119\", \"113\", \"111\", \"108\", \"102\", \"100\", \"96\", \"97\", \"99\", \"101\", \"98\", \"98\", \"97\", \"94\", \"88\", \"82\", \"77\", \"77\", \"85\", \"96\", \"96\", \"89\", \"89\", \"90\", \"93\", \"92\", \"85\", \"76\", \"80\", \"92\", \"97\", \"109\", \"131\", \"134\", \"144\", \"152\", \"152\", \"159\", \"166\", \"174\", \"171\", \"173\", \"174\", \"174\", \"166\", \"154\", \"140\", \"128\", \"118\", \"118\", \"125\", \"125\", \"124\", \"128\", \"129\", \"137\", \"138\", \"140\", \"142\", \"140\", \"140\", \"144\", \"156\", \"169\", \"172\", \"170\", \"170\", \"171\", \"175\", \"174\", \"169\", \"164\", \"163\", \"168\", \"168\", \"167\", \"166\", \"164\", \"168\", \"168\", \"172\", \"185\", \"185\", \"184\", \"182\", \"175\", \"169\", \"159\", \"151\", \"147\", \"146\", \"145\", \"143\", \"144\", \"146\", \"145\", \"146\", \"142\", \"139\", \"134\", \"129\", \"125\", \"125\", \"129\", \"136\", \"142\", \"147\", \"148\", \"144\", \"146\", \"147\", \"147\", \"154\", \"153\", \"154\", \"157\", \"151\", \"144\", \"143\", \"143\", \"185\", \"184\", \"178\", \"168\", \"176\", \"181\", \"164\", \"152\", \"148\", \"158\", \"163\", \"169\", \"177\", \"186\", \"193\", \"198\", \"200\", \"199\", \"197\", \"195\", \"194\", \"186\", \"180\", \"178\", \"177\", \"177\", \"175\", \"173\", \"171\", \"168\", \"167\", \"167\", \"167\", \"169\", \"171\", \"172\", \"173\", \"175\", \"181\", \"184\", \"186\", \"188\", \"189\", \"192\", \"194\", \"196\", \"198\", \"199\", \"204\", \"210\", \"208\", \"214\", \"213\", \"208\", \"222\", \"220\", \"205\", \"212\", \"216\", \"229\", \"222\", \"222\", \"225\", \"226\", \"228\", \"229\", \"230\", \"232\", \"233\", \"234\", \"235\", \"236\", \"238\", \"240\", \"241\", \"239\", \"245\", \"250\", \"239\", \"242\", \"243\", \"245\", \"245\", \"245\", \"234\", \"230\", \"228\", \"233\", \"233\", \"234\", \"234\", \"234\", \"234\", \"233\", \"233\", \"234\", \"235\", \"236\", \"233\", \"239\", \"240\", \"265\", \"256\", \"252\", \"249\", \"249\", \"259\", \"262\", \"245\", \"236\", \"242\", \"246\", \"246\", \"235\", \"236\", \"241\", \"244\", \"249\", \"256\", \"256\", \"251\", \"247\", \"254\", \"265\", \"266\", \"258\", \"263\", \"267\", \"271\", \"267\", \"268\", \"276\", \"277\", \"281\", \"294\", \"294\", \"296\", \"298\", \"298\", \"297\", \"298\", \"290\", \"306\", \"313\", \"314\", \"294\", \"306\", \"326\", \"324\", \"319\", \"316\", \"313\", \"315\", \"322\", \"324\", \"307\", \"326\", \"329\", \"340\", \"345\", \"338\", \"342\", \"337\", \"359\", \"379\", \"379\", \"373\", \"367\", \"363\", \"359\", \"354\", \"348\", \"346\", \"317\", \"301\", \"305\", \"302\", \"299\", \"294\", \"288\", \"283\", \"277\", \"271\", \"265\", \"258\", \"252\", \"247\", \"242\", \"237\", \"219\", \"213\", \"209\", \"202\", \"188\", \"181\", \"170\", \"176\", \"172\", \"166\", \"159\", \"135\", \"128\", \"130\", \"132\", \"128\", \"123\", \"119\", \"125\", \"129\", \"130\", \"135\", \"137\", \"140\", \"144\", \"146\", \"145\", \"145\", \"145\", \"133\", \"130\", \"132\", \"139\", \"148\", \"149\", \"141\", \"129\", \"128\", \"138\", \"133\", \"129\", \"121\", \"112\", \"105\", \"100\", \"95\", \"95\", \"91\", \"103\", \"108\", \"113\", \"121\", \"127\", \"132\", \"143\", \"157\", \"174\", \"184\", \"190\", \"204\", \"213\", \"214\", \"204\", \"199\", \"190\", \"187\", \"195\", \"194\", \"191\", \"183\", \"176\", \"169\", \"160\", \"152\", \"148\", \"143\", \"136\", \"126\", \"117\", \"107\", \"102\", \"96\", \"87\", \"79\", \"74\", \"72\", \"72\", \"75\", \"80\", \"89\", \"92\", \"96\", \"94\", \"94\", \"99\", \"102\", \"103\", \"103\", \"102\", \"126\", \"128\", \"136\", \"135\", \"127\", \"137\", \"139\", \"131\", \"96\", \"127\", \"134\", \"128\", \"119\", \"162\", \"164\", \"122\", \"154\", \"152\", \"149\", \"146\", \"139\", \"132\", \"131\", \"127\", \"112\", \"126\", \"120\", \"117\", \"109\", \"100\", \"100\", \"102\", \"104\", \"104\", \"102\", \"100\", \"99\", \"56\", \"Low\", \"Low\", \"Low\", \"Low\", \"Low\", \"Low\", \"Low\", \"Low\", \"Low\", \"Low\", \"Low\", \"Low\", \"Low\", \"Low\", \"Low\", \"Low\", \"Low\", \"54\", \"62\", \"81\", \"85\", \"85\", \"83\", \"73\", \"74\", \"75\", \"75\", \"75\", \"74\", \"73\", \"72\", \"44\", \"56\", \"50\", \"56\", \"62\", \"66\", \"50\", \"57\", \"65\", \"68\", \"66\", \"44\", \"Low\", \"Low\", \"55\", \"67\", \"69\", \"51\", \"52\", \"53\", \"48\", \"55\", \"46\", \"42\", \"41\", \"44\", \"44\", \"43\", \"41\", \"40\", \"47\", \"58\", \"69\", \"79\", \"84\", \"87\", \"97\", \"104\", \"109\", \"119\", \"129\", \"133\", \"136\", \"136\", \"143\", \"153\", \"151\", \"156\", \"149\", \"155\", \"157\", \"159\", \"77\", \"83\", \"85\", \"82\", \"78\", \"79\", \"83\", \"89\", \"93\", \"95\", \"98\", \"101\", \"105\", \"107\", \"111\", \"121\", \"103\", \"102\", \"114\", \"132\", \"125\", \"120\", \"117\", \"120\", \"122\", \"123\", \"122\", \"127\", \"133\", \"142\", \"171\", \"173\", \"163\", \"146\", \"132\", \"123\", \"120\", \"108\", \"92\", \"85\", \"78\", \"70\", \"75\", \"83\", \"102\", \"97\", \"102\", \"110\", \"116\", \"133\", \"140\", \"146\", \"142\", \"136\", \"126\", \"123\", \"122\", \"117\", \"113\", \"111\", \"110\", \"109\", \"107\", \"105\", \"103\", \"100\", \"96\", \"93\", \"89\", \"88\", \"86\", \"85\", \"71\", \"65\", \"63\", \"62\", \"61\", \"60\", \"59\", \"58\", \"58\", \"59\", \"64\", \"66\", \"67\", \"66\", \"65\", \"64\", \"62\", \"54\", \"56\", \"66\", \"72\", \"75\", \"77\", \"78\", \"79\", \"81\", \"81\", \"82\", \"81\", \"79\", \"79\", \"80\", \"81\", \"82\", \"86\", \"91\", \"94\", \"96\", \"97\", \"97\", \"97\", \"97\", \"96\", \"96\", \"96\", \"93\", \"80\", \"75\", \"75\", \"84\", \"87\", \"89\", \"87\", \"94\", \"94\", \"91\", \"92\", \"92\", \"92\", \"93\", \"88\", \"92\", \"105\", \"106\", \"105\", \"96\", \"85\", \"80\", \"80\", \"85\", \"87\", \"84\", \"96\", \"113\", \"111\", \"109\", \"109\", \"109\", \"102\", \"95\", \"96\", \"97\", \"98\", \"98\", \"93\", \"92\", \"93\", \"93\", \"92\", \"94\", \"92\", \"87\", \"83\", \"81\", \"81\", \"83\", \"79\", \"77\", \"75\", \"74\", \"82\", \"85\", \"83\", \"88\", \"88\", \"91\", \"101\", \"109\", \"113\", \"122\", \"127\", \"133\", \"139\", \"144\", \"149\", \"158\", \"165\", \"166\", \"167\", \"163\", \"151\", \"140\", \"149\", \"153\", \"150\", \"142\", \"129\", \"116\", \"100\", \"87\", \"83\", \"83\", \"83\", \"87\", \"88\", \"90\", \"93\", \"102\", \"110\", \"115\", \"120\", \"119\", \"119\", \"122\", \"123\", \"128\", \"130\", \"138\", \"146\", \"147\", \"158\", \"154\", \"154\", \"155\", \"153\", \"150\", \"142\", \"128\", \"126\", \"125\", \"119\", \"123\", \"130\", \"139\", \"144\", \"151\", \"164\", \"173\", \"174\", \"180\", \"185\", \"176\", \"174\", \"182\", \"187\", \"177\", \"175\", \"170\", \"172\", \"174\", \"176\", \"181\", \"181\", \"175\", \"166\", \"155\", \"149\", \"144\", \"136\", \"131\", \"125\", \"118\", \"113\", \"108\", \"98\", \"96\", \"93\", \"104\", \"109\", \"112\", \"112\", \"114\", \"115\", \"114\", \"114\", \"113\", \"112\", \"110\", \"107\", \"100\", \"89\", \"76\", \"70\", \"60\", \"56\", \"71\", \"74\", \"82\", \"90\", \"93\", \"87\", \"84\", \"79\", \"76\", \"76\", \"93\", \"95\", \"110\", \"107\", \"102\", \"110\", \"112\", \"120\", \"124\", \"127\", \"135\", \"138\", \"140\", \"156\", \"168\", \"187\", \"184\", \"196\", \"199\", \"206\", \"206\", \"213\", \"222\", \"228\", \"226\", \"223\", \"221\", \"219\", \"219\", \"220\", \"211\", \"211\", \"206\", \"216\", \"216\", \"214\", \"212\", \"208\", \"204\", \"198\", \"156\", \"156\", \"152\", \"150\", \"148\", \"144\", \"139\", \"134\", \"130\", \"124\", \"118\", \"119\", \"118\", \"116\", \"110\", \"108\", \"108\", \"110\", \"114\", \"121\", \"117\", \"107\", \"125\", \"134\", \"144\", \"150\", \"146\", \"144\", \"139\", \"135\", \"134\", \"123\", \"116\", \"111\", \"110\", \"110\", \"111\", \"112\", \"112\", \"112\", \"113\", \"113\", \"113\", \"113\", \"114\", \"116\", \"122\", \"128\", \"126\", \"125\", \"127\", \"130\", \"133\", \"136\", \"137\", \"138\", \"138\", \"130\", \"126\", \"125\", \"129\", \"134\", \"140\", \"151\", \"151\", \"151\", \"152\", \"153\", \"155\", \"156\", \"156\", \"156\", \"155\", \"155\", \"155\", \"154\", \"154\", \"154\", \"157\", \"158\", \"166\", \"155\", \"166\", \"173\", \"178\", \"180\", \"179\", \"176\", \"186\", \"190\", \"190\", \"169\", \"164\", \"167\", \"184\", \"187\", \"181\", \"173\", \"167\", \"168\", \"178\", \"181\", \"183\", \"181\", \"178\", \"175\", \"173\", \"170\", \"167\", \"165\", \"163\", \"160\", \"156\", \"158\", \"160\", \"159\", \"156\", \"165\", \"157\", \"148\", \"145\", \"145\", \"138\", \"133\", \"127\", \"118\", \"101\", \"95\", \"98\", \"116\", \"112\", \"109\", \"104\", \"107\", \"108\", \"110\", \"116\", \"115\", \"115\", \"120\", \"129\", \"129\", \"135\", \"125\", \"134\", \"139\", \"139\", \"132\", \"129\", \"125\", \"128\", \"123\", \"119\", \"115\", \"119\", \"122\", \"118\", \"118\", \"119\", \"124\", \"130\", \"127\", \"112\", \"105\", \"102\", \"117\", \"111\", \"101\", \"95\", \"102\", \"101\", \"99\", \"111\", \"105\", \"109\", \"113\", \"122\", \"132\", \"130\", \"131\", \"135\", \"143\", \"150\", \"151\", \"152\", \"149\", \"151\", \"154\", \"158\", \"151\", \"155\", \"150\", \"149\", \"148\", \"153\", \"157\", \"156\", \"166\", \"175\", \"185\", \"183\", \"180\", \"168\", \"159\", \"163\", \"158\", \"145\", \"139\", \"135\", \"130\", \"126\", \"122\", \"120\", \"116\", \"117\", \"115\", \"112\", \"110\", \"108\", \"106\", \"102\", \"97\", \"92\", \"94\", \"98\", \"101\", \"109\", \"117\", \"128\", \"142\", \"156\", \"167\", \"177\", \"182\", \"191\", \"195\", \"202\", \"206\", \"210\", \"207\", \"200\", \"193\", \"182\", \"173\", \"167\", \"160\", \"152\", \"147\", \"148\", \"149\", \"149\", \"150\", \"152\", \"151\", \"144\", \"141\", \"143\", \"149\", \"152\", \"156\", \"154\", \"153\", \"154\", \"152\", \"148\", \"145\", \"140\", \"136\", \"128\", \"122\", \"120\", \"119\", \"98\", \"109\", \"106\", \"105\", \"105\", \"109\", \"112\", \"112\", \"114\", \"116\", \"124\", \"119\", \"113\", \"105\", \"102\", \"101\"], \"y0\": \" \", \"yaxis\": \"y\"}],\n",
              "                        {\"boxmode\": \"group\", \"legend\": {\"tracegroupgap\": 0}, \"margin\": {\"t\": 60}, \"template\": {\"data\": {\"bar\": [{\"error_x\": {\"color\": \"#2a3f5f\"}, \"error_y\": {\"color\": \"#2a3f5f\"}, \"marker\": {\"line\": {\"color\": \"#E5ECF6\", \"width\": 0.5}}, \"type\": \"bar\"}], \"barpolar\": [{\"marker\": {\"line\": {\"color\": \"#E5ECF6\", \"width\": 0.5}}, \"type\": \"barpolar\"}], \"carpet\": [{\"aaxis\": {\"endlinecolor\": \"#2a3f5f\", \"gridcolor\": \"white\", \"linecolor\": \"white\", \"minorgridcolor\": \"white\", \"startlinecolor\": \"#2a3f5f\"}, \"baxis\": {\"endlinecolor\": \"#2a3f5f\", \"gridcolor\": \"white\", \"linecolor\": \"white\", \"minorgridcolor\": \"white\", \"startlinecolor\": \"#2a3f5f\"}, \"type\": \"carpet\"}], \"choropleth\": [{\"colorbar\": {\"outlinewidth\": 0, \"ticks\": \"\"}, \"type\": \"choropleth\"}], \"contour\": [{\"colorbar\": {\"outlinewidth\": 0, \"ticks\": \"\"}, \"colorscale\": [[0.0, \"#0d0887\"], [0.1111111111111111, \"#46039f\"], [0.2222222222222222, \"#7201a8\"], [0.3333333333333333, \"#9c179e\"], [0.4444444444444444, \"#bd3786\"], [0.5555555555555556, \"#d8576b\"], [0.6666666666666666, \"#ed7953\"], [0.7777777777777778, \"#fb9f3a\"], [0.8888888888888888, \"#fdca26\"], [1.0, \"#f0f921\"]], \"type\": \"contour\"}], \"contourcarpet\": [{\"colorbar\": {\"outlinewidth\": 0, \"ticks\": \"\"}, \"type\": \"contourcarpet\"}], \"heatmap\": [{\"colorbar\": {\"outlinewidth\": 0, \"ticks\": \"\"}, \"colorscale\": [[0.0, \"#0d0887\"], [0.1111111111111111, \"#46039f\"], [0.2222222222222222, \"#7201a8\"], [0.3333333333333333, \"#9c179e\"], [0.4444444444444444, \"#bd3786\"], [0.5555555555555556, \"#d8576b\"], [0.6666666666666666, \"#ed7953\"], [0.7777777777777778, \"#fb9f3a\"], [0.8888888888888888, \"#fdca26\"], [1.0, \"#f0f921\"]], \"type\": \"heatmap\"}], \"heatmapgl\": [{\"colorbar\": {\"outlinewidth\": 0, \"ticks\": \"\"}, \"colorscale\": [[0.0, \"#0d0887\"], [0.1111111111111111, \"#46039f\"], [0.2222222222222222, \"#7201a8\"], [0.3333333333333333, \"#9c179e\"], [0.4444444444444444, \"#bd3786\"], [0.5555555555555556, \"#d8576b\"], [0.6666666666666666, \"#ed7953\"], [0.7777777777777778, \"#fb9f3a\"], [0.8888888888888888, \"#fdca26\"], [1.0, \"#f0f921\"]], \"type\": \"heatmapgl\"}], \"histogram\": [{\"marker\": {\"colorbar\": {\"outlinewidth\": 0, \"ticks\": \"\"}}, \"type\": \"histogram\"}], \"histogram2d\": [{\"colorbar\": {\"outlinewidth\": 0, \"ticks\": \"\"}, \"colorscale\": [[0.0, \"#0d0887\"], [0.1111111111111111, \"#46039f\"], [0.2222222222222222, \"#7201a8\"], [0.3333333333333333, \"#9c179e\"], [0.4444444444444444, \"#bd3786\"], [0.5555555555555556, \"#d8576b\"], [0.6666666666666666, \"#ed7953\"], [0.7777777777777778, \"#fb9f3a\"], [0.8888888888888888, \"#fdca26\"], [1.0, \"#f0f921\"]], \"type\": \"histogram2d\"}], \"histogram2dcontour\": [{\"colorbar\": {\"outlinewidth\": 0, \"ticks\": \"\"}, \"colorscale\": [[0.0, \"#0d0887\"], [0.1111111111111111, \"#46039f\"], [0.2222222222222222, \"#7201a8\"], [0.3333333333333333, \"#9c179e\"], [0.4444444444444444, \"#bd3786\"], [0.5555555555555556, \"#d8576b\"], [0.6666666666666666, \"#ed7953\"], [0.7777777777777778, \"#fb9f3a\"], [0.8888888888888888, \"#fdca26\"], [1.0, \"#f0f921\"]], \"type\": \"histogram2dcontour\"}], \"mesh3d\": [{\"colorbar\": {\"outlinewidth\": 0, \"ticks\": \"\"}, \"type\": \"mesh3d\"}], \"parcoords\": [{\"line\": {\"colorbar\": {\"outlinewidth\": 0, \"ticks\": \"\"}}, \"type\": \"parcoords\"}], \"pie\": [{\"automargin\": true, \"type\": \"pie\"}], \"scatter\": [{\"marker\": {\"colorbar\": {\"outlinewidth\": 0, \"ticks\": \"\"}}, \"type\": \"scatter\"}], \"scatter3d\": [{\"line\": {\"colorbar\": {\"outlinewidth\": 0, \"ticks\": \"\"}}, \"marker\": {\"colorbar\": {\"outlinewidth\": 0, \"ticks\": \"\"}}, \"type\": \"scatter3d\"}], \"scattercarpet\": [{\"marker\": {\"colorbar\": {\"outlinewidth\": 0, \"ticks\": \"\"}}, \"type\": \"scattercarpet\"}], \"scattergeo\": [{\"marker\": {\"colorbar\": {\"outlinewidth\": 0, \"ticks\": \"\"}}, \"type\": \"scattergeo\"}], \"scattergl\": [{\"marker\": {\"colorbar\": {\"outlinewidth\": 0, \"ticks\": \"\"}}, \"type\": \"scattergl\"}], \"scattermapbox\": [{\"marker\": {\"colorbar\": {\"outlinewidth\": 0, \"ticks\": \"\"}}, \"type\": \"scattermapbox\"}], \"scatterpolar\": [{\"marker\": {\"colorbar\": {\"outlinewidth\": 0, \"ticks\": \"\"}}, \"type\": \"scatterpolar\"}], \"scatterpolargl\": [{\"marker\": {\"colorbar\": {\"outlinewidth\": 0, \"ticks\": \"\"}}, \"type\": \"scatterpolargl\"}], \"scatterternary\": [{\"marker\": {\"colorbar\": {\"outlinewidth\": 0, \"ticks\": \"\"}}, \"type\": \"scatterternary\"}], \"surface\": [{\"colorbar\": {\"outlinewidth\": 0, \"ticks\": \"\"}, \"colorscale\": [[0.0, \"#0d0887\"], [0.1111111111111111, \"#46039f\"], [0.2222222222222222, \"#7201a8\"], [0.3333333333333333, \"#9c179e\"], [0.4444444444444444, \"#bd3786\"], [0.5555555555555556, \"#d8576b\"], [0.6666666666666666, \"#ed7953\"], [0.7777777777777778, \"#fb9f3a\"], [0.8888888888888888, \"#fdca26\"], [1.0, \"#f0f921\"]], \"type\": \"surface\"}], \"table\": [{\"cells\": {\"fill\": {\"color\": \"#EBF0F8\"}, \"line\": {\"color\": \"white\"}}, \"header\": {\"fill\": {\"color\": \"#C8D4E3\"}, \"line\": {\"color\": \"white\"}}, \"type\": \"table\"}]}, \"layout\": {\"annotationdefaults\": {\"arrowcolor\": \"#2a3f5f\", \"arrowhead\": 0, \"arrowwidth\": 1}, \"coloraxis\": {\"colorbar\": {\"outlinewidth\": 0, \"ticks\": \"\"}}, \"colorscale\": {\"diverging\": [[0, \"#8e0152\"], [0.1, \"#c51b7d\"], [0.2, \"#de77ae\"], [0.3, \"#f1b6da\"], [0.4, \"#fde0ef\"], [0.5, \"#f7f7f7\"], [0.6, \"#e6f5d0\"], [0.7, \"#b8e186\"], [0.8, \"#7fbc41\"], [0.9, \"#4d9221\"], [1, \"#276419\"]], \"sequential\": [[0.0, \"#0d0887\"], [0.1111111111111111, \"#46039f\"], [0.2222222222222222, \"#7201a8\"], [0.3333333333333333, \"#9c179e\"], [0.4444444444444444, \"#bd3786\"], [0.5555555555555556, \"#d8576b\"], [0.6666666666666666, \"#ed7953\"], [0.7777777777777778, \"#fb9f3a\"], [0.8888888888888888, \"#fdca26\"], [1.0, \"#f0f921\"]], \"sequentialminus\": [[0.0, \"#0d0887\"], [0.1111111111111111, \"#46039f\"], [0.2222222222222222, \"#7201a8\"], [0.3333333333333333, \"#9c179e\"], [0.4444444444444444, \"#bd3786\"], [0.5555555555555556, \"#d8576b\"], [0.6666666666666666, \"#ed7953\"], [0.7777777777777778, \"#fb9f3a\"], [0.8888888888888888, \"#fdca26\"], [1.0, \"#f0f921\"]]}, \"colorway\": [\"#636efa\", \"#EF553B\", \"#00cc96\", \"#ab63fa\", \"#FFA15A\", \"#19d3f3\", \"#FF6692\", \"#B6E880\", \"#FF97FF\", \"#FECB52\"], \"font\": {\"color\": \"#2a3f5f\"}, \"geo\": {\"bgcolor\": \"white\", \"lakecolor\": \"white\", \"landcolor\": \"#E5ECF6\", \"showlakes\": true, \"showland\": true, \"subunitcolor\": \"white\"}, \"hoverlabel\": {\"align\": \"left\"}, \"hovermode\": \"closest\", \"mapbox\": {\"style\": \"light\"}, \"paper_bgcolor\": \"white\", \"plot_bgcolor\": \"#E5ECF6\", \"polar\": {\"angularaxis\": {\"gridcolor\": \"white\", \"linecolor\": \"white\", \"ticks\": \"\"}, \"bgcolor\": \"#E5ECF6\", \"radialaxis\": {\"gridcolor\": \"white\", \"linecolor\": \"white\", \"ticks\": \"\"}}, \"scene\": {\"xaxis\": {\"backgroundcolor\": \"#E5ECF6\", \"gridcolor\": \"white\", \"gridwidth\": 2, \"linecolor\": \"white\", \"showbackground\": true, \"ticks\": \"\", \"zerolinecolor\": \"white\"}, \"yaxis\": {\"backgroundcolor\": \"#E5ECF6\", \"gridcolor\": \"white\", \"gridwidth\": 2, \"linecolor\": \"white\", \"showbackground\": true, \"ticks\": \"\", \"zerolinecolor\": \"white\"}, \"zaxis\": {\"backgroundcolor\": \"#E5ECF6\", \"gridcolor\": \"white\", \"gridwidth\": 2, \"linecolor\": \"white\", \"showbackground\": true, \"ticks\": \"\", \"zerolinecolor\": \"white\"}}, \"shapedefaults\": {\"line\": {\"color\": \"#2a3f5f\"}}, \"ternary\": {\"aaxis\": {\"gridcolor\": \"white\", \"linecolor\": \"white\", \"ticks\": \"\"}, \"baxis\": {\"gridcolor\": \"white\", \"linecolor\": \"white\", \"ticks\": \"\"}, \"bgcolor\": \"#E5ECF6\", \"caxis\": {\"gridcolor\": \"white\", \"linecolor\": \"white\", \"ticks\": \"\"}}, \"title\": {\"x\": 0.05}, \"xaxis\": {\"automargin\": true, \"gridcolor\": \"white\", \"linecolor\": \"white\", \"ticks\": \"\", \"title\": {\"standoff\": 15}, \"zerolinecolor\": \"white\", \"zerolinewidth\": 2}, \"yaxis\": {\"automargin\": true, \"gridcolor\": \"white\", \"linecolor\": \"white\", \"ticks\": \"\", \"title\": {\"standoff\": 15}, \"zerolinecolor\": \"white\", \"zerolinewidth\": 2}}}, \"xaxis\": {\"anchor\": \"y\", \"categoryarray\": [\"Sunday\", \"Monday\", \"Tuesday\", \"Wednesday\", \"Thursday\", \"Friday\", \"Saturday\"], \"categoryorder\": \"array\", \"domain\": [0.0, 1.0], \"title\": {\"text\": \"Day\"}}, \"yaxis\": {\"anchor\": \"x\", \"domain\": [0.0, 1.0], \"title\": {\"text\": \"Glucose Value (mg/dL)\"}}},\n",
              "                        {\"responsive\": true}\n",
              "                    ).then(function(){\n",
              "                            \n",
              "var gd = document.getElementById('e46dbcb9-b5ca-4401-8088-3b4d579fa494');\n",
              "var x = new MutationObserver(function (mutations, observer) {{\n",
              "        var display = window.getComputedStyle(gd).display;\n",
              "        if (!display || display === 'none') {{\n",
              "            console.log([gd, 'removed!']);\n",
              "            Plotly.purge(gd);\n",
              "            observer.disconnect();\n",
              "        }}\n",
              "}});\n",
              "\n",
              "// Listen for the removal of the full notebook cells\n",
              "var notebookContainer = gd.closest('#notebook-container');\n",
              "if (notebookContainer) {{\n",
              "    x.observe(notebookContainer, {childList: true});\n",
              "}}\n",
              "\n",
              "// Listen for the clearing of the current output cell\n",
              "var outputEl = gd.closest('.output');\n",
              "if (outputEl) {{\n",
              "    x.observe(outputEl, {childList: true});\n",
              "}}\n",
              "\n",
              "                        })\n",
              "                };\n",
              "                \n",
              "            </script>\n",
              "        </div>\n",
              "</body>\n",
              "</html>"
            ]
          },
          "metadata": {}
        }
      ]
    },
    {
      "cell_type": "markdown",
      "metadata": {
        "id": "n1gswtKcxqRm"
      },
      "source": [
        "This graph is split based on day of the week. It tells us the lowest and highest glucose values over the 90 day period on each day. For example, if you were to look at Friday, the lowest value is 53 and the highest value is 267. Whatever was done on that day needs to continue. My worse range for glucose levels was Saturday. The lowest glucose was 42 and the highest was 373.  This possibly could be explained by my work schedule as on most Saturday's I do not work and have the tendency to stay home which could mean more snacking, lounging around and getting off of my treatment plan. "
      ]
    },
    {
      "cell_type": "code",
      "metadata": {
        "id": "BqEPdKy4_I32"
      },
      "source": [
        "ranges= [0,70,180,350]"
      ],
      "execution_count": null,
      "outputs": []
    },
    {
      "cell_type": "code",
      "metadata": {
        "id": "fiIsRSfT_Gbc"
      },
      "source": [
        "BG['Glucose Value (mg/dL)'] = pd.to_numeric(BG['Glucose Value (mg/dL)'], errors='coerce')"
      ],
      "execution_count": null,
      "outputs": []
    },
    {
      "cell_type": "code",
      "metadata": {
        "id": "JGSRZXPMto_n"
      },
      "source": [
        "ranges= [0,70,180,350]\n",
        "BG['ranges']= pd.cut(BG['Glucose Value (mg/dL)'] , bins = ranges)\n",
        "result = (BG.groupby([pd.Grouper(key=\"Timestamp\",freq=\"D\"),'ranges'])['ranges'].count()\n",
        "          .unstack(0).T.fillna(0))\n",
        "\n",
        "summed_results = result.sum()"
      ],
      "execution_count": null,
      "outputs": []
    },
    {
      "cell_type": "code",
      "metadata": {
        "colab": {
          "base_uri": "https://localhost:8080/"
        },
        "id": "rhh29Kv5u4zp",
        "outputId": "a54ea223-b298-4e04-f6df-1bfe3d7aa7a8"
      },
      "source": [
        "\n",
        "less70 = 'Time < 70:'\n",
        "in_range = 'Time in range:'\n",
        "greater180 = 'Time > 180:'\n",
        "var_percent = '%'\n",
        "\n",
        "print(f'{less70:15} {str(round(summed_results.iloc[0]/summed_results.sum()*100,2))}{var_percent}')\n",
        "print(f'{in_range:15} {str(round(summed_results.iloc[1]/summed_results.sum()*100,2))}{var_percent}')\n",
        "print(f'{greater180:15} {str(round(summed_results.iloc[2]/summed_results.sum()*100,2))}{var_percent}')"
      ],
      "execution_count": null,
      "outputs": [
        {
          "output_type": "stream",
          "name": "stdout",
          "text": [
            "Time < 70:      3.53%\n",
            "Time in range:  75.68%\n",
            "Time > 180:     20.79%\n"
          ]
        }
      ]
    },
    {
      "cell_type": "markdown",
      "metadata": {
        "id": "D6QQTK-d0bJ0"
      },
      "source": [
        "The percentage of time gives an indication of general behavior of CGM variations. These results were calculated by taking a simple percentage of the total for each discrete time period. "
      ]
    },
    {
      "cell_type": "code",
      "metadata": {
        "colab": {
          "base_uri": "https://localhost:8080/",
          "height": 367
        },
        "id": "Xx1Z0dQpwMS2",
        "outputId": "fd364832-2131-482f-8bff-1546cc46aa45"
      },
      "source": [
        "ax = df.plot(figsize=(16,5), title='BG')\n",
        "ax.set_xlabel(\"TimeStamp\")\n",
        "ax.set_ylabel(\"Glucose Value (mg/dL)\")"
      ],
      "execution_count": null,
      "outputs": [
        {
          "output_type": "execute_result",
          "data": {
            "text/plain": [
              "Text(0, 0.5, 'Glucose Value (mg/dL)')"
            ]
          },
          "metadata": {},
          "execution_count": 30
        },
        {
          "output_type": "display_data",
          "data": {
            "image/png": "[encoded data removed]",
            "text/plain": [
              "<Figure size 1152x360 with 1 Axes>"
            ]
          },
          "metadata": {
            "needs_background": "light"
          }
        }
      ]
    },
    {
      "cell_type": "code",
      "metadata": {
        "id": "XNQuQ8fzkohN"
      },
      "source": [
        "BG['BG Rate of Change'] = BG['Glucose Value (mg/dL)'].diff()/5\n",
        "\n",
        "bg_roc_std = BG['BG Rate of Change'].std()\n",
        "bg_roc_mean = BG['BG Rate of Change'].mean()"
      ],
      "execution_count": null,
      "outputs": []
    },
    {
      "cell_type": "code",
      "metadata": {
        "colab": {
          "base_uri": "https://localhost:8080/",
          "height": 312
        },
        "id": "AZ_Oeqwvk1lN",
        "outputId": "a6244e6b-e91d-4df9-d0c6-ed1a3aadcd0a"
      },
      "source": [
        "sns.histplot(data=BG, x='BG Rate of Change',binrange=(-4,4))\n",
        "plt.title(f'Histogram of BG Rate of Change. mu = {bg_roc_mean:.2f}, sigma = {bg_roc_std:.2f}')\n",
        "plt.xlabel('BG Rate of Change (mg/dL/minute)')"
      ],
      "execution_count": null,
      "outputs": [
        {
          "output_type": "execute_result",
          "data": {
            "text/plain": [
              "Text(0.5, 0, 'BG Rate of Change (mg/dL/minute)')"
            ]
          },
          "metadata": {},
          "execution_count": 32
        },
        {
          "output_type": "display_data",
          "data": {
            "image/png": "[encoded data removed]",
            "text/plain": [
              "<Figure size 432x288 with 1 Axes>"
            ]
          },
          "metadata": {
            "needs_background": "light"
          }
        }
      ]
    },
    {
      "cell_type": "markdown",
      "metadata": {
        "id": "_z3s5xgM1RiB"
      },
      "source": [
        "I measured the standard deviation of the blood glucose data to see the amount of variability in it;whether or not the data points are clustered together or spread out. The SD value here is 1.46 which means that there is some spread in the data but not a lot. \n",
        "\n",
        "A higher standard deviation of Blood Glucose(BG) indicates increased BG variability and thus worse control. "
      ]
    },
    {
      "cell_type": "code",
      "metadata": {
        "id": "wuKYXBjdlMkp"
      },
      "source": [
        "BG['Lag (mg/dL)'] = BG['Glucose Value (mg/dL)'].shift(1)"
      ],
      "execution_count": null,
      "outputs": []
    },
    {
      "cell_type": "markdown",
      "metadata": {
        "id": "1giIVOw-2qzE"
      },
      "source": [
        "Poincare Plot- another visualization to measure glucose control. "
      ]
    },
    {
      "cell_type": "code",
      "metadata": {
        "colab": {
          "base_uri": "https://localhost:8080/",
          "height": 296
        },
        "id": "ut1K7t09lQYN",
        "outputId": "80c29a5d-1166-4b93-c0b3-521f23fb1248"
      },
      "source": [
        "sns.scatterplot(x='Lag (mg/dL)',y='Glucose Value (mg/dL)',data=BG)"
      ],
      "execution_count": null,
      "outputs": [
        {
          "output_type": "execute_result",
          "data": {
            "text/plain": [
              "<matplotlib.axes._subplots.AxesSubplot at 0x7f35d9d9c0d0>"
            ]
          },
          "metadata": {},
          "execution_count": 34
        },
        {
          "output_type": "display_data",
          "data": {
            "image/png": "[encoded data removed]",
            "text/plain": [
              "<Figure size 432x288 with 1 Axes>"
            ]
          },
          "metadata": {
            "needs_background": "light"
          }
        }
      ]
    },
    {
      "cell_type": "markdown",
      "metadata": {
        "id": "8cTjk7Y_3Iij"
      },
      "source": [
        "Glancing at the plot, you can see that the points appear to be clustered together which indicates patient stability. If the graph was more scatted like some of the points you see in the graph, this indicates patient irregularity, which means pooer glucose control and rapid glucose fluctuatons. "
      ]
    },
    {
      "cell_type": "markdown",
      "metadata": {
        "id": "lIX6zUHT4Ey7"
      },
      "source": [
        "Control Variability Grid Analysis- Another tool for visualizing overall glycemic control. "
      ]
    },
    {
      "cell_type": "code",
      "metadata": {
        "id": "3UA03RBepfwn"
      },
      "source": [
        "min_max_day= BG.groupby(pd.Grouper(key='Timestamp', freq='1D')).agg({'Glucose Value (mg/dL)':[np.min, np.max]})"
      ],
      "execution_count": null,
      "outputs": []
    },
    {
      "cell_type": "code",
      "metadata": {
        "id": "7z4YqSpRph3n"
      },
      "source": [
        "img = plt.imread('CVGA.png')"
      ],
      "execution_count": null,
      "outputs": []
    },
    {
      "cell_type": "code",
      "metadata": {
        "colab": {
          "base_uri": "https://localhost:8080/",
          "height": 513
        },
        "id": "ZYShqvMZpmFp",
        "outputId": "45a73f81-ed63-4e8f-eb94-152dba9d47fe"
      },
      "source": [
        "fig, ax = plt.subplots(figsize = (8,8))\n",
        "sns.scatterplot(data=min_max_day,x=min_max_day['Glucose Value (mg/dL)']['amin'],\n",
        "                y=min_max_day['Glucose Value (mg/dL)']['amax'], zorder=1,\n",
        "                color='blue', s=100)\n",
        "ax.imshow(img, extent=[110, 40, 110, 400], aspect='auto')\n",
        "plt.title('Control Variability Grid Analysis')\n",
        "plt.xlabel('Blood Glucose (mg/dL)')\n",
        "plt.ylabel('Blood Glucose (mg/dL)');"
      ],
      "execution_count": null,
      "outputs": [
        {
          "output_type": "display_data",
          "data": {
            "image/png": "[encoded data removed]",
            "text/plain": [
              "<Figure size 576x576 with 1 Axes>"
            ]
          },
          "metadata": {
            "needs_background": "light"
          }
        }
      ]
    },
    {
      "cell_type": "markdown",
      "metadata": {
        "id": "REeDP9u75jAh"
      },
      "source": [
        "Each point represents one day in this 90 day period. \n",
        "The x-coordinate for each point is the minimum BG in that 24 hour period and the y-coordinate is ghe maximum BG value in the same 24 hour period.\n",
        "I calculated these values by creating a new DF aggregated by day and using Numpy's min and max aggreagation functions. \n",
        "An ideal day would fall in the green areas of the graph, with a perfect day being in the \"A\" subsection. \n",
        "Days in the \"A\" subsection would have lower BG numbers between 90 and 110, with higher BG numbers less than 180. "
      ]
    },
    {
      "cell_type": "code",
      "metadata": {
        "colab": {
          "base_uri": "https://localhost:8080/",
          "height": 1000
        },
        "id": "E6Atyu332G_G",
        "outputId": "e3f56840-a747-45d8-bfed-a591761590a3"
      },
      "source": [
        "min_max_day=BG.groupby(pd.Grouper(key='Timestamp',freq='1D')).agg({'Glucose Value (mg/dL)':[np.min,np.max]})\n",
        "min_max_day"
      ],
      "execution_count": null,
      "outputs": [
        {
          "output_type": "execute_result",
          "data": {
            "text/html": [
              "<div>\n",
              "<style scoped>\n",
              "    .dataframe tbody tr th:only-of-type {\n",
              "        vertical-align: middle;\n",
              "    }\n",
              "\n",
              "    .dataframe tbody tr th {\n",
              "        vertical-align: top;\n",
              "    }\n",
              "\n",
              "    .dataframe thead tr th {\n",
              "        text-align: left;\n",
              "    }\n",
              "\n",
              "    .dataframe thead tr:last-of-type th {\n",
              "        text-align: right;\n",
              "    }\n",
              "</style>\n",
              "<table border=\"1\" class=\"dataframe\">\n",
              "  <thead>\n",
              "    <tr>\n",
              "      <th></th>\n",
              "      <th colspan=\"2\" halign=\"left\">Glucose Value (mg/dL)</th>\n",
              "    </tr>\n",
              "    <tr>\n",
              "      <th></th>\n",
              "      <th>amin</th>\n",
              "      <th>amax</th>\n",
              "    </tr>\n",
              "    <tr>\n",
              "      <th>Timestamp</th>\n",
              "      <th></th>\n",
              "      <th></th>\n",
              "    </tr>\n",
              "  </thead>\n",
              "  <tbody>\n",
              "    <tr>\n",
              "      <th>2021-09-19</th>\n",
              "      <td>62.0</td>\n",
              "      <td>209.0</td>\n",
              "    </tr>\n",
              "    <tr>\n",
              "      <th>2021-09-20</th>\n",
              "      <td>78.0</td>\n",
              "      <td>266.0</td>\n",
              "    </tr>\n",
              "    <tr>\n",
              "      <th>2021-09-21</th>\n",
              "      <td>66.0</td>\n",
              "      <td>301.0</td>\n",
              "    </tr>\n",
              "    <tr>\n",
              "      <th>2021-09-22</th>\n",
              "      <td>71.0</td>\n",
              "      <td>349.0</td>\n",
              "    </tr>\n",
              "    <tr>\n",
              "      <th>2021-09-23</th>\n",
              "      <td>60.0</td>\n",
              "      <td>247.0</td>\n",
              "    </tr>\n",
              "    <tr>\n",
              "      <th>2021-09-24</th>\n",
              "      <td>53.0</td>\n",
              "      <td>267.0</td>\n",
              "    </tr>\n",
              "    <tr>\n",
              "      <th>2021-09-25</th>\n",
              "      <td>76.0</td>\n",
              "      <td>200.0</td>\n",
              "    </tr>\n",
              "    <tr>\n",
              "      <th>2021-09-26</th>\n",
              "      <td>70.0</td>\n",
              "      <td>202.0</td>\n",
              "    </tr>\n",
              "    <tr>\n",
              "      <th>2021-09-27</th>\n",
              "      <td>63.0</td>\n",
              "      <td>208.0</td>\n",
              "    </tr>\n",
              "    <tr>\n",
              "      <th>2021-09-28</th>\n",
              "      <td>43.0</td>\n",
              "      <td>181.0</td>\n",
              "    </tr>\n",
              "    <tr>\n",
              "      <th>2021-09-29</th>\n",
              "      <td>40.0</td>\n",
              "      <td>279.0</td>\n",
              "    </tr>\n",
              "    <tr>\n",
              "      <th>2021-09-30</th>\n",
              "      <td>77.0</td>\n",
              "      <td>258.0</td>\n",
              "    </tr>\n",
              "    <tr>\n",
              "      <th>2021-10-01</th>\n",
              "      <td>63.0</td>\n",
              "      <td>252.0</td>\n",
              "    </tr>\n",
              "    <tr>\n",
              "      <th>2021-10-02</th>\n",
              "      <td>72.0</td>\n",
              "      <td>379.0</td>\n",
              "    </tr>\n",
              "    <tr>\n",
              "      <th>2021-10-03</th>\n",
              "      <td>59.0</td>\n",
              "      <td>215.0</td>\n",
              "    </tr>\n",
              "    <tr>\n",
              "      <th>2021-10-04</th>\n",
              "      <td>65.0</td>\n",
              "      <td>233.0</td>\n",
              "    </tr>\n",
              "    <tr>\n",
              "      <th>2021-10-05</th>\n",
              "      <td>52.0</td>\n",
              "      <td>192.0</td>\n",
              "    </tr>\n",
              "    <tr>\n",
              "      <th>2021-10-06</th>\n",
              "      <td>60.0</td>\n",
              "      <td>288.0</td>\n",
              "    </tr>\n",
              "    <tr>\n",
              "      <th>2021-10-07</th>\n",
              "      <td>62.0</td>\n",
              "      <td>256.0</td>\n",
              "    </tr>\n",
              "    <tr>\n",
              "      <th>2021-10-08</th>\n",
              "      <td>56.0</td>\n",
              "      <td>204.0</td>\n",
              "    </tr>\n",
              "    <tr>\n",
              "      <th>2021-10-09</th>\n",
              "      <td>40.0</td>\n",
              "      <td>173.0</td>\n",
              "    </tr>\n",
              "    <tr>\n",
              "      <th>2021-10-10</th>\n",
              "      <td>48.0</td>\n",
              "      <td>207.0</td>\n",
              "    </tr>\n",
              "    <tr>\n",
              "      <th>2021-10-11</th>\n",
              "      <td>60.0</td>\n",
              "      <td>280.0</td>\n",
              "    </tr>\n",
              "    <tr>\n",
              "      <th>2021-10-12</th>\n",
              "      <td>70.0</td>\n",
              "      <td>220.0</td>\n",
              "    </tr>\n",
              "    <tr>\n",
              "      <th>2021-10-13</th>\n",
              "      <td>66.0</td>\n",
              "      <td>219.0</td>\n",
              "    </tr>\n",
              "    <tr>\n",
              "      <th>2021-10-14</th>\n",
              "      <td>79.0</td>\n",
              "      <td>228.0</td>\n",
              "    </tr>\n",
              "    <tr>\n",
              "      <th>2021-10-15</th>\n",
              "      <td>57.0</td>\n",
              "      <td>231.0</td>\n",
              "    </tr>\n",
              "    <tr>\n",
              "      <th>2021-10-16</th>\n",
              "      <td>54.0</td>\n",
              "      <td>228.0</td>\n",
              "    </tr>\n",
              "    <tr>\n",
              "      <th>2021-10-17</th>\n",
              "      <td>46.0</td>\n",
              "      <td>238.0</td>\n",
              "    </tr>\n",
              "    <tr>\n",
              "      <th>2021-10-18</th>\n",
              "      <td>40.0</td>\n",
              "      <td>286.0</td>\n",
              "    </tr>\n",
              "    <tr>\n",
              "      <th>2021-10-19</th>\n",
              "      <td>45.0</td>\n",
              "      <td>215.0</td>\n",
              "    </tr>\n",
              "    <tr>\n",
              "      <th>2021-10-20</th>\n",
              "      <td>NaN</td>\n",
              "      <td>NaN</td>\n",
              "    </tr>\n",
              "    <tr>\n",
              "      <th>2021-10-21</th>\n",
              "      <td>NaN</td>\n",
              "      <td>NaN</td>\n",
              "    </tr>\n",
              "    <tr>\n",
              "      <th>2021-10-22</th>\n",
              "      <td>NaN</td>\n",
              "      <td>NaN</td>\n",
              "    </tr>\n",
              "    <tr>\n",
              "      <th>2021-10-23</th>\n",
              "      <td>NaN</td>\n",
              "      <td>NaN</td>\n",
              "    </tr>\n",
              "    <tr>\n",
              "      <th>2021-10-24</th>\n",
              "      <td>NaN</td>\n",
              "      <td>NaN</td>\n",
              "    </tr>\n",
              "    <tr>\n",
              "      <th>2021-10-25</th>\n",
              "      <td>45.0</td>\n",
              "      <td>166.0</td>\n",
              "    </tr>\n",
              "    <tr>\n",
              "      <th>2021-10-26</th>\n",
              "      <td>52.0</td>\n",
              "      <td>200.0</td>\n",
              "    </tr>\n",
              "    <tr>\n",
              "      <th>2021-10-27</th>\n",
              "      <td>47.0</td>\n",
              "      <td>273.0</td>\n",
              "    </tr>\n",
              "    <tr>\n",
              "      <th>2021-10-28</th>\n",
              "      <td>43.0</td>\n",
              "      <td>242.0</td>\n",
              "    </tr>\n",
              "    <tr>\n",
              "      <th>2021-10-29</th>\n",
              "      <td>61.0</td>\n",
              "      <td>226.0</td>\n",
              "    </tr>\n",
              "    <tr>\n",
              "      <th>2021-10-30</th>\n",
              "      <td>92.0</td>\n",
              "      <td>210.0</td>\n",
              "    </tr>\n",
              "    <tr>\n",
              "      <th>2021-10-31</th>\n",
              "      <td>83.0</td>\n",
              "      <td>252.0</td>\n",
              "    </tr>\n",
              "    <tr>\n",
              "      <th>2021-11-01</th>\n",
              "      <td>82.0</td>\n",
              "      <td>195.0</td>\n",
              "    </tr>\n",
              "    <tr>\n",
              "      <th>2021-11-02</th>\n",
              "      <td>57.0</td>\n",
              "      <td>256.0</td>\n",
              "    </tr>\n",
              "    <tr>\n",
              "      <th>2021-11-03</th>\n",
              "      <td>57.0</td>\n",
              "      <td>203.0</td>\n",
              "    </tr>\n",
              "    <tr>\n",
              "      <th>2021-11-04</th>\n",
              "      <td>83.0</td>\n",
              "      <td>252.0</td>\n",
              "    </tr>\n",
              "  </tbody>\n",
              "</table>\n",
              "</div>"
            ],
            "text/plain": [
              "           Glucose Value (mg/dL)       \n",
              "                            amin   amax\n",
              "Timestamp                              \n",
              "2021-09-19                  62.0  209.0\n",
              "2021-09-20                  78.0  266.0\n",
              "2021-09-21                  66.0  301.0\n",
              "2021-09-22                  71.0  349.0\n",
              "2021-09-23                  60.0  247.0\n",
              "2021-09-24                  53.0  267.0\n",
              "2021-09-25                  76.0  200.0\n",
              "2021-09-26                  70.0  202.0\n",
              "2021-09-27                  63.0  208.0\n",
              "2021-09-28                  43.0  181.0\n",
              "2021-09-29                  40.0  279.0\n",
              "2021-09-30                  77.0  258.0\n",
              "2021-10-01                  63.0  252.0\n",
              "2021-10-02                  72.0  379.0\n",
              "2021-10-03                  59.0  215.0\n",
              "2021-10-04                  65.0  233.0\n",
              "2021-10-05                  52.0  192.0\n",
              "2021-10-06                  60.0  288.0\n",
              "2021-10-07                  62.0  256.0\n",
              "2021-10-08                  56.0  204.0\n",
              "2021-10-09                  40.0  173.0\n",
              "2021-10-10                  48.0  207.0\n",
              "2021-10-11                  60.0  280.0\n",
              "2021-10-12                  70.0  220.0\n",
              "2021-10-13                  66.0  219.0\n",
              "2021-10-14                  79.0  228.0\n",
              "2021-10-15                  57.0  231.0\n",
              "2021-10-16                  54.0  228.0\n",
              "2021-10-17                  46.0  238.0\n",
              "2021-10-18                  40.0  286.0\n",
              "2021-10-19                  45.0  215.0\n",
              "2021-10-20                   NaN    NaN\n",
              "2021-10-21                   NaN    NaN\n",
              "2021-10-22                   NaN    NaN\n",
              "2021-10-23                   NaN    NaN\n",
              "2021-10-24                   NaN    NaN\n",
              "2021-10-25                  45.0  166.0\n",
              "2021-10-26                  52.0  200.0\n",
              "2021-10-27                  47.0  273.0\n",
              "2021-10-28                  43.0  242.0\n",
              "2021-10-29                  61.0  226.0\n",
              "2021-10-30                  92.0  210.0\n",
              "2021-10-31                  83.0  252.0\n",
              "2021-11-01                  82.0  195.0\n",
              "2021-11-02                  57.0  256.0\n",
              "2021-11-03                  57.0  203.0\n",
              "2021-11-04                  83.0  252.0"
            ]
          },
          "metadata": {},
          "execution_count": 38
        }
      ]
    },
    {
      "cell_type": "code",
      "metadata": {
        "colab": {
          "base_uri": "https://localhost:8080/",
          "height": 297
        },
        "id": "UvrwFhTTxkTx",
        "outputId": "ce61814d-93f9-44c6-84d5-4f43ba5cb337"
      },
      "source": [
        "BG.describe()"
      ],
      "execution_count": null,
      "outputs": [
        {
          "output_type": "execute_result",
          "data": {
            "text/html": [
              "<div>\n",
              "<style scoped>\n",
              "    .dataframe tbody tr th:only-of-type {\n",
              "        vertical-align: middle;\n",
              "    }\n",
              "\n",
              "    .dataframe tbody tr th {\n",
              "        vertical-align: top;\n",
              "    }\n",
              "\n",
              "    .dataframe thead th {\n",
              "        text-align: right;\n",
              "    }\n",
              "</style>\n",
              "<table border=\"1\" class=\"dataframe\">\n",
              "  <thead>\n",
              "    <tr style=\"text-align: right;\">\n",
              "      <th></th>\n",
              "      <th>Glucose Value (mg/dL)</th>\n",
              "      <th>BG Rate of Change</th>\n",
              "      <th>Lag (mg/dL)</th>\n",
              "    </tr>\n",
              "  </thead>\n",
              "  <tbody>\n",
              "    <tr>\n",
              "      <th>count</th>\n",
              "      <td>11100.000000</td>\n",
              "      <td>11085.000000</td>\n",
              "      <td>11099.000000</td>\n",
              "    </tr>\n",
              "    <tr>\n",
              "      <th>mean</th>\n",
              "      <td>144.492342</td>\n",
              "      <td>-0.003049</td>\n",
              "      <td>144.496441</td>\n",
              "    </tr>\n",
              "    <tr>\n",
              "      <th>std</th>\n",
              "      <td>47.610396</td>\n",
              "      <td>1.461566</td>\n",
              "      <td>47.610583</td>\n",
              "    </tr>\n",
              "    <tr>\n",
              "      <th>min</th>\n",
              "      <td>40.000000</td>\n",
              "      <td>-19.800000</td>\n",
              "      <td>40.000000</td>\n",
              "    </tr>\n",
              "    <tr>\n",
              "      <th>25%</th>\n",
              "      <td>110.000000</td>\n",
              "      <td>-0.600000</td>\n",
              "      <td>110.000000</td>\n",
              "    </tr>\n",
              "    <tr>\n",
              "      <th>50%</th>\n",
              "      <td>140.000000</td>\n",
              "      <td>0.000000</td>\n",
              "      <td>140.000000</td>\n",
              "    </tr>\n",
              "    <tr>\n",
              "      <th>75%</th>\n",
              "      <td>173.000000</td>\n",
              "      <td>0.600000</td>\n",
              "      <td>173.000000</td>\n",
              "    </tr>\n",
              "    <tr>\n",
              "      <th>max</th>\n",
              "      <td>379.000000</td>\n",
              "      <td>31.600000</td>\n",
              "      <td>379.000000</td>\n",
              "    </tr>\n",
              "  </tbody>\n",
              "</table>\n",
              "</div>"
            ],
            "text/plain": [
              "       Glucose Value (mg/dL)  BG Rate of Change   Lag (mg/dL)\n",
              "count           11100.000000       11085.000000  11099.000000\n",
              "mean              144.492342          -0.003049    144.496441\n",
              "std                47.610396           1.461566     47.610583\n",
              "min                40.000000         -19.800000     40.000000\n",
              "25%               110.000000          -0.600000    110.000000\n",
              "50%               140.000000           0.000000    140.000000\n",
              "75%               173.000000           0.600000    173.000000\n",
              "max               379.000000          31.600000    379.000000"
            ]
          },
          "metadata": {},
          "execution_count": 39
        }
      ]
    },
    {
      "cell_type": "code",
      "metadata": {
        "id": "XQwdNz6CgFdM"
      },
      "source": [
        "from sklearn.model_selection import cross_val_score\n",
        "from sklearn.model_selection import KFold\n",
        "from keras.wrappers.scikit_learn import KerasRegressor\n",
        "from sklearn.base import BaseEstimator\n",
        "from sklearn.preprocessing import StandardScaler\n",
        "from sklearn.pipeline import Pipeline"
      ],
      "execution_count": null,
      "outputs": []
    },
    {
      "cell_type": "markdown",
      "metadata": {
        "id": "-Ur_SAQr00AA"
      },
      "source": [
        "LSTM"
      ]
    },
    {
      "cell_type": "code",
      "metadata": {
        "id": "8-oC_eK_WEoZ"
      },
      "source": [
        "# convert an array of values into a dataset matrix\n",
        "def create_dataset(dataset, look_back=1):\n",
        "\tdataX, dataY = [], []\n",
        "\tfor i in range(len(dataset)-look_back-1):\n",
        "\t\ta = dataset[i:(i+look_back), 0]\n",
        "\t\tdataX.append(a)\n",
        "\t\tdataY.append(dataset[i + look_back, 0])\n",
        "\treturn np.array(dataX), np.array(dataY)\n",
        "# fix random seed for reproducibility\n",
        "np.random.seed(7)\n"
      ],
      "execution_count": null,
      "outputs": []
    },
    {
      "cell_type": "code",
      "metadata": {
        "id": "AYfEYHeqqI79"
      },
      "source": [
        "dataset = dataframe.values\n",
        "dataset = dataset.astype('float32')"
      ],
      "execution_count": null,
      "outputs": []
    },
    {
      "cell_type": "code",
      "metadata": {
        "id": "-fbenNdw10fV"
      },
      "source": [
        "# normalize the dataset\n",
        "scaler = MinMaxScaler(feature_range=(0, 1))\n",
        "dataset=scaler.fit_transform(dataset)"
      ],
      "execution_count": null,
      "outputs": []
    },
    {
      "cell_type": "code",
      "metadata": {
        "colab": {
          "base_uri": "https://localhost:8080/"
        },
        "id": "y14qQvM05J3Q",
        "outputId": "ec25c1cf-7a58-4610-f81f-490eea16fb4f"
      },
      "source": [
        "# split into train and test sets\n",
        "train_size = int(len(dataset) * 0.67)\n",
        "test_size = len(dataset) - train_size\n",
        "train, test = dataset[0:train_size,:], dataset[train_size:len(BG),:]\n",
        "print(len(train), len(test))"
      ],
      "execution_count": null,
      "outputs": [
        {
          "output_type": "stream",
          "name": "stdout",
          "text": [
            "7441 3666\n"
          ]
        }
      ]
    },
    {
      "cell_type": "code",
      "metadata": {
        "id": "A3BBVOrt5iNw"
      },
      "source": [
        "# reshape into X=t and Y=t+1\n",
        "look_back = 1\n",
        "trainX, trainY = create_dataset(train, look_back)\n",
        "testX, testY = create_dataset(test, look_back)"
      ],
      "execution_count": null,
      "outputs": []
    },
    {
      "cell_type": "code",
      "metadata": {
        "id": "Nr6hUHpl5yKN"
      },
      "source": [
        "# reshape input to be [samples, time steps, features]\n",
        "trainX = np.reshape(trainX, (trainX.shape[0], 1, trainX.shape[1]))\n",
        "testX = np.reshape(testX, (testX.shape[0], 1, testX.shape[1]))"
      ],
      "execution_count": null,
      "outputs": []
    },
    {
      "cell_type": "code",
      "metadata": {
        "colab": {
          "base_uri": "https://localhost:8080/"
        },
        "id": "onKOLOnH51oU",
        "outputId": "c96b2956-e581-432c-d264-0f3a21e7e729"
      },
      "source": [
        "# create and fit the LSTM network\n",
        "model = Sequential()\n",
        "model.add(LSTM(4, input_shape=(1, look_back)))\n",
        "model.add(Dense(1))\n",
        "model.compile(loss='mean_squared_error', optimizer='adam')\n",
        "model.fit(trainX, trainY, epochs=100, batch_size=1, verbose=2)"
      ],
      "execution_count": null,
      "outputs": [
        {
          "output_type": "stream",
          "name": "stdout",
          "text": [
            "Epoch 1/100\n",
            "7439/7439 - 12s - loss: 0.0042 - 12s/epoch - 2ms/step\n",
            "Epoch 2/100\n",
            "7439/7439 - 10s - loss: 5.8225e-04 - 10s/epoch - 1ms/step\n",
            "Epoch 3/100\n",
            "7439/7439 - 10s - loss: 5.8246e-04 - 10s/epoch - 1ms/step\n",
            "Epoch 4/100\n",
            "7439/7439 - 10s - loss: 5.8594e-04 - 10s/epoch - 1ms/step\n",
            "Epoch 5/100\n",
            "7439/7439 - 10s - loss: 5.7764e-04 - 10s/epoch - 1ms/step\n",
            "Epoch 6/100\n",
            "7439/7439 - 10s - loss: 5.8522e-04 - 10s/epoch - 1ms/step\n",
            "Epoch 7/100\n",
            "7439/7439 - 10s - loss: 5.8109e-04 - 10s/epoch - 1ms/step\n",
            "Epoch 8/100\n",
            "7439/7439 - 10s - loss: 5.8148e-04 - 10s/epoch - 1ms/step\n",
            "Epoch 9/100\n",
            "7439/7439 - 10s - loss: 5.8273e-04 - 10s/epoch - 1ms/step\n",
            "Epoch 10/100\n",
            "7439/7439 - 10s - loss: 5.8222e-04 - 10s/epoch - 1ms/step\n",
            "Epoch 11/100\n",
            "7439/7439 - 10s - loss: 5.8023e-04 - 10s/epoch - 1ms/step\n",
            "Epoch 12/100\n",
            "7439/7439 - 10s - loss: 5.8023e-04 - 10s/epoch - 1ms/step\n",
            "Epoch 13/100\n",
            "7439/7439 - 10s - loss: 5.7950e-04 - 10s/epoch - 1ms/step\n",
            "Epoch 14/100\n",
            "7439/7439 - 10s - loss: 5.8118e-04 - 10s/epoch - 1ms/step\n",
            "Epoch 15/100\n",
            "7439/7439 - 10s - loss: 5.7770e-04 - 10s/epoch - 1ms/step\n",
            "Epoch 16/100\n",
            "7439/7439 - 10s - loss: 5.8165e-04 - 10s/epoch - 1ms/step\n",
            "Epoch 17/100\n",
            "7439/7439 - 10s - loss: 5.8388e-04 - 10s/epoch - 1ms/step\n",
            "Epoch 18/100\n",
            "7439/7439 - 10s - loss: 5.8156e-04 - 10s/epoch - 1ms/step\n",
            "Epoch 19/100\n",
            "7439/7439 - 10s - loss: 5.7875e-04 - 10s/epoch - 1ms/step\n",
            "Epoch 20/100\n",
            "7439/7439 - 10s - loss: 5.8116e-04 - 10s/epoch - 1ms/step\n",
            "Epoch 21/100\n",
            "7439/7439 - 10s - loss: 5.7884e-04 - 10s/epoch - 1ms/step\n",
            "Epoch 22/100\n",
            "7439/7439 - 10s - loss: 5.8173e-04 - 10s/epoch - 1ms/step\n",
            "Epoch 23/100\n",
            "7439/7439 - 10s - loss: 5.8070e-04 - 10s/epoch - 1ms/step\n",
            "Epoch 24/100\n",
            "7439/7439 - 10s - loss: 5.7873e-04 - 10s/epoch - 1ms/step\n",
            "Epoch 25/100\n",
            "7439/7439 - 10s - loss: 5.8178e-04 - 10s/epoch - 1ms/step\n",
            "Epoch 26/100\n",
            "7439/7439 - 10s - loss: 5.7714e-04 - 10s/epoch - 1ms/step\n",
            "Epoch 27/100\n",
            "7439/7439 - 10s - loss: 5.8219e-04 - 10s/epoch - 1ms/step\n",
            "Epoch 28/100\n",
            "7439/7439 - 10s - loss: 5.8093e-04 - 10s/epoch - 1ms/step\n",
            "Epoch 29/100\n",
            "7439/7439 - 10s - loss: 5.7972e-04 - 10s/epoch - 1ms/step\n",
            "Epoch 30/100\n",
            "7439/7439 - 10s - loss: 5.7902e-04 - 10s/epoch - 1ms/step\n",
            "Epoch 31/100\n",
            "7439/7439 - 10s - loss: 5.8120e-04 - 10s/epoch - 1ms/step\n",
            "Epoch 32/100\n",
            "7439/7439 - 10s - loss: 5.7738e-04 - 10s/epoch - 1ms/step\n",
            "Epoch 33/100\n",
            "7439/7439 - 10s - loss: 5.8290e-04 - 10s/epoch - 1ms/step\n",
            "Epoch 34/100\n",
            "7439/7439 - 10s - loss: 5.7608e-04 - 10s/epoch - 1ms/step\n",
            "Epoch 35/100\n",
            "7439/7439 - 10s - loss: 5.7893e-04 - 10s/epoch - 1ms/step\n",
            "Epoch 36/100\n",
            "7439/7439 - 10s - loss: 5.7900e-04 - 10s/epoch - 1ms/step\n",
            "Epoch 37/100\n",
            "7439/7439 - 10s - loss: 5.7697e-04 - 10s/epoch - 1ms/step\n",
            "Epoch 38/100\n",
            "7439/7439 - 10s - loss: 5.7893e-04 - 10s/epoch - 1ms/step\n",
            "Epoch 39/100\n",
            "7439/7439 - 10s - loss: 5.8026e-04 - 10s/epoch - 1ms/step\n",
            "Epoch 40/100\n",
            "7439/7439 - 10s - loss: 5.7661e-04 - 10s/epoch - 1ms/step\n",
            "Epoch 41/100\n",
            "7439/7439 - 10s - loss: 5.8012e-04 - 10s/epoch - 1ms/step\n",
            "Epoch 42/100\n",
            "7439/7439 - 10s - loss: 5.7834e-04 - 10s/epoch - 1ms/step\n",
            "Epoch 43/100\n",
            "7439/7439 - 11s - loss: 5.8182e-04 - 11s/epoch - 1ms/step\n",
            "Epoch 44/100\n",
            "7439/7439 - 10s - loss: 5.8133e-04 - 10s/epoch - 1ms/step\n",
            "Epoch 45/100\n",
            "7439/7439 - 10s - loss: 5.7555e-04 - 10s/epoch - 1ms/step\n",
            "Epoch 46/100\n",
            "7439/7439 - 10s - loss: 5.7743e-04 - 10s/epoch - 1ms/step\n",
            "Epoch 47/100\n",
            "7439/7439 - 10s - loss: 5.7762e-04 - 10s/epoch - 1ms/step\n",
            "Epoch 48/100\n",
            "7439/7439 - 10s - loss: 5.7807e-04 - 10s/epoch - 1ms/step\n",
            "Epoch 49/100\n",
            "7439/7439 - 10s - loss: 5.7675e-04 - 10s/epoch - 1ms/step\n",
            "Epoch 50/100\n",
            "7439/7439 - 10s - loss: 5.7832e-04 - 10s/epoch - 1ms/step\n",
            "Epoch 51/100\n",
            "7439/7439 - 10s - loss: 5.7674e-04 - 10s/epoch - 1ms/step\n",
            "Epoch 52/100\n",
            "7439/7439 - 10s - loss: 5.7983e-04 - 10s/epoch - 1ms/step\n",
            "Epoch 53/100\n",
            "7439/7439 - 10s - loss: 5.7751e-04 - 10s/epoch - 1ms/step\n",
            "Epoch 54/100\n",
            "7439/7439 - 10s - loss: 5.7712e-04 - 10s/epoch - 1ms/step\n",
            "Epoch 55/100\n",
            "7439/7439 - 10s - loss: 5.7764e-04 - 10s/epoch - 1ms/step\n",
            "Epoch 56/100\n",
            "7439/7439 - 10s - loss: 5.7670e-04 - 10s/epoch - 1ms/step\n",
            "Epoch 57/100\n",
            "7439/7439 - 10s - loss: 5.7891e-04 - 10s/epoch - 1ms/step\n",
            "Epoch 58/100\n",
            "7439/7439 - 10s - loss: 5.7866e-04 - 10s/epoch - 1ms/step\n",
            "Epoch 59/100\n",
            "7439/7439 - 10s - loss: 5.7460e-04 - 10s/epoch - 1ms/step\n",
            "Epoch 60/100\n",
            "7439/7439 - 10s - loss: 5.7907e-04 - 10s/epoch - 1ms/step\n",
            "Epoch 61/100\n",
            "7439/7439 - 10s - loss: 5.7526e-04 - 10s/epoch - 1ms/step\n",
            "Epoch 62/100\n",
            "7439/7439 - 10s - loss: 5.7701e-04 - 10s/epoch - 1ms/step\n",
            "Epoch 63/100\n",
            "7439/7439 - 10s - loss: 5.7541e-04 - 10s/epoch - 1ms/step\n",
            "Epoch 64/100\n",
            "7439/7439 - 10s - loss: 5.7922e-04 - 10s/epoch - 1ms/step\n",
            "Epoch 65/100\n",
            "7439/7439 - 10s - loss: 5.7658e-04 - 10s/epoch - 1ms/step\n",
            "Epoch 66/100\n",
            "7439/7439 - 10s - loss: 5.7679e-04 - 10s/epoch - 1ms/step\n",
            "Epoch 67/100\n",
            "7439/7439 - 10s - loss: 5.7652e-04 - 10s/epoch - 1ms/step\n",
            "Epoch 68/100\n",
            "7439/7439 - 10s - loss: 5.7616e-04 - 10s/epoch - 1ms/step\n",
            "Epoch 69/100\n",
            "7439/7439 - 10s - loss: 5.7664e-04 - 10s/epoch - 1ms/step\n",
            "Epoch 70/100\n",
            "7439/7439 - 10s - loss: 5.7599e-04 - 10s/epoch - 1ms/step\n",
            "Epoch 71/100\n",
            "7439/7439 - 10s - loss: 5.7331e-04 - 10s/epoch - 1ms/step\n",
            "Epoch 72/100\n",
            "7439/7439 - 10s - loss: 5.7332e-04 - 10s/epoch - 1ms/step\n",
            "Epoch 73/100\n",
            "7439/7439 - 10s - loss: 5.7595e-04 - 10s/epoch - 1ms/step\n",
            "Epoch 74/100\n"
          ]
        }
      ]
    },
    {
      "cell_type": "code",
      "metadata": {
        "id": "Dy9i0wWH_Gcf"
      },
      "source": [
        "import math"
      ],
      "execution_count": null,
      "outputs": []
    },
    {
      "cell_type": "code",
      "metadata": {
        "id": "JWpG8FCW9-1X"
      },
      "source": [
        "# make predictions\n",
        "trainPredict = model.predict(trainX)\n",
        "testPredict = model.predict(testX)"
      ],
      "execution_count": null,
      "outputs": []
    },
    {
      "cell_type": "code",
      "metadata": {
        "id": "DebiqxK2EeDN"
      },
      "source": [
        "# invert predictions\n",
        "trainPredict = scaler.inverse_transform(trainPredict)\n",
        "trainY = scaler.inverse_transform([trainY])\n",
        "testPredict = scaler.inverse_transform(testPredict)\n",
        "testY = scaler.inverse_transform([testY])\n"
      ],
      "execution_count": null,
      "outputs": []
    },
    {
      "cell_type": "code",
      "metadata": {
        "colab": {
          "base_uri": "https://localhost:8080/"
        },
        "id": "LQCFcoSUE6SR",
        "outputId": "af0f8682-b4bf-4b66-8fe2-d3fde99ac57f"
      },
      "source": [
        "# calculate root mean squared error\n",
        "trainScore = math.sqrt(mean_squared_error(trainY[0], trainPredict[:,0]))\n",
        "print('Train Score: %.2f RMSE' % (trainScore))\n",
        "testScore = math.sqrt(mean_squared_error(testY[0], testPredict[:,0]))\n",
        "print('Test Score: %.2f RMSE' % (testScore))\n",
        "\n"
      ],
      "execution_count": null,
      "outputs": [
        {
          "output_type": "stream",
          "name": "stdout",
          "text": [
            "Train Score: 8.02 RMSE\n",
            "Test Score: 7.04 RMSE\n"
          ]
        }
      ]
    },
    {
      "cell_type": "code",
      "metadata": {
        "colab": {
          "base_uri": "https://localhost:8080/",
          "height": 316
        },
        "id": "LdypMoS-A7Kj",
        "outputId": "e17c5dd7-e437-4ee2-bab5-78da005dde94"
      },
      "source": [
        "aa=[x for x in range(200)]\n",
        "plt.figure(figsize=(8,4))\n",
        "plt.plot(aa, testY[0][:200], marker='.', label=\"actual\")\n",
        "plt.plot(aa, testPredict[:,0][:200], 'r', label=\"prediction\")\n",
        "# plt.tick_params(left=False, labelleft=True) #remove ticks\n",
        "plt.tight_layout()\n",
        "sns.despine(top=True)\n",
        "plt.subplots_adjust(left=0.07)\n",
        "plt.ylabel('Glucose Value (mg/dL)', size=15)\n",
        "plt.xlabel('Timestamp', size=15)\n",
        "plt.legend(fontsize=15) \n",
        "plt.show();"
      ],
      "execution_count": null,
      "outputs": [
        {
          "output_type": "display_data",
          "data": {
            "image/png": "[encoded data removed]",
            "text/plain": [
              "<Figure size 576x288 with 1 Axes>"
            ]
          },
          "metadata": {
            "needs_background": "light"
          }
        }
      ]
    },
    {
      "cell_type": "code",
      "metadata": {
        "colab": {
          "base_uri": "https://localhost:8080/",
          "height": 265
        },
        "id": "uazLRKORAqRz",
        "outputId": "87255537-d664-48c8-efcf-4902e93f3e46"
      },
      "source": [
        "\n",
        "# shift train predictions for plotting\n",
        "trainPredictPlot = np.empty_like(dataset)\n",
        "trainPredictPlot[:, :] = np.nan\n",
        "trainPredictPlot[look_back:len(trainPredict)+look_back, :] = trainPredict\n",
        "# shift test predictions for plotting\n",
        "testPredictPlot = np.empty_like(dataset)\n",
        "testPredictPlot[:, :] = np.nan\n",
        "testPredictPlot[len(trainPredict)+(look_back*2)+1:len(dataset)-1, :] = testPredict\n",
        "# plot baseline and predictions\n",
        "plt.plot(scaler.inverse_transform(dataset))\n",
        "plt.plot(trainPredictPlot)\n",
        "plt.plot(testPredictPlot)\n",
        "plt.show()"
      ],
      "execution_count": null,
      "outputs": [
        {
          "output_type": "display_data",
          "data": {
            "image/png": "[encoded data removed]",
            "text/plain": [
              "<Figure size 432x288 with 1 Axes>"
            ]
          },
          "metadata": {
            "needs_background": "light"
          }
        }
      ]
    },
    {
      "cell_type": "code",
      "metadata": {
        "colab": {
          "base_uri": "https://localhost:8080/"
        },
        "id": "NYxxgwNuezSo",
        "outputId": "5044c872-9380-4e25-a956-fc9cd444488e"
      },
      "source": [
        "BG.mean()"
      ],
      "execution_count": null,
      "outputs": [
        {
          "output_type": "stream",
          "name": "stderr",
          "text": [
            "/usr/local/lib/python3.7/dist-packages/ipykernel_launcher.py:1: FutureWarning:\n",
            "\n",
            "DataFrame.mean and DataFrame.median with numeric_only=None will include datetime64 and datetime64tz columns in a future version.\n",
            "\n"
          ]
        },
        {
          "output_type": "execute_result",
          "data": {
            "text/plain": [
              "Glucose Value (mg/dL)    144.492342\n",
              "BG Rate of Change         -0.003049\n",
              "Lag (mg/dL)              144.496441\n",
              "dtype: float64"
            ]
          },
          "metadata": {},
          "execution_count": 54
        }
      ]
    },
    {
      "cell_type": "markdown",
      "metadata": {
        "id": "h7cGdbvJy4lm"
      },
      "source": [
        "Stacked LSTM "
      ]
    },
    {
      "cell_type": "code",
      "metadata": {
        "colab": {
          "base_uri": "https://localhost:8080/"
        },
        "id": "LKpA1MSxx2vI",
        "outputId": "ff9fbf8d-b2e3-4489-e2e2-5d4629e519f0"
      },
      "source": [
        "from numpy import array\n",
        "# define model where LSTM is also output layer\n",
        "model = Sequential()\n",
        "model.add(LSTM(1, return_sequences=True, input_shape=(3,look_back)))\n",
        "model.compile(optimizer='adam', loss='mse')\n",
        "# input time steps\n",
        "data = array([0.1, 0.2, 0.3]).reshape((1,3,1))\n",
        "# make and show prediction\n",
        "print(model.predict(data))"
      ],
      "execution_count": null,
      "outputs": [
        {
          "output_type": "stream",
          "name": "stdout",
          "text": [
            "[[[-0.00381625]\n",
            "  [-0.01067659]\n",
            "  [-0.01992403]]]\n"
          ]
        }
      ]
    },
    {
      "cell_type": "code",
      "metadata": {
        "colab": {
          "base_uri": "https://localhost:8080/",
          "height": 316
        },
        "id": "_JwZAbzpCq8Q",
        "outputId": "6603fbaf-fe83-44ac-f416-077e9af4e9f8"
      },
      "source": [
        "aa=[x for x in range(60)]\n",
        "plt.figure(figsize=(8,4))\n",
        "plt.plot(aa, testY[0][:60], marker='.', label=\"actual\")\n",
        "plt.plot(aa, testPredict[:,0][:60], 'r', label=\"prediction\")\n",
        "# plt.tick_params(left=False, labelleft=True) #remove ticks\n",
        "plt.tight_layout()\n",
        "sns.despine(top=True)\n",
        "plt.subplots_adjust(left=0.07)\n",
        "plt.ylabel('Glucose Value (mg/dL)', size=15)\n",
        "plt.xlabel('Timestamp', size=15)\n",
        "plt.legend(fontsize=15) \n",
        "plt.show();"
      ],
      "execution_count": null,
      "outputs": [
        {
          "output_type": "display_data",
          "data": {
            "image/png": "[encoded data removed]",
            "text/plain": [
              "<Figure size 576x288 with 1 Axes>"
            ]
          },
          "metadata": {
            "needs_background": "light"
          }
        }
      ]
    },
    {
      "cell_type": "code",
      "metadata": {
        "colab": {
          "base_uri": "https://localhost:8080/",
          "height": 316
        },
        "id": "AJzJWTxuKXvd",
        "outputId": "a8831bed-389d-428d-de62-0f5e2c00056d"
      },
      "source": [
        "aa=[x for x in range(30)]\n",
        "plt.figure(figsize=(8,4))\n",
        "plt.plot(aa, testY[0][:30], marker='.', label=\"actual\")\n",
        "plt.plot(aa, testPredict[:,0][:30], 'r', label=\"prediction\")\n",
        "# plt.tick_params(left=False, labelleft=True) #remove ticks\n",
        "plt.tight_layout()\n",
        "sns.despine(top=True)\n",
        "plt.subplots_adjust(left=0.07)\n",
        "plt.ylabel('Glucose Value (mg/dL)', size=15)\n",
        "plt.xlabel('Timestamp', size=15)\n",
        "plt.legend(fontsize=15) \n",
        "plt.show();"
      ],
      "execution_count": null,
      "outputs": [
        {
          "output_type": "display_data",
          "data": {
            "image/png": "[encoded data removed]",
            "text/plain": [
              "<Figure size 576x288 with 1 Axes>"
            ]
          },
          "metadata": {
            "needs_background": "light"
          }
        }
      ]
    },
    {
      "cell_type": "code",
      "metadata": {
        "colab": {
          "base_uri": "https://localhost:8080/"
        },
        "id": "Kvyv8SNqyqP3",
        "outputId": "076795ca-be9c-4013-d437-2178765f08ca"
      },
      "source": [
        "# define model where LSTM is also output layer\n",
        "model = Sequential()\n",
        "model.add(LSTM(1, return_sequences=True, input_shape=(3,look_back)))\n",
        "model.add(LSTM(1, return_sequences=True))\n",
        "model.compile(optimizer='adam', loss='mse')\n",
        "# input time steps\n",
        "data = array([0.1, 0.2, 0.3]).reshape((1,3,1))\n",
        "# make and show prediction\n",
        "print(model.predict(data))"
      ],
      "execution_count": null,
      "outputs": [
        {
          "output_type": "stream",
          "name": "stdout",
          "text": [
            "WARNING:tensorflow:5 out of the last 352 calls to <function Model.make_predict_function.<locals>.predict_function at 0x7f35d176fa70> triggered tf.function retracing. Tracing is expensive and the excessive number of tracings could be due to (1) creating @tf.function repeatedly in a loop, (2) passing tensors with different shapes, (3) passing Python objects instead of tensors. For (1), please define your @tf.function outside of the loop. For (2), @tf.function has experimental_relax_shapes=True option that relaxes argument shapes that can avoid unnecessary retracing. For (3), please refer to https://www.tensorflow.org/guide/function#controlling_retracing and https://www.tensorflow.org/api_docs/python/tf/function for  more details.\n",
            "[[[-0.00018008]\n",
            "  [-0.0006297 ]\n",
            "  [-0.0013884 ]]]\n"
          ]
        }
      ]
    },
    {
      "cell_type": "markdown",
      "metadata": {
        "id": "IIg5Pa2w9hiD"
      },
      "source": [
        "CNN"
      ]
    },
    {
      "cell_type": "code",
      "metadata": {
        "id": "gNcHIB-7MAkx"
      },
      "source": [
        "from keras.layers.convolutional import Conv1D"
      ],
      "execution_count": null,
      "outputs": []
    },
    {
      "cell_type": "code",
      "metadata": {
        "colab": {
          "base_uri": "https://localhost:8080/"
        },
        "id": "-uEZ2oqCOlZa",
        "outputId": "1a8ef05e-fa3c-4003-991a-bb23035ad5b6"
      },
      "source": [
        "\n",
        "# multivariate multi-headed 1d cnn example\n",
        "from numpy import array\n",
        "from numpy import hstack\n",
        "from keras.models import Model\n",
        "from keras.layers import Input\n",
        "from keras.layers import Dense\n",
        "from keras.layers import Flatten\n",
        "from keras.layers.convolutional import Conv1D\n",
        "from keras.layers.convolutional import MaxPooling1D\n",
        "from keras.layers.merge import concatenate\n",
        " \n",
        "# split a multivariate sequence into samples\n",
        "def split_sequences(sequences, n_steps):\n",
        "\tX, y = list(), list()\n",
        "\tfor i in range(len(sequences)):\n",
        "\t\t# find the end of this pattern\n",
        "\t\tend_ix = i + n_steps\n",
        "\t\t# check if we are beyond the dataset\n",
        "\t\tif end_ix > len(sequences):\n",
        "\t\t\tbreak\n",
        "\t\t# gather input and output parts of the pattern\n",
        "\t\tseq_x, seq_y = sequences[i:end_ix, :-1], sequences[end_ix-1, -1]\n",
        "\t\tX.append(seq_x)\n",
        "\t\ty.append(seq_y)\n",
        "\treturn array(X), array(y)\n",
        " \n",
        "# define input sequence\n",
        "in_seq1 = array([10, 20, 30, 40, 50, 60, 70, 80, 90])\n",
        "in_seq2 = array([15, 25, 35, 45, 55, 65, 75, 85, 95])\n",
        "out_seq = array([in_seq1[i]+in_seq2[i] for i in range(len(in_seq1))])\n",
        "# convert to [rows, columns] structure\n",
        "in_seq1 = in_seq1.reshape((len(in_seq1), 1))\n",
        "in_seq2 = in_seq2.reshape((len(in_seq2), 1))\n",
        "out_seq = out_seq.reshape((len(out_seq), 1))\n",
        "# horizontally stack columns\n",
        "dataset = hstack((in_seq1, in_seq2, out_seq))\n",
        "# choose a number of time steps\n",
        "n_steps = 3\n",
        "# convert into input/output\n",
        "X, y = split_sequences(dataset, n_steps)\n",
        "# one time series per head\n",
        "n_features = 1\n",
        "# separate input data\n",
        "X1 = X[:, :, 0].reshape(X.shape[0], X.shape[1], n_features)\n",
        "X2 = X[:, :, 1].reshape(X.shape[0], X.shape[1], n_features)\n",
        "# first input model\n",
        "visible1 = Input(shape=(n_steps, n_features))\n",
        "cnn1 = Conv1D(filters=64, kernel_size=2, activation='relu')(visible1)\n",
        "cnn1 = MaxPooling1D(pool_size=2)(cnn1)\n",
        "cnn1 = Flatten()(cnn1)\n",
        "# second input model\n",
        "visible2 = Input(shape=(n_steps, n_features))\n",
        "cnn2 = Conv1D(filters=64, kernel_size=2, activation='relu')(visible2)\n",
        "cnn2 = MaxPooling1D(pool_size=2)(cnn2)\n",
        "cnn2 = Flatten()(cnn2)\n",
        "# merge input models\n",
        "merge = concatenate([cnn1, cnn2])\n",
        "dense = Dense(50, activation='relu')(merge)\n",
        "output = Dense(1)(dense)\n",
        "model = Model(inputs=[visible1, visible2], outputs=output)\n",
        "model.compile(optimizer='adam', loss='mse')\n",
        "# fit model\n",
        "model.fit([X1, X2], y, epochs=1000, verbose=0)\n",
        "# demonstrate prediction\n",
        "x_input = array([[80, 85], [90, 95], [100, 105]])\n",
        "x1 = x_input[:, 0].reshape((1, n_steps, n_features))\n",
        "x2 = x_input[:, 1].reshape((1, n_steps, n_features))\n",
        "yhat = model.predict([x1, x2], verbose=0)\n",
        "print(yhat)"
      ],
      "execution_count": null,
      "outputs": [
        {
          "output_type": "stream",
          "name": "stdout",
          "text": [
            "WARNING:tensorflow:6 out of the last 353 calls to <function Model.make_predict_function.<locals>.predict_function at 0x7f35d1baa830> triggered tf.function retracing. Tracing is expensive and the excessive number of tracings could be due to (1) creating @tf.function repeatedly in a loop, (2) passing tensors with different shapes, (3) passing Python objects instead of tensors. For (1), please define your @tf.function outside of the loop. For (2), @tf.function has experimental_relax_shapes=True option that relaxes argument shapes that can avoid unnecessary retracing. For (3), please refer to https://www.tensorflow.org/guide/function#controlling_retracing and https://www.tensorflow.org/api_docs/python/tf/function for  more details.\n",
            "[[205.91057]]\n"
          ]
        }
      ]
    },
    {
      "cell_type": "code",
      "metadata": {
        "colab": {
          "base_uri": "https://localhost:8080/"
        },
        "id": "5ANprpLfkv8a",
        "outputId": "c689d647-150e-48ef-e97a-6abdda42f1f2"
      },
      "source": [
        "\n",
        "# univariate cnn example\n",
        "from numpy import array\n",
        "from keras.models import Sequential\n",
        "from keras.layers import Dense\n",
        "from keras.layers import Flatten\n",
        "from keras.layers.convolutional import Conv1D\n",
        "from keras.layers.convolutional import MaxPooling1D\n",
        " \n",
        "# split a univariate sequence into samples\n",
        "def split_sequence(sequence, n_steps):\n",
        "\tX, y = list(), list()\n",
        "\tfor i in range(len(sequence)):\n",
        "\t\t# find the end of this pattern\n",
        "\t\tend_ix = i + n_steps\n",
        "\t\t# check if we are beyond the sequence\n",
        "\t\tif end_ix > len(sequence)-1:\n",
        "\t\t\tbreak\n",
        "\t\t# gather input and output parts of the pattern\n",
        "\t\tseq_x, seq_y = sequence[i:end_ix], sequence[end_ix]\n",
        "\t\tX.append(seq_x)\n",
        "\t\ty.append(seq_y)\n",
        "\treturn array(X), array(y)\n",
        " \n",
        "# define input sequence\n",
        "raw_seq = [10, 20, 30, 40, 50, 60, 70, 80, 90]\n",
        "# choose a number of time steps\n",
        "n_steps = 3\n",
        "# split into samples\n",
        "X, y = split_sequence(raw_seq, n_steps)\n",
        "# reshape from [samples, timesteps] into [samples, timesteps, features]\n",
        "n_features = 1\n",
        "X = X.reshape((X.shape[0], X.shape[1], n_features))\n",
        "# define model\n",
        "model = Sequential()\n",
        "model.add(Conv1D(filters=64, kernel_size=2, activation='relu', input_shape=(n_steps, n_features)))\n",
        "model.add(MaxPooling1D(pool_size=2))\n",
        "model.add(Flatten())\n",
        "model.add(Dense(50, activation='relu'))\n",
        "model.add(Dense(1))\n",
        "model.compile(optimizer='adam', loss='mse')\n",
        "# fit model\n",
        "model.fit(X, y, epochs=1000, verbose=0)\n",
        "# demonstrate prediction\n",
        "x_input = array([70, 80, 90])\n",
        "x_input = x_input.reshape((1, n_steps, n_features))\n",
        "yhat = model.predict(x_input, verbose=0)\n",
        "print(yhat)"
      ],
      "execution_count": null,
      "outputs": [
        {
          "output_type": "stream",
          "name": "stdout",
          "text": [
            "[[101.55627]]\n"
          ]
        }
      ]
    },
    {
      "cell_type": "code",
      "metadata": {
        "id": "kX0oHqLxNFE5"
      },
      "source": [
        "# reshape into X=t and Y=t+1\n",
        "look_back = 3\n",
        "trainX, trainY = create_dataset(train, look_back)\n",
        "testX, testY = create_dataset(test, look_back)"
      ],
      "execution_count": null,
      "outputs": []
    },
    {
      "cell_type": "code",
      "metadata": {
        "id": "H4WiGtuPNuJS"
      },
      "source": [
        "# reshape input to be [samples, time steps, features]\n",
        "trainX = np.reshape(trainX, (trainX.shape[0], 1, trainX.shape[1]))\n",
        "testX = np.reshape(testX, (testX.shape[0], 1, testX.shape[1]))"
      ],
      "execution_count": null,
      "outputs": []
    },
    {
      "cell_type": "code",
      "metadata": {
        "colab": {
          "base_uri": "https://localhost:8080/"
        },
        "id": "Ihv5pNeZNGzf",
        "outputId": "e6715293-354e-44e0-b402-a6fedcaeeb95"
      },
      "source": [
        "# create and fit the LSTM network\n",
        "model = Sequential()\n",
        "model.add(LSTM(4, input_shape=(1, look_back)))\n",
        "model.add(Dense(1))\n",
        "model.compile(loss='mean_squared_error', optimizer='adam')\n",
        "model.fit(trainX, trainY, epochs=100, batch_size=1, verbose=2)"
      ],
      "execution_count": null,
      "outputs": [
        {
          "output_type": "stream",
          "name": "stdout",
          "text": [
            "Epoch 1/100\n",
            "7437/7437 - 13s - loss: 0.0036 - 13s/epoch - 2ms/step\n",
            "Epoch 2/100\n",
            "7437/7437 - 11s - loss: 7.3525e-04 - 11s/epoch - 1ms/step\n",
            "Epoch 3/100\n",
            "7437/7437 - 10s - loss: 5.7039e-04 - 10s/epoch - 1ms/step\n",
            "Epoch 4/100\n",
            "7437/7437 - 10s - loss: 5.5231e-04 - 10s/epoch - 1ms/step\n",
            "Epoch 5/100\n",
            "7437/7437 - 11s - loss: 5.4334e-04 - 11s/epoch - 1ms/step\n",
            "Epoch 6/100\n",
            "7437/7437 - 11s - loss: 5.4320e-04 - 11s/epoch - 1ms/step\n",
            "Epoch 7/100\n",
            "7437/7437 - 11s - loss: 5.3590e-04 - 11s/epoch - 1ms/step\n",
            "Epoch 8/100\n",
            "7437/7437 - 11s - loss: 5.3383e-04 - 11s/epoch - 1ms/step\n",
            "Epoch 9/100\n",
            "7437/7437 - 11s - loss: 5.3203e-04 - 11s/epoch - 1ms/step\n",
            "Epoch 10/100\n",
            "7437/7437 - 11s - loss: 5.3091e-04 - 11s/epoch - 1ms/step\n",
            "Epoch 11/100\n",
            "7437/7437 - 11s - loss: 5.2648e-04 - 11s/epoch - 1ms/step\n",
            "Epoch 12/100\n",
            "7437/7437 - 11s - loss: 5.2873e-04 - 11s/epoch - 1ms/step\n",
            "Epoch 13/100\n",
            "7437/7437 - 11s - loss: 5.3098e-04 - 11s/epoch - 1ms/step\n",
            "Epoch 14/100\n",
            "7437/7437 - 11s - loss: 5.2511e-04 - 11s/epoch - 1ms/step\n",
            "Epoch 15/100\n",
            "7437/7437 - 11s - loss: 5.2887e-04 - 11s/epoch - 1ms/step\n",
            "Epoch 16/100\n",
            "7437/7437 - 11s - loss: 5.2395e-04 - 11s/epoch - 1ms/step\n",
            "Epoch 17/100\n",
            "7437/7437 - 10s - loss: 5.2902e-04 - 10s/epoch - 1ms/step\n",
            "Epoch 18/100\n",
            "7437/7437 - 10s - loss: 5.2756e-04 - 10s/epoch - 1ms/step\n",
            "Epoch 19/100\n",
            "7437/7437 - 11s - loss: 5.2236e-04 - 11s/epoch - 1ms/step\n",
            "Epoch 20/100\n",
            "7437/7437 - 11s - loss: 5.2256e-04 - 11s/epoch - 1ms/step\n",
            "Epoch 21/100\n",
            "7437/7437 - 10s - loss: 5.2051e-04 - 10s/epoch - 1ms/step\n",
            "Epoch 22/100\n",
            "7437/7437 - 10s - loss: 5.2110e-04 - 10s/epoch - 1ms/step\n",
            "Epoch 23/100\n",
            "7437/7437 - 10s - loss: 5.2619e-04 - 10s/epoch - 1ms/step\n",
            "Epoch 24/100\n",
            "7437/7437 - 11s - loss: 5.2070e-04 - 11s/epoch - 1ms/step\n",
            "Epoch 25/100\n",
            "7437/7437 - 10s - loss: 5.2059e-04 - 10s/epoch - 1ms/step\n",
            "Epoch 26/100\n",
            "7437/7437 - 11s - loss: 5.2248e-04 - 11s/epoch - 1ms/step\n",
            "Epoch 27/100\n",
            "7437/7437 - 11s - loss: 5.1693e-04 - 11s/epoch - 1ms/step\n",
            "Epoch 28/100\n",
            "7437/7437 - 11s - loss: 5.1414e-04 - 11s/epoch - 1ms/step\n",
            "Epoch 29/100\n",
            "7437/7437 - 11s - loss: 5.2393e-04 - 11s/epoch - 1ms/step\n",
            "Epoch 30/100\n",
            "7437/7437 - 11s - loss: 5.1605e-04 - 11s/epoch - 1ms/step\n",
            "Epoch 31/100\n",
            "7437/7437 - 10s - loss: 5.1863e-04 - 10s/epoch - 1ms/step\n",
            "Epoch 32/100\n",
            "7437/7437 - 11s - loss: 5.2032e-04 - 11s/epoch - 1ms/step\n",
            "Epoch 33/100\n",
            "7437/7437 - 11s - loss: 5.2091e-04 - 11s/epoch - 1ms/step\n",
            "Epoch 34/100\n",
            "7437/7437 - 11s - loss: 5.1654e-04 - 11s/epoch - 1ms/step\n",
            "Epoch 35/100\n",
            "7437/7437 - 10s - loss: 5.1914e-04 - 10s/epoch - 1ms/step\n",
            "Epoch 36/100\n",
            "7437/7437 - 11s - loss: 5.2076e-04 - 11s/epoch - 1ms/step\n",
            "Epoch 37/100\n",
            "7437/7437 - 11s - loss: 5.1445e-04 - 11s/epoch - 1ms/step\n",
            "Epoch 38/100\n",
            "7437/7437 - 11s - loss: 5.1529e-04 - 11s/epoch - 1ms/step\n",
            "Epoch 39/100\n",
            "7437/7437 - 11s - loss: 5.1754e-04 - 11s/epoch - 1ms/step\n",
            "Epoch 40/100\n",
            "7437/7437 - 10s - loss: 5.1798e-04 - 10s/epoch - 1ms/step\n",
            "Epoch 41/100\n",
            "7437/7437 - 11s - loss: 5.1950e-04 - 11s/epoch - 1ms/step\n",
            "Epoch 42/100\n",
            "7437/7437 - 10s - loss: 5.1228e-04 - 10s/epoch - 1ms/step\n",
            "Epoch 43/100\n",
            "7437/7437 - 10s - loss: 5.1287e-04 - 10s/epoch - 1ms/step\n",
            "Epoch 44/100\n",
            "7437/7437 - 10s - loss: 5.1239e-04 - 10s/epoch - 1ms/step\n",
            "Epoch 45/100\n",
            "7437/7437 - 10s - loss: 5.1177e-04 - 10s/epoch - 1ms/step\n",
            "Epoch 46/100\n",
            "7437/7437 - 10s - loss: 5.1438e-04 - 10s/epoch - 1ms/step\n",
            "Epoch 47/100\n",
            "7437/7437 - 10s - loss: 5.1302e-04 - 10s/epoch - 1ms/step\n",
            "Epoch 48/100\n",
            "7437/7437 - 10s - loss: 5.1543e-04 - 10s/epoch - 1ms/step\n",
            "Epoch 49/100\n",
            "7437/7437 - 11s - loss: 5.1478e-04 - 11s/epoch - 1ms/step\n",
            "Epoch 50/100\n",
            "7437/7437 - 11s - loss: 5.1488e-04 - 11s/epoch - 1ms/step\n",
            "Epoch 51/100\n",
            "7437/7437 - 10s - loss: 5.1387e-04 - 10s/epoch - 1ms/step\n",
            "Epoch 52/100\n",
            "7437/7437 - 10s - loss: 5.1210e-04 - 10s/epoch - 1ms/step\n",
            "Epoch 53/100\n",
            "7437/7437 - 10s - loss: 5.1363e-04 - 10s/epoch - 1ms/step\n",
            "Epoch 54/100\n",
            "7437/7437 - 11s - loss: 5.1380e-04 - 11s/epoch - 1ms/step\n",
            "Epoch 55/100\n",
            "7437/7437 - 10s - loss: 5.1125e-04 - 10s/epoch - 1ms/step\n",
            "Epoch 56/100\n",
            "7437/7437 - 10s - loss: 5.1438e-04 - 10s/epoch - 1ms/step\n",
            "Epoch 57/100\n",
            "7437/7437 - 10s - loss: 5.1407e-04 - 10s/epoch - 1ms/step\n",
            "Epoch 58/100\n",
            "7437/7437 - 10s - loss: 5.1201e-04 - 10s/epoch - 1ms/step\n",
            "Epoch 59/100\n",
            "7437/7437 - 10s - loss: 5.1362e-04 - 10s/epoch - 1ms/step\n",
            "Epoch 60/100\n",
            "7437/7437 - 10s - loss: 5.1047e-04 - 10s/epoch - 1ms/step\n",
            "Epoch 61/100\n",
            "7437/7437 - 10s - loss: 5.1155e-04 - 10s/epoch - 1ms/step\n",
            "Epoch 62/100\n",
            "7437/7437 - 10s - loss: 5.1122e-04 - 10s/epoch - 1ms/step\n",
            "Epoch 63/100\n",
            "7437/7437 - 10s - loss: 5.1056e-04 - 10s/epoch - 1ms/step\n",
            "Epoch 64/100\n",
            "7437/7437 - 10s - loss: 5.1081e-04 - 10s/epoch - 1ms/step\n",
            "Epoch 65/100\n",
            "7437/7437 - 10s - loss: 5.1160e-04 - 10s/epoch - 1ms/step\n",
            "Epoch 66/100\n",
            "7437/7437 - 10s - loss: 5.1211e-04 - 10s/epoch - 1ms/step\n",
            "Epoch 67/100\n",
            "7437/7437 - 11s - loss: 5.1016e-04 - 11s/epoch - 1ms/step\n",
            "Epoch 68/100\n",
            "7437/7437 - 10s - loss: 5.1109e-04 - 10s/epoch - 1ms/step\n",
            "Epoch 69/100\n",
            "7437/7437 - 10s - loss: 5.0748e-04 - 10s/epoch - 1ms/step\n",
            "Epoch 70/100\n",
            "7437/7437 - 10s - loss: 5.1075e-04 - 10s/epoch - 1ms/step\n",
            "Epoch 71/100\n",
            "7437/7437 - 11s - loss: 5.0902e-04 - 11s/epoch - 1ms/step\n",
            "Epoch 72/100\n",
            "7437/7437 - 10s - loss: 5.1335e-04 - 10s/epoch - 1ms/step\n",
            "Epoch 73/100\n",
            "7437/7437 - 11s - loss: 5.1094e-04 - 11s/epoch - 1ms/step\n",
            "Epoch 74/100\n",
            "7437/7437 - 11s - loss: 5.0888e-04 - 11s/epoch - 1ms/step\n",
            "Epoch 75/100\n",
            "7437/7437 - 11s - loss: 5.0856e-04 - 11s/epoch - 1ms/step\n",
            "Epoch 76/100\n",
            "7437/7437 - 10s - loss: 5.0847e-04 - 10s/epoch - 1ms/step\n",
            "Epoch 77/100\n",
            "7437/7437 - 10s - loss: 5.1124e-04 - 10s/epoch - 1ms/step\n",
            "Epoch 78/100\n",
            "7437/7437 - 11s - loss: 5.0572e-04 - 11s/epoch - 1ms/step\n",
            "Epoch 79/100\n",
            "7437/7437 - 11s - loss: 5.0811e-04 - 11s/epoch - 1ms/step\n",
            "Epoch 80/100\n",
            "7437/7437 - 11s - loss: 5.1020e-04 - 11s/epoch - 1ms/step\n",
            "Epoch 81/100\n",
            "7437/7437 - 10s - loss: 5.0962e-04 - 10s/epoch - 1ms/step\n",
            "Epoch 82/100\n",
            "7437/7437 - 10s - loss: 5.0745e-04 - 10s/epoch - 1ms/step\n",
            "Epoch 83/100\n",
            "7437/7437 - 10s - loss: 5.0859e-04 - 10s/epoch - 1ms/step\n",
            "Epoch 84/100\n",
            "7437/7437 - 10s - loss: 5.0919e-04 - 10s/epoch - 1ms/step\n",
            "Epoch 85/100\n",
            "7437/7437 - 11s - loss: 5.1097e-04 - 11s/epoch - 1ms/step\n",
            "Epoch 86/100\n",
            "7437/7437 - 11s - loss: 5.0901e-04 - 11s/epoch - 1ms/step\n",
            "Epoch 87/100\n",
            "7437/7437 - 10s - loss: 5.0778e-04 - 10s/epoch - 1ms/step\n",
            "Epoch 88/100\n",
            "7437/7437 - 10s - loss: 5.0671e-04 - 10s/epoch - 1ms/step\n",
            "Epoch 89/100\n",
            "7437/7437 - 10s - loss: 5.0615e-04 - 10s/epoch - 1ms/step\n",
            "Epoch 90/100\n",
            "7437/7437 - 10s - loss: 5.0685e-04 - 10s/epoch - 1ms/step\n",
            "Epoch 91/100\n",
            "7437/7437 - 10s - loss: 5.0786e-04 - 10s/epoch - 1ms/step\n",
            "Epoch 92/100\n",
            "7437/7437 - 10s - loss: 5.0608e-04 - 10s/epoch - 1ms/step\n",
            "Epoch 93/100\n",
            "7437/7437 - 10s - loss: 5.0365e-04 - 10s/epoch - 1ms/step\n",
            "Epoch 94/100\n",
            "7437/7437 - 10s - loss: 5.0861e-04 - 10s/epoch - 1ms/step\n",
            "Epoch 95/100\n",
            "7437/7437 - 10s - loss: 5.0687e-04 - 10s/epoch - 1ms/step\n",
            "Epoch 96/100\n",
            "7437/7437 - 10s - loss: 5.0606e-04 - 10s/epoch - 1ms/step\n",
            "Epoch 97/100\n",
            "7437/7437 - 10s - loss: 5.0588e-04 - 10s/epoch - 1ms/step\n",
            "Epoch 98/100\n",
            "7437/7437 - 10s - loss: 5.0372e-04 - 10s/epoch - 1ms/step\n",
            "Epoch 99/100\n",
            "7437/7437 - 10s - loss: 5.0514e-04 - 10s/epoch - 1ms/step\n",
            "Epoch 100/100\n",
            "7437/7437 - 10s - loss: 5.0605e-04 - 10s/epoch - 1ms/step\n"
          ]
        },
        {
          "output_type": "execute_result",
          "data": {
            "text/plain": [
              "<keras.callbacks.History at 0x7f35d1cb0e10>"
            ]
          },
          "metadata": {},
          "execution_count": 66
        }
      ]
    },
    {
      "cell_type": "code",
      "metadata": {
        "id": "iQCZTDooR7Ax"
      },
      "source": [
        "# make predictions\n",
        "trainPredict = model.predict(trainX)\n",
        "testPredict = model.predict(testX)"
      ],
      "execution_count": null,
      "outputs": []
    },
    {
      "cell_type": "code",
      "metadata": {
        "id": "Sy2DhGVFSHEc"
      },
      "source": [
        "# invert predictions\n",
        "trainPredict = scaler.inverse_transform(trainPredict)\n",
        "trainY = scaler.inverse_transform([trainY])\n",
        "testPredict = scaler.inverse_transform(testPredict)\n",
        "testY = scaler.inverse_transform([testY])"
      ],
      "execution_count": null,
      "outputs": []
    },
    {
      "cell_type": "code",
      "metadata": {
        "colab": {
          "base_uri": "https://localhost:8080/"
        },
        "id": "T9xxWUD2SM8s",
        "outputId": "3d0fb65a-a01f-4b26-86f3-aaf042e9f14b"
      },
      "source": [
        "# calculate root mean squared error\n",
        "trainScore = math.sqrt(mean_squared_error(trainY[0], trainPredict[:,0]))\n",
        "print('Train Score: %.2f RMSE' % (trainScore))\n",
        "testScore = math.sqrt(mean_squared_error(testY[0], testPredict[:,0]))\n",
        "print('Test Score: %.2f RMSE' % (testScore))\n"
      ],
      "execution_count": null,
      "outputs": [
        {
          "output_type": "stream",
          "name": "stdout",
          "text": [
            "Train Score: 7.45 RMSE\n",
            "Test Score: 6.52 RMSE\n"
          ]
        }
      ]
    },
    {
      "cell_type": "code",
      "metadata": {
        "colab": {
          "base_uri": "https://localhost:8080/"
        },
        "id": "9AUDnkAtTVsl",
        "outputId": "0c0ce6da-39a7-462b-b774-3b564f352f10"
      },
      "source": [
        "# reshape into X=t and Y=t+1\n",
        "look_back = 3\n",
        "trainX, trainY = create_dataset(train, look_back)\n",
        "testX, testY = create_dataset(test, look_back)\n",
        "# reshape input to be [samples, time steps, features]\n",
        "trainX = np.reshape(trainX, (trainX.shape[0], trainX.shape[1], 1))\n",
        "testX = np.reshape(testX, (testX.shape[0], testX.shape[1], 1))\n",
        "# create and fit the LSTM network\n",
        "batch_size = 1\n",
        "model = Sequential()\n",
        "model.add(LSTM(4, batch_input_shape=(batch_size, look_back, 1), stateful=True))\n",
        "model.add(Dense(1))\n",
        "model.compile(loss='mean_squared_error', optimizer='adam')\n",
        "for i in range(100):\n",
        "\tmodel.fit(trainX, trainY, epochs=1, batch_size=batch_size, verbose=2, shuffle=False)\n",
        "\tmodel.reset_states()"
      ],
      "execution_count": null,
      "outputs": [
        {
          "output_type": "stream",
          "name": "stdout",
          "text": [
            "7437/7437 - 14s - loss: 0.0030 - 14s/epoch - 2ms/step\n",
            "7437/7437 - 13s - loss: 0.0011 - 13s/epoch - 2ms/step\n",
            "7437/7437 - 13s - loss: 6.2750e-04 - 13s/epoch - 2ms/step\n",
            "7437/7437 - 13s - loss: 6.4348e-04 - 13s/epoch - 2ms/step\n",
            "7437/7437 - 13s - loss: 6.2784e-04 - 13s/epoch - 2ms/step\n",
            "7437/7437 - 13s - loss: 5.9888e-04 - 13s/epoch - 2ms/step\n",
            "7437/7437 - 13s - loss: 5.8526e-04 - 13s/epoch - 2ms/step\n",
            "7437/7437 - 13s - loss: 5.7843e-04 - 13s/epoch - 2ms/step\n",
            "7437/7437 - 12s - loss: 5.7295e-04 - 12s/epoch - 2ms/step\n",
            "7437/7437 - 13s - loss: 5.6749e-04 - 13s/epoch - 2ms/step\n",
            "7437/7437 - 13s - loss: 5.6217e-04 - 13s/epoch - 2ms/step\n",
            "7437/7437 - 13s - loss: 5.5720e-04 - 13s/epoch - 2ms/step\n",
            "7437/7437 - 13s - loss: 5.5270e-04 - 13s/epoch - 2ms/step\n",
            "7437/7437 - 13s - loss: 5.4873e-04 - 13s/epoch - 2ms/step\n",
            "7437/7437 - 13s - loss: 5.4527e-04 - 13s/epoch - 2ms/step\n",
            "7437/7437 - 13s - loss: 5.4228e-04 - 13s/epoch - 2ms/step\n",
            "7437/7437 - 13s - loss: 5.3971e-04 - 13s/epoch - 2ms/step\n",
            "7437/7437 - 13s - loss: 5.3747e-04 - 13s/epoch - 2ms/step\n",
            "7437/7437 - 13s - loss: 5.3552e-04 - 13s/epoch - 2ms/step\n",
            "7437/7437 - 13s - loss: 5.3381e-04 - 13s/epoch - 2ms/step\n",
            "7437/7437 - 13s - loss: 5.3231e-04 - 13s/epoch - 2ms/step\n",
            "7437/7437 - 13s - loss: 5.3098e-04 - 13s/epoch - 2ms/step\n",
            "7437/7437 - 13s - loss: 5.2982e-04 - 13s/epoch - 2ms/step\n",
            "7437/7437 - 13s - loss: 5.2879e-04 - 13s/epoch - 2ms/step\n",
            "7437/7437 - 13s - loss: 5.2789e-04 - 13s/epoch - 2ms/step\n",
            "7437/7437 - 13s - loss: 5.2711e-04 - 13s/epoch - 2ms/step\n",
            "7437/7437 - 13s - loss: 5.2643e-04 - 13s/epoch - 2ms/step\n",
            "7437/7437 - 13s - loss: 5.2583e-04 - 13s/epoch - 2ms/step\n",
            "7437/7437 - 13s - loss: 5.2531e-04 - 13s/epoch - 2ms/step\n",
            "7437/7437 - 13s - loss: 5.2485e-04 - 13s/epoch - 2ms/step\n",
            "7437/7437 - 13s - loss: 5.2445e-04 - 13s/epoch - 2ms/step\n",
            "7437/7437 - 12s - loss: 5.2410e-04 - 12s/epoch - 2ms/step\n",
            "7437/7437 - 13s - loss: 5.2378e-04 - 13s/epoch - 2ms/step\n",
            "7437/7437 - 13s - loss: 5.2349e-04 - 13s/epoch - 2ms/step\n",
            "7437/7437 - 12s - loss: 5.2322e-04 - 12s/epoch - 2ms/step\n",
            "7437/7437 - 12s - loss: 5.2297e-04 - 12s/epoch - 2ms/step\n",
            "7437/7437 - 12s - loss: 5.2272e-04 - 12s/epoch - 2ms/step\n",
            "7437/7437 - 13s - loss: 5.2247e-04 - 13s/epoch - 2ms/step\n",
            "7437/7437 - 13s - loss: 5.2222e-04 - 13s/epoch - 2ms/step\n",
            "7437/7437 - 13s - loss: 5.2197e-04 - 13s/epoch - 2ms/step\n",
            "7437/7437 - 13s - loss: 5.2171e-04 - 13s/epoch - 2ms/step\n",
            "7437/7437 - 13s - loss: 5.2145e-04 - 13s/epoch - 2ms/step\n",
            "7437/7437 - 13s - loss: 5.2118e-04 - 13s/epoch - 2ms/step\n",
            "7437/7437 - 13s - loss: 5.2091e-04 - 13s/epoch - 2ms/step\n",
            "7437/7437 - 13s - loss: 5.2063e-04 - 13s/epoch - 2ms/step\n",
            "7437/7437 - 13s - loss: 5.2035e-04 - 13s/epoch - 2ms/step\n",
            "7437/7437 - 13s - loss: 5.2006e-04 - 13s/epoch - 2ms/step\n",
            "7437/7437 - 12s - loss: 5.1977e-04 - 12s/epoch - 2ms/step\n",
            "7437/7437 - 12s - loss: 5.1948e-04 - 12s/epoch - 2ms/step\n",
            "7437/7437 - 12s - loss: 5.1919e-04 - 12s/epoch - 2ms/step\n",
            "7437/7437 - 13s - loss: 5.1890e-04 - 13s/epoch - 2ms/step\n",
            "7437/7437 - 13s - loss: 5.1860e-04 - 13s/epoch - 2ms/step\n",
            "7437/7437 - 13s - loss: 5.1831e-04 - 13s/epoch - 2ms/step\n",
            "7437/7437 - 13s - loss: 5.1801e-04 - 13s/epoch - 2ms/step\n",
            "7437/7437 - 13s - loss: 5.1772e-04 - 13s/epoch - 2ms/step\n",
            "7437/7437 - 12s - loss: 5.1742e-04 - 12s/epoch - 2ms/step\n",
            "7437/7437 - 13s - loss: 5.1712e-04 - 13s/epoch - 2ms/step\n",
            "7437/7437 - 13s - loss: 5.1683e-04 - 13s/epoch - 2ms/step\n",
            "7437/7437 - 12s - loss: 5.1653e-04 - 12s/epoch - 2ms/step\n",
            "7437/7437 - 12s - loss: 5.1622e-04 - 12s/epoch - 2ms/step\n",
            "7437/7437 - 12s - loss: 5.1590e-04 - 12s/epoch - 2ms/step\n",
            "7437/7437 - 12s - loss: 5.1557e-04 - 12s/epoch - 2ms/step\n",
            "7437/7437 - 12s - loss: 5.1522e-04 - 12s/epoch - 2ms/step\n",
            "7437/7437 - 12s - loss: 5.1485e-04 - 12s/epoch - 2ms/step\n",
            "7437/7437 - 12s - loss: 5.1448e-04 - 12s/epoch - 2ms/step\n",
            "7437/7437 - 12s - loss: 5.1411e-04 - 12s/epoch - 2ms/step\n",
            "7437/7437 - 12s - loss: 5.1376e-04 - 12s/epoch - 2ms/step\n",
            "7437/7437 - 12s - loss: 5.1346e-04 - 12s/epoch - 2ms/step\n",
            "7437/7437 - 13s - loss: 5.1324e-04 - 13s/epoch - 2ms/step\n",
            "7437/7437 - 15s - loss: 5.1312e-04 - 15s/epoch - 2ms/step\n",
            "7437/7437 - 15s - loss: 5.1313e-04 - 15s/epoch - 2ms/step\n",
            "7437/7437 - 15s - loss: 5.1326e-04 - 15s/epoch - 2ms/step\n",
            "7437/7437 - 13s - loss: 5.1342e-04 - 13s/epoch - 2ms/step\n",
            "7437/7437 - 13s - loss: 5.1355e-04 - 13s/epoch - 2ms/step\n",
            "7437/7437 - 13s - loss: 5.1366e-04 - 13s/epoch - 2ms/step\n",
            "7437/7437 - 13s - loss: 5.1372e-04 - 13s/epoch - 2ms/step\n",
            "7437/7437 - 12s - loss: 5.1375e-04 - 12s/epoch - 2ms/step\n",
            "7437/7437 - 13s - loss: 5.1371e-04 - 13s/epoch - 2ms/step\n",
            "7437/7437 - 13s - loss: 5.1361e-04 - 13s/epoch - 2ms/step\n",
            "7437/7437 - 13s - loss: 5.1348e-04 - 13s/epoch - 2ms/step\n",
            "7437/7437 - 12s - loss: 5.1335e-04 - 12s/epoch - 2ms/step\n",
            "7437/7437 - 13s - loss: 5.1324e-04 - 13s/epoch - 2ms/step\n",
            "7437/7437 - 13s - loss: 5.1317e-04 - 13s/epoch - 2ms/step\n",
            "7437/7437 - 13s - loss: 5.1317e-04 - 13s/epoch - 2ms/step\n",
            "7437/7437 - 12s - loss: 5.1323e-04 - 12s/epoch - 2ms/step\n",
            "7437/7437 - 12s - loss: 5.1336e-04 - 12s/epoch - 2ms/step\n",
            "7437/7437 - 13s - loss: 5.1353e-04 - 13s/epoch - 2ms/step\n",
            "7437/7437 - 13s - loss: 5.1375e-04 - 13s/epoch - 2ms/step\n",
            "7437/7437 - 13s - loss: 5.1400e-04 - 13s/epoch - 2ms/step\n",
            "7437/7437 - 13s - loss: 5.1432e-04 - 13s/epoch - 2ms/step\n",
            "7437/7437 - 13s - loss: 5.1466e-04 - 13s/epoch - 2ms/step\n",
            "7437/7437 - 12s - loss: 5.1499e-04 - 12s/epoch - 2ms/step\n",
            "7437/7437 - 13s - loss: 5.1578e-04 - 13s/epoch - 2ms/step\n",
            "7437/7437 - 12s - loss: 5.1680e-04 - 12s/epoch - 2ms/step\n",
            "7437/7437 - 13s - loss: 5.1656e-04 - 13s/epoch - 2ms/step\n",
            "7437/7437 - 13s - loss: 5.1567e-04 - 13s/epoch - 2ms/step\n",
            "7437/7437 - 12s - loss: 5.1526e-04 - 12s/epoch - 2ms/step\n",
            "7437/7437 - 12s - loss: 5.1487e-04 - 12s/epoch - 2ms/step\n",
            "7437/7437 - 13s - loss: 5.1452e-04 - 13s/epoch - 2ms/step\n",
            "7437/7437 - 12s - loss: 5.1422e-04 - 12s/epoch - 2ms/step\n"
          ]
        }
      ]
    },
    {
      "cell_type": "code",
      "metadata": {
        "id": "lyqimS5TdmQT"
      },
      "source": [
        "# make predictions\n",
        "model.predict(trainX, batch_size=batch_size)\n",
        "model.reset_states()\n",
        "testPredict = model.predict(testX, batch_size=batch_size)"
      ],
      "execution_count": null,
      "outputs": []
    },
    {
      "cell_type": "code",
      "metadata": {
        "id": "mIkFx09neERg"
      },
      "source": [
        "# invert predictions\n",
        "trainPredict = scaler.inverse_transform(trainPredict)\n",
        "trainY = scaler.inverse_transform([trainY])\n",
        "testPredict = scaler.inverse_transform(testPredict)\n",
        "testY = scaler.inverse_transform([testY])"
      ],
      "execution_count": null,
      "outputs": []
    },
    {
      "cell_type": "code",
      "metadata": {
        "colab": {
          "base_uri": "https://localhost:8080/"
        },
        "id": "KID-K4k8eFFa",
        "outputId": "e829c504-e06f-4f64-a278-6242a7a5bdc9"
      },
      "source": [
        "# calculate root mean squared error\n",
        "trainScore = math.sqrt(mean_squared_error(trainY[0], trainPredict[:,0]))\n",
        "print('Train Score: %.2f RMSE' % (trainScore))\n",
        "testScore = math.sqrt(mean_squared_error(testY[0], testPredict[:,0]))\n",
        "print('Test Score: %.2f RMSE' % (testScore))"
      ],
      "execution_count": null,
      "outputs": [
        {
          "output_type": "stream",
          "name": "stdout",
          "text": [
            "Train Score: 50911.60 RMSE\n",
            "Test Score: 50570.29 RMSE\n"
          ]
        }
      ]
    },
    {
      "cell_type": "code",
      "metadata": {
        "colab": {
          "base_uri": "https://localhost:8080/",
          "height": 316
        },
        "id": "Uo0QJMRYSuci",
        "outputId": "be09b901-92ec-49d6-9f23-f3be72aa0dff"
      },
      "source": [
        "aa=[x for x in range(30)]\n",
        "plt.figure(figsize=(8,4))\n",
        "plt.plot(aa, testY[0][:30], marker='.', label=\"actual\")\n",
        "plt.plot(aa, testPredict[:,0][:30], 'r', label=\"prediction\")\n",
        "# plt.tick_params(left=False, labelleft=True) #remove ticks\n",
        "plt.tight_layout()\n",
        "sns.despine(top=True)\n",
        "plt.subplots_adjust(left=0.07)\n",
        "plt.ylabel('Glucose Value (mg/dL)', size=15)\n",
        "plt.xlabel('Timestamp', size=15)\n",
        "plt.legend(fontsize=15) \n",
        "plt.show();"
      ],
      "execution_count": null,
      "outputs": [
        {
          "output_type": "display_data",
          "data": {
            "image/png": "[encoded data removed]",
            "text/plain": [
              "<Figure size 576x288 with 1 Axes>"
            ]
          },
          "metadata": {
            "needs_background": "light"
          }
        }
      ]
    }
  ]
}